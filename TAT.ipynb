{
 "cells": [
  {
   "cell_type": "code",
   "execution_count": 1,
   "metadata": {},
   "outputs": [],
   "source": [
    "import xlwings as xw\n",
    "import sources.parts_list_0802 as pl\n",
    "import pandas as pd\n",
    "import os\n",
    "from datetime import datetime as dt\n",
    "import sources.logins as lg\n",
    "import pathlib\n",
    "import qrcode\n",
    "from time import sleep\n",
    "111111111111111111111111111111111111111111111111111111111111111111111111111111111111111111111111111111111111111111111111111"
   ]
  },
  {
   "cell_type": "code",
   "execution_count": 2,
   "metadata": {},
   "outputs": [
    {
     "name": "stdout",
     "output_type": "stream",
     "text": [
      "\n",
      "\tver 802\n",
      "\tremove\tORDER BY [Dealer price] DESC\n",
      "\t \n",
      "\n",
      "\tTao part list tu RMA ver 3.1.0\n",
      "\tThem hang print tilte GDKT\n",
      "\tThem GDKT tu dong\n",
      "\tThem def list_rma\n",
      "Update data(y/N): n\n",
      "\n",
      "Select Database: \n",
      "\n",
      "______________________________________________________________________\n",
      "|  No.|  File Name                               |  Modified Time    |\n",
      "|____________________________________________________________________|\n",
      "|  1  |  dealer.db                               |  13-Sep-23 15:06  |\n",
      "|  2  |  history.db                              |  21-Sep-23 08:37  |\n",
      "|  3  |  quotation.db                            |  21-Sep-23 08:43  |\n",
      "|  4  |  test.db                                 |  13-Sep-23 14:18  |\n",
      "|____________________________________________________________________|\n",
      "Select file (Default 1): 2\n",
      "\"history.db\" is selected\n",
      "\n",
      " Used exists data.\n"
     ]
    }
   ],
   "source": [
    "# initialize\n",
    "a =pl.parts_list()\n",
    "\n",
    "try:\n",
    "    conn.close()\n",
    "except:\n",
    "    pass\n",
    "intro = str(a.__doc__).split('\\n')\n",
    "for i in intro:\n",
    "    print(i)\n",
    "conn = a.question()\n",
    "# pd.read_sql(\"SELECT name FROM sqlite_master WHERE type='table'\",conn)"
   ]
  },
  {
   "cell_type": "code",
   "execution_count": null,
   "metadata": {},
   "outputs": [],
   "source": []
  },
  {
   "cell_type": "code",
   "execution_count": null,
   "metadata": {},
   "outputs": [],
   "source": [
    "sm.autofit()"
   ]
  },
  {
   "cell_type": "code",
   "execution_count": null,
   "metadata": {},
   "outputs": [],
   "source": [
    "len(details)"
   ]
  },
  {
   "cell_type": "code",
   "execution_count": null,
   "metadata": {},
   "outputs": [],
   "source": [
    "# format\n",
    "for i in range(len(sn_list)):\n",
    "    rng = sm.range(sm.cells(2,1),sm.cells(1+len(details),4+max(df['No#']))).offset(i * len(details))\n",
    "    #                       A2   ->       hang so details cot so max No#      \n",
    "    for i in range(7,11):\n",
    "        rng.api.Borders(i).LineStyle = 1\n",
    "        rng.api.Borders(i).Weight = 3"
   ]
  },
  {
   "cell_type": "code",
   "execution_count": null,
   "metadata": {},
   "outputs": [],
   "source": [
    "\n"
   ]
  },
  {
   "cell_type": "code",
   "execution_count": null,
   "metadata": {},
   "outputs": [],
   "source": []
  },
  {
   "cell_type": "code",
   "execution_count": null,
   "metadata": {},
   "outputs": [],
   "source": []
  },
  {
   "cell_type": "code",
   "execution_count": null,
   "metadata": {},
   "outputs": [],
   "source": []
  },
  {
   "cell_type": "code",
   "execution_count": null,
   "metadata": {},
   "outputs": [],
   "source": []
  },
  {
   "cell_type": "markdown",
   "metadata": {},
   "source": [
    "# Research clearify  parts by history repair\n",
    "\n"
   ]
  },
  {
   "cell_type": "code",
   "execution_count": null,
   "metadata": {},
   "outputs": [],
   "source": [
    "#filter by customer code\n",
    "# customer_code = 'FMSV00360'\n",
    "q = f'''\n",
    "        SELECT DISTINCT [rma no.],serial_no, model,recieve_date,[repair date], [repair size],[defect note],repair_status\n",
    "        \n",
    "        FROM consolidated\n",
    "        \n",
    "        WHERE approval = 'Approval'\n",
    "        \n",
    "        and [Repair Date] > '2021-12-31'\n",
    "        ORDER BY [Repair Date],SERIAL_NO,recieve_date\n",
    "'''\n",
    "raw91 = pd.read_sql(q,conn)\n",
    "raw91"
   ]
  },
  {
   "cell_type": "code",
   "execution_count": null,
   "metadata": {},
   "outputs": [],
   "source": [
    "# filter model eg-600wr v2\n",
    "q = f'''\n",
    "     SELECT distinct [RMA NO.],MODEL,serial_no\n",
    "     FROM consolidated c\n",
    "     WHERE c.model ='EG-600WR'\n",
    "     '''\n",
    "pd.read_sql(q,conn)"
   ]
  },
  {
   "cell_type": "code",
   "execution_count": null,
   "metadata": {},
   "outputs": [],
   "source": [
    "# replace model eg-600wr v2\n",
    "q = '''\n",
    "        UPDATE consolidated \n",
    "        SET model = 'EG-600WR'\n",
    "        WHERE model = 'EG-600WR V2';\n",
    "        \n",
    "    '''\n",
    "conn.execute(q)"
   ]
  },
  {
   "cell_type": "code",
   "execution_count": null,
   "metadata": {},
   "outputs": [],
   "source": []
  },
  {
   "cell_type": "code",
   "execution_count": null,
   "metadata": {},
   "outputs": [],
   "source": [
    "#create rma list and import to \n",
    "rma_list = \"'\"\n",
    "for rma in raw91['RMA No.']:\n",
    "    rma_list = rma_list +rma+ \"','\"\n",
    "rma_list = rma_list[:-2]\n"
   ]
  },
  {
   "cell_type": "code",
   "execution_count": null,
   "metadata": {},
   "outputs": [],
   "source": [
    "# create part list column\n",
    "parts_list = ('ISA','BSA','CHA','FCT','FSA','FSB','LGB','VCA')\n"
   ]
  },
  {
   "cell_type": "code",
   "execution_count": null,
   "metadata": {},
   "outputs": [],
   "source": [
    "\n",
    "q = f'''\n",
    "        SELECT DISTINCT p.[RMA No.],c.model,p.part_description,pn.short_name\n",
    "        FROM (parts p\n",
    "        LEFT JOIN part_name pn ON p.part_description = pn.part_description)\n",
    "        LEFT JOIN consolidated c ON p.[rma no.] = c.[rma no.]\n",
    "        WHERE c.[RMA NO.] IN ({rma_list})\n",
    "        AND pn.short_name IN {str(parts_list)}\n",
    "        \n",
    "    '''\n",
    "parts = pd.read_sql(q,conn)\n",
    "# parts.to_excel('parts.xlsx',index = False)\n",
    "parts"
   ]
  },
  {
   "cell_type": "code",
   "execution_count": null,
   "metadata": {},
   "outputs": [],
   "source": [
    "# research parts\n",
    "q = '''\n",
    "        SELECT p.part_no,p.part_description,pn.short_name\n",
    "        FROM parts p\n",
    "        LEFT JOIN part_name pn ON p.part_description = pn.part_description\n",
    "        \n",
    "        WHERE pn.short_name is null\n",
    "\n",
    "    '''\n",
    "ppp = pd.read_sql(q,conn)\n",
    "ppp.to_excel('part_no_short_name.xlsx',index = False)"
   ]
  },
  {
   "cell_type": "code",
   "execution_count": null,
   "metadata": {},
   "outputs": [],
   "source": [
    "xw.Book('part_no_short_name.xlsx')"
   ]
  },
  {
   "cell_type": "code",
   "execution_count": null,
   "metadata": {},
   "outputs": [],
   "source": [
    "q = f'''\n",
    "        SELECT  *\n",
    "        FROM  part_name\n",
    "        WHERE short_name in {str(parts_list)}\n",
    "        ORDER BY short_name\n",
    "        \n",
    "    '''\n",
    "ppp = pd.read_sql(q,conn)\n",
    "ppp"
   ]
  },
  {
   "cell_type": "code",
   "execution_count": null,
   "metadata": {},
   "outputs": [],
   "source": []
  },
  {
   "cell_type": "code",
   "execution_count": null,
   "metadata": {},
   "outputs": [],
   "source": []
  },
  {
   "cell_type": "markdown",
   "metadata": {},
   "source": [
    "####  Write to new file"
   ]
  },
  {
   "cell_type": "code",
   "execution_count": null,
   "metadata": {},
   "outputs": [],
   "source": [
    "wb = xw.Book()\n",
    "wb.sheets.add('Summary')\n",
    "sh = wb.sheets('Summary')"
   ]
  },
  {
   "cell_type": "code",
   "execution_count": null,
   "metadata": {},
   "outputs": [],
   "source": []
  },
  {
   "cell_type": "code",
   "execution_count": null,
   "metadata": {},
   "outputs": [],
   "source": [
    "# add title\n",
    "sh.range('A1').value = 'Model'\n",
    "for i in range(len(parts_list)):\n",
    "    sh.range('B1').offset(0,i).value = parts_list[i]\n",
    "\n",
    "# count model and part\n",
    "i=0\n",
    "for model in parts['MODEL'].unique():\n",
    "    sh.range('A2').offset(i).value = model\n",
    "    q =f'''\n",
    "            SELECT  pn.short_name as PARTS,count(*) as COUNT\n",
    "            FROM (parts p\n",
    "            LEFT JOIN part_name pn ON p.part_description = pn.part_description)\n",
    "            LEFT JOIN consolidated c ON p.[rma no.] = c.[rma no.]\n",
    "            WHERE c.[RMA NO.] IN ({rma_list})\n",
    "            AND c.model ='{model}'\n",
    "            AND pn.short_name IN {str(parts_list)}\n",
    "            GROUP BY pn.short_name\n",
    "        '''\n",
    "    aaa = pd.read_sql(q,conn)\n",
    "    j = 0\n",
    "    for part in parts_list:\n",
    "        \n",
    "        try:\n",
    "            part_count = int(aaa[aaa['PARTS']==part]['COUNT'])\n",
    "        except:\n",
    "            part_count = 0\n",
    "        \n",
    "        sh.range('B2').offset(i,j).value = part_count\n",
    "        j+=1\n",
    "    \n",
    "    i+=1"
   ]
  },
  {
   "cell_type": "code",
   "execution_count": null,
   "metadata": {},
   "outputs": [],
   "source": [
    "sh.clear_contents()"
   ]
  },
  {
   "cell_type": "code",
   "execution_count": null,
   "metadata": {},
   "outputs": [],
   "source": [
    "sh.autofit()"
   ]
  },
  {
   "cell_type": "code",
   "execution_count": null,
   "metadata": {},
   "outputs": [],
   "source": [
    "sh.used_range.api.AutoFilter(Field:=1)"
   ]
  },
  {
   "cell_type": "code",
   "execution_count": null,
   "metadata": {},
   "outputs": [],
   "source": [
    "save_name =input('Save File Name: ')\n",
    "\n",
    "wb.save(f'{save_name}.xlsx')\n",
    "wb.close()"
   ]
  },
  {
   "cell_type": "code",
   "execution_count": null,
   "metadata": {},
   "outputs": [],
   "source": []
  },
  {
   "cell_type": "code",
   "execution_count": null,
   "metadata": {},
   "outputs": [],
   "source": [
    "# count model and part\n",
    "for model in parts['MODEL'].unique():\n",
    "    \n",
    "    q =f'''\n",
    "            SELECT  pn.short_name as PARTS,count(*) as COUNT\n",
    "            FROM (parts p\n",
    "            LEFT JOIN part_name pn ON p.part_description = pn.part_description)\n",
    "            LEFT JOIN consolidated c ON p.[rma no.] = c.[rma no.]\n",
    "            WHERE c.[RMA NO.] IN ({rma_list})\n",
    "            AND c.model ='{model}'\n",
    "            AND pn.short_name IN {str(parts_list)}\n",
    "            GROUP BY pn.short_name\n",
    "        '''\n",
    "    aaa = pd.read_sql(q,conn)\n",
    "    for part in parts_list:\n",
    "    \n",
    "        try:\n",
    "            part_count = int(aaa[aaa['PARTS']==part]['COUNT'])\n",
    "        except:\n",
    "            part_count = 0\n",
    "        "
   ]
  },
  {
   "cell_type": "code",
   "execution_count": null,
   "metadata": {},
   "outputs": [],
   "source": [
    "model = 'EG-530WR'\n",
    "\n",
    "q =f'''\n",
    "        SELECT  pn.short_name as PARTS,count(*) as COUNT\n",
    "        FROM (parts p\n",
    "        LEFT JOIN part_name pn ON p.part_description = pn.part_description)\n",
    "        LEFT JOIN consolidated c ON p.[rma no.] = c.[rma no.]\n",
    "        WHERE c.[RMA NO.] IN ({rma_list})\n",
    "        AND c.model ='{model}'\n",
    "        AND pn.short_name IN {str(parts_list)}\n",
    "        GROUP BY pn.short_name\n",
    "    '''\n",
    "aaa = pd.read_sql(q,conn)\n",
    "aaa"
   ]
  },
  {
   "cell_type": "code",
   "execution_count": null,
   "metadata": {},
   "outputs": [],
   "source": [
    "aaa[aaa['PARTS']=='BSA']['COUNT']"
   ]
  },
  {
   "cell_type": "code",
   "execution_count": null,
   "metadata": {},
   "outputs": [],
   "source": [
    "for model in \n",
    "for part in parts_list:\n",
    "    \n",
    "    try:\n",
    "        part_count = int(aaa[aaa['PARTS']==part]['COUNT'])\n",
    "    except:\n",
    "        part_count = 0\n",
    "    print(part,part_count)"
   ]
  },
  {
   "cell_type": "markdown",
   "metadata": {},
   "source": [
    "#### Installation\n"
   ]
  },
  {
   "cell_type": "code",
   "execution_count": null,
   "metadata": {},
   "outputs": [],
   "source": []
  },
  {
   "cell_type": "code",
   "execution_count": null,
   "metadata": {},
   "outputs": [],
   "source": [
    "ff_asset_code = ('FMSV00080','FMSV00293','FMSV')"
   ]
  },
  {
   "cell_type": "code",
   "execution_count": null,
   "metadata": {},
   "outputs": [],
   "source": [
    "# ALL FF ASSET\n",
    "q = f'''\n",
    "        SELECT DISTINCT *\n",
    "        FROM install\n",
    "        WHERE [customer code] IN {ff_asset_code}\n",
    "    '''\n",
    "ff_asset = pd.read_sql(q,conn)\n",
    "\n",
    "# create asset items\n",
    "ff_asset_items = tuple(ff_asset['Serial No.'])\n",
    "# ff_asset_items"
   ]
  },
  {
   "cell_type": "code",
   "execution_count": null,
   "metadata": {},
   "outputs": [],
   "source": [
    "# ALL FF ASSET\n",
    "q = f'''\n",
    "        SELECT DISTINCT *\n",
    "        FROM install\n",
    "        WHERE [customer code] IN {ff_asset_code}\n",
    "        \n",
    "    '''\n",
    "ff_asset = pd.read_sql(q,conn)\n",
    "ff_asset\n"
   ]
  },
  {
   "cell_type": "code",
   "execution_count": null,
   "metadata": {},
   "outputs": [],
   "source": [
    "# create max rma\n",
    "q = f'''\n",
    "        SELECT MAX([RMA NO.]) as RMA,serial_no\n",
    "        FROM consolidated c\n",
    "        WHERE serial_no IN {ff_asset_items}\n",
    "        GROUP BY serial_no\n",
    "    '''\n",
    "asset_rma = pd.read_sql(q,conn)\n",
    "rma_list = tuple(asset_rma['RMA'])\n",
    "rma_list"
   ]
  },
  {
   "cell_type": "markdown",
   "metadata": {},
   "source": [
    "#### "
   ]
  },
  {
   "cell_type": "code",
   "execution_count": null,
   "metadata": {},
   "outputs": [],
   "source": [
    "file_name = os.path.join(path,'hcap2023.xlsx')\n",
    "writer = pd.ExcelWriter(file_name, engine = 'xlsxwriter')"
   ]
  },
  {
   "cell_type": "code",
   "execution_count": null,
   "metadata": {},
   "outputs": [],
   "source": [
    "path"
   ]
  },
  {
   "cell_type": "code",
   "execution_count": null,
   "metadata": {},
   "outputs": [],
   "source": [
    "# all record for asset\n",
    "q = f'''\n",
    "        SELECT [rma no.],[customer_name],customer_code,serial_no, model, approval,repair_status,\n",
    "        CASE\n",
    "            WHEN repair_status = 'Completed' THEN\n",
    "                (CASE\n",
    "                    WHEN approval IN ('Approval','Inspection','NoFault') THEN 'OK'\n",
    "\n",
    "                    ELSE 'Broken' END )\n",
    "            ELSE 'Waiting for QC' END\n",
    "                AS status\n",
    "            \n",
    "        FROM consolidated c\n",
    "        WHERE [rma no.] IN {rma_list}\n",
    "        ORDER BY serial_no ASC, [RMA No.] DESC\n",
    "    '''\n",
    "way1 = pd.read_sql(q,conn)\n",
    "# way1.to_excel(writer,index = False, sheet_name='way1')\n",
    "way1.to_excel('hcap2023.xlsx',index = False)"
   ]
  },
  {
   "cell_type": "code",
   "execution_count": null,
   "metadata": {},
   "outputs": [],
   "source": [
    "install = pd.read_sql('select * from install', conn)\n",
    "install.to_excel('install2023.xlsx',index = False)"
   ]
  },
  {
   "cell_type": "markdown",
   "metadata": {},
   "source": [
    "### Search by Serial Number"
   ]
  },
  {
   "cell_type": "code",
   "execution_count": null,
   "metadata": {},
   "outputs": [],
   "source": [
    "#CHECK SERIAL\n",
    "sn = 'Jg361K643'\n",
    "q = f'''\n",
    "        SELECT [rma no.],customer_name,model,serial_no,[repair size],approval,[scope connect count],[recieve_date]\n",
    "        FROM consolidated\n",
    "        WHERE serial_no ='{sn.upper()}'\n",
    "        \n",
    "        ORDER BY [rma no.] DESC\n",
    "        \n",
    "    '''\n",
    "pd.read_sql(q,conn)"
   ]
  },
  {
   "cell_type": "markdown",
   "metadata": {},
   "source": [
    "# check History\n",
    "rma ='FMSV2022050061'\n",
    "pd.read_sql(f\"SELECT * FROM transfers WHERE rma = '{rma}'\",conn)"
   ]
  },
  {
   "cell_type": "code",
   "execution_count": null,
   "metadata": {},
   "outputs": [],
   "source": [
    "xw.Book('fesam.xlsx')"
   ]
  },
  {
   "cell_type": "code",
   "execution_count": null,
   "metadata": {},
   "outputs": [],
   "source": [
    "path = pathlib.Path().absolute()"
   ]
  },
  {
   "cell_type": "code",
   "execution_count": null,
   "metadata": {},
   "outputs": [],
   "source": [
    "file_name = os.path.join(path,'fesam.xlsx')\n",
    "writer = pd.ExcelWriter(file_name, engine = 'xlsxwriter')"
   ]
  },
  {
   "cell_type": "code",
   "execution_count": null,
   "metadata": {},
   "outputs": [],
   "source": [
    "writer.close()"
   ]
  },
  {
   "cell_type": "markdown",
   "metadata": {},
   "source": [
    "### FY2022\n"
   ]
  },
  {
   "cell_type": "code",
   "execution_count": null,
   "metadata": {},
   "outputs": [],
   "source": [
    "q = '''\n",
    "        SELECT \n",
    "    '''"
   ]
  },
  {
   "cell_type": "code",
   "execution_count": null,
   "metadata": {},
   "outputs": [],
   "source": [
    "rmas = '''\n",
    "\n",
    "FMSV2023030051\n",
    "FMSV2023040071\n",
    "FMSV2023040076\n",
    "FMSV2023050003\n",
    "FMSV2023050019\n",
    "\n",
    "'''\n",
    "rma_list = rmas.strip().split('\\n')\n",
    "# tuple(rma_list)"
   ]
  },
  {
   "cell_type": "markdown",
   "metadata": {},
   "source": [
    "### TAT time\n"
   ]
  },
  {
   "cell_type": "code",
   "execution_count": null,
   "metadata": {},
   "outputs": [],
   "source": [
    "from sqlite3 import connect\n",
    "conn = connect('history.db')"
   ]
  },
  {
   "cell_type": "code",
   "execution_count": null,
   "metadata": {},
   "outputs": [],
   "source": [
    "sn_list = '''\n",
    "1B083K166\n",
    "2G348K315\n",
    "1C694K023\n",
    "2G366D002\n",
    "2G366D121\n",
    "1S094A282\n",
    "1C741K051\n",
    "1C692K159\n",
    "2D127K103\n",
    "2G391K632\n",
    "3D127K096\n",
    "1C741K090\n",
    "1G390K229\n",
    "2G348K419\n",
    "1C692K141\n",
    "1C728K151\n",
    "1C603K041\n",
    "1G374K535\n",
    "1C675K021\n",
    "1C653K511\n",
    "1G399K080\n",
    "2G348K615\n",
    "1S094A412\n",
    "MC380A004\n",
    "4G361K368\n",
    "2C730K027\n",
    "2G402K022\n",
    "1S094K191\n",
    "1V567K309\n",
    "1V567K312\n",
    "2C730K032\n",
    "1G391K564\n",
    "1G391K928\n",
    "1G391K315\n",
    "1C692K077\n",
    "1C692K439\n",
    "4C607A005\n",
    "1G388K022\n",
    "5U047K005\n",
    "1C692K147\n",
    "2Y196K018\n",
    "2G399K002\n",
    "4G361K141\n",
    "2D127K107\n",
    "1G399K079\n",
    "8G402K627\n",
    "3D127K095\n",
    "1C728K438\n",
    "1Y157K024\n",
    "1C642K363\n",
    "1C653K505\n",
    "1G391K371\n",
    "1C692K092\n",
    "1C692K160\n",
    "1G391K560\n",
    "\n",
    "\n",
    "\n",
    "\n",
    "    '''\n",
    "\n",
    "sn_list = sn_list.strip().split('\\n')\n",
    "len(sn_list)"
   ]
  },
  {
   "cell_type": "code",
   "execution_count": null,
   "metadata": {
    "scrolled": false
   },
   "outputs": [],
   "source": [
    "#check by sn and record serial\n",
    "rma_record =[]\n",
    "for sn in sn_list:\n",
    "#     sn = 'Jg361K643'\n",
    "    q = f'''\n",
    "            SELECT [rma no.],customer_name,model,serial_no,[repair size],approval,[scope connect count],[recieve_date]\n",
    "            FROM consolidated\n",
    "            WHERE upper(serial_no) ='{sn.upper()}'\n",
    "\n",
    "            ORDER BY [rma no.] DESC\n",
    "\n",
    "        '''\n",
    "    his_rma = pd.read_sql(q,conn)\n",
    "    if len(his_rma) > 1:\n",
    "        display(his_rma)\n",
    "\n",
    "        try:\n",
    "            ind = int(input('Select by index[0]: '))\n",
    "            rma_record.append(his_rma['RMA No.'][0])\n",
    "            rma_record.append(his_rma['RMA No.'][ind])\n",
    "        except:\n",
    "            ind = 0\n",
    "            rma_record.append(his_rma['RMA No.'][0])\n",
    "    else:\n",
    "        rma_record.append(his_rma['RMA No.'][0])\n",
    "    \n",
    "    print(rma_record)\n",
    "    "
   ]
  },
  {
   "cell_type": "code",
   "execution_count": null,
   "metadata": {},
   "outputs": [],
   "source": [
    "#combine receive\n",
    "rma_list = tuple(rma_record)\n",
    "q = f'''\n",
    "        SELECT  DISTINCT c.[rma no.],c.customer_name,c.model,c.serial_no,\n",
    "        strftime('%Y-%m-%d',CASE \n",
    "            WHEN receive NOT NULL THEN receive\n",
    "            ELSE c.recieve_date END) AS [Receive Date (IN)],\n",
    "        \n",
    "        CASE\n",
    "            WHEN m.quotation IS NULL THEN c.in_inspect_date\n",
    "            WHEN m.quotation IN ('FOC','WARRANTY') THEN c.in_inspect_date\n",
    "            ELSE m.quotation  END as [Quoted Date],\n",
    "        \n",
    "        confirmation AS [PO rec. Date],\n",
    "        m.note as [Part Order Date],\n",
    "        c.[Part Select Date] AS [Part Receive Date],\n",
    "        ROUND(JULIANDAY(m.note) - JULIANDAY(c.[Part Select Date])) AS [TAT Parts],\n",
    "        \n",
    "        strftime('%Y-%m-%d',re.[Start Time]) AS[Repair Start Date],\n",
    "        ROUND(JULIANDAY(c.qc) - JULIANDAY(re.[Start Time])) AS [TAT Repair],\n",
    "        strftime('%Y-%m-%d',c.qc) AS [Ship Date (OUT)],\n",
    "        \n",
    "        ROUND(JULIANDAY(c.qc) - JULIANDAY(receive)) AS [TAT Days Completed]\n",
    "        \n",
    "        FROM (consolidated c\n",
    "        LEFT JOIN repair_code re ON c.[RMA NO.] = re.[RMA NO.])\n",
    "        LEFT JOIN m_list m ON c.[RMA NO.] = m.rma\n",
    "        WHERE c.[rma no.] IN {rma_list}\n",
    "        \n",
    "        ORDER BY c.[rma no.]\n",
    "        \n",
    "    '''\n",
    "\n",
    "tat_repair = pd.read_sql(q,conn)\n",
    "tat_repair#.to_excel('inspection\\\\tat_repair.xlsx',index=False)"
   ]
  },
  {
   "cell_type": "code",
   "execution_count": null,
   "metadata": {},
   "outputs": [],
   "source": [
    "tat_repair.to_excel('inspection\\\\tat_repair.xlsx',index=False)"
   ]
  },
  {
   "cell_type": "code",
   "execution_count": null,
   "metadata": {},
   "outputs": [],
   "source": [
    "xw.Book('inspection\\\\tat_repair.xlsx')"
   ]
  },
  {
   "cell_type": "code",
   "execution_count": null,
   "metadata": {},
   "outputs": [],
   "source": [
    "pd.read_sql('select WORKINGDAY(strptime(\"2023-05-15\",\"%Y-%m-%d\"),strptime(\"2023-05-28\",\"%Y-%m-%d\"))',conn)"
   ]
  },
  {
   "cell_type": "code",
   "execution_count": null,
   "metadata": {},
   "outputs": [],
   "source": []
  },
  {
   "cell_type": "code",
   "execution_count": null,
   "metadata": {},
   "outputs": [],
   "source": [
    "q = f'''\n",
    "        SELECT DISTINCT re.[rma no.],re.[Start Time],\n",
    "        (re.[End Time]-re.[Start Time]) as [TAT Repair],re.[End Time]\n",
    "        \n",
    "        FROM repair_code re\n",
    "        WHERE re.[rma no.] IN {tuple(rma_list)}\n",
    "    '''\n",
    "pd.read_sql(q,conn).to_excel('inspection\\\\tat_repair.xlsx')"
   ]
  },
  {
   "cell_type": "markdown",
   "metadata": {},
   "source": [
    "### HCAP KICK-OFF\n"
   ]
  },
  {
   "cell_type": "code",
   "execution_count": null,
   "metadata": {},
   "outputs": [],
   "source": [
    "\n",
    "q = '''SELECT * \n",
    "        \n",
    "        FROM transfers\n",
    "        WHERE return IS  NULL\n",
    "        AND customer NOT LIKE '%FUJIFILM%'\n",
    "\n",
    "    '''\n",
    "\n",
    "pd.read_sql(q,conn)\n",
    "# 181 items"
   ]
  },
  {
   "cell_type": "code",
   "execution_count": null,
   "metadata": {},
   "outputs": [],
   "source": []
  },
  {
   "cell_type": "code",
   "execution_count": null,
   "metadata": {},
   "outputs": [],
   "source": [
    "# amount of waiting confirm\n",
    "q = '''SELECT COUNT(*),SUM(price) AS [Amount of Waiting confirm($)]\n",
    "        FROM m_list\n",
    "        WHERE status LIKE '%waiting confirm'\n",
    "    '''\n",
    "pd.read_sql(q,conn)"
   ]
  },
  {
   "cell_type": "code",
   "execution_count": null,
   "metadata": {},
   "outputs": [],
   "source": [
    "# total price\n",
    "q = '''\n",
    "        SELECT COUNT(*),SUM(part_list_date) AS [Amount of Transfers($)]\n",
    "        FROM transfers\n",
    "        WHERE return is null\n",
    "        AND customer NOT LIKE '%FUJIFILM%'\n",
    "    '''\n",
    "pd.read_sql(q,conn)"
   ]
  },
  {
   "cell_type": "code",
   "execution_count": null,
   "metadata": {},
   "outputs": [],
   "source": [
    "# min receive\n",
    "q = '''SELECT MIN(RECEIVE)\n",
    "        from transfers\n",
    "        WHERE return is null\n",
    "        AND part_list_date not null\n",
    "        '''\n",
    "pd.read_sql(q,conn)"
   ]
  },
  {
   "cell_type": "code",
   "execution_count": null,
   "metadata": {},
   "outputs": [],
   "source": [
    "# GROUP BY CUSTOMER\n",
    "q = '''\n",
    "        SELECT customer,round(sum(part_list_date),0) AS [Price($)]\n",
    "        FROM TRANSFERS\n",
    "        WHERE return is null\n",
    "        AND part_list_date NOT NULL\n",
    "        AND customer NOT LIKE '%FUJIFILM%'\n",
    "        \n",
    "        group by customer\n",
    "        HAVING [price($)] >10000\n",
    "        ORDER BY [price($)] DESC\n",
    "    '''\n",
    "pd.read_sql(q,conn)"
   ]
  },
  {
   "cell_type": "code",
   "execution_count": null,
   "metadata": {},
   "outputs": [],
   "source": [
    "#count BY customer\n",
    "q = '''SELECT customer,round(sum(part_list_date),0) AS [Price($)], count(*) AS [count]\n",
    "        \n",
    "        FROM transfers\n",
    "        \n",
    "        WHERE return is null\n",
    "        AND part_list_date NOT NULL\n",
    "        AND customer NOT LIKE '%FUJIFILM%'\n",
    "        \n",
    "        GROUP BY customer\n",
    "        HAVING [count] >=3\n",
    "        ORDER BY [Price($)] DESC,[count] DESC\n",
    "        \n",
    "\n",
    "'''\n",
    "\n",
    "pd.read_sql(q,conn)"
   ]
  },
  {
   "cell_type": "markdown",
   "metadata": {},
   "source": [
    "### Bach Mai\n"
   ]
  },
  {
   "cell_type": "code",
   "execution_count": null,
   "metadata": {},
   "outputs": [],
   "source": [
    "customer_name = 'Bach Mai Hospital'\n",
    "q = f'''SELECT model,count(*) As [Quantity], round(sum(part_list_date)) AS [Amount($)]\n",
    "        FROM transfers\n",
    "        \n",
    "        WHERE return is null\n",
    "        \n",
    "        AND part_list_date NOT NULL\n",
    "        AND customer = '{customer_name}'\n",
    "        \n",
    "        GROUP BY model\n",
    "        ORDER BY [Amount($)] DESC\n",
    "        \n",
    "    \n",
    "    '''\n",
    "pd.read_sql(q,conn)"
   ]
  },
  {
   "cell_type": "code",
   "execution_count": null,
   "metadata": {
    "scrolled": false
   },
   "outputs": [],
   "source": [
    "model ='EG-600WR'\n",
    "\n",
    "q = f'''SELECT rma,tf.model,sn,strftime(\"%d-%m-%Y\",receive) as received,\n",
    "                strftime(\"%Y\",[date installed]) as[Year Installed],\n",
    "\n",
    "                issue,round(part_list_date) AS [Dealer Price (GP 41%)],\n",
    "                round(part_list_date*0.85) AS [GP 20%]\n",
    "        \n",
    "        FROM transfers tf\n",
    "        LEFT JOIN install ins ON tf.sn = ins.[serial no.]\n",
    "        \n",
    "        WHERE return is null\n",
    "        AND part_list_date NOT NULL\n",
    "        AND customer = '{customer_name}'\n",
    "        and tf.model = '{model}'\n",
    "        ORDER BY [Year Installed] DESC, [Dealer Price (GP 41%)] DESC\n",
    "    '''\n",
    "print(f'{customer_name.upper()} - Model: {model}')\n",
    "pd.read_sql(q,conn)"
   ]
  },
  {
   "cell_type": "code",
   "execution_count": null,
   "metadata": {},
   "outputs": [],
   "source": [
    "model ='EC-600WI'\n",
    "\n",
    "q = f'''SELECT rma,tf.model,sn,strftime(\"%d-%m-%Y\",receive) as received,\n",
    "                strftime(\"%Y\",[date installed]) as[Year Installed],\n",
    "\n",
    "                issue,round(part_list_date) - round(part_list_date*0.85) AS [GP 20%]\n",
    "        \n",
    "        FROM transfers tf\n",
    "        LEFT JOIN install ins ON tf.sn = ins.[serial no.]\n",
    "        \n",
    "        WHERE return is null\n",
    "        AND part_list_date NOT NULL\n",
    "        AND customer = '{customer_name}'\n",
    "        and tf.model = '{model}'\n",
    "        ORDER BY [Year Installed] DESC, [GP 20%] DESC\n",
    "    '''\n",
    "print(f'{customer_name.upper()} - Model: {model}')\n",
    "pd.read_sql(q,conn)"
   ]
  },
  {
   "cell_type": "code",
   "execution_count": null,
   "metadata": {},
   "outputs": [],
   "source": []
  }
 ],
 "metadata": {
  "kernelspec": {
   "display_name": "Python 3 (ipykernel)",
   "language": "python",
   "name": "python3"
  },
  "language_info": {
   "codemirror_mode": {
    "name": "ipython",
    "version": 3
   },
   "file_extension": ".py",
   "mimetype": "text/x-python",
   "name": "python",
   "nbconvert_exporter": "python",
   "pygments_lexer": "ipython3",
   "version": "3.10.9"
  }
 },
 "nbformat": 4,
 "nbformat_minor": 4
}
