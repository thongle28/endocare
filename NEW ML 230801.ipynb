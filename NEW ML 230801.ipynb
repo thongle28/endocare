{
 "cells": [
  {
   "cell_type": "code",
   "execution_count": 1,
   "id": "5742718e",
   "metadata": {},
   "outputs": [],
   "source": [
    "import sources.logins as lg\n",
    "from sqlite3 import connect\n",
    "import sources.parts_list_0802 as pl\n",
    "import pandas as pd\n",
    "from datetime import datetime as dt\n",
    "import xlwings as xw"
   ]
  },
  {
   "cell_type": "code",
   "execution_count": 2,
   "id": "27395870",
   "metadata": {},
   "outputs": [],
   "source": [
    "conn = connect('quotation.db')"
   ]
  },
  {
   "cell_type": "code",
   "execution_count": null,
   "id": "dd5e8e79",
   "metadata": {},
   "outputs": [],
   "source": [
    "sr = pl.summary_report()\n",
    "task = sr.task_review(conn)"
   ]
  },
  {
   "cell_type": "code",
   "execution_count": null,
   "id": "60e10daa",
   "metadata": {},
   "outputs": [],
   "source": [
    "# copy full_file to destination folder\n",
    "import shutil\n",
    "import pathlib\n",
    "import os\n",
    "def copy_selected_file(des_folder,file_name):\n",
    "\n",
    "#     des_folder = 'files'\n",
    "    ans = str(input(f'Default folder \"{des_folder}\"(Blank),root or change to folder:'))\n",
    "    path = pathlib.Path().absolute()\n",
    "    if ans =='root': des_folder = ''\n",
    "    elif ans !='': des_folder = ans\n",
    "    des_path = os.path.join(path,des_folder)\n",
    "    print(des_path)\n",
    "    shutil.copy(file_name,os.path.join(des_path,file_name.split('\\\\')[-1]))\n",
    "    \n",
    "    print(f'Copy file name {file_name}  to  {des_path} completed')"
   ]
  },
  {
   "cell_type": "code",
   "execution_count": null,
   "id": "08ebe354",
   "metadata": {},
   "outputs": [],
   "source": [
    "#filter HCM\n",
    "location = 'Hanoi'\n",
    "\n",
    "print('Receive')\n",
    "list_task = ['Create','Receive']\n",
    "\n",
    "a_table = task[(task['location']==location)&(task['REPAIR_STATUS'].isin(list_task))]\n",
    "for sn in a_table['SERIAL_NO']:\n",
    "    print(sn)\n",
    "display(a_table.drop(['repair_id','Start Time','End Time','location'],axis=1))\n",
    "\n",
    "print('Under repair')\n",
    "list_task = ['Inspection','Authorization']\n",
    "a_table = task[(task['location']==location)&(task['REPAIR_STATUS'].isin(list_task))]\n",
    "\n",
    "for sn in a_table['SERIAL_NO']:\n",
    "    print(sn)\n",
    "display(a_table.drop(['location','repair_id'],axis=1))\n",
    "\n",
    "# QC and shipout\n",
    "print('QC and Ship out')\n",
    "list_task = ['Repair','QC']\n",
    "a_table = task[(task['location']==location)&(task['REPAIR_STATUS'].isin(list_task))]\n",
    "\n",
    "for sn in a_table['SERIAL_NO']:\n",
    "    print(sn)\n",
    "display(a_table.drop(['location','repair_id'],axis=1))"
   ]
  },
  {
   "cell_type": "code",
   "execution_count": null,
   "id": "ba947fa7",
   "metadata": {
    "scrolled": true
   },
   "outputs": [],
   "source": [
    "src_key = '''FMSV2023080052\n",
    "'''\n",
    "\n",
    "q = f'''\n",
    "        SELECT [rma no.],customer_name,model,serial_no,[customer request],[defect note],repair_status\n",
    "        FROM consolidated c\n",
    "        WHERE UPPER([rma no.]) = '{src_key.strip().upper()}' OR UPPER([serial_no]) = '{src_key.strip().upper()}'\n",
    "    '''\n",
    "pd.read_sql(q,conn)"
   ]
  },
  {
   "cell_type": "code",
   "execution_count": null,
   "id": "ae80f898",
   "metadata": {},
   "outputs": [],
   "source": [
    "# new job no empty\n",
    "q = f'''\n",
    "        SELECT DISTINCT\n",
    "                c.[rma no.],cu.customer_type,customer_name,cu.dealer,e.location,\n",
    "                c.[create] as [Create Date],c.[Date Installed] AS [Installed Date],\n",
    "                c.Model,c.Serial_no as Serial,sc.type,sc.mo,\n",
    "                c.warranty_end_date as [Warranty End],c.recieve_date as [Received Date],\n",
    "                c.in_inspect_date as [Inspection Date],c.[repair size] as [Size],c.[update user] as PIC,\n",
    "                CASE\n",
    "                    WHEN sc.status IS NULL THEN c.repair_status\n",
    "                    ELSE sc.status || c.repair_status END AS [Status]\n",
    "        \n",
    "        FROM (((consolidated c\n",
    "             LEFT JOIN pf_code pf on c.[rma no.] = pf.[rma no.])\n",
    "             LEFT JOIN customerS cu ON c.[customer_code] = cu.[No.])\n",
    "             LEFT JOIN engineers e ON c.[update user] = e.exfm_code)\n",
    "             LEFT JOIN scopes sc ON c.model = sc.model\n",
    "        WHERE c.[rma no.] > (select max(rma) from new_ml)\n",
    "        \n",
    "        ORDER BY c.[rma no.]\n",
    "            \n",
    "    '''\n",
    "newjob = pd.read_sql(q,conn)\n",
    "print(len(newjob))\n",
    "newjob"
   ]
  },
  {
   "cell_type": "code",
   "execution_count": null,
   "id": "12a831df",
   "metadata": {},
   "outputs": [],
   "source": [
    "# add new job into ML\n",
    "\n",
    "m_list = pd.read_sql('SELECT * FROM new_ml',conn)\n",
    "bb = pl.summary_report()\n",
    "cur = conn.cursor()\n",
    "for i in range(len(newjob)):\n",
    "    rma = newjob.iloc[i]['RMA No.']\n",
    "    issue = bb.issues(conn,rma)\n",
    "    i_no = i + len(m_list) + 1\n",
    "    for j in range(len(newjob.iloc[i])):\n",
    "        if newjob.iloc[i][j] == None:newjob.iloc[i][j] =''\n",
    "            \n",
    "    cur.execute(f\"\"\"INSERT INTO new_ml(rma,cus_type,Customer,Dealer,Location,installed_date,\n",
    "                                       model,sn,scope_type,model2,wty_end_date,receive,inspection,repair_size,issue,\n",
    "                                       pic,status) \n",
    "                    VALUES('{newjob.iloc[i]['RMA No.']}','{newjob.iloc[i]['customer_type']}',\"{newjob.iloc[i]['CUSTOMER_NAME']}\",\n",
    "                    '{newjob.iloc[i]['dealer']}','{newjob.iloc[i]['location']}',\n",
    "                    '{str(newjob.iloc[i]['Installed Date'])}','{newjob.iloc[i]['MODEL']}','{newjob.iloc[i]['Serial']}',\n",
    "                    '{newjob.iloc[i]['Type']}','{newjob.iloc[i]['mo']}','{newjob.iloc[i]['Warranty End']}',\n",
    "                    '{newjob.iloc[i]['Received Date']}','{str(newjob.iloc[i]['Inspection Date'])}','{newjob.iloc[i]['Size']}',\n",
    "                    \"{issue}\",\"{newjob.iloc[i]['PIC']}\",\"{newjob.iloc[i]['Status']}\")\n",
    "    \"\"\")\n",
    "\n",
    "# save conn\n",
    "conn.commit()\n",
    "print('Done')"
   ]
  },
  {
   "cell_type": "code",
   "execution_count": null,
   "id": "24cfd297",
   "metadata": {},
   "outputs": [],
   "source": [
    "q = '''select max([UPDATE_time]) AS max_update FROM new_ml'''\n",
    "udt = pd.read_sql(q,conn)\n",
    "update_time = udt['max_update'][0]\n",
    "print(update_time)\n",
    "\n",
    "# filter new update in consolidated \n",
    "cur = conn.cursor()\n",
    "q = f'''\n",
    "\n",
    "        SELECT c.[rma no.],c.customer_name,c.model,c.serial_no,\n",
    "        \n",
    "                c.recieve_date,c.[repair size],c.[update user],c.in_inspect_date,c.repair_status,c.[status info],\n",
    "                c.[other id],c.last_update_time,c.approval,c.[repair user name],\n",
    "                c.[update time]\n",
    "        FROM consolidated c\n",
    "        WHERE c.[update time] > '{update_time}'\n",
    "        AND C.[rma no.] IN (SELECT rma FROM m_list)\n",
    "        \n",
    "        ORDER BY 1\n",
    "        \n",
    "    '''\n",
    "update_job = pd.read_sql(q,conn)\n",
    "print(len(update_job))\n",
    "# update_job"
   ]
  },
  {
   "cell_type": "code",
   "execution_count": null,
   "id": "76b64c76",
   "metadata": {},
   "outputs": [],
   "source": [
    "# update all\n",
    "bb = pl.summary_report() # create issue\n",
    "cur = conn.cursor()\n",
    "m_list = pd.read_sql('SELECT * FROM new_ml',conn)\n",
    "for i in range(len(update_job)):\n",
    "# i = 0\n",
    "\n",
    "    rma = update_job.iloc[i]['RMA No.']\n",
    "    issue = bb.issues(conn,rma)\n",
    "    print(issue)\n",
    "    #replace none to empty\n",
    "    for j in range(len(update_job.iloc[i])):\n",
    "        if update_job.iloc[i][j] == None:update_job.iloc[i][j] =''\n",
    "\n",
    "    # UPDATE GENERAL\n",
    "    q = f\"\"\" UPDATE new_ml \n",
    "                SET receive = '{update_job.iloc[i][\"RECIEVE_DATE\"]}',\n",
    "                inspection = '{update_job.iloc[i]['IN_INSPECT_DATE']}',\n",
    "                exfm_status = '{update_job.iloc[i]['REPAIR_STATUS']}',\n",
    "                approval = '{update_job.iloc[i]['Approval']}',\n",
    "                repair_user = '{update_job.iloc[i]['Repair User Name']}',\n",
    "                update_time = '{update_job.iloc[i]['Update Time']}',\n",
    "                update_user = '{update_job.iloc[i]['Update User']}',\n",
    "                exfm_info = '{update_job.iloc[i]['Status Info']}' \n",
    "                \n",
    "                WHERE RMA = '{rma}'\"\"\"\n",
    "    cur.execute(q)\n",
    "    #update fixed item\n",
    "    fixed_items = ['receive','report_id','inspection','repair_size']\n",
    "    update_items = ['RECIEVE_DATE','Other ID','IN_INSPECT_DATE','Repair Size']\n",
    "#     update_items[fixed_items.index('Report_ID')]       # compare each point\n",
    "    \n",
    "    for item in fixed_items:\n",
    "        if str(m_list[m_list['rma']==rma][item])=='':\n",
    "            cur.execute(f'''\n",
    "                            UPDATE new_ml SET '{item}' = '{updatejob.iloc[i][update_items[fixed_items.index(item)]]}'\n",
    "                            WHERE RMA = '{rma}'\n",
    "                        ''')\n",
    "            print(f'Update {rma}: {item} values {updatejob.iloc[i][update_items[fixed_items.index(item)]]}')\n",
    "conn.commit()"
   ]
  },
  {
   "cell_type": "code",
   "execution_count": null,
   "id": "c2948d8b",
   "metadata": {
    "scrolled": false
   },
   "outputs": [],
   "source": [
    "# update empty status\n",
    "bb = pl.summary_report() # create issue\n",
    "cur = conn.cursor()\n",
    "m_list = pd.read_sql('SELECT * FROM new_ml',conn)\n",
    "\n",
    "q = f'''\n",
    "        SELECT m.rma,m.customer,m.model,m.sn,C.[repair_status],c.[status info],m.exfm_status,m.exfm_info,\n",
    "        c.approval,c.[update time],c.[update user],c.[repair user name],c.recieve_date,c.in_inspect_date,\n",
    "        c.[repair size]\n",
    "        \n",
    "        FROM new_ml m\n",
    "        LEFT JOIN consolidated c ON m.rma = c.[rma no.]\n",
    "        \n",
    "    '''\n",
    "stt_info = pd.read_sql(q,conn)\n",
    "display(stt_info)\n",
    "\n",
    "for i in range(len(stt_info)):\n",
    "# i = 0\n",
    "#     print(i)\n",
    "    rma = m_list.iloc[i]['rma']\n",
    "    issue = bb.issues(conn,rma)\n",
    "#     print(rma,issue)\n",
    "    \n",
    "    #replace none to empty\n",
    "    for j in range(len(stt_info.iloc[i])):\n",
    "        if stt_info.iloc[i][j] == None:stt_info.iloc[i][j] =''\n",
    "\n",
    "    # UPDATE GENERAL\n",
    "    cur.execute(f\"\"\"UPDATE new_ml SET issue = '{issue}',\n",
    "    exfm_status = '{stt_info.iloc[i]['REPAIR_STATUS']}',\n",
    "    exfm_info = '{stt_info.iloc[i]['Status Info']}',\n",
    "    approval = '{stt_info.iloc[i]['Approval']}',\n",
    "    update_time = '{stt_info.iloc[i]['Update Time']}',\n",
    "    update_user = '{stt_info.iloc[i]['Update User']}',\n",
    "    receive = '{stt_info.iloc[i]['RECIEVE_DATE']}',\n",
    "    inspection = '{stt_info.iloc[i]['IN_INSPECT_DATE']}',\n",
    "    repair_size = '{stt_info.iloc[i]['Repair Size']}'\n",
    "    \n",
    "    WHERE rma = '{rma}'\"\"\")\n",
    "    \n",
    "conn.commit()\n",
    "print('Done')"
   ]
  },
  {
   "cell_type": "code",
   "execution_count": null,
   "id": "8b29c39c",
   "metadata": {},
   "outputs": [],
   "source": [
    "#check no receive and inspection\n",
    "q = '''\n",
    "        SELECT rma,receive,inspection,\n",
    "        c.[recieve_date],c.[in_inspect_date]\n",
    "        \n",
    "        FROM new_ml m\n",
    "        LEFT JOIN consolidated c ON m.rma = c.[rma no.]\n",
    "        WHERE (receive IS NULL OR inspection IS NULL)\n",
    "        \n",
    "    '''\n",
    "pd.read_sql(q,conn)"
   ]
  },
  {
   "cell_type": "code",
   "execution_count": null,
   "id": "26985e93",
   "metadata": {},
   "outputs": [],
   "source": [
    "#filter completed\n",
    "q = '''\n",
    "        SELECT  rma,customer,model, sn,repair_size,issue,pic,note,location,\n",
    "            receive,quotation,confirmation,part_order_date, part_received_date,\n",
    "            start_repair,qc_date,return_date \n",
    "        FROM new_ml \n",
    "        WHERE status LIKE '%Completed repair' \n",
    "        ORDER BY rma\n",
    "'''\n",
    "completed_list = pd.read_sql(q,conn)\n",
    "completed_list"
   ]
  },
  {
   "cell_type": "code",
   "execution_count": null,
   "id": "1b8e7621",
   "metadata": {},
   "outputs": [],
   "source": [
    "#delete job completed from new_ml\n",
    "cur.execute('DELETE FROM new_ml WHERE status LIKE \"%Completed repair\"')\n",
    "conn.commit()"
   ]
  },
  {
   "cell_type": "code",
   "execution_count": null,
   "id": "cf1807b1",
   "metadata": {},
   "outputs": [],
   "source": []
  },
  {
   "cell_type": "code",
   "execution_count": null,
   "id": "87f6e106",
   "metadata": {},
   "outputs": [],
   "source": []
  },
  {
   "cell_type": "code",
   "execution_count": null,
   "id": "ebb10ef9",
   "metadata": {},
   "outputs": [],
   "source": [
    "q = '''\n",
    "        SELECT * FROM new_ml\n",
    "        WHERE exfm_status IS NULL\n",
    "        \n",
    "    '''\n",
    "pd.read_sql(q,conn)"
   ]
  },
  {
   "cell_type": "code",
   "execution_count": null,
   "id": "0ff2c9c9",
   "metadata": {},
   "outputs": [],
   "source": []
  },
  {
   "cell_type": "markdown",
   "id": "1d7d8e5a",
   "metadata": {},
   "source": [
    "#####  Export\n"
   ]
  },
  {
   "cell_type": "code",
   "execution_count": 3,
   "id": "5b898241",
   "metadata": {
    "scrolled": true
   },
   "outputs": [
    {
     "name": "stdout",
     "output_type": "stream",
     "text": [
      "\n",
      "______________________________________________________________________\n",
      "|  No.|  File Name                               |  Modified Time    |\n",
      "|____________________________________________________________________|\n",
      "|  1  |  New ML_230830_165145.xlsm               |  04-Sep-23 11:38  |\n",
      "|____________________________________________________________________|\n",
      "Select file (Default 1): \n",
      "\"New ML_230830_165145.xlsm\" is selected\n"
     ]
    },
    {
     "data": {
      "text/plain": [
       "<Book [New ML_230830_165145.xlsm]>"
      ]
     },
     "execution_count": 3,
     "metadata": {},
     "output_type": "execute_result"
    }
   ],
   "source": [
    "file_name = lg.file_select(folder_name = 'files', end_with = '.xlsm')\n",
    "xw.Book(file_name)"
   ]
  },
  {
   "cell_type": "code",
   "execution_count": null,
   "id": "e892d199",
   "metadata": {},
   "outputs": [],
   "source": [
    "# final\n",
    "q = '''SELECT * FROM new_ml'''\n",
    "m_list_final = pd.read_sql(q,conn)\n",
    "for i in range(len(m_list_final)):\n",
    "    rma = m_list_final.iloc[i]['rma']\n",
    "    issue = bb.issues(conn,rma)\n",
    "    \n",
    "    #replace none to empty\n",
    "    for j in range(len(m_list_final.iloc[i])):\n",
    "#         if m_list_final.iloc[i][j] == None: m_list_final.iloc[i][j] =''\n",
    "        if m_list_final.iloc[i][j] == 'None': m_list_final.iloc[i][j] =''\n",
    "           \n",
    "m_list_final = m_list_final.drop(['TAT_receive','TAT_PO','TAT_PART'],axis=1)\n",
    "dtmp = dt.now().strftime('%y%m%d')\n",
    "file_name = f'ML_{dtmp}.xlsx'\n",
    "m_list_final.to_excel(file_name,index = False)\n",
    "xw.Book(file_name)"
   ]
  },
  {
   "cell_type": "code",
   "execution_count": null,
   "id": "11154d38",
   "metadata": {},
   "outputs": [],
   "source": [
    "# copy file from files folder to inspection\n",
    "file = lg.file_select(folder_name='files',start_with='New ML')\n",
    "# to destination folder\n",
    "\n",
    "try:\n",
    "    copy_selected_file(des_folder='New ML',file_name = file)\n",
    "    print(f'Copy sucess file {file}')\n",
    "except Exception as e:\n",
    "    print(e)\n"
   ]
  },
  {
   "cell_type": "code",
   "execution_count": null,
   "id": "4b1c44e0",
   "metadata": {},
   "outputs": [],
   "source": [
    "# delete Master list in folder file\n",
    "import os\n",
    "import pathlib\n",
    "path = pathlib.Path().absolute()\n",
    "folder_name = 'files'\n",
    "file_name = file.split('\\\\')[-1]\n",
    "for file in os.listdir(folder_name):\n",
    "    \n",
    "    if 'New ML' in file and file_name not in file:\n",
    "        print(f'deleted file {file}')\n",
    "        os.remove(os.path.join(path,folder_name,file))\n",
    "        \n",
    "# delete file ML\n",
    "for file in os.listdir():\n",
    "    \n",
    "    if 'ML_' in file and file_name not in file:\n",
    "        print(f'deleted file {file}')\n",
    "        os.remove(os.path.join(path,file))\n",
    "\n",
    "for file in os.listdir('New ML'):\n",
    "    \n",
    "    if 'ML_' in file and file_name not in file:\n",
    "        print(f'deleted file {file}')\n",
    "        os.remove(os.path.join(path,file))"
   ]
  },
  {
   "cell_type": "code",
   "execution_count": null,
   "id": "f0b74e35",
   "metadata": {},
   "outputs": [],
   "source": [
    "for file in os.listdir('New ML'):\n",
    "    \n",
    "    if 'ML_' in file and file_name not in file:\n",
    "        print(f'deleted file {file}')\n",
    "        os.remove(os.path.join(path,file))"
   ]
  },
  {
   "cell_type": "code",
   "execution_count": null,
   "id": "dde8848b",
   "metadata": {},
   "outputs": [],
   "source": []
  },
  {
   "cell_type": "code",
   "execution_count": null,
   "id": "703620c8",
   "metadata": {},
   "outputs": [],
   "source": []
  },
  {
   "cell_type": "code",
   "execution_count": null,
   "id": "f5ca4e23",
   "metadata": {},
   "outputs": [],
   "source": []
  },
  {
   "cell_type": "code",
   "execution_count": null,
   "id": "e43a6230",
   "metadata": {},
   "outputs": [],
   "source": [
    "# compare new ML and ExFM\n",
    "q = '''\n",
    "        SELECT [rma no.],customer_name, model, serial_no,repair_status,\n",
    "        [update user],[update time],[status info]\n",
    "        \n",
    "        FROM consolidated\n",
    "        WHERE [rma no.] NOT IN (SELECT rma FROM new_ml)\n",
    "        \n",
    "'''\n",
    "gap = pd.read_sql(q,conn)\n",
    "gap.to_excel('exfm_gap_230816.xlsx',index = False)"
   ]
  },
  {
   "cell_type": "code",
   "execution_count": null,
   "id": "ddceace7",
   "metadata": {},
   "outputs": [],
   "source": []
  },
  {
   "cell_type": "code",
   "execution_count": null,
   "id": "978f60bc",
   "metadata": {},
   "outputs": [],
   "source": []
  }
 ],
 "metadata": {
  "kernelspec": {
   "display_name": "Python 3 (ipykernel)",
   "language": "python",
   "name": "python3"
  },
  "language_info": {
   "codemirror_mode": {
    "name": "ipython",
    "version": 3
   },
   "file_extension": ".py",
   "mimetype": "text/x-python",
   "name": "python",
   "nbconvert_exporter": "python",
   "pygments_lexer": "ipython3",
   "version": "3.10.9"
  }
 },
 "nbformat": 4,
 "nbformat_minor": 5
}
