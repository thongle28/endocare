{
 "cells": [
  {
   "cell_type": "code",
   "execution_count": 1,
   "id": "324e554c",
   "metadata": {},
   "outputs": [],
   "source": [
    "import sources.logins as lg\n",
    "from time import sleep\n",
    "import warnings\n",
    "warnings.filterwarnings('ignore')\n",
    "from selenium.webdriver.common.alert import Alert\n",
    "from selenium.webdriver.support.ui import WebDriverWait\n",
    "from selenium.webdriver.support import expected_conditions as EC\n",
    "from selenium.webdriver.common.keys import Keys\n",
    "from selenium.webdriver.support.select import Select\n",
    "from selenium import webdriver\n",
    "\n",
    "from selenium.webdriver.common.keys import Keys\n",
    "from selenium.webdriver.support.select import Select\n",
    "\n",
    "from dateutil.relativedelta import relativedelta\n",
    "from datetime import datetime as dt\n",
    "warnings.filterwarnings('ignore')\n",
    "\n",
    "def login_exfm(driver_on = True):\n",
    "    # generate key using fernet\n",
    "    # key = Fernet.generate_key().decode()\n",
    "    key = 'cLAiAdZU1U0sxWWK8sxhF0IWIBP4KrR3xhdu3x1EDQI='\n",
    "    \n",
    "    \n",
    "    # login ExFM and download latest incompleted data\n",
    "    name,pw = lg.save_id('exfm.txt',key)\n",
    "    driver = lg.login_url('exfm',name,pw)\n",
    "    \n",
    "    \n",
    "    while True:\n",
    "        try:\n",
    "            driver.find_element_by_xpath('//*[@id=\"RPR_SEARCH_LINK\"]').click() # select RMA Search\t\n",
    "            break\n",
    "        except Exception as e:\n",
    "            print ('Wrong Username or Password. Try again...')\n",
    "            name,pw = lg.save_id('exfm.txt',key)\n",
    "            driver = lg.login_url('exfm',name,pw)\n",
    "    \n",
    "    d_type_menu = [\n",
    "                    'Incompleted',\n",
    "                    'History',\n",
    "                    'Equipments',\n",
    "                    'Customers',\n",
    "                    'No Download',\n",
    "                    \n",
    "                    ]\n",
    "    #border table\n",
    "    print(f'\\n{\"_\"*50}')\n",
    "    print(f'{\"|  No.|  Function\": <49}|')\n",
    "    print(f'|{\"_\"*48}|')\n",
    "    for i in range(1,1+len(d_type_menu)):\n",
    "        print(f'|{i: >3}  |  {d_type_menu[i-1]: <40}|')\n",
    "    print(f'|{\"_\"*48}|') #bottom border\n",
    "    while True:\n",
    "        ind = str(input('Select Dataset to download: '))\n",
    "        try:\n",
    "            ind = int(ind)\n",
    "        except:\n",
    "            if ind.upper() == 'Q' or ind.upper() == 'QUIT':\n",
    "                break\n",
    "            else:\n",
    "                print('Only accept number')\n",
    "                continue\n",
    "        if 0<ind<=len(d_type_menu):\n",
    "            d_type = d_type_menu[ind-1]\n",
    "            break\n",
    "        else:\n",
    "            print(f'Input number must be less than {len(d_type_menu)}\\n')\n",
    "    \n",
    "    print(d_type)\n",
    "    \n",
    "    # driver.find_element_by_xpath('//*[@id=\"RPR_SEARCH_LINK\"]').click() # select RMA Search\n",
    "    \n",
    "    if d_type == d_type_menu[0]: # Incompleted\n",
    "        driver.find_element_by_xpath('//*[@id=\"sidEXPORT_CONSOLIDATED_BUTTON_IMAGE\"]').click() #click download\n",
    "    \n",
    "    if d_type == d_type_menu[1]: # History\n",
    "        Select(driver.find_element_by_xpath('//*[@id=\"sidIN_REPAIR_STATUS\"]')).select_by_index(0)\n",
    "        print('Select Status \"All\" and download.')\n",
    "        driver.find_element_by_xpath('//*[@id=\"sidEXPORT_CONSOLIDATED_BUTTON_IMAGE\"]').click() #click download\n",
    "    \n",
    "    if d_type == d_type_menu[2]: # Equipments\n",
    "        driver.find_element_by_xpath('//*[@id=\"EQP_MGT_LINK\"]').click() # Equipments\n",
    "        sleep(0.5)\n",
    "        driver.find_element_by_xpath('//*[@id=\"sidEXPORT_BUTTON_IMAGE\"]').click()\n",
    "    \n",
    "    if d_type == d_type_menu[3]: # Customers\n",
    "        driver.find_element_by_xpath('//*[@id=\"ACC_MGT_LINK\"]').click() \n",
    "        sleep(0.5)\n",
    "        driver.find_element_by_xpath('//*[@id=\"sidEXPORT_BUTTON_IMAGE\"]').click()\n",
    "    \n",
    "\n",
    "    # check latest file\n",
    "    i_wait = 0\n",
    "    while True:\n",
    "        try: # check file already\n",
    "            file, ctime = lg.file_latest(folder_name='Downloads')\n",
    "            if file.endswith('xls'):\n",
    "                print (f'\\nDonwload file {file} succesful at {ctime}')\n",
    "                break\n",
    "            else:\n",
    "                print(f'Please wait for compressing file {file}...{i_wait}s')\n",
    "                i_wait +=3\n",
    "                sleep(3)\n",
    "        except Exception as e: #waiting for download\n",
    "            if d_type == d_type_menu[-1]: break\n",
    "            print(f'Please wait for dowloading...{i_wait}s')\n",
    "            i_wait +=3\n",
    "            sleep(3)\n",
    "    if driver_on:\n",
    "        return driver\n",
    "    else:\n",
    "        #finish close driver\n",
    "        driver.close()\n",
    "    sleep(2)\n",
    "\n",
    "def auto_accept(driver):\n",
    "    WebDriverWait(driver, 5).until(EC.alert_is_present())\n",
    "    driver.switch_to.alert.accept()"
   ]
  },
  {
   "cell_type": "code",
   "execution_count": null,
   "id": "8b8d4808",
   "metadata": {},
   "outputs": [],
   "source": []
  },
  {
   "cell_type": "code",
   "execution_count": 2,
   "id": "292423b5",
   "metadata": {
    "scrolled": true
   },
   "outputs": [
    {
     "name": "stdout",
     "output_type": "stream",
     "text": [
      "\n",
      "Select account:\n",
      "1   |   thongle\n",
      "2   |   Nguyen\n",
      "3   |   FFAP0104\n",
      "0   |   CREATE NEW ACCOUNT\n",
      "Select account by number: \n",
      "Chi duoc nhap so.\n",
      "Select account by number: 1\n",
      "thongle is selected to login\n",
      "Removed Downloads\n",
      "\n",
      "\n",
      "Create new folder: Downloads\n",
      "Select Chrome Driver and press enter for authorize Certificate...\n",
      "\n",
      "Typing your ID...\n",
      "Typing your password...\n",
      "Login sucessful!\n",
      "\n",
      "\n",
      "__________________________________________________\n",
      "|  No.|  Function                                |\n",
      "|________________________________________________|\n",
      "|  1  |  Incompleted                             |\n",
      "|  2  |  History                                 |\n",
      "|  3  |  Equipments                              |\n",
      "|  4  |  Customers                               |\n",
      "|  5  |  No Download                             |\n",
      "|________________________________________________|\n",
      "Select Dataset to download: 5\n",
      "No Download\n"
     ]
    }
   ],
   "source": [
    "driver = login_exfm()"
   ]
  },
  {
   "cell_type": "markdown",
   "id": "4c1d6340",
   "metadata": {},
   "source": [
    "#### Clean data customer"
   ]
  },
  {
   "cell_type": "code",
   "execution_count": null,
   "id": "cb5ef947",
   "metadata": {
    "scrolled": true
   },
   "outputs": [],
   "source": [
    "from sqlite3 import connect\n",
    "import pandas as pd\n",
    "conn = connect('dealer.db')\n",
    "file_name = 'files/ACC_TBL_EXPORT_230912.xlsx'\n",
    "dealers = pd.read_excel(file_name)\n",
    "dealers.to_sql('dealers',conn,index=False,if_exists='replace')"
   ]
  },
  {
   "cell_type": "code",
   "execution_count": null,
   "id": "b80caaf0",
   "metadata": {},
   "outputs": [],
   "source": [
    "q = '''\n",
    "        SELECT * \n",
    "        \n",
    "        FROM dealers\n",
    "        WHERE territory1 = 'ETC'\n",
    "    '''\n",
    "north = pd.read_sql(q,conn)\n",
    "north"
   ]
  },
  {
   "cell_type": "code",
   "execution_count": null,
   "id": "1cb3b0f3",
   "metadata": {},
   "outputs": [],
   "source": []
  },
  {
   "cell_type": "code",
   "execution_count": null,
   "id": "478a74c1",
   "metadata": {},
   "outputs": [],
   "source": [
    "from time import sleep"
   ]
  },
  {
   "cell_type": "code",
   "execution_count": null,
   "id": "dde47c89",
   "metadata": {},
   "outputs": [],
   "source": [
    "cus_no_done=[]"
   ]
  },
  {
   "cell_type": "code",
   "execution_count": null,
   "id": "71006660",
   "metadata": {
    "scrolled": false
   },
   "outputs": [],
   "source": [
    "#click customer tab\n",
    "\n",
    "driver.find_element_by_xpath('//*[@id=\"ACC_MGT_LINK\"]').click()\n",
    "for cus_no in north['No.']:\n",
    "    if cus_no in cus_no_done:\n",
    "        print(f' \\nPassed {cus_no}')\n",
    "    else:\n",
    "        customer = dealers[dealers['No.']==cus_no]\n",
    "        customer = customer.reset_index()\n",
    "    #     display(customer)\n",
    "        #search customer no.\n",
    "        driver.find_element_by_xpath('//*[@id=\"sidIN_ACC_CODE\"]').clear()\n",
    "        driver.find_element_by_xpath('//*[@id=\"sidIN_ACC_CODE\"]').send_keys(cus_no)\n",
    "\n",
    "        #click search Button\n",
    "        driver.find_element_by_xpath('//*[@id=\"sidSEARCH_BUTTON_IMAGE\"]').click()\n",
    "\n",
    "        # select first row\n",
    "        driver.find_element_by_xpath('//*[@id=\"g[0].sidDISP_CODE_field\"]').click()\n",
    "        sleep(0.5)\n",
    "\n",
    "        # edit by file\n",
    "        name = driver.find_element_by_xpath('//*[@id=\"sidNAME\"]')\n",
    "        name.clear()\n",
    "        name.send_keys(customer['Pro Name'])\n",
    "        print(cus_no,customer['Pro Name'])\n",
    "        territory = driver.find_element_by_xpath('//*[@id=\"sidTEXT_TERRITORY_NAME\"]')\n",
    "        territory.clear()\n",
    "        try:\n",
    "            territory.send_keys(customer['Territory1'])\n",
    "        except Exception as e:\n",
    "            print(e)\n",
    "        area = driver.find_element_by_xpath('//*[@id=\"sidTEXT_AREA_NAME\"]')\n",
    "        area.clear()\n",
    "        try:\n",
    "            area.send_keys(customer['Area1'])\n",
    "        except Exception as e:\n",
    "            print(e)\n",
    "\n",
    "        city = driver.find_element_by_xpath('//*[@id=\"sidCITY\"]')\n",
    "        city.clear()\n",
    "        try:\n",
    "            city.send_keys(customer['City1'])\n",
    "        except Exception as e:\n",
    "             print(e)\n",
    "        \n",
    "        #clear email\n",
    "        driver.find_element_by_xpath('//*[@id=\"sidCONTACT1_PERSON_MAIL\"]').clear()\n",
    "        driver.find_element_by_xpath('//*[@id=\"sidCONTACT2_PERSON_MAIL\"]').clear()\n",
    "        driver.find_element_by_xpath('//*[@id=\"sidCONTACT3_PERSON_MAIL\"]').clear()\n",
    "        \n",
    "        \n",
    "        # click save\n",
    "        driver.find_element_by_xpath('//*[@id=\"sidUPDATE_BUTTON_IMAGE\"]').click()\n",
    "        sleep(0.5)\n",
    "        #click return\n",
    "        driver.find_element_by_xpath('//*[@id=\"sidBACK_BUTTON_IMAGE\"]').click()\n",
    "        \n",
    "        sleep(0.5)\n",
    "        cus_no_done.append(cus_no)\n",
    "        \n",
    "        \n",
    "print('Done')"
   ]
  },
  {
   "cell_type": "code",
   "execution_count": null,
   "id": "07542a08",
   "metadata": {},
   "outputs": [],
   "source": [
    "cus_no_done"
   ]
  },
  {
   "cell_type": "code",
   "execution_count": null,
   "id": "cb6141aa",
   "metadata": {},
   "outputs": [],
   "source": [
    "# edit by file\n",
    "name = driver.find_element_by_xpath('//*[@id=\"sidNAME\"]')\n",
    "name.clear()\n",
    "name.send_keys(customer['Pro Name'])\n",
    "\n",
    "territory = driver.find_element_by_xpath('//*[@id=\"sidTEXT_TERRITORY_NAME\"]')\n",
    "territory.clear()\n",
    "try:\n",
    "    territory.send_keys(customer['Territory1'])\n",
    "except Exception as e:\n",
    "    print(e)\n",
    "area = driver.find_element_by_xpath('//*[@id=\"sidTEXT_AREA_NAME\"]')\n",
    "area.clear()\n",
    "try:\n",
    "    area.send_keys(customer['Area1'])\n",
    "except Exception as e:\n",
    "    print(e)\n",
    "\n",
    "city = driver.find_element_by_xpath('//*[@id=\"sidCITY\"]')\n",
    "city.clear()\n",
    "try:\n",
    "    city.send_keys(customer['City1'])\n",
    "except Exception as e:\n",
    "     print(e)"
   ]
  },
  {
   "cell_type": "code",
   "execution_count": null,
   "id": "39f30773",
   "metadata": {},
   "outputs": [],
   "source": [
    "# click save\n",
    "driver.find_element_by_xpath('//*[@id=\"sidUPDATE_BUTTON_IMAGE\"]').click()\n",
    "sleep(0.5)\n",
    "#click return\n",
    "driver.find_element_by_xpath('//*[@id=\"sidBACK_BUTTON_IMAGE\"]').click()\n",
    "sleep(0.5)"
   ]
  },
  {
   "cell_type": "code",
   "execution_count": null,
   "id": "256fc26f",
   "metadata": {},
   "outputs": [],
   "source": []
  },
  {
   "cell_type": "markdown",
   "id": "dd504c52",
   "metadata": {},
   "source": [
    "### Installation"
   ]
  },
  {
   "cell_type": "code",
   "execution_count": null,
   "id": "6541d0d3",
   "metadata": {},
   "outputs": [],
   "source": [
    "def create_eqp(model,sn,date_installed):\n",
    "    #create EQP\n",
    "    driver.find_element_by_xpath('//*[@id=\"sidADD_BUTTON_IMAGE_2\"]').click()\n",
    "    #search sn\n",
    "\n",
    "    driver.find_element_by_xpath('//*[@id=\"sidBODY_NO\"]').send_keys(sn)\n",
    "    driver.find_element_by_xpath('//*[@id=\"sidBODY_NO\"]').send_keys(Keys.RETURN)\n",
    "    #click model\n",
    "    driver.find_element_by_xpath('//*[@id=\"sidSELECT_MODEL_ACTION\"]').click()\n",
    "\n",
    "    #move to form\n",
    "    driver.switch_to.window(driver.window_handles[1])\n",
    "    driver.switch_to.frame('frame')\n",
    "    # model typing\n",
    "    driver.find_element_by_id('sidIN_NAME').send_keys(model)\n",
    "    # search button\n",
    "    driver.find_element_by_id('sidSEARCH_BUTTON').click()\n",
    "\n",
    "    while True:\n",
    "        try:\n",
    "            driver.title\n",
    "            sleep(5)\n",
    "            print('Please Select Model')\n",
    "        except:\n",
    "            break\n",
    "\n",
    "    # move back to main\n",
    "    driver.switch_to.window(driver.window_handles[0])\n",
    "    #select date installed\n",
    "    driver.find_element_by_xpath('//*[@id=\"sidDISP_INSTALL_DATE\"]').send_keys(date_installed)\n",
    "    #select customer\n",
    "    Select(driver.find_element_by_xpath('//*[@id=\"sidSTATUS_NAME\"]')).select_by_index(1)\n",
    "    #warranty date\n",
    "    driver.find_element_by_xpath('//*[@id=\"sidDISP_WTY_START_DATE\"]').send_keys(date_installed)\n",
    "    wty_end = dt.strptime(date_installed,'%Y-%m-%d')+relativedelta(years=1)\n",
    "    wty_end = wty_end.strftime('%Y-%m-%d')\n",
    "    wty_end\n",
    "    \n",
    "    driver.find_element_by_xpath('//*[@id=\"sidDISP_WTY_END_DATE\"]').send_keys(wty_end)\n",
    "    sleep(0.2)\n",
    "    #add equipment\n",
    "    driver.find_element_by_xpath('//*[@id=\"sidADD_BUTTON_IMAGE\"]').click()\n",
    "    #return\n",
    "    driver.find_element_by_xpath('//*[@id=\"sidBACK_BUTTON_IMAGE\"]').click()"
   ]
  },
  {
   "cell_type": "code",
   "execution_count": null,
   "id": "7f9918f0",
   "metadata": {},
   "outputs": [],
   "source": [
    "# customer tab\n",
    "driver.find_element_by_xpath('//*[@id=\"ACC_MGT_LINK\"]').click()\n"
   ]
  },
  {
   "cell_type": "code",
   "execution_count": null,
   "id": "f6300907",
   "metadata": {},
   "outputs": [],
   "source": [
    "customer_code = 'FMSV00079'\n",
    "#clear\n",
    "driver.find_element_by_xpath('//*[@id=\"sidCLEAR_BUTTON_IMAGE\"]').click()\n",
    "\n",
    "driver.find_element_by_xpath('//*[@id=\"sidIN_ACC_CODE\"]').send_keys(customer_code)\n",
    "#search\n",
    "driver.find_element_by_xpath('//*[@id=\"sidSEARCH_BUTTON_IMAGE\"]').click()\n",
    "# click first row\n",
    "driver.find_element_by_xpath('//*[@id=\"g[0].sidDISP_CODE_data\"]').click()"
   ]
  },
  {
   "cell_type": "code",
   "execution_count": null,
   "id": "81de6b95",
   "metadata": {},
   "outputs": [],
   "source": [
    "date_installed = str(input('Date Installed: ' )) #'2023-06-30'\n"
   ]
  },
  {
   "cell_type": "code",
   "execution_count": null,
   "id": "53b1c8fc",
   "metadata": {},
   "outputs": [],
   "source": [
    "date_installed = str(input('Date Installed: ' )) #'2023-06-30'\n",
    "install_list = '''\n",
    "\n",
    "\n",
    "'''\n",
    "install_list = install_list.strip().split('\\n')\n",
    "for install in install_list:\n",
    "    sn = install.strip().split('\t')[1]\n",
    "    model = install.strip().split('\t')[0]\n",
    "    print(model,sn)\n",
    "    create_eqp(model,sn,date_installed)\n",
    "print('Done')"
   ]
  },
  {
   "cell_type": "code",
   "execution_count": null,
   "id": "01b23965",
   "metadata": {},
   "outputs": [],
   "source": [
    "# equipment data\n",
    "sn = '6V609K008'\n",
    "model = 'VP-3500HD'\n",
    "create_eqp(model,sn,date_installed)\n",
    "print(f'Done for {model}: {sn}')"
   ]
  },
  {
   "cell_type": "code",
   "execution_count": null,
   "id": "dff26ca6",
   "metadata": {},
   "outputs": [],
   "source": [
    "driver.switch_to.window(driver.window_handles[0])"
   ]
  },
  {
   "cell_type": "code",
   "execution_count": null,
   "id": "98425971",
   "metadata": {},
   "outputs": [],
   "source": [
    "#create EQP\n",
    "driver.find_element_by_xpath('//*[@id=\"sidADD_BUTTON_IMAGE_2\"]').click()\n",
    "#search sn\n",
    "\n",
    "driver.find_element_by_xpath('//*[@id=\"sidBODY_NO\"]').send_keys(sn)\n",
    "driver.find_element_by_xpath('//*[@id=\"sidBODY_NO\"]').send_keys(Keys.RETURN)\n",
    "#click model\n",
    "driver.find_element_by_xpath('//*[@id=\"sidSELECT_MODEL_ACTION\"]').click()\n",
    "\n",
    "#move to form\n",
    "# driver.switch_to.window(driver.window_handles[1])\n",
    "# driver.switch_to.frame('frame')\n",
    "# # model typing\n",
    "# driver.find_element_by_id('sidIN_NAME').send_keys(model)\n",
    "# # search button\n",
    "# driver.find_element_by_id('sidSEARCH_BUTTON').click()"
   ]
  },
  {
   "cell_type": "markdown",
   "id": "ad005933",
   "metadata": {},
   "source": [
    "### Ship out HMU"
   ]
  },
  {
   "cell_type": "code",
   "execution_count": null,
   "id": "315c2d2a",
   "metadata": {},
   "outputs": [],
   "source": [
    "# driver.find_element_by_xpath('')"
   ]
  },
  {
   "cell_type": "code",
   "execution_count": null,
   "id": "06b6150a",
   "metadata": {},
   "outputs": [],
   "source": [
    "# basic page first row\n",
    "driver.find_element_by_xpath('//*[@id=\"search_result[0].sidRS_REPAIR_ID_data\"]').click()"
   ]
  },
  {
   "cell_type": "code",
   "execution_count": null,
   "id": "ab8b9847",
   "metadata": {},
   "outputs": [],
   "source": [
    "\n",
    "for i in range(47,50):\n",
    "    # status empty\n",
    "    Select(driver.find_element_by_xpath('//*[@id=\"sidHOLD_CODE\"]')).select_by_index(0) #clear QA\n",
    "    Select(driver.find_element_by_xpath('//*[@id=\"sidTEMPORARY_STATUS_CODE\"]')).select_by_index(1) #hold suppend\n",
    "    #save\n",
    "    driver.find_element_by_xpath('//*[@id=\"sidUPDATE_BUTTON_IMAGE\"]').click()\n",
    "    #authorization\n",
    "    driver.find_element_by_xpath('//*[@id=\"sidRPR_STATUS_BUTTON_5\"]').click()\n",
    "    # Cancel\n",
    "    Select(driver.find_element_by_xpath('//*[@id=\"sidRPR_COMP_TYPE_CODE\"]')).select_by_index(5)\n",
    "    #tender lost\n",
    "    driver.find_element_by_xpath('//*[@id=\"sidAUTH_NOTE_DECLINE\"]').send_keys('Tender lost')\n",
    "    # complete\n",
    "    driver.find_element_by_xpath('//*[@id=\"sidAUTHORIZATION_COMPLETE_BUTTON_IMAGE\"]').click()\n",
    "    #return\n",
    "#     driver.find_element_by_xpath('//*[@id=\"sidBACK_BUTTON_IMAGE\"]').click()\n",
    "    \n",
    "    # ship out\n",
    "    driver.find_element_by_xpath('//*[@id=\"sidRPR_STATUS_BUTTON_10\"]').click()\n",
    "    # complete\n",
    "    driver.find_element_by_xpath('//*[@id=\"sidCOMPLETE_BUTTON_IMAGE\"]').click()\n",
    "    # next button\n",
    "    driver.find_element_by_xpath('//*[@id=\"sidSHOW_NEXT_REPAIR\"]').click()"
   ]
  },
  {
   "cell_type": "code",
   "execution_count": null,
   "id": "a6cfd190",
   "metadata": {},
   "outputs": [],
   "source": [
    "# ship out\n",
    "driver.find_element_by_xpath('//*[@id=\"sidRPR_STATUS_BUTTON_10\"]').click()\n",
    "# complete\n",
    "driver.find_element_by_xpath('//*[@id=\"sidCOMPLETE_BUTTON_IMAGE\"]').click()\n",
    "# next button\n",
    "driver.find_element_by_xpath('//*[@id=\"sidSHOW_NEXT_REPAIR\"]').click()"
   ]
  },
  {
   "cell_type": "markdown",
   "id": "b973ee0a",
   "metadata": {},
   "source": [
    "### Close job"
   ]
  },
  {
   "cell_type": "code",
   "execution_count": null,
   "id": "b9bcf689",
   "metadata": {},
   "outputs": [],
   "source": [
    "# clear button\n",
    "driver.find_element_by_xpath('//*[@id=\"sidCLEAR_BUTTON_IMAGE\"]').click()\n",
    "# Status shipped\n",
    "Select(driver.find_element_by_xpath('//*[@id=\"sidIN_REPAIR_STATUS\"]')).select_by_index(9)\n",
    "# Search\n",
    "driver.find_element_by_xpath('//*[@id=\"sidSEARCH_BUTTON_IMAGE\"]').click()\n",
    "ttl = driver.find_element_by_xpath('//*[@id=\"TH_search_result\"]/thead/tr[1]/th/div/span').get_attribute('innerHTML')\n",
    "ttl = int(ttl.split('/')[1][:-1])\n",
    "print(ttl)"
   ]
  },
  {
   "cell_type": "code",
   "execution_count": null,
   "id": "fd826291",
   "metadata": {},
   "outputs": [],
   "source": [
    "\n",
    "for i in range(ttl):\n",
    "    # first row\n",
    "    driver.find_element_by_xpath('//*[@id=\"search_result[0].sidRS_REPAIR_ID_data\"]').click()\n",
    "    # close button\n",
    "    driver.find_element_by_xpath('//*[@id=\"sidRPR_STATUS_BUTTON_11\"]').click()\n",
    "    try:\n",
    "        auto_accept(driver)\n",
    "        print(i+1,'ROHS failed')\n",
    "    except:\n",
    "        print(i+1,'ROHS passed')\n",
    "    driver.find_element_by_xpath('//*[@id=\"sidBACK_BUTTON_IMAGE\"]').click()\n",
    "print('Done')"
   ]
  },
  {
   "cell_type": "markdown",
   "id": "9e59f438",
   "metadata": {},
   "source": [
    "### Add date to Installation, WTY\n"
   ]
  },
  {
   "cell_type": "code",
   "execution_count": null,
   "id": "2c39f9a2",
   "metadata": {},
   "outputs": [],
   "source": [
    "# first row\n",
    "driver.find_element_by_xpath('//*[@id=\"g[0].sidDISP_BODY_NO_data\"]').click()"
   ]
  },
  {
   "cell_type": "code",
   "execution_count": null,
   "id": "7a240506",
   "metadata": {},
   "outputs": [],
   "source": [
    "# copy wty start\n",
    "ins_date = driver.find_element_by_xpath('//*[@id=\"sidDISP_WTY_START_DATE\"]').get_attribute('value')\n",
    "#install date\n",
    "driver.find_element_by_xpath('//*[@id=\"sidDISP_INSTALL_DATE\"]').send_keys(ins_date)\n"
   ]
  },
  {
   "cell_type": "code",
   "execution_count": null,
   "id": "990980c7",
   "metadata": {},
   "outputs": [],
   "source": [
    "# save\n",
    "driver.find_element_by_xpath('//*[@id=\"sidUPDATE_BUTTON_IMAGE\"]').click()\n",
    "sleep(0.3)\n",
    "# return\n",
    "driver.find_element_by_xpath('//*[@id=\"sidBACK_BUTTON_IMAGE\"]').click()"
   ]
  },
  {
   "cell_type": "code",
   "execution_count": null,
   "id": "7fa1c5a1",
   "metadata": {},
   "outputs": [],
   "source": []
  },
  {
   "cell_type": "code",
   "execution_count": null,
   "id": "00116740",
   "metadata": {},
   "outputs": [],
   "source": [
    "while True:\n",
    "    # first row\n",
    "    driver.find_element_by_xpath('//*[@id=\"g[0].sidDISP_BODY_NO_data\"]').click()\n",
    "    # copy wty start\n",
    "    ins_date = driver.find_element_by_xpath('//*[@id=\"sidDISP_WTY_START_DATE\"]').get_attribute('value')\n",
    "    #install date\n",
    "    driver.find_element_by_xpath('//*[@id=\"sidDISP_INSTALL_DATE\"]').send_keys(ins_date)\n",
    "    sleep(0.3)\n",
    "    # save\n",
    "    driver.find_element_by_xpath('//*[@id=\"sidUPDATE_BUTTON_IMAGE\"]').click()\n",
    "    # sleep(0.3)\n",
    "    # return\n",
    "    driver.find_element_by_xpath('//*[@id=\"sidBACK_BUTTON_IMAGE\"]').click()\n",
    "    ans = str(input('Continue?([Y]/N) ') or 'Y')\n",
    "    if ans=='Y':\n",
    "        print('Continue',ans)\n",
    "    else:\n",
    "        \n",
    "        print('Break')\n",
    "        break"
   ]
  },
  {
   "cell_type": "code",
   "execution_count": null,
   "id": "50639a40",
   "metadata": {},
   "outputs": [],
   "source": [
    "while True:\n",
    "    # first row\n",
    "    driver.find_element_by_xpath('//*[@id=\"g[0].sidDISP_BODY_NO_data\"]').click()\n",
    "    # copy wty start\n",
    "    ins_date = driver.find_element_by_xpath('//*[@id=\"sidDISP_WTY_START_DATE\"]').get_attribute('value')\n",
    "    #install date\n",
    "    if ins_date == '':\n",
    "        date_sold = driver.find_element_by_xpath('//*[@id=\"sidDISP_SOLD_DATE\"]').get_attribute('value')\n",
    "        ins_date = date_sold\n",
    "        if date_sold == '':\n",
    "            create_date = driver.find_element_by_xpath('//*[@id=\"sidCREATE_TIME\"]').get_attribute('innerHTML')\n",
    "            create_date = create_date.split('&')[0]\n",
    "            \n",
    "            ins_date = dt.strptime(create_date,'%Y-%m-%d')+relativedelta(years=-1)\n",
    "            ins_date = ins_date.strftime('%Y-%m-%d')\n",
    "            \n",
    "    driver.find_element_by_xpath('//*[@id=\"sidDISP_INSTALL_DATE\"]').send_keys(ins_date)\n",
    "    sleep(0.3)\n",
    "    # save\n",
    "    driver.find_element_by_xpath('//*[@id=\"sidUPDATE_BUTTON_IMAGE\"]').click()\n",
    "    sleep(1)\n",
    "    # return\n",
    "    driver.find_element_by_xpath('//*[@id=\"sidBACK_BUTTON_IMAGE\"]').click()\n",
    "    ans = str(input('Continue?([Y]/N) ') or 'Y')\n",
    "    if ans=='Y':\n",
    "        print('Continue',ans)\n",
    "    else:\n",
    "        \n",
    "        print('Break')\n",
    "        break"
   ]
  },
  {
   "cell_type": "code",
   "execution_count": null,
   "id": "1dbba84f",
   "metadata": {},
   "outputs": [],
   "source": [
    "date_sold = driver.find_element_by_xpath('//*[@id=\"sidDISP_SOLD_DATE\"]').get_attribute('value')"
   ]
  },
  {
   "cell_type": "code",
   "execution_count": null,
   "id": "1288c6e8",
   "metadata": {},
   "outputs": [],
   "source": [
    "date_sold != ''"
   ]
  },
  {
   "cell_type": "code",
   "execution_count": null,
   "id": "2de86bd3",
   "metadata": {},
   "outputs": [],
   "source": [
    "create_date = driver.find_element_by_xpath('//*[@id=\"sidCREATE_TIME\"]').get_attribute('innerHTML')\n",
    "create_date = create_date.split('&')[0]\n",
    "create_date"
   ]
  },
  {
   "cell_type": "code",
   "execution_count": null,
   "id": "d30006fa",
   "metadata": {},
   "outputs": [],
   "source": [
    "ins_date = dt.strptime(create_date,'%Y-%m-%d')+relativedelta(years=-1)\n",
    "ins_date.strftime('%Y-%m-%d')"
   ]
  },
  {
   "cell_type": "code",
   "execution_count": null,
   "id": "4ea9642c",
   "metadata": {},
   "outputs": [],
   "source": []
  },
  {
   "cell_type": "code",
   "execution_count": null,
   "id": "8bda4592",
   "metadata": {},
   "outputs": [],
   "source": []
  },
  {
   "cell_type": "markdown",
   "id": "3d98f726",
   "metadata": {},
   "source": [
    "### Add Other ID"
   ]
  },
  {
   "cell_type": "code",
   "execution_count": null,
   "id": "99ba3ac9",
   "metadata": {},
   "outputs": [],
   "source": [
    "id_list ='''\n",
    "\n",
    "'''\n",
    "id_list = id_list.strip().split('\\n')\n",
    "for rma_id in id_list:\n",
    "    other_id = rma_id.strip().split('\t')[1]\n",
    "    rma = rma_id.strip().split('\t')[0]\n",
    "    print(rma,other_id)\n",
    "    \n",
    "    \n",
    "    driver.find_element_by_xpath('//*[@id=\"sidIN_REPAIR_ID\"]').clear()\n",
    "    driver.find_element_by_xpath('//*[@id=\"sidIN_REPAIR_ID\"]').send_keys(rma)\n",
    "    driver.find_element_by_xpath('//*[@id=\"sidSEARCH_BUTTON_IMAGE\"]').click()\n",
    "    oid = driver.find_element_by_xpath('//*[@id=\"search_result[0].sidRS_SC_ID\"]').get_attribute('innerHTML')\n",
    "    if oid =='':\n",
    "        #basic page\n",
    "        driver.find_element_by_xpath('//*[@id=\"search_result[0].sidRS_REPAIR_ID_data\"]').click()\n",
    "        #Other ID\n",
    "        driver.find_element_by_xpath('//*[@id=\"sidSC_ID\"]').send_keys(other_id)\n",
    "    #     save\n",
    "        driver.find_element_by_xpath('//*[@id=\"sidUPDATE_BUTTON_IMAGE\"]').click()\n",
    "        sleep(0.2)\n",
    "        #return\n",
    "        driver.find_element_by_xpath('//*[@id=\"sidBACK_BUTTON_IMAGE\"]').click()\n",
    "    else: print(rma,'Other ID not empty')"
   ]
  },
  {
   "cell_type": "code",
   "execution_count": null,
   "id": "4371ee2c",
   "metadata": {},
   "outputs": [],
   "source": [
    "len(id_list)"
   ]
  },
  {
   "cell_type": "code",
   "execution_count": null,
   "id": "dce9b4dd",
   "metadata": {},
   "outputs": [],
   "source": []
  },
  {
   "cell_type": "code",
   "execution_count": null,
   "id": "d20b7fdd",
   "metadata": {},
   "outputs": [],
   "source": []
  },
  {
   "cell_type": "code",
   "execution_count": null,
   "id": "2d9727d9",
   "metadata": {},
   "outputs": [],
   "source": []
  },
  {
   "cell_type": "code",
   "execution_count": null,
   "id": "6ee7041a",
   "metadata": {},
   "outputs": [],
   "source": []
  },
  {
   "cell_type": "code",
   "execution_count": null,
   "id": "620093a9",
   "metadata": {},
   "outputs": [],
   "source": []
  },
  {
   "cell_type": "markdown",
   "id": "1be14389",
   "metadata": {},
   "source": [
    "### Edit Equipments\n"
   ]
  },
  {
   "cell_type": "code",
   "execution_count": 99,
   "id": "eb1774a9",
   "metadata": {},
   "outputs": [],
   "source": [
    "# move back to main\n",
    "driver.switch_to.window(driver.window_handles[0])\n",
    "#equipment tab\n",
    "driver.find_element_by_xpath('//*[@id=\"ACC_MGT_LINK\"]').click()\n",
    "#clear\n",
    "driver.find_element_by_xpath('//*[@id=\"sidCLEAR_BUTTON_IMAGE\"]').click()"
   ]
  },
  {
   "cell_type": "code",
   "execution_count": 112,
   "id": "a4e18220",
   "metadata": {},
   "outputs": [],
   "source": [
    "customer_code = 'ANP00024'\n",
    "# customer_code = 'FMSV00303'\n",
    "# move back to main\n",
    "driver.switch_to.window(driver.window_handles[0])\n",
    "#equipment tab\n",
    "driver.find_element_by_xpath('//*[@id=\"ACC_MGT_LINK\"]').click()\n",
    "#clear\n",
    "driver.find_element_by_xpath('//*[@id=\"sidCLEAR_BUTTON_IMAGE\"]').click()\n",
    "driver.find_element_by_xpath('//*[@id=\"sidIN_ACC_CODE\"]').send_keys(customer_code)\n",
    "driver.find_element_by_xpath('//*[@id=\"sidSEARCH_BUTTON_IMAGE\"]').click()\n",
    "# first row\n",
    "driver.find_element_by_xpath('//*[@id=\"g[0].sidDISP_CODE_data\"]').click()\n"
   ]
  },
  {
   "cell_type": "code",
   "execution_count": 113,
   "id": "e3db8abe",
   "metadata": {},
   "outputs": [
    {
     "name": "stdout",
     "output_type": "stream",
     "text": [
      "Next action!!!\n",
      "Next action!!!\n",
      "Message: no such element: Unable to locate element: {\"method\":\"xpath\",\"selector\":\"//*[@id=\"equipments[0].sidEQP_BODY_NO_data\"]\"}\n",
      "  (Session info: chrome=120.0.6099.71)\n",
      "Stacktrace:\n",
      "\tGetHandleVerifier [0x00007FF7F8BF82B2+55298]\n",
      "\t(No symbol) [0x00007FF7F8B65E02]\n",
      "\t(No symbol) [0x00007FF7F8A205AB]\n",
      "\t(No symbol) [0x00007FF7F8A6175C]\n",
      "\t(No symbol) [0x00007FF7F8A618DC]\n",
      "\t(No symbol) [0x00007FF7F8A9CBC7]\n",
      "\t(No symbol) [0x00007FF7F8A820EF]\n",
      "\t(No symbol) [0x00007FF7F8A9AAA4]\n",
      "\t(No symbol) [0x00007FF7F8A81E83]\n",
      "\t(No symbol) [0x00007FF7F8A5670A]\n",
      "\t(No symbol) [0x00007FF7F8A57964]\n",
      "\tGetHandleVerifier [0x00007FF7F8F70AAB+3694587]\n",
      "\tGetHandleVerifier [0x00007FF7F8FC728E+4048862]\n",
      "\tGetHandleVerifier [0x00007FF7F8FBF173+4015811]\n",
      "\tGetHandleVerifier [0x00007FF7F8C947D6+695590]\n",
      "\t(No symbol) [0x00007FF7F8B70CE8]\n",
      "\t(No symbol) [0x00007FF7F8B6CF34]\n",
      "\t(No symbol) [0x00007FF7F8B6D062]\n",
      "\t(No symbol) [0x00007FF7F8B5D3A3]\n",
      "\tBaseThreadInitThunk [0x00007FFA2F2D7344+20]\n",
      "\tRtlUserThreadStart [0x00007FFA2FC026B1+33]\n",
      "\n"
     ]
    }
   ],
   "source": [
    "while True:\n",
    "    try:\n",
    "        #first equipments\n",
    "        driver.find_element_by_xpath('//*[@id=\"equipments[0].sidEQP_BODY_NO_data\"]').click()\n",
    "        sleep(0.2)\n",
    "        #change customer\n",
    "        driver.find_element_by_xpath('//*[@id=\"sidSELECT_ACCOUNT_ACTION\"]').click()\n",
    "\n",
    "        #move to form\n",
    "        driver.switch_to.window(driver.window_handles[-1])\n",
    "\n",
    "        while True:\n",
    "            try:\n",
    "                driver.title\n",
    "                sleep(1)\n",
    "#                 print(driver.title)\n",
    "            except:\n",
    "                print('Next action!!!')\n",
    "                break\n",
    "\n",
    "\n",
    "        # move back to main\n",
    "        driver.switch_to.window(driver.window_handles[0])\n",
    "        #save\n",
    "        driver.find_element_by_xpath('//*[@id=\"sidUPDATE_BUTTON_IMAGE\"]').click()\n",
    "        #back\n",
    "        driver.find_element_by_xpath('//*[@id=\"sidBACK_BUTTON_IMAGE\"]').click()\n",
    "        sleep(0.2)\n",
    "    except Exception as e:\n",
    "        print(e)\n",
    "        break"
   ]
  },
  {
   "cell_type": "code",
   "execution_count": 90,
   "id": "12fefec5",
   "metadata": {},
   "outputs": [],
   "source": [
    "# move back to main\n",
    "driver.switch_to.window(driver.window_handles[0])\n",
    "#save\n",
    "driver.find_element_by_xpath('//*[@id=\"sidUPDATE_BUTTON_IMAGE\"]').click()\n",
    "#back\n",
    "driver.find_element_by_xpath('//*[@id=\"sidBACK_BUTTON_IMAGE\"]').click()"
   ]
  },
  {
   "cell_type": "code",
   "execution_count": 52,
   "id": "488d6ab1",
   "metadata": {},
   "outputs": [],
   "source": [
    "driver.switch_to.window(driver.window_handles[0])"
   ]
  },
  {
   "cell_type": "code",
   "execution_count": 87,
   "id": "7e4e33db",
   "metadata": {},
   "outputs": [
    {
     "name": "stdout",
     "output_type": "stream",
     "text": [
      "ExFM:Equipment Info.\n",
      "ExFM:Customer Search\n"
     ]
    }
   ],
   "source": [
    "for handle in driver.window_handles:\n",
    "    driver.switch_to.window(handle)\n",
    "    print(driver.title)"
   ]
  },
  {
   "cell_type": "code",
   "execution_count": 69,
   "id": "44b30aa6",
   "metadata": {},
   "outputs": [],
   "source": [
    "driver.switch_to.window(driver.window_handles[0])"
   ]
  },
  {
   "cell_type": "code",
   "execution_count": 66,
   "id": "5b552791",
   "metadata": {},
   "outputs": [
    {
     "data": {
      "text/plain": [
       "'ExFM:Customer Search'"
      ]
     },
     "execution_count": 66,
     "metadata": {},
     "output_type": "execute_result"
    }
   ],
   "source": [
    "driver.title"
   ]
  },
  {
   "cell_type": "code",
   "execution_count": null,
   "id": "ed600011",
   "metadata": {},
   "outputs": [],
   "source": [
    "# driver.find_element_by_xpath('')"
   ]
  },
  {
   "cell_type": "code",
   "execution_count": null,
   "id": "c8091c2d",
   "metadata": {},
   "outputs": [],
   "source": [
    "# driver.find_element_by_xpath('')"
   ]
  },
  {
   "cell_type": "code",
   "execution_count": null,
   "id": "f5f3d420",
   "metadata": {},
   "outputs": [],
   "source": [
    "# driver.find_element_by_xpath('')"
   ]
  },
  {
   "cell_type": "code",
   "execution_count": null,
   "id": "e4d9d2c3",
   "metadata": {},
   "outputs": [],
   "source": [
    "# driver.find_element_by_xpath('')"
   ]
  },
  {
   "cell_type": "code",
   "execution_count": null,
   "id": "083802e3",
   "metadata": {},
   "outputs": [],
   "source": [
    "# driver.find_element_by_xpath('')"
   ]
  },
  {
   "cell_type": "code",
   "execution_count": null,
   "id": "d6d1ba11",
   "metadata": {},
   "outputs": [],
   "source": [
    "# driver.find_element_by_xpath('')"
   ]
  },
  {
   "cell_type": "code",
   "execution_count": null,
   "id": "a0f721bf",
   "metadata": {},
   "outputs": [],
   "source": []
  },
  {
   "cell_type": "code",
   "execution_count": null,
   "id": "c13813bf",
   "metadata": {},
   "outputs": [],
   "source": []
  },
  {
   "cell_type": "code",
   "execution_count": null,
   "id": "487c85a9",
   "metadata": {},
   "outputs": [],
   "source": []
  },
  {
   "cell_type": "code",
   "execution_count": null,
   "id": "8de91543",
   "metadata": {},
   "outputs": [],
   "source": []
  },
  {
   "cell_type": "code",
   "execution_count": null,
   "id": "739cff1e",
   "metadata": {},
   "outputs": [],
   "source": []
  },
  {
   "cell_type": "code",
   "execution_count": null,
   "id": "3c71f7a7",
   "metadata": {},
   "outputs": [],
   "source": []
  }
 ],
 "metadata": {
  "kernelspec": {
   "display_name": "Python 3 (ipykernel)",
   "language": "python",
   "name": "python3"
  },
  "language_info": {
   "codemirror_mode": {
    "name": "ipython",
    "version": 3
   },
   "file_extension": ".py",
   "mimetype": "text/x-python",
   "name": "python",
   "nbconvert_exporter": "python",
   "pygments_lexer": "ipython3",
   "version": "3.10.9"
  }
 },
 "nbformat": 4,
 "nbformat_minor": 5
}
