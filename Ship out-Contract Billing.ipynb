{
 "cells": [
  {
   "cell_type": "code",
   "execution_count": 1,
   "id": "324e554c",
   "metadata": {},
   "outputs": [],
   "source": [
    "import sources.logins as lg\n",
    "from time import sleep\n",
    "import warnings\n",
    "from selenium.webdriver.common.keys import Keys\n",
    "from selenium.webdriver.support.select import Select\n",
    "\n",
    "warnings.filterwarnings('ignore')\n",
    "\n",
    "def login_exfm(driver_on = True):\n",
    "    # generate key using fernet\n",
    "    # key = Fernet.generate_key().decode()\n",
    "    key = 'cLAiAdZU1U0sxWWK8sxhF0IWIBP4KrR3xhdu3x1EDQI='\n",
    "    \n",
    "    \n",
    "    # login ExFM and download latest incompleted data\n",
    "    name,pw = lg.save_id('exfm.txt',key)\n",
    "    driver = lg.login_url('exfm',name,pw)\n",
    "    \n",
    "    \n",
    "    while True:\n",
    "        try:\n",
    "            driver.find_element_by_xpath('//*[@id=\"RPR_SEARCH_LINK\"]').click() # select RMA Search\t\n",
    "            break\n",
    "        except Exception as e:\n",
    "            print ('Wrong Username or Password. Try again...')\n",
    "            name,pw = lg.save_id('exfm.txt',key)\n",
    "            driver = lg.login_url('exfm',name,pw)\n",
    "    \n",
    "    d_type_menu = [\n",
    "                    'Incompleted',\n",
    "                    'History',\n",
    "                    'Equipments',\n",
    "                    'Customers',\n",
    "                    'No Download'\n",
    "                    \n",
    "                    ]\n",
    "    #border table\n",
    "    print(f'\\n{\"_\"*50}')\n",
    "    print(f'{\"|  No.|  Function\": <49}|')\n",
    "    print(f'|{\"_\"*48}|')\n",
    "    for i in range(1,1+len(d_type_menu)):\n",
    "        print(f'|{i: >3}  |  {d_type_menu[i-1]: <40}|')\n",
    "    print(f'|{\"_\"*48}|') #bottom border\n",
    "    while True:\n",
    "        ind = str(input('Select Dataset to download: '))\n",
    "        try:\n",
    "            ind = int(ind)\n",
    "        except:\n",
    "            if ind.upper() == 'Q' or ind.upper() == 'QUIT':\n",
    "                break\n",
    "            else:\n",
    "                print('Only accept number')\n",
    "                continue\n",
    "        if 0<ind<=len(d_type_menu):\n",
    "            d_type = d_type_menu[ind-1]\n",
    "            break\n",
    "        else:\n",
    "            print(f'Input number must be less than {len(d_type_menu)}\\n')\n",
    "    \n",
    "    print(d_type)\n",
    "    \n",
    "    # driver.find_element_by_xpath('//*[@id=\"RPR_SEARCH_LINK\"]').click() # select RMA Search\n",
    "    \n",
    "    if d_type == d_type_menu[0]: # Incompleted\n",
    "        driver.find_element_by_xpath('//*[@id=\"sidEXPORT_CONSOLIDATED_BUTTON_IMAGE\"]').click() #click download\n",
    "    \n",
    "    if d_type == d_type_menu[1]: # History\n",
    "        Select(driver.find_element_by_xpath('//*[@id=\"sidIN_REPAIR_STATUS\"]')).select_by_index(0)\n",
    "        print('Select Status \"All\" and download.')\n",
    "        driver.find_element_by_xpath('//*[@id=\"sidEXPORT_CONSOLIDATED_BUTTON_IMAGE\"]').click() #click download\n",
    "    \n",
    "    if d_type == d_type_menu[2]: # Equipments\n",
    "        driver.find_element_by_xpath('//*[@id=\"EQP_MGT_LINK\"]').click() # Equipments\n",
    "        sleep(0.5)\n",
    "        driver.find_element_by_xpath('//*[@id=\"sidEXPORT_BUTTON_IMAGE\"]').click()\n",
    "    \n",
    "    if d_type == d_type_menu[3]: # Customers\n",
    "        driver.find_element_by_xpath('//*[@id=\"ACC_MGT_LINK\"]').click() \n",
    "        sleep(0.5)\n",
    "        driver.find_element_by_xpath('//*[@id=\"sidEXPORT_BUTTON_IMAGE\"]').click()\n",
    "    else:\n",
    "        print('No Download')\n",
    "\n",
    "    # check latest file\n",
    "    i_wait = 0\n",
    "    while True:\n",
    "        try: # check file already\n",
    "            file, ctime = lg.file_latest(folder_name='Downloads')\n",
    "            if file.endswith('xls'):\n",
    "                print (f'\\nDonwload file {file} succesful at {ctime}')\n",
    "                break\n",
    "            else:\n",
    "                print(f'Please wait for compressing file {file}...{i_wait}s')\n",
    "                i_wait +=3\n",
    "                sleep(3)\n",
    "        except Exception as e: #waiting for download\n",
    "            if d_type == d_type_menu[-1]: break\n",
    "            print(f'Please wait for dowloading...{i_wait}s')\n",
    "            i_wait +=3\n",
    "            sleep(3)\n",
    "            \n",
    "    if driver_on:\n",
    "        return driver\n",
    "    else:\n",
    "        #finish close driver\n",
    "        driver.close()\n",
    "    sleep(2)\n",
    "\n",
    "def auto_accept(driver):\n",
    "    WebDriverWait(driver, 5).until(EC.alert_is_present())\n",
    "    driver.switch_to.alert.accept()"
   ]
  },
  {
   "cell_type": "code",
   "execution_count": null,
   "id": "8b8d4808",
   "metadata": {},
   "outputs": [],
   "source": []
  },
  {
   "cell_type": "code",
   "execution_count": 2,
   "id": "292423b5",
   "metadata": {},
   "outputs": [
    {
     "name": "stdout",
     "output_type": "stream",
     "text": [
      "\n",
      "Select account:\n",
      "1   |   thongle\n",
      "2   |   Nguyen\n",
      "0   |   CREATE NEW ACCOUNT\n",
      "Select account by number: 1\n",
      "thongle is selected to login\n",
      "Removed Downloads\n",
      "\n",
      "\n",
      "Create new folder: Downloads\n",
      "Select Chrome Driver and press enter for authorize Certificate...\n",
      "\n",
      "Typing your ID...\n",
      "Typing your password...\n",
      "Login sucessful!\n",
      "\n",
      "\n",
      "__________________________________________________\n",
      "|  No.|  Function                                |\n",
      "|________________________________________________|\n",
      "|  1  |  Incompleted                             |\n",
      "|  2  |  History                                 |\n",
      "|  3  |  Equipments                              |\n",
      "|  4  |  Customers                               |\n",
      "|  5  |  No Download                             |\n",
      "|________________________________________________|\n",
      "Select Dataset to download: 5\n",
      "No Download\n",
      "No Download\n"
     ]
    }
   ],
   "source": [
    "\n",
    "driver = login_exfm()"
   ]
  },
  {
   "cell_type": "code",
   "execution_count": null,
   "id": "75185574",
   "metadata": {},
   "outputs": [],
   "source": [
    "type(driver)"
   ]
  },
  {
   "cell_type": "code",
   "execution_count": 3,
   "id": "cb5ef947",
   "metadata": {
    "scrolled": true
   },
   "outputs": [],
   "source": [
    "from sqlite3 import connect\n",
    "import pandas as pd\n",
    "conn = connect('history.db')\n",
    "# file_name = 'files/ACC_TBL_EXPORT_230912.xlsx'\n",
    "# dealers = pd.read_excel(file_name)\n",
    "# dealers.to_sql('dealers',conn,index=False,if_exists='replace')"
   ]
  },
  {
   "cell_type": "code",
   "execution_count": 6,
   "id": "78329a42",
   "metadata": {},
   "outputs": [],
   "source": [
    "sn_list = '''\n",
    "7G391K201\n",
    "7G391K201\n",
    "\n",
    "'''\n",
    "sn_list = tuple(sn_list.strip().split('\\n'))"
   ]
  },
  {
   "cell_type": "code",
   "execution_count": 8,
   "id": "7b0806b0",
   "metadata": {},
   "outputs": [
    {
     "data": {
      "text/html": [
       "<div>\n",
       "<style scoped>\n",
       "    .dataframe tbody tr th:only-of-type {\n",
       "        vertical-align: middle;\n",
       "    }\n",
       "\n",
       "    .dataframe tbody tr th {\n",
       "        vertical-align: top;\n",
       "    }\n",
       "\n",
       "    .dataframe thead th {\n",
       "        text-align: right;\n",
       "    }\n",
       "</style>\n",
       "<table border=\"1\" class=\"dataframe\">\n",
       "  <thead>\n",
       "    <tr style=\"text-align: right;\">\n",
       "      <th></th>\n",
       "      <th>RMA No.</th>\n",
       "      <th>CUSTOMER_NAME</th>\n",
       "      <th>REPAIR_STATUS</th>\n",
       "      <th>Status Info</th>\n",
       "    </tr>\n",
       "  </thead>\n",
       "  <tbody>\n",
       "    <tr>\n",
       "      <th>0</th>\n",
       "      <td>FMSV2023040010</td>\n",
       "      <td>Hanoi Medical University Hospital</td>\n",
       "      <td>Completed</td>\n",
       "      <td>Awating Contract billing</td>\n",
       "    </tr>\n",
       "    <tr>\n",
       "      <th>1</th>\n",
       "      <td>FMSV2021120067</td>\n",
       "      <td>Hanoi Medical University Hospital</td>\n",
       "      <td>Completed</td>\n",
       "      <td>None</td>\n",
       "    </tr>\n",
       "    <tr>\n",
       "      <th>2</th>\n",
       "      <td>FMSV2020120030</td>\n",
       "      <td>Hanoi Medical University Hospital</td>\n",
       "      <td>Completed</td>\n",
       "      <td>None</td>\n",
       "    </tr>\n",
       "  </tbody>\n",
       "</table>\n",
       "</div>"
      ],
      "text/plain": [
       "          RMA No.                      CUSTOMER_NAME REPAIR_STATUS  \\\n",
       "0  FMSV2023040010  Hanoi Medical University Hospital     Completed   \n",
       "1  FMSV2021120067  Hanoi Medical University Hospital     Completed   \n",
       "2  FMSV2020120030  Hanoi Medical University Hospital     Completed   \n",
       "\n",
       "                Status Info  \n",
       "0  Awating Contract billing  \n",
       "1                      None  \n",
       "2                      None  "
      ]
     },
     "execution_count": 8,
     "metadata": {},
     "output_type": "execute_result"
    }
   ],
   "source": [
    "q = f'''\n",
    "        SELECT [rma no.],customer_name,repair_status,[status info],\n",
    "        FROM consolidated c\n",
    "        WHERE serial_no in {sn_list}\n",
    "        ORDER BY [rma no.] DESC\n",
    "    '''\n",
    "pd.read_sql(q,conn)"
   ]
  },
  {
   "cell_type": "code",
   "execution_count": null,
   "id": "6cceeffe",
   "metadata": {},
   "outputs": [],
   "source": [
    "import sources.inspection as ins\n",
    "a = ins.Auto_QC()"
   ]
  },
  {
   "cell_type": "code",
   "execution_count": null,
   "id": "512d26e2",
   "metadata": {},
   "outputs": [],
   "source": [
    "# sn = '7G391K201'\n",
    "for sn in sn_list:\n",
    "    a.return_unrepair(driver,sn,approval_index='Transfer')"
   ]
  },
  {
   "cell_type": "code",
   "execution_count": null,
   "id": "b80caaf0",
   "metadata": {},
   "outputs": [],
   "source": [
    "q = '''\n",
    "        SELECT * \n",
    "        \n",
    "        FROM dealers\n",
    "        WHERE territory1 = 'ETC'\n",
    "    '''\n",
    "north = pd.read_sql(q,conn)\n",
    "north"
   ]
  },
  {
   "cell_type": "code",
   "execution_count": null,
   "id": "1cb3b0f3",
   "metadata": {},
   "outputs": [],
   "source": []
  },
  {
   "cell_type": "code",
   "execution_count": null,
   "id": "478a74c1",
   "metadata": {},
   "outputs": [],
   "source": [
    "from time import sleep"
   ]
  },
  {
   "cell_type": "code",
   "execution_count": null,
   "id": "dde47c89",
   "metadata": {},
   "outputs": [],
   "source": [
    "cus_no_done=[]"
   ]
  },
  {
   "cell_type": "code",
   "execution_count": null,
   "id": "71006660",
   "metadata": {
    "scrolled": false
   },
   "outputs": [],
   "source": [
    "#click customer tab\n",
    "driver.find_element_by_xpath('//*[@id=\"ACC_MGT_LINK\"]').click()\n",
    "for cus_no in north['No.']:\n",
    "    if cus_no in cus_no_done:\n",
    "        print(f' \\nPassed {cus_no}')\n",
    "    else:\n",
    "        customer = dealers[dealers['No.']==cus_no]\n",
    "        customer = customer.reset_index()\n",
    "    #     display(customer)\n",
    "        #search customer no.\n",
    "        driver.find_element_by_xpath('//*[@id=\"sidIN_ACC_CODE\"]').clear()\n",
    "        driver.find_element_by_xpath('//*[@id=\"sidIN_ACC_CODE\"]').send_keys(cus_no)\n",
    "\n",
    "        #click search Button\n",
    "        driver.find_element_by_xpath('//*[@id=\"sidSEARCH_BUTTON_IMAGE\"]').click()\n",
    "\n",
    "        # select first row\n",
    "        driver.find_element_by_xpath('//*[@id=\"g[0].sidDISP_CODE_field\"]').click()\n",
    "        sleep(0.5)\n",
    "\n",
    "        # edit by file\n",
    "        name = driver.find_element_by_xpath('//*[@id=\"sidNAME\"]')\n",
    "        name.clear()\n",
    "        name.send_keys(customer['Pro Name'])\n",
    "        print(cus_no,customer['Pro Name'])\n",
    "        territory = driver.find_element_by_xpath('//*[@id=\"sidTEXT_TERRITORY_NAME\"]')\n",
    "        territory.clear()\n",
    "        try:\n",
    "            territory.send_keys(customer['Territory1'])\n",
    "        except Exception as e:\n",
    "            print(e)\n",
    "        area = driver.find_element_by_xpath('//*[@id=\"sidTEXT_AREA_NAME\"]')\n",
    "        area.clear()\n",
    "        try:\n",
    "            area.send_keys(customer['Area1'])\n",
    "        except Exception as e:\n",
    "            print(e)\n",
    "\n",
    "        city = driver.find_element_by_xpath('//*[@id=\"sidCITY\"]')\n",
    "        city.clear()\n",
    "        try:\n",
    "            city.send_keys(customer['City1'])\n",
    "        except Exception as e:\n",
    "             print(e)\n",
    "        \n",
    "        #clear email\n",
    "        driver.find_element_by_xpath('//*[@id=\"sidCONTACT1_PERSON_MAIL\"]').clear()\n",
    "        driver.find_element_by_xpath('//*[@id=\"sidCONTACT2_PERSON_MAIL\"]').clear()\n",
    "        driver.find_element_by_xpath('//*[@id=\"sidCONTACT3_PERSON_MAIL\"]').clear()\n",
    "        \n",
    "        \n",
    "        # click save\n",
    "        driver.find_element_by_xpath('//*[@id=\"sidUPDATE_BUTTON_IMAGE\"]').click()\n",
    "        sleep(0.5)\n",
    "        #click return\n",
    "        driver.find_element_by_xpath('//*[@id=\"sidBACK_BUTTON_IMAGE\"]').click()\n",
    "        \n",
    "        sleep(0.5)\n",
    "        cus_no_done.append(cus_no)\n",
    "        \n",
    "        \n",
    "print('Done')"
   ]
  },
  {
   "cell_type": "code",
   "execution_count": null,
   "id": "07542a08",
   "metadata": {},
   "outputs": [],
   "source": [
    "cus_no_done"
   ]
  },
  {
   "cell_type": "code",
   "execution_count": null,
   "id": "3fc02b38",
   "metadata": {},
   "outputs": [],
   "source": [
    "# manual check\n",
    "cus_no = 'FMSV00130'\n",
    "customer = dealers[dealers['No.']==cus_no]\n",
    "customer = customer.reset_index()"
   ]
  },
  {
   "cell_type": "code",
   "execution_count": null,
   "id": "b162d1b6",
   "metadata": {},
   "outputs": [],
   "source": [
    "#click customer tab\n",
    "driver.find_element_by_xpath('//*[@id=\"ACC_MGT_LINK\"]').click()\n",
    "\n",
    "#search customer no.\n",
    "cus_no = 'FMSV00189'#customer['No.'][0]\n",
    "driver.find_element_by_xpath('//*[@id=\"sidIN_ACC_CODE\"]').clear()\n",
    "driver.find_element_by_xpath('//*[@id=\"sidIN_ACC_CODE\"]').send_keys(cus_no)\n",
    "\n",
    "#click search Button\n",
    "driver.find_element_by_xpath('//*[@id=\"sidSEARCH_BUTTON_IMAGE\"]').click()\n",
    "\n",
    "# select first row\n",
    "driver.find_element_by_xpath('//*[@id=\"g[0].sidDISP_CODE_field\"]').click()"
   ]
  },
  {
   "cell_type": "code",
   "execution_count": null,
   "id": "cb6141aa",
   "metadata": {},
   "outputs": [],
   "source": [
    "# edit by file\n",
    "name = driver.find_element_by_xpath('//*[@id=\"sidNAME\"]')\n",
    "name.clear()\n",
    "name.send_keys(customer['Pro Name'])\n",
    "\n",
    "territory = driver.find_element_by_xpath('//*[@id=\"sidTEXT_TERRITORY_NAME\"]')\n",
    "territory.clear()\n",
    "try:\n",
    "    territory.send_keys(customer['Territory1'])\n",
    "except Exception as e:\n",
    "    print(e)\n",
    "area = driver.find_element_by_xpath('//*[@id=\"sidTEXT_AREA_NAME\"]')\n",
    "area.clear()\n",
    "try:\n",
    "    area.send_keys(customer['Area1'])\n",
    "except Exception as e:\n",
    "    print(e)\n",
    "\n",
    "city = driver.find_element_by_xpath('//*[@id=\"sidCITY\"]')\n",
    "city.clear()\n",
    "try:\n",
    "    city.send_keys(customer['City1'])\n",
    "except Exception as e:\n",
    "     print(e)"
   ]
  },
  {
   "cell_type": "code",
   "execution_count": null,
   "id": "39f30773",
   "metadata": {},
   "outputs": [],
   "source": [
    "# click save\n",
    "driver.find_element_by_xpath('//*[@id=\"sidUPDATE_BUTTON_IMAGE\"]').click()\n",
    "sleep(0.5)\n",
    "#click return\n",
    "driver.find_element_by_xpath('//*[@id=\"sidBACK_BUTTON_IMAGE\"]').click()\n",
    "sleep(0.5)"
   ]
  },
  {
   "cell_type": "code",
   "execution_count": null,
   "id": "ba20cfb2",
   "metadata": {},
   "outputs": [],
   "source": [
    "# driver.find_element_by_xpath()"
   ]
  },
  {
   "cell_type": "code",
   "execution_count": null,
   "id": "4b99861a",
   "metadata": {},
   "outputs": [],
   "source": [
    "# driver.find_element_by_xpath()"
   ]
  },
  {
   "cell_type": "code",
   "execution_count": null,
   "id": "1c665855",
   "metadata": {},
   "outputs": [],
   "source": [
    "# driver.find_element_by_xpath()"
   ]
  },
  {
   "cell_type": "code",
   "execution_count": null,
   "id": "c43afd19",
   "metadata": {},
   "outputs": [],
   "source": [
    "# driver.find_element_by_xpath()"
   ]
  },
  {
   "cell_type": "code",
   "execution_count": null,
   "id": "b9bcf689",
   "metadata": {},
   "outputs": [],
   "source": [
    "# driver.find_element_by_xpath()"
   ]
  },
  {
   "cell_type": "code",
   "execution_count": null,
   "id": "3184a3a9",
   "metadata": {},
   "outputs": [],
   "source": []
  },
  {
   "cell_type": "code",
   "execution_count": null,
   "id": "f3ffb5d6",
   "metadata": {},
   "outputs": [],
   "source": []
  },
  {
   "cell_type": "code",
   "execution_count": null,
   "id": "3497a17a",
   "metadata": {},
   "outputs": [],
   "source": []
  },
  {
   "cell_type": "code",
   "execution_count": null,
   "id": "de47eba7",
   "metadata": {},
   "outputs": [],
   "source": []
  },
  {
   "cell_type": "code",
   "execution_count": null,
   "id": "aad540c4",
   "metadata": {},
   "outputs": [],
   "source": []
  },
  {
   "cell_type": "code",
   "execution_count": null,
   "id": "1a765d5c",
   "metadata": {},
   "outputs": [],
   "source": []
  },
  {
   "cell_type": "code",
   "execution_count": null,
   "id": "1d73e3d3",
   "metadata": {},
   "outputs": [],
   "source": [
    "# driver.find_element_by_xpath()"
   ]
  }
 ],
 "metadata": {
  "kernelspec": {
   "display_name": "Python 3 (ipykernel)",
   "language": "python",
   "name": "python3"
  },
  "language_info": {
   "codemirror_mode": {
    "name": "ipython",
    "version": 3
   },
   "file_extension": ".py",
   "mimetype": "text/x-python",
   "name": "python",
   "nbconvert_exporter": "python",
   "pygments_lexer": "ipython3",
   "version": "3.10.9"
  }
 },
 "nbformat": 4,
 "nbformat_minor": 5
}
