{
 "cells": [
  {
   "cell_type": "code",
   "execution_count": 30,
   "metadata": {},
   "outputs": [],
   "source": [
    "from datetime import datetime as dt"
   ]
  },
  {
   "cell_type": "code",
   "execution_count": 7,
   "metadata": {},
   "outputs": [],
   "source": [
    "\n",
    "def save_id(file,key):\n",
    "    if not os.path.exists(file): # chua co file saved.txt\n",
    "        username = input('username: ')\n",
    "        pw = getpass('Password: ')\n",
    "        u1 = str(username)\n",
    "        u2 = str(pw_encode(pw,key))#[2:-1]\n",
    "        L = f'{u1},{u2}\\n' #u1 + ',' + u2\n",
    "        file1 = open(file,'w')\n",
    "        file1.write(L)\n",
    "        file1.close()\n",
    "        return username,pw\n",
    "\n",
    "    else:\n",
    "        file1 = open(file,'r')\n",
    "        data = file1.read()\n",
    "        file1.close()\n",
    "        lines = data.split('\\n')\n",
    "        i_line = 0\n",
    "        print('\\nSelect account:')\n",
    "        for line in lines[:-1]:\n",
    "\n",
    "            i_line += 1\n",
    "            uid = str(line.split(',')[0])\n",
    "            pw = line.split(',')[1]\n",
    "            print(f'{i_line}   |   {uid}')\n",
    "        print ('0   |   CREATE NEW ACCOUNT')\n",
    "        while True:\n",
    "            try:\n",
    "                uid = int(input('Select account by number: '))\n",
    "                if uid < len(lines):\n",
    "                    break\n",
    "                else:\n",
    "                    print(f'Vui long nhap so nho hon {len(lines)}')\n",
    "            except:\n",
    "                print(f'Chi duoc nhap so.')\n",
    "        if uid == 0:\n",
    "            print(f'\\nCreate new account to {file}')\n",
    "            while True:\n",
    "                username = input('username: ')\n",
    "                if username !='':\n",
    "                    break\n",
    "                    print('Checkpoint')\n",
    "                else:\n",
    "                    print(f'{username} cannot empty.')\n",
    "\n",
    "            pw = getpass('Password: ')\n",
    "            u1 = str(username)\n",
    "            u2 = str(pw_encode(pw,key))#[2:-1]\n",
    "            L = u1 + ',' + u2\n",
    "            file1 = open(file,'a')\n",
    "            file1.write(f'{L}\\n')\n",
    "            file1.close()\n",
    "            print(f'Saved and selected {username} to login')\n",
    "            return username,pw\n",
    "        else:\n",
    "            name = str(lines[uid-1].split(',')[0])\n",
    "            print(f'{name} is selected to login')\n",
    "            return name, pw_decode(lines[uid-1].split(',')[1],key)\n"
   ]
  },
  {
   "cell_type": "code",
   "execution_count": 1,
   "metadata": {},
   "outputs": [
    {
     "name": "stdout",
     "output_type": "stream",
     "text": [
      "b'Hello, world!'\n"
     ]
    }
   ],
   "source": [
    "from cryptography.fernet import Fernet\n",
    "\n",
    "# Generate a key\n",
    "key = Fernet.generate_key()\n",
    "\n",
    "# Create a Fernet instance using the key\n",
    "fernet = Fernet(key)\n",
    "\n",
    "# Encode a message\n",
    "message = b\"Hello, world!\"\n",
    "encrypted_message = fernet.encrypt(message)\n",
    "\n",
    "# Decode the message\n",
    "decrypted_message = fernet.decrypt(encrypted_message)\n",
    "\n",
    "print(decrypted_message) # b'Hello, world!'"
   ]
  },
  {
   "cell_type": "code",
   "execution_count": 5,
   "metadata": {},
   "outputs": [
    {
     "data": {
      "text/plain": [
       "'HfOfd2sE7RO8TQ21qckawMG82uTchV_kQC4o7EZYTPE='"
      ]
     },
     "execution_count": 5,
     "metadata": {},
     "output_type": "execute_result"
    }
   ],
   "source": [
    "key.decode()"
   ]
  },
  {
   "cell_type": "code",
   "execution_count": 6,
   "metadata": {},
   "outputs": [],
   "source": [
    "def pw_encode(message,key):\n",
    "    fernet = Fernet(key)\n",
    "#     fernet = key\n",
    "    message = message.encode()\n",
    "    b_msg = fernet.encrypt(message)\n",
    "    return b_msg.decode()\n",
    "\n",
    "\n",
    "def pw_decode(encrypted_message,key):\n",
    "    \n",
    "    fernet = Fernet(key)\n",
    "#     fernet = key\n",
    "    encrypted_message = encrypted_message.encode()\n",
    "    b_encrypt_msg = fernet.decrypt(encrypted_message)\n",
    "    return b_encrypt_msg.decode()\n"
   ]
  },
  {
   "cell_type": "code",
   "execution_count": 14,
   "metadata": {
    "scrolled": true
   },
   "outputs": [
    {
     "ename": "TypeError",
     "evalue": "'>' not supported between instances of 'datetime.datetime' and 'str'",
     "output_type": "error",
     "traceback": [
      "\u001b[1;31m---------------------------------------------------------------------------\u001b[0m",
      "\u001b[1;31mTypeError\u001b[0m                                 Traceback (most recent call last)",
      "\u001b[1;32m<ipython-input-14-a67c38ec9e9c>\u001b[0m in \u001b[0;36m<module>\u001b[1;34m\u001b[0m\n\u001b[0;32m      1\u001b[0m \u001b[1;32mfrom\u001b[0m \u001b[0mdatetime\u001b[0m \u001b[1;32mimport\u001b[0m \u001b[0mdatetime\u001b[0m \u001b[1;32mas\u001b[0m \u001b[0mdt\u001b[0m\u001b[1;33m\u001b[0m\u001b[1;33m\u001b[0m\u001b[0m\n\u001b[1;32m----> 2\u001b[1;33m \u001b[0mdt\u001b[0m\u001b[1;33m.\u001b[0m\u001b[0mnow\u001b[0m\u001b[1;33m(\u001b[0m\u001b[1;33m)\u001b[0m \u001b[1;33m>\u001b[0m\u001b[0mexpire_date\u001b[0m\u001b[1;33m\u001b[0m\u001b[1;33m\u001b[0m\u001b[0m\n\u001b[0m",
      "\u001b[1;31mTypeError\u001b[0m: '>' not supported between instances of 'datetime.datetime' and 'str'"
     ]
    }
   ],
   "source": [
    "\n",
    "dt.now() > expire_date.strftime"
   ]
  },
  {
   "cell_type": "code",
   "execution_count": 19,
   "metadata": {},
   "outputs": [
    {
     "data": {
      "text/plain": [
       "datetime.datetime(2023, 6, 8, 0, 0)"
      ]
     },
     "execution_count": 19,
     "metadata": {},
     "output_type": "execute_result"
    }
   ],
   "source": [
    "dt.strptime(expire_date,'%Y-%m-%d')"
   ]
  },
  {
   "cell_type": "code",
   "execution_count": 39,
   "metadata": {},
   "outputs": [
    {
     "data": {
      "text/plain": [
       "'gAAAAABkXefKMWWmDI6JTsH9D8gwr85Sk1qd8hbJy7x36MuJfKGoXv6BzKx7bV2mf7P-0zkeu77ybwzQB-JHAFoyCx00KmBNMA=='"
      ]
     },
     "execution_count": 39,
     "metadata": {},
     "output_type": "execute_result"
    }
   ],
   "source": [
    "#Date endcode\n",
    "expire_date = '2023-06-10'\n",
    "date_code = pw_encode(expire_date,key)\n",
    "date_code"
   ]
  },
  {
   "cell_type": "code",
   "execution_count": 35,
   "metadata": {},
   "outputs": [
    {
     "name": "stdout",
     "output_type": "stream",
     "text": [
      "Liscence key was expired. Please update new key.\n"
     ]
    }
   ],
   "source": [
    "\n",
    "if dt.now() <= dt_date_code:\n",
    "    print(f'Liscence key will expire on {expire_date}')\n",
    "else:\n",
    "    print('Liscence key was expired. Please update new key.')"
   ]
  },
  {
   "cell_type": "code",
   "execution_count": 41,
   "metadata": {},
   "outputs": [
    {
     "data": {
      "text/plain": [
       "datetime.datetime(2023, 6, 10, 0, 0)"
      ]
     },
     "execution_count": 41,
     "metadata": {},
     "output_type": "execute_result"
    }
   ],
   "source": [
    "dt_date_code = dt.strptime(pw_decode(date_code,key),'%Y-%m-%d')\n",
    "dt_date_code"
   ]
  },
  {
   "cell_type": "code",
   "execution_count": 11,
   "metadata": {},
   "outputs": [
    {
     "name": "stdout",
     "output_type": "stream",
     "text": [
      "\n",
      "Select account:\n",
      "1   |   thongle\n",
      "0   |   CREATE NEW ACCOUNT\n",
      "Select account by number: 1\n",
      "thongle is selected to login\n"
     ]
    },
    {
     "data": {
      "text/plain": [
       "('thongle', '16thongle')"
      ]
     },
     "execution_count": 11,
     "metadata": {},
     "output_type": "execute_result"
    }
   ],
   "source": [
    "save_id('exfm.txt',key)"
   ]
  },
  {
   "cell_type": "code",
   "execution_count": 5,
   "metadata": {},
   "outputs": [
    {
     "name": "stdout",
     "output_type": "stream",
     "text": [
      "\n",
      "Select account:\n",
      "1   |   thong\n",
      "0   |   CREATE NEW ACCOUNT\n",
      "Select account by number: 0\n",
      "\n",
      "Create new account to fernet.txt\n",
      "username: thonel\n",
      "Password: ········\n",
      "Saved and selected thonel to login\n"
     ]
    },
    {
     "data": {
      "text/plain": [
       "('thonel', 'thewr123')"
      ]
     },
     "execution_count": 5,
     "metadata": {},
     "output_type": "execute_result"
    }
   ],
   "source": [
    "import os\n",
    "from getpass import getpass\n",
    "save_id('fernet.txt',key)"
   ]
  },
  {
   "cell_type": "code",
   "execution_count": null,
   "metadata": {},
   "outputs": [],
   "source": [
    "from cryptography.fernet import Fernet\n",
    "\n",
    "# The key used to encrypt the message\n",
    "# key = b'your_key_here'\n",
    "\n",
    "# The encrypted message\n",
    "message = b'AAAABj6z1dRA2unuPhmEidsRTeILgs2JYslmU1bVMMeDPZ0pqsWqztuZt2jmrE99H_qZb4Shs8xfMXqPPeWg_x8oigEJRVIA='\n",
    "\n",
    "# Create a Fernet object with the key\n",
    "fernet = Fernet(key)\n",
    "\n",
    "# Decrypt the message\n",
    "decrypted_message = fernet.decrypt(message)\n",
    "\n",
    "# Print the decrypted message\n",
    "print(decrypted_message)"
   ]
  },
  {
   "cell_type": "code",
   "execution_count": null,
   "metadata": {},
   "outputs": [],
   "source": []
  }
 ],
 "metadata": {
  "kernelspec": {
   "display_name": "Python 3",
   "language": "python",
   "name": "python3"
  },
  "language_info": {
   "codemirror_mode": {
    "name": "ipython",
    "version": 3
   },
   "file_extension": ".py",
   "mimetype": "text/x-python",
   "name": "python",
   "nbconvert_exporter": "python",
   "pygments_lexer": "ipython3",
   "version": "3.7.4"
  }
 },
 "nbformat": 4,
 "nbformat_minor": 5
}
