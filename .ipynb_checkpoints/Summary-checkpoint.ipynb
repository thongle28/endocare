{
 "cells": [
  {
   "cell_type": "markdown",
   "metadata": {},
   "source": [
    "# 1. Import library"
   ]
  },
  {
   "cell_type": "code",
   "execution_count": 3,
   "metadata": {},
   "outputs": [],
   "source": [
    "import xlwings as xw\n",
    "import sources.parts_list_0802 as pl\n",
    "from sqlite3 import connect\n",
    "import pandas as pd\n",
    "import os\n",
    "from datetime import datetime as dt\n",
    "import sources.logins as lg\n",
    "import pathlib\n",
    "import qrcode\n",
    "from time import sleep\n",
    "import xlwings as xw\n",
    "from IPython.display import Image\n",
    "import warnings\n",
    "warnings.filterwarnings('ignore')"
   ]
  },
  {
   "cell_type": "markdown",
   "metadata": {},
   "source": [
    "## 2. Select database"
   ]
  },
  {
   "cell_type": "code",
   "execution_count": 4,
   "metadata": {},
   "outputs": [],
   "source": [
    "conn = connect('quotation.db')"
   ]
  },
  {
   "cell_type": "code",
   "execution_count": null,
   "metadata": {},
   "outputs": [],
   "source": [
    "# check all table\n",
    "pd.read_sql(\"SELECT name FROM sqlite_master WHERE type ='table'\",conn)"
   ]
  },
  {
   "cell_type": "code",
   "execution_count": null,
   "metadata": {},
   "outputs": [],
   "source": [
    "q='''\n",
    "        SELECT max([UPDATE TIME]) as [update time],min([rma no.]) as rma_min,\n",
    "        max([rma no.]) as rma_max FROM consolidated\n",
    "    '''\n",
    "pd.read_sql(q,conn)"
   ]
  },
  {
   "cell_type": "markdown",
   "metadata": {},
   "source": [
    "### Copy file Smmary\n",
    "\n"
   ]
  },
  {
   "cell_type": "code",
   "execution_count": null,
   "metadata": {},
   "outputs": [],
   "source": [
    "file_smm = lg.file_select(folder_name='inspection')\n"
   ]
  },
  {
   "cell_type": "code",
   "execution_count": null,
   "metadata": {},
   "outputs": [],
   "source": [
    "# copy full_file to destination folder\n",
    "import shutil\n",
    "import pathlib\n",
    "import os\n",
    "def copy_selected_file(des_folder,file_name):\n",
    "\n",
    "#     des_folder = 'files'\n",
    "    ans = str(input(f'Default folder \"{des_folder}\"(N) or change to folder:'))\n",
    "    path = pathlib.Path().absolute()\n",
    "    if ans !='n': des_folder = ans\n",
    "    des_path = os.path.join(path,des_folder)\n",
    "    shutil.copy(file_name,os.path.join(des_path,file_name.split('\\\\')[-1]))\n",
    "    print(f'Copy file name {file_name}  to  {des_path} completed')"
   ]
  },
  {
   "cell_type": "code",
   "execution_count": null,
   "metadata": {},
   "outputs": [],
   "source": [
    "copy_selected_file(des_folder = '',file_name = file_smm)"
   ]
  },
  {
   "cell_type": "markdown",
   "metadata": {},
   "source": [
    "# filter Serial No\n"
   ]
  },
  {
   "cell_type": "code",
   "execution_count": null,
   "metadata": {
    "scrolled": true
   },
   "outputs": [],
   "source": [
    "# read and collect SN from  report in inspection folder\n",
    "files = lg.file_filter(path = 'inspection',end_with='.xlsx')\n",
    "sn_list=[]\n",
    "for file in files.values():\n",
    "    aa = file[:-5]\n",
    "    x_loc = aa.find('xxx-')\n",
    "    if x_loc > 0:\n",
    "        b = aa[x_loc+4:]\n",
    "        c = b.split('-')\n",
    "        for d in c: # remove \"-\"\n",
    "            if len(d)>8: \n",
    "                e = d.split(' ')\n",
    "                for f in e: # remove space\n",
    "                    if len(f)> 7:\n",
    "                        g = f.split(',')\n",
    "                        for h in g:\n",
    "                            if len(h)>8:\n",
    "                                sn_list.append(h)\n",
    "\n",
    "                                \n",
    "print('\\nList of Serial No:')\n",
    "for sn in sn_list:\n",
    "    print(sn)"
   ]
  },
  {
   "cell_type": "code",
   "execution_count": null,
   "metadata": {},
   "outputs": [],
   "source": [
    "a =pl.parts_list()\n"
   ]
  },
  {
   "cell_type": "code",
   "execution_count": null,
   "metadata": {
    "scrolled": true
   },
   "outputs": [],
   "source": [
    "# CREATE list_rma\n",
    "# tao list rma\n",
    "\n",
    "sn_list='''\n",
    "\t\n",
    "2V567K687\n",
    "5g412k189\n",
    "\n",
    "'''\n",
    "list_rma = a.list_rma(conn,sn_list.strip(),'\\n')\n",
    "list_rma = list_rma.sort_values(by=['rma'])\n",
    "display(list_rma)\n",
    "for sn in sn_list.strip().split('\\n'):\n",
    "    if sn not in list(list_rma['SERIAL_NO']):\n",
    "        print(sn)"
   ]
  },
  {
   "cell_type": "code",
   "execution_count": null,
   "metadata": {},
   "outputs": [],
   "source": []
  },
  {
   "cell_type": "code",
   "execution_count": null,
   "metadata": {},
   "outputs": [],
   "source": [
    "# SELECT JOB BY SERIAL KEY\n",
    "sn_key = '831, 180, 082'\n",
    "sn_key = sn_key.split(',')\n",
    "sn_key"
   ]
  },
  {
   "cell_type": "code",
   "execution_count": null,
   "metadata": {},
   "outputs": [],
   "source": [
    "df={}\n",
    "for key in sn_key:\n",
    "#     print(key.strip())\n",
    "    key = key.strip()\n",
    "    q = f'''\n",
    "             SELECT [rma no.] as rma,customer_name,serial_no,model,approval,repair_status,in_inspect_user_name\n",
    "             \n",
    "             FROM consolidated\n",
    "             WHERE serial_no LIKE '%{key}'\n",
    "             \n",
    "         '''\n",
    "    display(pd.read_sql(q,conn))\n",
    "#     df.add(pd.read_sql(q,conn))"
   ]
  },
  {
   "cell_type": "code",
   "execution_count": null,
   "metadata": {},
   "outputs": [],
   "source": [
    "display(pd.concat([df[0],df[1],df[2]],axis=1))"
   ]
  },
  {
   "cell_type": "code",
   "execution_count": null,
   "metadata": {},
   "outputs": [],
   "source": []
  },
  {
   "cell_type": "code",
   "execution_count": null,
   "metadata": {},
   "outputs": [],
   "source": []
  },
  {
   "cell_type": "code",
   "execution_count": null,
   "metadata": {},
   "outputs": [],
   "source": [
    "# LIST OF SERIAL APPROVAL NONE FOR  RETURN UNREPAIR\n",
    "aaa = list_rma[list_rma['Approval'].isnull()]\n",
    "aaa.to_excel('aaa.xlsx')"
   ]
  },
  {
   "cell_type": "code",
   "execution_count": null,
   "metadata": {},
   "outputs": [],
   "source": [
    "f'https://exfm-asia-app.fujifilm.co.jp/page/repairHistory.jsp?serialNo={sn}&dateFormat=yyyy-MM-dd'"
   ]
  },
  {
   "cell_type": "markdown",
   "metadata": {},
   "source": [
    "## Create GDKT"
   ]
  },
  {
   "cell_type": "code",
   "execution_count": null,
   "metadata": {
    "scrolled": true
   },
   "outputs": [],
   "source": [
    "# create gdkt and add infomation to summary\n",
    "\n",
    "# read lastrow\n",
    "d = pl.summary_report()\n",
    "summary_file = d.read_summary_data('2023_FFVN Service Endo_Inspection, WTY & TR.xlsx')\n",
    "gdkt = d.read_summary_data('2023_FFVN Service Endo_Inspection, WTY & TR.xlsx','gdkt')\n",
    "gdkt_lr = summary_file['gdkt'][0]\n",
    "\n",
    "# report tu dong original\n",
    "\n",
    "report_num = summary_file['gdkt'][1]\n",
    "\n",
    "folder_name = 'reports_' + dt.now().strftime('%y%m%d')\n",
    "try:\n",
    "    os.mkdir(folder_name)\n",
    "    print(f'folder {folder_name} was created.')\n",
    "except:\n",
    "    print(f'Folder {folder_name} exists')\n",
    "\n",
    "i_report = 0\n",
    "q_gdkt = {}\n",
    "report_id = {}\n",
    "d = pl.summary_report()\n",
    "\n",
    "\n",
    "\n",
    "for rma in list_rma['rma']:\n",
    "    \n",
    "    i_report +=1\n",
    "    report_num += 1\n",
    "    #add zero to report number\n",
    "    if len(str(report_num))==1: report_num_str = f'00{report_num}'\n",
    "    if len(str(report_num))==2: report_num_str = f'0{report_num}'\n",
    "    if len(str(report_num))==3: report_num_str = f'{report_num}'\n",
    "    \n",
    "    # not number\n",
    "#     report_num_str = 'xxx'\n",
    "    \n",
    "    info = []\n",
    "    part_list= []\n",
    "    c = pl.technical_report()\n",
    "    info,part_list = c.report_info(rma,conn)\n",
    "    model = info['MODEL'][0]\n",
    "    sn = info['SERIAL_NO'][0]\n",
    "#     c = pl.technical_report(info,report_num,part_list)\n",
    "    c.create_qr_image(info)\n",
    "    tp = c.report(conn,info,part_list,report_num_str)\n",
    "    c.save_and_close(tp,report_num_str,model,sn,folder_name)\n",
    "    q_gdkt.update({rma:(info,part_list)})    \n",
    "    \n",
    "    # record to file summary\n",
    "    \n",
    "    gdkt.range('A' + str(gdkt_lr + i_report)).value = report_num_str\n",
    "    wn = str(info['web_name'][0]).replace('Bệnh viện','BV')\n",
    "    wn = wn.replace('Phòng Khám','PK')\n",
    "    gdkt.range('B' + str(gdkt_lr + i_report)).value = wn\n",
    "    \n",
    "    gdkt.range('C' + str(gdkt_lr + i_report)).value = model.replace(' V2','')\n",
    "    gdkt.range('D' + str(gdkt_lr + i_report)).value = sn\n",
    "    gdkt.range('E' + str(gdkt_lr + i_report)).value = d.issues(conn,rma)\n",
    "    sum_info = d.summary_info(conn,rma)\n",
    "    gdkt.range('F' + str(gdkt_lr + i_report)).value = sum_info['first_name'][0]\n",
    "    gdkt.range('M' + str(gdkt_lr + i_report)).value = rma#sum_info['first_name'][0]\n",
    "    \n",
    "    # take number to add SQL Master List\n",
    "    report_id.update({sn:f\"GDKT-{dt.now().strftime('%y%m')}{report_num_str}\"})\n",
    "    try:\n",
    "        gdkt.range('H' + str(gdkt_lr + i_report)).value =dt.strptime(sum_info['receive'][0],'%d/%m/%Y')\n",
    "        gdkt.range('I' + str(gdkt_lr + i_report)).value =dt.strptime(sum_info['inspect_date'][0],'%d/%m/%Y')\n",
    "        gdkt.range('G' + str(gdkt_lr + i_report)).value =dt.strptime(sum_info['date_installed'][0],'%d/%m/%Y')\n",
    "        \n",
    "        \n",
    "        q_gdkt.update({rma:(info,part_list)})\n",
    "    except Exception as e:\n",
    "        print(e)\n",
    "    \n",
    "print('Done!!!')"
   ]
  },
  {
   "cell_type": "code",
   "execution_count": null,
   "metadata": {},
   "outputs": [],
   "source": [
    "# all\n",
    "q = '''SELECT * FROM transfers\n",
    "        \n",
    "        \n",
    "        WHERE return is null\n",
    "\n",
    "'''\n",
    "pd.read_sql(q,conn)"
   ]
  },
  {
   "cell_type": "code",
   "execution_count": null,
   "metadata": {},
   "outputs": [],
   "source": [
    "# min receive\n",
    "q ='''SELECT MIN(RECEIVE) from transfers'''\n",
    "pd.read_sql(q,conn)"
   ]
  },
  {
   "cell_type": "code",
   "execution_count": null,
   "metadata": {},
   "outputs": [],
   "source": [
    "# group by customer\n",
    "q = '''SELECT customer,count(*) as [Count] FROM transfers\n",
    "        \n",
    "        \n",
    "        WHERE return is null\n",
    "        GROUP BY customer\n",
    "        ORDER BY [cOUNT] desc\n",
    "'''\n",
    "pd.read_sql(q,conn)"
   ]
  },
  {
   "cell_type": "code",
   "execution_count": null,
   "metadata": {},
   "outputs": [],
   "source": [
    "# group by model\n",
    "q = '''SELECT model,count(*) as [Count] FROM transfers\n",
    "        \n",
    "        \n",
    "        WHERE return is null\n",
    "        GROUP BY model\n",
    "        ORDER BY [cOUNT] desc\n",
    "'''\n",
    "pd.read_sql(q,conn)"
   ]
  },
  {
   "cell_type": "code",
   "execution_count": null,
   "metadata": {},
   "outputs": [],
   "source": []
  },
  {
   "cell_type": "markdown",
   "metadata": {},
   "source": [
    "#### report_id"
   ]
  },
  {
   "cell_type": "code",
   "execution_count": null,
   "metadata": {},
   "outputs": [],
   "source": [
    "list_rma"
   ]
  },
  {
   "cell_type": "code",
   "execution_count": null,
   "metadata": {},
   "outputs": [],
   "source": [
    "#check report_id current in Master List\n",
    "q =f'''\n",
    "        SELECT rma,sn,report_id,status\n",
    "        \n",
    "        FROM m_list\n",
    "        WHERE rma IN ({str(list(list_rma['rma']))[1:-1]})\n",
    "    '''\n",
    "pd.read_sql(q,conn)"
   ]
  },
  {
   "cell_type": "code",
   "execution_count": null,
   "metadata": {},
   "outputs": [],
   "source": [
    "# UPDATE report id\n",
    "cur = conn.cursor()\n",
    "m_list = pd.read_sql('SELECT * FROM m_list',conn)\n",
    "for sn in list_rma['SERIAL_NO']:\n",
    "    rpid = report_id[sn]\n",
    "    cur.execute(f\"\"\"\n",
    "                    UPDATE m_list SET report_id = '{rpid}'\n",
    "                    \n",
    "                    WHERE sn = '{sn}'\n",
    "    \n",
    "                \"\"\")\n",
    "conn.commit()\n",
    "pd.read_sql(q,conn)"
   ]
  },
  {
   "cell_type": "code",
   "execution_count": null,
   "metadata": {},
   "outputs": [],
   "source": [
    "def sqlite_power(x,n):\n",
    "    return int(x)**n\n",
    "conn.create_function(\"power\", 2, sqlite_power)"
   ]
  },
  {
   "cell_type": "code",
   "execution_count": null,
   "metadata": {},
   "outputs": [],
   "source": [
    "q = '''\n",
    "        SELECT POWER(4,2)\n",
    "    '''\n",
    "pd.read_sql(q,conn)"
   ]
  },
  {
   "cell_type": "code",
   "execution_count": null,
   "metadata": {},
   "outputs": [],
   "source": [
    "# SELECT ALL RMA EMPTY REPORT_ID\n",
    "q = '''\n",
    "        SELECT rma, customer,model,sn,report_id,status,[Exfm Status]\n",
    "        FROM m_list\n",
    "        WHERE report_id IS NULL\n",
    "        \n",
    "    '''\n",
    "pd.read_sql(q,conn)"
   ]
  },
  {
   "cell_type": "code",
   "execution_count": null,
   "metadata": {},
   "outputs": [],
   "source": []
  },
  {
   "cell_type": "code",
   "execution_count": null,
   "metadata": {},
   "outputs": [],
   "source": [
    "# copy from folder_name to inspection\n",
    "lg.backups(folder_name,'inspection')"
   ]
  },
  {
   "cell_type": "code",
   "execution_count": null,
   "metadata": {},
   "outputs": [],
   "source": [
    "# delete file\n",
    "path = pathlib.Path().absolute()\n",
    "# folder_name = 'inspection'\n",
    "folder_name = 'reports_' + dt.now().strftime('%y%m%d')\n",
    "for file in os.listdir(folder_name):\n",
    "    os.remove(os.path.join(path,folder_name,file))\n",
    "    print(f'Removed file {file} successful.')"
   ]
  },
  {
   "cell_type": "markdown",
   "metadata": {},
   "source": [
    "## Create TR/WTY"
   ]
  },
  {
   "cell_type": "code",
   "execution_count": null,
   "metadata": {},
   "outputs": [],
   "source": [
    "# CREATE list_rma\n",
    "# tao list rma\n",
    "\n",
    "sn_list='''\n",
    "\n",
    "\t\n",
    "8C730K001\n",
    "\t\n",
    "\n",
    "'''\n",
    "list_rma = a.list_rma(conn,sn_list.strip(),'\\n')\n",
    "list_rma = list_rma.sort_values(by=['rma'])\n",
    "display(list_rma)\n",
    "for sn in sn_list.strip().split('\\n'):\n",
    "    if sn not in list(list_rma['SERIAL_NO']):\n",
    "        print(sn)"
   ]
  },
  {
   "cell_type": "code",
   "execution_count": null,
   "metadata": {},
   "outputs": [],
   "source": [
    "# add report to summary file\n",
    "\n",
    "r_type = (input('Type of report tr/[wty]: ') or 'wty').lower() # 'wty' \n",
    "d = pl.summary_report()\n",
    "summary_file = d.read_summary_data('2023_FFVN Service Endo_Inspection, WTY & TR.xlsx')\n",
    "gdkt = d.read_summary_data(file_name = '2023_FFVN Service Endo_Inspection, WTY & TR.xlsx',mode=r_type)\n",
    "\n",
    "# tr_lr = gdkt.range('A' + str(gdkt.cells.last_cell.row)).end('up').row # tr\n",
    "\n",
    "i_report = 0\n",
    "q_gdkt = {}\n",
    "gdkt_lr = summary_file[r_type][0]\n",
    "report_num =summary_file[r_type][1]\n",
    "report_id = {}\n",
    "for rma in list_rma['rma']:\n",
    "    \n",
    "    i_report +=1\n",
    "    report_num += 1\n",
    "    info = []\n",
    "    part_list= []\n",
    "    c = pl.technical_report()\n",
    "    info,part_list = c.report_info(rma,conn)\n",
    "    model = info['MODEL'][0]\n",
    "    sn = info['SERIAL_NO'][0]\n",
    "   \n",
    "    # record to file summary\n",
    "    \n",
    "    gdkt.range('A' + str(gdkt_lr + i_report)).value = report_num\n",
    "    \n",
    "    wn = str(info['web_name'][0]).replace('Bệnh viện','BV')\n",
    "    wn = wn.replace('Phòng Khám','PK')\n",
    "    \n",
    "    \n",
    "    gdkt.range('B' + str(gdkt_lr + i_report)).value = info['CUSTOMER_NAME'][0]\n",
    "    \n",
    "    gdkt.range('C' + str(gdkt_lr + i_report)).value = model.replace(' V2','')\n",
    "    gdkt.range('D' + str(gdkt_lr + i_report)).value = sn\n",
    "    \n",
    "    \n",
    "    \n",
    "    #add zero to report number\n",
    "    if len(str(report_num))==1: report_num_str = f'00{report_num}'\n",
    "    if len(str(report_num))==2: report_num_str = f'0{report_num}'\n",
    "    if len(str(report_num))==3: report_num_str = f'{report_num}'\n",
    "    \n",
    "    # not number\n",
    "#     report_num_str = 'xxx'\n",
    "    \n",
    "#     gdkt.range('E' + str(gdkt_lr + i_report)).value = d.issues(conn,rma) #gdkt\n",
    "    if r_type == 'tr':\n",
    "        rpid = dt.now().strftime('%y%m') + report_num_str + 'TR' #tr \n",
    "        gdkt.range('J' + str(gdkt_lr + i_report)).value = rma\n",
    "    \n",
    "    elif r_type == 'wty':\n",
    "        rpid = 'FFVN-' + dt.now().strftime('%y%m') + report_num_str\n",
    "        gdkt.range('M' + str(gdkt_lr + i_report)).value = rma\n",
    "    \n",
    "    gdkt.range('E' + str(gdkt_lr + i_report)).value = rpid\n",
    "    \n",
    "    report_id.update({sn:rpid})\n",
    "    sum_info = d.summary_info(conn,rma) # gdkt\n",
    "#     gdkt.range('F' + str(gdkt_lr + i_report)).value = sum_info['first_name'][0] #gdkt \n",
    "    gdkt.range('F' + str(gdkt_lr + i_report)).value = d.issues(conn,rma) # tr\n",
    "#     gdkt.range('G' + str(gdkt_lr + i_report)).value =\"'\" +  sum_info['date_installed'][0]\n",
    "#     gdkt.range('H' + str(gdkt_lr + i_report)).value =\"'\" + sum_info['receive'][0]\n",
    "#     gdkt.range('I' + str(gdkt_lr + i_report)).value =\"'\" +  sum_info['inspect_date'][0]\n",
    "    q_gdkt.update({rma:(info,part_list)})\n",
    "    \n",
    "print('Done!!!')"
   ]
  },
  {
   "cell_type": "code",
   "execution_count": null,
   "metadata": {},
   "outputs": [],
   "source": [
    "report_id"
   ]
  },
  {
   "cell_type": "code",
   "execution_count": null,
   "metadata": {},
   "outputs": [],
   "source": [
    "report_num = 21\n"
   ]
  },
  {
   "cell_type": "code",
   "execution_count": null,
   "metadata": {},
   "outputs": [],
   "source": [
    "report_num = int(list(report_id.values())[0][-2:])\n",
    "report_num"
   ]
  },
  {
   "cell_type": "code",
   "execution_count": null,
   "metadata": {},
   "outputs": [],
   "source": [
    "report_num_str"
   ]
  },
  {
   "cell_type": "code",
   "execution_count": null,
   "metadata": {
    "scrolled": true
   },
   "outputs": [],
   "source": [
    "#run all  list rma\n",
    "\n",
    "for rma in list_rma['rma']:\n",
    "    issue = str(d.issues(conn,rma))\n",
    "    c = pl.technical_report()\n",
    "    info,part_list = c.report_info(rma,conn)\n",
    "    part_list\n",
    "    info\n",
    "    q = f'''\n",
    "            SELECT c.[rma no.] ,strftime('%d/%m/%Y',c.[date installed]) AS [date_installed],\n",
    "            c.[Scope Connect Count] as [scope_count],c.[update user],strftime('%d/%m/%Y',\n",
    "            c.[Last Repair(Shipping)]) as last_repair,e.location,e.leader,\n",
    "            strftime('%d/%m/%Y',c.recieve_date) as receive,[defect note],[Last RMA No.],strftime('%d/%m/%Y',[create]) as create_date\n",
    "            FROM consolidated c\n",
    "            LEFT JOIN engineers e ON C.[IN_INSPECT_USER_NAME] = e.exfm_name\n",
    "            WHERE C.[RMA NO.]='{rma}'\n",
    "        '''\n",
    "    add_info = pd.read_sql(q,conn)\n",
    "    \n",
    "    #add zero to report number\n",
    "    if len(str(report_num))==1: report_num_str = f'00{report_num}'\n",
    "    if len(str(report_num))==2: report_num_str = f'0{report_num}'\n",
    "    if len(str(report_num))==3: report_num_str = f'{report_num}'\n",
    "    \n",
    "    #not number\n",
    "#     report_num_str = 'xxx'\n",
    "    \n",
    "    wb = xw.Book('files\\\\Report_Template.xlsx')\n",
    "    tp = wb.sheets('Report')\n",
    "    folder_name = 'reports_' + dt.now().strftime('%y%m%d')\n",
    "\n",
    "    path = pathlib.Path().absolute()\n",
    "    try:\n",
    "        os.mkdir(folder_name)\n",
    "        print(f'folder {folder_name} was created.')\n",
    "    except:\n",
    "        print(f'Folder {folder_name} exists')\n",
    "    if r_type == 'tr':\n",
    "        ref_no = f\"{dt.now().strftime('FFVN-%y%m')}{report_num_str}TR\"\n",
    "    elif r_type =='wty':\n",
    "        ref_no = f\"{dt.now().strftime('FFVN-%y%m')}{report_num_str}\"\n",
    "\n",
    "    tp.range('C5').value = ref_no\n",
    "    tp.range('C6').value = dt.now().strftime('%d-%b-%y')\n",
    "    tp.range('E6').value = info['RMA No.'][0]\n",
    "    tp.range('C7').value = info['CUSTOMER_NAME'][0]\n",
    "    tp.range('C8').value = 'VIETNAM'\n",
    "    if r_type == 'wty':\n",
    "        tp.range('C13').value = 'YES'\n",
    "    elif r_type == 'tr':\n",
    "        tp.range('C13').value = 'NO'\n",
    "    tp.range('C10').value = info['MODEL'][0]\n",
    "    tp.range('C11').value = str(info['SERIAL_NO'][0]).upper()\n",
    "    try:\n",
    "        tp.range('C12').value = dt.strptime(add_info['date_installed'][0],'%d/%m/%Y')\n",
    "    except Exception as e:\n",
    "        print('None Installation Date ')\n",
    "    tp.range('E13').value = add_info['Last RMA No.'][0]\n",
    "    tp.range('B15').value = add_info['Defect Note'][0]\n",
    "    tp.range('C25').value = dt.strptime(add_info['create_date'][0],'%d/%m/%Y')\n",
    "\n",
    "    try:\n",
    "        tp.range('B27').value = add_info['Defect Note'][0] + '\\n' +'Used case: ' + str(int(add_info['scope_count'][0]))\n",
    "    except:\n",
    "        tp.range('B27').value = add_info['Defect Note'][0]\n",
    "\n",
    "    tp.range('C28').value = info['IN_INSPECT_USER_NAME'][0]\n",
    "    try:\n",
    "        tp.range('C29').value = dt.strptime(info['inspect_date'][0],'%d/%m/%Y')\n",
    "    except:\n",
    "        print('Not inspection completed')\n",
    "    plf = a.part_list_final(rma,conn)\n",
    "\n",
    "    if tp.range('B37').value == 'Name / Date :': #check empty table\n",
    "        #insert new rows\n",
    "        for i in range(len(plf)-1):\n",
    "            tp.range('33:33').insert()\n",
    "            tp.range('32:32').copy()\n",
    "            tp.range('33:33').paste('formats')\n",
    "    #     total_price = sum(part_list_final['Dealer Price'])\n",
    "        # fill in parts infor_mtion\n",
    "        for i in range(len(plf)):\n",
    "\n",
    "            tp.range('B' + str(i+32)).value = plf['part_num'][i]\n",
    "            tp.range('C' + str(i+32)).value = plf['PART_DESCRIPTION'][i] \n",
    "\n",
    "            tp.range('D' + str(i+32)).value = plf['QUANTITY'][i]\n",
    "            tp.range('E' + str(i+32)).value = plf['FFVN Price'][i]\n",
    "\n",
    "        tp.range('E'+str(i+33)).value = f'=SUMPRODUCT(D32:D{str(i+32)},E32:E{str(i+32)})'\n",
    "        tp.name = ref_no\n",
    "        model_t = str(info['MODEL'][0]).replace('-','')\n",
    "        model_t= model_t.replace('/','')\n",
    "        sn_t = str(str(info['SERIAL_NO'][0]).upper()).replace('-','')\n",
    "        sn_t = sn_t.replace('/','')\n",
    "        issue = issue.replace(' ','')\n",
    "        wb.save(f'{folder_name}\\\\{ref_no}-{model_t},{sn_t}-{issue}.xlsx')\n",
    "        print(f'Export {wb.name} completed')\n",
    "        print(f'{wb.name}')\n",
    "        wb.close()\n",
    "    else:\n",
    "        print('table not empty')\n",
    "    report_num = int(report_num) +1\n",
    "print('Done')\n"
   ]
  },
  {
   "cell_type": "code",
   "execution_count": null,
   "metadata": {},
   "outputs": [],
   "source": [
    "#check report_id current in Master List\n",
    "q =f'''\n",
    "        SELECT rma,sn,report_id,status\n",
    "        \n",
    "        FROM m_list\n",
    "        WHERE rma IN ({str(list(list_rma['rma']))[1:-1]})\n",
    "    '''\n",
    "pd.read_sql(q,conn)"
   ]
  },
  {
   "cell_type": "code",
   "execution_count": null,
   "metadata": {},
   "outputs": [],
   "source": [
    "# UPDATE report id\n",
    "cur = conn.cursor()\n",
    "m_list = pd.read_sql('SELECT * FROM m_list',conn)\n",
    "for sn in list_rma['SERIAL_NO']:\n",
    "    rpid = report_id[sn]\n",
    "    cur.execute(f\"\"\"\n",
    "                    UPDATE m_list SET report_id = '{rpid}'\n",
    "                    \n",
    "                    WHERE sn = '{sn}'\n",
    "    \n",
    "                \"\"\")\n",
    "conn.commit()\n",
    "pd.read_sql(q,conn)"
   ]
  },
  {
   "cell_type": "code",
   "execution_count": null,
   "metadata": {
    "scrolled": false
   },
   "outputs": [],
   "source": [
    "lg.backups(folder_name,'inspection')"
   ]
  },
  {
   "cell_type": "code",
   "execution_count": null,
   "metadata": {},
   "outputs": [],
   "source": [
    "#copy summary file to inspection folder\n",
    "import shutil\n",
    "path = pathlib.Path().absolute()\n",
    "summary_file = '2023_FFVN Service Endo_Inspection, WTY & TR.xlsx'\n",
    "org_file = os.path.join(path,summary_file)\n",
    "des_file = os.path.join(path,'inspection',summary_file)\n",
    "shutil.copy(org_file,des_file)"
   ]
  },
  {
   "cell_type": "code",
   "execution_count": null,
   "metadata": {},
   "outputs": [],
   "source": [
    "# delete all file in report_yymmdd folder\n",
    "file = lg.file_filter(path = folder_name)\n",
    "print('-'*26)\n",
    "for i in range(1,1+len(file)):\n",
    "    os.remove(f'{folder_name}\\\\{file[i]}')\n",
    "    print(f'Deleted {file[i]}')"
   ]
  },
  {
   "cell_type": "markdown",
   "metadata": {},
   "source": [
    "#### Export Master List\n"
   ]
  },
  {
   "cell_type": "code",
   "execution_count": null,
   "metadata": {},
   "outputs": [],
   "source": [
    "file_name = lg.file_select(folder_name = 'files', end_with = '.xlsm')\n",
    "xw.Book(file_name)"
   ]
  },
  {
   "cell_type": "code",
   "execution_count": null,
   "metadata": {},
   "outputs": [],
   "source": [
    "# final\n",
    "q = '''SELECT * FROM m_list'''\n",
    "m_list_final = pd.read_sql(q,conn)\n",
    "m_list_final = m_list_final.drop(['TAT received','TAT PO','waiting for part'],axis=1)\n",
    "dtmp = dt.now().strftime('%y%m%d')\n",
    "file_name = f'ML_{dtmp}.xlsx'\n",
    "m_list_final.to_excel(file_name,index = False)\n",
    "xw.Book(file_name)"
   ]
  },
  {
   "cell_type": "code",
   "execution_count": null,
   "metadata": {},
   "outputs": [],
   "source": []
  }
 ],
 "metadata": {
  "kernelspec": {
   "display_name": "Python 3 (ipykernel)",
   "language": "python",
   "name": "python3"
  },
  "language_info": {
   "codemirror_mode": {
    "name": "ipython",
    "version": 3
   },
   "file_extension": ".py",
   "mimetype": "text/x-python",
   "name": "python",
   "nbconvert_exporter": "python",
   "pygments_lexer": "ipython3",
   "version": "3.10.9"
  }
 },
 "nbformat": 4,
 "nbformat_minor": 4
}
