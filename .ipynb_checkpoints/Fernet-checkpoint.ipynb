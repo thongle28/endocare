{
 "cells": [
  {
   "cell_type": "code",
   "execution_count": 1,
   "id": "1c3b72da",
   "metadata": {},
   "outputs": [],
   "source": [
    "\n",
    "def save_id(file,key):\n",
    "    if not os.path.exists(file): # chua co file saved.txt\n",
    "        username = input('username: ')\n",
    "        pw = getpass('Password: ')\n",
    "        u1 = str(username)\n",
    "        u2 = str(pw_encode(pw,key))#[2:-1]\n",
    "        L = f'{u1},{u2}\\n' #u1 + ',' + u2\n",
    "        file1 = open(file,'w')\n",
    "        file1.write(L)\n",
    "        file1.close()\n",
    "        return username,pw\n",
    "\n",
    "    else:\n",
    "        file1 = open(file,'r')\n",
    "        data = file1.read()\n",
    "        file1.close()\n",
    "        lines = data.split('\\n')\n",
    "        i_line = 0\n",
    "        print('\\nSelect account:')\n",
    "        for line in lines[:-1]:\n",
    "\n",
    "            i_line += 1\n",
    "            uid = str(line.split(',')[0])\n",
    "            pw = line.split(',')[1]\n",
    "            print(f'{i_line}   |   {uid}')\n",
    "        print ('0   |   CREATE NEW ACCOUNT')\n",
    "        while True:\n",
    "            try:\n",
    "                uid = int(input('Select account by number: '))\n",
    "                if uid < len(lines):\n",
    "                    break\n",
    "                else:\n",
    "                    print(f'Vui long nhap so nho hon {len(lines)}')\n",
    "            except:\n",
    "                print(f'Chi duoc nhap so.')\n",
    "        if uid == 0:\n",
    "            print(f'\\nCreate new account to {file}')\n",
    "            while True:\n",
    "                username = input('username: ')\n",
    "                if username !='':\n",
    "                    break\n",
    "                    print('Checkpoint')\n",
    "                else:\n",
    "                    print(f'{username} cannot empty.')\n",
    "\n",
    "            pw = getpass('Password: ')\n",
    "            u1 = str(username)\n",
    "            u2 = str(pw_encode(pw,key))#[2:-1]\n",
    "            L = u1 + ',' + u2\n",
    "            file1 = open(file,'a')\n",
    "            file1.write(f'{L}\\n')\n",
    "            file1.close()\n",
    "            print(f'Saved and selected {username} to login')\n",
    "            return username,pw\n",
    "        else:\n",
    "            name = str(lines[uid-1].split(',')[0])\n",
    "            print(f'{name} is selected to login')\n",
    "            return name, pw_decode(lines[uid-1].split(',')[1],key)\n"
   ]
  },
  {
   "cell_type": "code",
   "execution_count": 2,
   "id": "c4e1d235",
   "metadata": {},
   "outputs": [
    {
     "name": "stdout",
     "output_type": "stream",
     "text": [
      "b'Hello, world!'\n"
     ]
    }
   ],
   "source": [
    "from cryptography.fernet import Fernet\n",
    "\n",
    "# Generate a key\n",
    "key = Fernet.generate_key()\n",
    "\n",
    "# Create a Fernet instance using the key\n",
    "fernet = Fernet(key)\n",
    "\n",
    "# Encode a message\n",
    "message = b\"Hello, world!\"\n",
    "encrypted_message = fernet.encrypt(message)\n",
    "\n",
    "# Decode the message\n",
    "decrypted_message = fernet.decrypt(encrypted_message)\n",
    "\n",
    "print(decrypted_message) # b'Hello, world!'"
   ]
  },
  {
   "cell_type": "code",
   "execution_count": 3,
   "id": "41f61e0b",
   "metadata": {},
   "outputs": [
    {
     "data": {
      "text/plain": [
       "b'PEZ27CItbAJ43jzrAQ39_Kzx3dkDYhQ1qHi5a4Xqz0A='"
      ]
     },
     "execution_count": 3,
     "metadata": {},
     "output_type": "execute_result"
    }
   ],
   "source": [
    "key"
   ]
  },
  {
   "cell_type": "code",
   "execution_count": 4,
   "id": "7f16661f",
   "metadata": {},
   "outputs": [],
   "source": [
    "def pw_encode(message,key):\n",
    "    fernet = Fernet(key)\n",
    "#     fernet = key\n",
    "    message = message.encode()\n",
    "    b_msg = fernet.encrypt(message)\n",
    "    return b_msg.decode()\n",
    "\n",
    "\n",
    "def pw_decode(encrypted_message,key):\n",
    "    \n",
    "    fernet = Fernet(key)\n",
    "#     fernet = key\n",
    "    encrypted_message = encrypted_message.encode()\n",
    "    b_encrypt_msg = fernet.decrypt(encrypted_message)\n",
    "    return b_encrypt_msg.decode()\n"
   ]
  },
  {
   "cell_type": "code",
   "execution_count": 6,
   "id": "70f35975",
   "metadata": {},
   "outputs": [
    {
     "name": "stdout",
     "output_type": "stream",
     "text": [
      "\n",
      "Select account:\n",
      "1   |   thong\n",
      "2   |   thonel\n",
      "0   |   CREATE NEW ACCOUNT\n",
      "Select account by number: 2\n",
      "thonel is selected to login\n"
     ]
    },
    {
     "ename": "InvalidToken",
     "evalue": "",
     "output_type": "error",
     "traceback": [
      "\u001b[1;31m---------------------------------------------------------------------------\u001b[0m",
      "\u001b[1;31mInvalidToken\u001b[0m                              Traceback (most recent call last)",
      "\u001b[1;32m~\\AppData\\Local\\Temp\\ipykernel_10484\\2994377668.py\u001b[0m in \u001b[0;36m<module>\u001b[1;34m\u001b[0m\n\u001b[1;32m----> 1\u001b[1;33m \u001b[0msave_id\u001b[0m\u001b[1;33m(\u001b[0m\u001b[1;34m'fernet.txt'\u001b[0m\u001b[1;33m,\u001b[0m\u001b[0mkey\u001b[0m\u001b[1;33m)\u001b[0m\u001b[1;33m\u001b[0m\u001b[1;33m\u001b[0m\u001b[0m\n\u001b[0m",
      "\u001b[1;32m~\\AppData\\Local\\Temp\\ipykernel_10484\\331490029.py\u001b[0m in \u001b[0;36msave_id\u001b[1;34m(file, key)\u001b[0m\n\u001b[0;32m     56\u001b[0m             \u001b[0mname\u001b[0m \u001b[1;33m=\u001b[0m \u001b[0mstr\u001b[0m\u001b[1;33m(\u001b[0m\u001b[0mlines\u001b[0m\u001b[1;33m[\u001b[0m\u001b[0muid\u001b[0m\u001b[1;33m-\u001b[0m\u001b[1;36m1\u001b[0m\u001b[1;33m]\u001b[0m\u001b[1;33m.\u001b[0m\u001b[0msplit\u001b[0m\u001b[1;33m(\u001b[0m\u001b[1;34m','\u001b[0m\u001b[1;33m)\u001b[0m\u001b[1;33m[\u001b[0m\u001b[1;36m0\u001b[0m\u001b[1;33m]\u001b[0m\u001b[1;33m)\u001b[0m\u001b[1;33m\u001b[0m\u001b[1;33m\u001b[0m\u001b[0m\n\u001b[0;32m     57\u001b[0m             \u001b[0mprint\u001b[0m\u001b[1;33m(\u001b[0m\u001b[1;34mf'{name} is selected to login'\u001b[0m\u001b[1;33m)\u001b[0m\u001b[1;33m\u001b[0m\u001b[1;33m\u001b[0m\u001b[0m\n\u001b[1;32m---> 58\u001b[1;33m             \u001b[1;32mreturn\u001b[0m \u001b[0mname\u001b[0m\u001b[1;33m,\u001b[0m \u001b[0mpw_decode\u001b[0m\u001b[1;33m(\u001b[0m\u001b[0mlines\u001b[0m\u001b[1;33m[\u001b[0m\u001b[0muid\u001b[0m\u001b[1;33m-\u001b[0m\u001b[1;36m1\u001b[0m\u001b[1;33m]\u001b[0m\u001b[1;33m.\u001b[0m\u001b[0msplit\u001b[0m\u001b[1;33m(\u001b[0m\u001b[1;34m','\u001b[0m\u001b[1;33m)\u001b[0m\u001b[1;33m[\u001b[0m\u001b[1;36m1\u001b[0m\u001b[1;33m]\u001b[0m\u001b[1;33m,\u001b[0m\u001b[0mkey\u001b[0m\u001b[1;33m)\u001b[0m\u001b[1;33m\u001b[0m\u001b[1;33m\u001b[0m\u001b[0m\n\u001b[0m",
      "\u001b[1;32m~\\AppData\\Local\\Temp\\ipykernel_10484\\970242905.py\u001b[0m in \u001b[0;36mpw_decode\u001b[1;34m(encrypted_message, key)\u001b[0m\n\u001b[0;32m     12\u001b[0m \u001b[1;31m#     fernet = key\u001b[0m\u001b[1;33m\u001b[0m\u001b[1;33m\u001b[0m\u001b[1;33m\u001b[0m\u001b[0m\n\u001b[0;32m     13\u001b[0m     \u001b[0mencrypted_message\u001b[0m \u001b[1;33m=\u001b[0m \u001b[0mencrypted_message\u001b[0m\u001b[1;33m.\u001b[0m\u001b[0mencode\u001b[0m\u001b[1;33m(\u001b[0m\u001b[1;33m)\u001b[0m\u001b[1;33m\u001b[0m\u001b[1;33m\u001b[0m\u001b[0m\n\u001b[1;32m---> 14\u001b[1;33m     \u001b[0mb_encrypt_msg\u001b[0m \u001b[1;33m=\u001b[0m \u001b[0mfernet\u001b[0m\u001b[1;33m.\u001b[0m\u001b[0mdecrypt\u001b[0m\u001b[1;33m(\u001b[0m\u001b[0mencrypted_message\u001b[0m\u001b[1;33m)\u001b[0m\u001b[1;33m\u001b[0m\u001b[1;33m\u001b[0m\u001b[0m\n\u001b[0m\u001b[0;32m     15\u001b[0m     \u001b[1;32mreturn\u001b[0m \u001b[0mb_encrypt_msg\u001b[0m\u001b[1;33m.\u001b[0m\u001b[0mdecode\u001b[0m\u001b[1;33m(\u001b[0m\u001b[1;33m)\u001b[0m\u001b[1;33m\u001b[0m\u001b[1;33m\u001b[0m\u001b[0m\n",
      "\u001b[1;32m~\\anaconda3\\lib\\site-packages\\cryptography\\fernet.py\u001b[0m in \u001b[0;36mdecrypt\u001b[1;34m(self, token, ttl)\u001b[0m\n\u001b[0;32m     83\u001b[0m         \u001b[0mself\u001b[0m\u001b[1;33m,\u001b[0m \u001b[0mtoken\u001b[0m\u001b[1;33m:\u001b[0m \u001b[0mtyping\u001b[0m\u001b[1;33m.\u001b[0m\u001b[0mUnion\u001b[0m\u001b[1;33m[\u001b[0m\u001b[0mbytes\u001b[0m\u001b[1;33m,\u001b[0m \u001b[0mstr\u001b[0m\u001b[1;33m]\u001b[0m\u001b[1;33m,\u001b[0m \u001b[0mttl\u001b[0m\u001b[1;33m:\u001b[0m \u001b[0mtyping\u001b[0m\u001b[1;33m.\u001b[0m\u001b[0mOptional\u001b[0m\u001b[1;33m[\u001b[0m\u001b[0mint\u001b[0m\u001b[1;33m]\u001b[0m \u001b[1;33m=\u001b[0m \u001b[1;32mNone\u001b[0m\u001b[1;33m\u001b[0m\u001b[1;33m\u001b[0m\u001b[0m\n\u001b[0;32m     84\u001b[0m     ) -> bytes:\n\u001b[1;32m---> 85\u001b[1;33m         \u001b[0mtimestamp\u001b[0m\u001b[1;33m,\u001b[0m \u001b[0mdata\u001b[0m \u001b[1;33m=\u001b[0m \u001b[0mFernet\u001b[0m\u001b[1;33m.\u001b[0m\u001b[0m_get_unverified_token_data\u001b[0m\u001b[1;33m(\u001b[0m\u001b[0mtoken\u001b[0m\u001b[1;33m)\u001b[0m\u001b[1;33m\u001b[0m\u001b[1;33m\u001b[0m\u001b[0m\n\u001b[0m\u001b[0;32m     86\u001b[0m         \u001b[1;32mif\u001b[0m \u001b[0mttl\u001b[0m \u001b[1;32mis\u001b[0m \u001b[1;32mNone\u001b[0m\u001b[1;33m:\u001b[0m\u001b[1;33m\u001b[0m\u001b[1;33m\u001b[0m\u001b[0m\n\u001b[0;32m     87\u001b[0m             \u001b[0mtime_info\u001b[0m \u001b[1;33m=\u001b[0m \u001b[1;32mNone\u001b[0m\u001b[1;33m\u001b[0m\u001b[1;33m\u001b[0m\u001b[0m\n",
      "\u001b[1;32m~\\anaconda3\\lib\\site-packages\\cryptography\\fernet.py\u001b[0m in \u001b[0;36m_get_unverified_token_data\u001b[1;34m(token)\u001b[0m\n\u001b[0;32m    119\u001b[0m \u001b[1;33m\u001b[0m\u001b[0m\n\u001b[0;32m    120\u001b[0m         \u001b[1;32mif\u001b[0m \u001b[1;32mnot\u001b[0m \u001b[0mdata\u001b[0m \u001b[1;32mor\u001b[0m \u001b[0mdata\u001b[0m\u001b[1;33m[\u001b[0m\u001b[1;36m0\u001b[0m\u001b[1;33m]\u001b[0m \u001b[1;33m!=\u001b[0m \u001b[1;36m0x80\u001b[0m\u001b[1;33m:\u001b[0m\u001b[1;33m\u001b[0m\u001b[1;33m\u001b[0m\u001b[0m\n\u001b[1;32m--> 121\u001b[1;33m             \u001b[1;32mraise\u001b[0m \u001b[0mInvalidToken\u001b[0m\u001b[1;33m\u001b[0m\u001b[1;33m\u001b[0m\u001b[0m\n\u001b[0m\u001b[0;32m    122\u001b[0m \u001b[1;33m\u001b[0m\u001b[0m\n\u001b[0;32m    123\u001b[0m         \u001b[1;32mif\u001b[0m \u001b[0mlen\u001b[0m\u001b[1;33m(\u001b[0m\u001b[0mdata\u001b[0m\u001b[1;33m)\u001b[0m \u001b[1;33m<\u001b[0m \u001b[1;36m9\u001b[0m\u001b[1;33m:\u001b[0m\u001b[1;33m\u001b[0m\u001b[1;33m\u001b[0m\u001b[0m\n",
      "\u001b[1;31mInvalidToken\u001b[0m: "
     ]
    }
   ],
   "source": [
    "save_id('fernet.txt',key)"
   ]
  },
  {
   "cell_type": "code",
   "execution_count": 5,
   "id": "b63a3be0",
   "metadata": {},
   "outputs": [
    {
     "name": "stdout",
     "output_type": "stream",
     "text": [
      "\n",
      "Select account:\n",
      "1   |   thong\n",
      "0   |   CREATE NEW ACCOUNT\n",
      "Select account by number: 0\n",
      "\n",
      "Create new account to fernet.txt\n",
      "username: thonel\n",
      "Password: ········\n",
      "Saved and selected thonel to login\n"
     ]
    },
    {
     "data": {
      "text/plain": [
       "('thonel', 'thewr123')"
      ]
     },
     "execution_count": 5,
     "metadata": {},
     "output_type": "execute_result"
    }
   ],
   "source": [
    "import os\n",
    "from getpass import getpass\n",
    "save_id('fernet.txt',key)"
   ]
  },
  {
   "cell_type": "code",
   "execution_count": null,
   "id": "550a7875",
   "metadata": {},
   "outputs": [],
   "source": [
    "from cryptography.fernet import Fernet\n",
    "\n",
    "# The key used to encrypt the message\n",
    "# key = b'your_key_here'\n",
    "\n",
    "# The encrypted message\n",
    "message = b'AAAABj6z1dRA2unuPhmEidsRTeILgs2JYslmU1bVMMeDPZ0pqsWqztuZt2jmrE99H_qZb4Shs8xfMXqPPeWg_x8oigEJRVIA='\n",
    "\n",
    "# Create a Fernet object with the key\n",
    "fernet = Fernet(key)\n",
    "\n",
    "# Decrypt the message\n",
    "decrypted_message = fernet.decrypt(message)\n",
    "\n",
    "# Print the decrypted message\n",
    "print(decrypted_message)"
   ]
  },
  {
   "cell_type": "code",
   "execution_count": null,
   "id": "5e953a34",
   "metadata": {},
   "outputs": [],
   "source": []
  }
 ],
 "metadata": {
  "kernelspec": {
   "display_name": "Python 3 (ipykernel)",
   "language": "python",
   "name": "python3"
  },
  "language_info": {
   "codemirror_mode": {
    "name": "ipython",
    "version": 3
   },
   "file_extension": ".py",
   "mimetype": "text/x-python",
   "name": "python",
   "nbconvert_exporter": "python",
   "pygments_lexer": "ipython3",
   "version": "3.8.10"
  }
 },
 "nbformat": 4,
 "nbformat_minor": 5
}
