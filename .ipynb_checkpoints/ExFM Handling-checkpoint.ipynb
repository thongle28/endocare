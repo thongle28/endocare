{
 "cells": [
  {
   "cell_type": "code",
   "execution_count": null,
   "id": "4accb934",
   "metadata": {},
   "outputs": [],
   "source": [
    "# imporint libbraries\n",
    "import cv2\n",
    "import numpy as np\n",
    "\n",
    "# reading image\n",
    "img = cv2.imread('nhamups.jpg')\n",
    "\n",
    "# Edges\n",
    "gray = cv2.cvtColor(img,cv2.COLOR_BGR2GRAY)\n",
    "gray = cv2.medianBlur(gray,5)\n",
    "edges = cv2.adaptiveThreshold(gray,255,\n",
    "                             cv2.ADAPTIVE_THRESH_MEAN_C,\n",
    "                             cv2.THRESH_BINARY,20,20)\n",
    "\n",
    "# Cartoonization\n",
    "color = cv2.bilateralFilter(img,9,250,250)\n",
    "cartoon = cv2.bitwise_and(color,color,mask = edges)\n",
    "\n",
    "# cv2.imshow('Image',img)\n",
    "cv2.imshow('edges',edges)\n",
    "cv2.imshow('Cartoon',cartoon)\n",
    "cv2.waitKey(0)\n",
    "cv2.destroyAllWindows() \n"
   ]
  },
  {
   "cell_type": "code",
   "execution_count": null,
   "id": "802815da",
   "metadata": {},
   "outputs": [],
   "source": [
    "import cv2\n",
    "\n",
    "# Đọc hình chụp\n",
    "image = cv2.imread(\"nhamups.jpg\")\n",
    "\n",
    "# Chuyển đổi hình chụp thành hoạt hình\n",
    "gray = cv2.cvtColor(image, cv2.COLOR_BGR2GRAY)\n",
    "gray = cv2.GaussianBlur(gray, (21, 21), 0)\n",
    "\n",
    "# # Tính toán độ chênh lệch giữa các khung hình\n",
    "# first_frame = gray\n",
    "# frames = [first_frame]\n",
    "# for i in range(1, 300):\n",
    "#     frame = cv2.imread(\"frame%d.jpg\" % i)\n",
    "#     gray = cv2.cvtColor(frame, cv2.COLOR_BGR2GRAY)\n",
    "#     gray = cv2.GaussianBlur(gray, (21, 21), 0)\n",
    "#     frame_delta = cv2.absdiff(first_frame, gray)\n",
    "#     frames.append(frame_delta)\n",
    "\n",
    "# Lưu hoạt hình\n",
    "out = cv2.VideoWriter('output.avi',cv2.VideoWriter_fourcc(*'MJPG'), 15, (300,300))\n",
    "for frame in frames:\n",
    "    out.write(frame)\n",
    "out.release()\n"
   ]
  },
  {
   "cell_type": "code",
   "execution_count": null,
   "id": "e42afed2",
   "metadata": {},
   "outputs": [],
   "source": [
    "import cv2\n",
    "import numpy as np\n",
    "\n",
    "# Load image\n",
    "img = cv2.imread(\"nhamups.jpg\")\n",
    "\n",
    "# Convert image to grayscale\n",
    "gray = cv2.cvtColor(img, cv2.COLOR_BGR2GRAY)\n",
    "\n",
    "# Blur the grayscale image\n",
    "gray = cv2.medianBlur(gray, 5)\n",
    "\n",
    "# Convert the grayscale image to edge map\n",
    "edges = cv2.Canny(gray, 50, 150)\n",
    "\n",
    "# Create a color edge map\n",
    "color_edges = cv2.cvtColor(edges, cv2.COLOR_GRAY2BGR)\n",
    "\n",
    "# Combine the original image and edge map to form the cartoon image\n",
    "cartoon = cv2.bitwise_and(img, color_edges)\n",
    "\n",
    "# Apply a colormap to the cartoon image\n",
    "color_cartoon = cv2.applyColorMap(cartoon, cv2.COLORMAP_JET)\n",
    "\n",
    "# Save the cartoon image\n",
    "cv2.imwrite(\"output.jpg\", cartoon)\n"
   ]
  },
  {
   "cell_type": "code",
   "execution_count": null,
   "id": "ae95399f",
   "metadata": {},
   "outputs": [],
   "source": [
    "from sqlite3 import connect\n"
   ]
  },
  {
   "cell_type": "code",
   "execution_count": null,
   "id": "d68a0f35",
   "metadata": {},
   "outputs": [],
   "source": [
    "conn = connect('history.db')"
   ]
  },
  {
   "cell_type": "code",
   "execution_count": null,
   "id": "62544397",
   "metadata": {},
   "outputs": [],
   "source": [
    "import pandas as pd\n"
   ]
  },
  {
   "cell_type": "code",
   "execution_count": null,
   "id": "d96872cc",
   "metadata": {},
   "outputs": [],
   "source": [
    "q = '''\n",
    "        SELECT DISTINCT c.model,c.[repair size],c.in_inspect_user_name\n",
    "        FROM consolidated c\n",
    "        WHERE c.[repair date] > '2022-04-01'\n",
    "        AND c.approval = 'Approval'\n",
    "        ORDER BY c.[rma no.]\n",
    "    '''\n",
    "fy_2022 = pd.read_sql(q,conn)\n",
    "fy_2022.to_excel('fy2022.xlsx',index = False)"
   ]
  },
  {
   "cell_type": "code",
   "execution_count": null,
   "id": "142b8663",
   "metadata": {},
   "outputs": [],
   "source": [
    "q = '''\n",
    "        SELECT c.[rma no.],c.customer_name, c.model,c.serial_no,c.[repair size],c.in_inspect_user_name\n",
    "        FROM consolidated c\n",
    "        WHERE c.[repair date] > '2022-04-01'\n",
    "        AND c.approval = 'Approval'\n",
    "        ORDER BY c.[rma no.]\n",
    "    '''\n",
    "fy_2022 = pd.read_sql(q,conn)\n",
    "fy_2022.to_excel('fy2022.xlsx',index = False)"
   ]
  },
  {
   "cell_type": "code",
   "execution_count": null,
   "id": "0882f925",
   "metadata": {},
   "outputs": [],
   "source": [
    "rmas = '''\n",
    "FMSV2022070008\n",
    "FMSV2022070023\n",
    "FMSV2022100010\n",
    "FMSV2022120029\n",
    "\n",
    "\n",
    "'''\n",
    "rma_list = tuple(rmas.strip().split('\\n'))\n",
    "rma_list"
   ]
  },
  {
   "cell_type": "code",
   "execution_count": null,
   "id": "04e5fa55",
   "metadata": {},
   "outputs": [],
   "source": [
    "#check before\n",
    "q =f'''\n",
    "        SELECT [rma no.],[repair size]\n",
    "        FROM consolidated\n",
    "        WHERE [rma no.] IN {rma_list}\n",
    "        \n",
    "    '''\n",
    "pd.read_sql(q,conn)"
   ]
  },
  {
   "cell_type": "code",
   "execution_count": null,
   "id": "08366ca3",
   "metadata": {},
   "outputs": [],
   "source": [
    "cur = conn.cursor()\n",
    "cur.execute(f'''\n",
    "\n",
    "                UPDATE consolidated SET [repair size] = 'Minor'\n",
    "                WHERE [rma no.] in {rma_list}\n",
    "            ''')\n",
    "conn.commit()"
   ]
  },
  {
   "cell_type": "code",
   "execution_count": null,
   "id": "85ca939a",
   "metadata": {},
   "outputs": [],
   "source": [
    "# untrasound model\n",
    "ul_model = '''\n",
    "SU-1-H\n",
    "EG-580UT\n",
    "EG-580UR\n",
    "EG-580UT\n",
    "SU-1-H\n",
    "'''\n",
    "ul_model = tuple(ul_model.strip().split('\\n'))\n",
    "ul_model"
   ]
  },
  {
   "cell_type": "code",
   "execution_count": null,
   "id": "7f6e86e5",
   "metadata": {},
   "outputs": [],
   "source": [
    "q = f'''\n",
    "        SELECT \n",
    "            COUNT(CASE WHEN [repair size] = 'Minor' THEN 1 END) AS [Minor Repair],\n",
    "            COUNT(CASE WHEN [repair size] = 'Major' THEN 1 END) AS [Major Repair],\n",
    "            COUNT(CASE WHEN model IN{ul_model} THEN 1 END) AS [Ultrasound Repair],\n",
    "            COUNT(CASE WHEN [repair size] = 'Other' THEN 1 END) AS [Peripheral Repair]\n",
    "            \n",
    "        \n",
    "            \n",
    "        FROM consolidated\n",
    "        WHERE [repair date] >='2022-04-01'\n",
    "        AND approval = 'Approval'\n",
    "'''\n",
    "pd.read_sql(q,conn)"
   ]
  },
  {
   "cell_type": "code",
   "execution_count": null,
   "id": "595c0284",
   "metadata": {},
   "outputs": [],
   "source": [
    "print(\"Enter/Paste your content. Ctrl-D or Ctrl-Z ( windows ) to save it.\")\n",
    "contents = []\n",
    "while True:\n",
    "    try:\n",
    "        line = input()\n",
    "    except EOFError:\n",
    "        break\n",
    "    contents.append(line)"
   ]
  },
  {
   "cell_type": "code",
   "execution_count": null,
   "id": "27e448b8",
   "metadata": {},
   "outputs": [],
   "source": [
    "lines = []\n",
    "\n",
    "while True:\n",
    "    user_input = input()\n",
    "\n",
    "    # 👇️ if user pressed Enter without a value, break out of loop\n",
    "    if ';' in user_input:\n",
    "        lines.append(user_input + '\\n')\n",
    "        break\n",
    "    else:\n",
    "        lines.append(user_input + '\\n')\n",
    "\n",
    "\n",
    "# 👇️ prints list of strings\n",
    "print(lines)\n",
    "\n",
    "# 👇️ join list into a string\n",
    "# print(''.join(lines))\n",
    "q = ''.join(lines)\n",
    "print(q)"
   ]
  },
  {
   "cell_type": "code",
   "execution_count": 1,
   "id": "ac4c4934",
   "metadata": {},
   "outputs": [],
   "source": [
    "import platform"
   ]
  },
  {
   "cell_type": "code",
   "execution_count": 5,
   "id": "cf949d13",
   "metadata": {},
   "outputs": [
    {
     "data": {
      "text/plain": [
       "uname_result(system='Windows', node='DESKTOP-UCHTU47', release='10', version='10.0.22621', machine='AMD64', processor='Intel64 Family 6 Model 142 Stepping 12, GenuineIntel')"
      ]
     },
     "execution_count": 5,
     "metadata": {},
     "output_type": "execute_result"
    }
   ],
   "source": [
    "platform.uname()"
   ]
  },
  {
   "cell_type": "code",
   "execution_count": 8,
   "id": "e3382789",
   "metadata": {},
   "outputs": [
    {
     "data": {
      "text/plain": [
       "'DESKTOP-UCHTU47'"
      ]
     },
     "execution_count": 8,
     "metadata": {},
     "output_type": "execute_result"
    }
   ],
   "source": [
    "platform.uname()[1]"
   ]
  },
  {
   "cell_type": "code",
   "execution_count": 18,
   "id": "20cdc274",
   "metadata": {},
   "outputs": [
    {
     "name": "stdout",
     "output_type": "stream",
     "text": [
      "\n",
      "Select account:\n",
      "1   |   thong\n",
      "0   |   CREATE NEW ACCOUNT\n",
      "Select account by number: 0\n",
      "\n",
      "Create new account to test.txt\n",
      "username: thong2\n",
      "Password: ········\n",
      "Saved and selected thong2 to login\n"
     ]
    },
    {
     "data": {
      "text/plain": [
       "('thong2', 'thong.le2023')"
      ]
     },
     "execution_count": 18,
     "metadata": {},
     "output_type": "execute_result"
    }
   ],
   "source": [
    "import os\n",
    "from getpass import getpass\n",
    "import base64\n",
    "\n",
    "save_id('test.txt')"
   ]
  },
  {
   "cell_type": "code",
   "execution_count": 20,
   "id": "ea86c1b6",
   "metadata": {},
   "outputs": [],
   "source": [
    "def pw_encode(pw):\n",
    "    \n",
    "\treturn base64.b64encode(pw.encode(\"utf-8\"))\n",
    "\n",
    "def pw_decode(blahblah):\n",
    "\treturn str(base64.b64decode(blahblah).decode(\"utf-8\"))"
   ]
  },
  {
   "cell_type": "code",
   "execution_count": 21,
   "id": "42a34f35",
   "metadata": {},
   "outputs": [
    {
     "data": {
      "text/plain": [
       "b'ZHNmZ2hqa2wuL2poZ2Zkc2FzZmdoamtnZ3V5aXRyZXNhZEZaeHZjYm5taGpraXVneW90cmVzd2FzREZaeGdjdmpibm1rO29waWp5Z3RmeGRzYQ=='"
      ]
     },
     "execution_count": 21,
     "metadata": {},
     "output_type": "execute_result"
    }
   ],
   "source": [
    "import base64\n",
    "key_id ='dsfghjkl./jhgfdsasfghjkgguyitresadFZxvcbnmhjkiugyotreswasDFZxgcvjbnmk;opijygtfxdsa'\n",
    "\n",
    "pw_encode(key_id)"
   ]
  },
  {
   "cell_type": "code",
   "execution_count": 22,
   "id": "361eed09",
   "metadata": {},
   "outputs": [],
   "source": [
    "pw = '16thongle'"
   ]
  },
  {
   "cell_type": "code",
   "execution_count": 23,
   "id": "a7ae3c40",
   "metadata": {},
   "outputs": [
    {
     "data": {
      "text/plain": [
       "b'MTZ0aG9uZ2xlZHNmZ2hqa2wuL2poZ2Zkc2FzZmdoamtnZ3V5aXRyZXNhZEZaeHZjYm5taGpraXVneW90cmVzd2FzREZaeGdjdmpibm1rO29waWp5Z3RmeGRzYQ=='"
      ]
     },
     "execution_count": 23,
     "metadata": {},
     "output_type": "execute_result"
    }
   ],
   "source": [
    "pw_encode(str(pw)+str(key_id))"
   ]
  },
  {
   "cell_type": "code",
   "execution_count": 38,
   "id": "3a4d8381",
   "metadata": {},
   "outputs": [
    {
     "name": "stdout",
     "output_type": "stream",
     "text": [
      "Original message:  16thongle\n",
      "Decrypted message:  b'16thongle'\n"
     ]
    }
   ],
   "source": [
    "from cryptography.fernet import Fernet\n",
    "\n",
    "# Generate a key for AES encryption\n",
    "key = Fernet.generate_key()\n",
    "\n",
    "# Create an instance of the Fernet class using the key\n",
    "fernet = Fernet(key)\n",
    "\n",
    "# Define a message to encrypt\n",
    "message = '16thongle'\n",
    "\n",
    "# Encrypt the message\n",
    "encrypted_message = fernet.encrypt(message.encode())\n",
    "\n",
    "# Decrypt the message\n",
    "decrypted_message = fernet.decrypt(encrypted_message)\n",
    "\n",
    "# Print the original message and the decrypted message to verify that they match\n",
    "print(\"Original message: \", message)\n",
    "print(\"Decrypted message: \", decrypted_message)\n"
   ]
  },
  {
   "cell_type": "code",
   "execution_count": 107,
   "id": "af9783b1",
   "metadata": {},
   "outputs": [],
   "source": [
    "def pw_encode(message,key):\n",
    "    fernet = Fernet(key.encode())\n",
    "#     fernet = key\n",
    "    return fernet.encrypt(message.encode()).decode()\n",
    "\n",
    "\n",
    "def pw_decode(encrypted_message,key):\n",
    "    \n",
    "    fernet = Fernet(key.encode())\n",
    "#     fernet = key\n",
    "    return fernet.decrypt(encrypted_message.encode()).decode()\n",
    "\n",
    "def save_id(file,key):\n",
    "    if not os.path.exists(file): # chua co file saved.txt\n",
    "        username = input('username: ')\n",
    "        pw = getpass('Password: ')\n",
    "        u1 = str(username)\n",
    "        u2 = str(pw_encode(pw,key))[2:-1]\n",
    "        L = f'{u1},{u2}\\n' #u1 + ',' + u2\n",
    "        file1 = open(file,'w')\n",
    "        file1.write(L)\n",
    "        file1.close()\n",
    "        return username,pw\n",
    "\n",
    "    else:\n",
    "        file1 = open(file,'r')\n",
    "        data = file1.read()\n",
    "        file1.close()\n",
    "        lines = data.split('\\n')\n",
    "        i_line = 0\n",
    "        print('\\nSelect account:')\n",
    "        for line in lines[:-1]:\n",
    "\n",
    "            i_line += 1\n",
    "            uid = str(line.split(',')[0])\n",
    "            pw = line.split(',')[1]\n",
    "            print(f'{i_line}   |   {uid}')\n",
    "        print ('0   |   CREATE NEW ACCOUNT')\n",
    "        while True:\n",
    "            try:\n",
    "                uid = int(input('Select account by number: '))\n",
    "                if uid < len(lines):\n",
    "                    break\n",
    "                else:\n",
    "                    print(f'Vui long nhap so nho hon {len(lines)}')\n",
    "            except:\n",
    "                print(f'Chi duoc nhap so.')\n",
    "        if uid == 0:\n",
    "            print(f'\\nCreate new account to {file}')\n",
    "            while True:\n",
    "                username = input('username: ')\n",
    "                if username !='':\n",
    "                    break\n",
    "                    print('Checkpoint')\n",
    "                else:\n",
    "                    print(f'{username} cannot empty.')\n",
    "\n",
    "            pw = getpass('Password: ')\n",
    "            u1 = str(username)\n",
    "            u2 = str(pw_encode(pw,key))[2:-1]\n",
    "            L = u1 + ',' + u2\n",
    "            file1 = open(file,'a')\n",
    "            file1.write(f'{L}\\n')\n",
    "            file1.close()\n",
    "            print(f'Saved and selected {username} to login')\n",
    "            return username,pw\n",
    "        else:\n",
    "            name = str(lines[uid-1].split(',')[0])\n",
    "            print(f'{name} is selected to login')\n",
    "            return name, pw_decode(lines[uid-1].split(',')[1],key)\n"
   ]
  },
  {
   "cell_type": "code",
   "execution_count": 101,
   "id": "1527a671",
   "metadata": {
    "scrolled": true
   },
   "outputs": [
    {
     "name": "stdout",
     "output_type": "stream",
     "text": [
      "\n",
      "Select account:\n",
      "1   |   thongle\n",
      "0   |   CREATE NEW ACCOUNT\n",
      "Select account by number: 1\n",
      "thongle is selected to login\n"
     ]
    },
    {
     "ename": "InvalidToken",
     "evalue": "",
     "output_type": "error",
     "traceback": [
      "\u001b[1;31m---------------------------------------------------------------------------\u001b[0m",
      "\u001b[1;31mInvalidToken\u001b[0m                              Traceback (most recent call last)",
      "\u001b[1;32m~\\AppData\\Local\\Temp\\ipykernel_17780\\606786244.py\u001b[0m in \u001b[0;36m<module>\u001b[1;34m\u001b[0m\n\u001b[1;32m----> 1\u001b[1;33m \u001b[0msave_id\u001b[0m\u001b[1;33m(\u001b[0m\u001b[1;34m'exfm.txt'\u001b[0m\u001b[1;33m,\u001b[0m\u001b[0mfernet\u001b[0m\u001b[1;33m)\u001b[0m\u001b[1;33m\u001b[0m\u001b[1;33m\u001b[0m\u001b[0m\n\u001b[0m",
      "\u001b[1;32m~\\AppData\\Local\\Temp\\ipykernel_17780\\519315652.py\u001b[0m in \u001b[0;36msave_id\u001b[1;34m(file, key)\u001b[0m\n\u001b[0;32m     68\u001b[0m             \u001b[0mname\u001b[0m \u001b[1;33m=\u001b[0m \u001b[0mstr\u001b[0m\u001b[1;33m(\u001b[0m\u001b[0mlines\u001b[0m\u001b[1;33m[\u001b[0m\u001b[0muid\u001b[0m\u001b[1;33m-\u001b[0m\u001b[1;36m1\u001b[0m\u001b[1;33m]\u001b[0m\u001b[1;33m.\u001b[0m\u001b[0msplit\u001b[0m\u001b[1;33m(\u001b[0m\u001b[1;34m','\u001b[0m\u001b[1;33m)\u001b[0m\u001b[1;33m[\u001b[0m\u001b[1;36m0\u001b[0m\u001b[1;33m]\u001b[0m\u001b[1;33m)\u001b[0m\u001b[1;33m\u001b[0m\u001b[1;33m\u001b[0m\u001b[0m\n\u001b[0;32m     69\u001b[0m             \u001b[0mprint\u001b[0m\u001b[1;33m(\u001b[0m\u001b[1;34mf'{name} is selected to login'\u001b[0m\u001b[1;33m)\u001b[0m\u001b[1;33m\u001b[0m\u001b[1;33m\u001b[0m\u001b[0m\n\u001b[1;32m---> 70\u001b[1;33m             \u001b[1;32mreturn\u001b[0m \u001b[0mname\u001b[0m\u001b[1;33m,\u001b[0m \u001b[0mpw_decode\u001b[0m\u001b[1;33m(\u001b[0m\u001b[0mlines\u001b[0m\u001b[1;33m[\u001b[0m\u001b[0muid\u001b[0m\u001b[1;33m-\u001b[0m\u001b[1;36m1\u001b[0m\u001b[1;33m]\u001b[0m\u001b[1;33m.\u001b[0m\u001b[0msplit\u001b[0m\u001b[1;33m(\u001b[0m\u001b[1;34m','\u001b[0m\u001b[1;33m)\u001b[0m\u001b[1;33m[\u001b[0m\u001b[1;36m1\u001b[0m\u001b[1;33m]\u001b[0m\u001b[1;33m,\u001b[0m\u001b[0mkey\u001b[0m\u001b[1;33m)\u001b[0m\u001b[1;33m\u001b[0m\u001b[1;33m\u001b[0m\u001b[0m\n\u001b[0m",
      "\u001b[1;32m~\\AppData\\Local\\Temp\\ipykernel_17780\\519315652.py\u001b[0m in \u001b[0;36mpw_decode\u001b[1;34m(encrypted_message, key)\u001b[0m\n\u001b[0;32m      9\u001b[0m \u001b[1;31m#     fernet = Fernet(key.encode())\u001b[0m\u001b[1;33m\u001b[0m\u001b[1;33m\u001b[0m\u001b[1;33m\u001b[0m\u001b[0m\n\u001b[0;32m     10\u001b[0m     \u001b[0mfernet\u001b[0m \u001b[1;33m=\u001b[0m \u001b[0mkey\u001b[0m\u001b[1;33m\u001b[0m\u001b[1;33m\u001b[0m\u001b[0m\n\u001b[1;32m---> 11\u001b[1;33m     \u001b[1;32mreturn\u001b[0m \u001b[0mfernet\u001b[0m\u001b[1;33m.\u001b[0m\u001b[0mdecrypt\u001b[0m\u001b[1;33m(\u001b[0m\u001b[0mencrypted_message\u001b[0m\u001b[1;33m.\u001b[0m\u001b[0mencode\u001b[0m\u001b[1;33m(\u001b[0m\u001b[1;33m)\u001b[0m\u001b[1;33m)\u001b[0m\u001b[1;33m.\u001b[0m\u001b[0mdecode\u001b[0m\u001b[1;33m(\u001b[0m\u001b[1;33m)\u001b[0m\u001b[1;33m\u001b[0m\u001b[1;33m\u001b[0m\u001b[0m\n\u001b[0m\u001b[0;32m     12\u001b[0m \u001b[1;33m\u001b[0m\u001b[0m\n\u001b[0;32m     13\u001b[0m \u001b[1;32mdef\u001b[0m \u001b[0msave_id\u001b[0m\u001b[1;33m(\u001b[0m\u001b[0mfile\u001b[0m\u001b[1;33m,\u001b[0m\u001b[0mkey\u001b[0m\u001b[1;33m)\u001b[0m\u001b[1;33m:\u001b[0m\u001b[1;33m\u001b[0m\u001b[1;33m\u001b[0m\u001b[0m\n",
      "\u001b[1;32m~\\anaconda3\\lib\\site-packages\\cryptography\\fernet.py\u001b[0m in \u001b[0;36mdecrypt\u001b[1;34m(self, token, ttl)\u001b[0m\n\u001b[0;32m     83\u001b[0m         \u001b[0mself\u001b[0m\u001b[1;33m,\u001b[0m \u001b[0mtoken\u001b[0m\u001b[1;33m:\u001b[0m \u001b[0mtyping\u001b[0m\u001b[1;33m.\u001b[0m\u001b[0mUnion\u001b[0m\u001b[1;33m[\u001b[0m\u001b[0mbytes\u001b[0m\u001b[1;33m,\u001b[0m \u001b[0mstr\u001b[0m\u001b[1;33m]\u001b[0m\u001b[1;33m,\u001b[0m \u001b[0mttl\u001b[0m\u001b[1;33m:\u001b[0m \u001b[0mtyping\u001b[0m\u001b[1;33m.\u001b[0m\u001b[0mOptional\u001b[0m\u001b[1;33m[\u001b[0m\u001b[0mint\u001b[0m\u001b[1;33m]\u001b[0m \u001b[1;33m=\u001b[0m \u001b[1;32mNone\u001b[0m\u001b[1;33m\u001b[0m\u001b[1;33m\u001b[0m\u001b[0m\n\u001b[0;32m     84\u001b[0m     ) -> bytes:\n\u001b[1;32m---> 85\u001b[1;33m         \u001b[0mtimestamp\u001b[0m\u001b[1;33m,\u001b[0m \u001b[0mdata\u001b[0m \u001b[1;33m=\u001b[0m \u001b[0mFernet\u001b[0m\u001b[1;33m.\u001b[0m\u001b[0m_get_unverified_token_data\u001b[0m\u001b[1;33m(\u001b[0m\u001b[0mtoken\u001b[0m\u001b[1;33m)\u001b[0m\u001b[1;33m\u001b[0m\u001b[1;33m\u001b[0m\u001b[0m\n\u001b[0m\u001b[0;32m     86\u001b[0m         \u001b[1;32mif\u001b[0m \u001b[0mttl\u001b[0m \u001b[1;32mis\u001b[0m \u001b[1;32mNone\u001b[0m\u001b[1;33m:\u001b[0m\u001b[1;33m\u001b[0m\u001b[1;33m\u001b[0m\u001b[0m\n\u001b[0;32m     87\u001b[0m             \u001b[0mtime_info\u001b[0m \u001b[1;33m=\u001b[0m \u001b[1;32mNone\u001b[0m\u001b[1;33m\u001b[0m\u001b[1;33m\u001b[0m\u001b[0m\n",
      "\u001b[1;32m~\\anaconda3\\lib\\site-packages\\cryptography\\fernet.py\u001b[0m in \u001b[0;36m_get_unverified_token_data\u001b[1;34m(token)\u001b[0m\n\u001b[0;32m    119\u001b[0m \u001b[1;33m\u001b[0m\u001b[0m\n\u001b[0;32m    120\u001b[0m         \u001b[1;32mif\u001b[0m \u001b[1;32mnot\u001b[0m \u001b[0mdata\u001b[0m \u001b[1;32mor\u001b[0m \u001b[0mdata\u001b[0m\u001b[1;33m[\u001b[0m\u001b[1;36m0\u001b[0m\u001b[1;33m]\u001b[0m \u001b[1;33m!=\u001b[0m \u001b[1;36m0x80\u001b[0m\u001b[1;33m:\u001b[0m\u001b[1;33m\u001b[0m\u001b[1;33m\u001b[0m\u001b[0m\n\u001b[1;32m--> 121\u001b[1;33m             \u001b[1;32mraise\u001b[0m \u001b[0mInvalidToken\u001b[0m\u001b[1;33m\u001b[0m\u001b[1;33m\u001b[0m\u001b[0m\n\u001b[0m\u001b[0;32m    122\u001b[0m \u001b[1;33m\u001b[0m\u001b[0m\n\u001b[0;32m    123\u001b[0m         \u001b[1;32mif\u001b[0m \u001b[0mlen\u001b[0m\u001b[1;33m(\u001b[0m\u001b[0mdata\u001b[0m\u001b[1;33m)\u001b[0m \u001b[1;33m<\u001b[0m \u001b[1;36m9\u001b[0m\u001b[1;33m:\u001b[0m\u001b[1;33m\u001b[0m\u001b[1;33m\u001b[0m\u001b[0m\n",
      "\u001b[1;31mInvalidToken\u001b[0m: "
     ]
    }
   ],
   "source": [
    "save_id('exfm.txt',fernet)"
   ]
  },
  {
   "cell_type": "code",
   "execution_count": 69,
   "id": "897d9f98",
   "metadata": {},
   "outputs": [
    {
     "ename": "NameError",
     "evalue": "name 'lines' is not defined",
     "output_type": "error",
     "traceback": [
      "\u001b[1;31m---------------------------------------------------------------------------\u001b[0m",
      "\u001b[1;31mNameError\u001b[0m                                 Traceback (most recent call last)",
      "\u001b[1;32m~\\AppData\\Local\\Temp\\ipykernel_17780\\414585002.py\u001b[0m in \u001b[0;36m<module>\u001b[1;34m\u001b[0m\n\u001b[1;32m----> 1\u001b[1;33m \u001b[0mlines\u001b[0m\u001b[1;33m[\u001b[0m\u001b[0muid\u001b[0m\u001b[1;33m-\u001b[0m\u001b[1;36m1\u001b[0m\u001b[1;33m]\u001b[0m\u001b[1;33m.\u001b[0m\u001b[0msplit\u001b[0m\u001b[1;33m(\u001b[0m\u001b[1;34m','\u001b[0m\u001b[1;33m)\u001b[0m\u001b[1;33m[\u001b[0m\u001b[1;36m1\u001b[0m\u001b[1;33m]\u001b[0m\u001b[1;33m\u001b[0m\u001b[1;33m\u001b[0m\u001b[0m\n\u001b[0m",
      "\u001b[1;31mNameError\u001b[0m: name 'lines' is not defined"
     ]
    }
   ],
   "source": [
    "lines[uid-1].split(',')[1]"
   ]
  },
  {
   "cell_type": "code",
   "execution_count": 96,
   "id": "98663afd",
   "metadata": {},
   "outputs": [],
   "source": [
    "# Generate a key and create a Fernet instance\n",
    "key = Fernet.generate_key()\n",
    "fernet = Fernet(key)\n",
    "\n",
    "\n",
    "\n"
   ]
  },
  {
   "cell_type": "code",
   "execution_count": 97,
   "id": "8bc5ac13",
   "metadata": {},
   "outputs": [],
   "source": [
    "# Serialize the Fernet object to a file\n",
    "with open('fernet.pickle', 'wb') as f:\n",
    "    pickle.dump(fernet, f)"
   ]
  },
  {
   "cell_type": "code",
   "execution_count": 98,
   "id": "8d301ce0",
   "metadata": {},
   "outputs": [],
   "source": [
    "# Deserialize the Fernet object from the file\n",
    "with open('fernet.pickle', 'rb') as f:\n",
    "    fernet = pickle.load(f)"
   ]
  },
  {
   "cell_type": "code",
   "execution_count": 99,
   "id": "5e42ff78",
   "metadata": {},
   "outputs": [
    {
     "ename": "TypeError",
     "evalue": "save_id() missing 2 required positional arguments: 'file' and 'key'",
     "output_type": "error",
     "traceback": [
      "\u001b[1;31m---------------------------------------------------------------------------\u001b[0m",
      "\u001b[1;31mTypeError\u001b[0m                                 Traceback (most recent call last)",
      "\u001b[1;32m~\\AppData\\Local\\Temp\\ipykernel_17780\\2370301962.py\u001b[0m in \u001b[0;36m<module>\u001b[1;34m\u001b[0m\n\u001b[1;32m----> 1\u001b[1;33m \u001b[0msave_id\u001b[0m\u001b[1;33m(\u001b[0m\u001b[1;33m)\u001b[0m\u001b[1;33m\u001b[0m\u001b[1;33m\u001b[0m\u001b[0m\n\u001b[0m",
      "\u001b[1;31mTypeError\u001b[0m: save_id() missing 2 required positional arguments: 'file' and 'key'"
     ]
    }
   ],
   "source": [
    "save_id()"
   ]
  },
  {
   "cell_type": "code",
   "execution_count": 102,
   "id": "1078a11c",
   "metadata": {},
   "outputs": [],
   "source": [
    "encrypted_message = 'AAAABj6zYhs_iTzm6Dmb_oboFf2YwnEZY6CVhdnCVQButsC0y2Eer5v90IRSm3V8sPChe_f8mJbRu5WH1eVN9pwRGy7DV1MQ='\n"
   ]
  },
  {
   "cell_type": "code",
   "execution_count": 104,
   "id": "03efb4fb",
   "metadata": {},
   "outputs": [
    {
     "data": {
      "text/plain": [
       "b'AAAABj6zYhs_iTzm6Dmb_oboFf2YwnEZY6CVhdnCVQButsC0y2Eer5v90IRSm3V8sPChe_f8mJbRu5WH1eVN9pwRGy7DV1MQ='"
      ]
     },
     "execution_count": 104,
     "metadata": {},
     "output_type": "execute_result"
    }
   ],
   "source": [
    "encrypted_message.encode()"
   ]
  },
  {
   "cell_type": "code",
   "execution_count": 106,
   "id": "c2a28ba7",
   "metadata": {},
   "outputs": [
    {
     "ename": "InvalidToken",
     "evalue": "",
     "output_type": "error",
     "traceback": [
      "\u001b[1;31m---------------------------------------------------------------------------\u001b[0m",
      "\u001b[1;31mInvalidToken\u001b[0m                              Traceback (most recent call last)",
      "\u001b[1;32m~\\AppData\\Local\\Temp\\ipykernel_17780\\2335092986.py\u001b[0m in \u001b[0;36m<module>\u001b[1;34m\u001b[0m\n\u001b[1;32m----> 1\u001b[1;33m \u001b[0mfernet\u001b[0m\u001b[1;33m.\u001b[0m\u001b[0mdecrypt\u001b[0m\u001b[1;33m(\u001b[0m\u001b[0mencrypted_message\u001b[0m\u001b[1;33m.\u001b[0m\u001b[0mencode\u001b[0m\u001b[1;33m(\u001b[0m\u001b[1;33m)\u001b[0m\u001b[1;33m)\u001b[0m\u001b[1;33m\u001b[0m\u001b[1;33m\u001b[0m\u001b[0m\n\u001b[0m",
      "\u001b[1;32m~\\anaconda3\\lib\\site-packages\\cryptography\\fernet.py\u001b[0m in \u001b[0;36mdecrypt\u001b[1;34m(self, token, ttl)\u001b[0m\n\u001b[0;32m     83\u001b[0m         \u001b[0mself\u001b[0m\u001b[1;33m,\u001b[0m \u001b[0mtoken\u001b[0m\u001b[1;33m:\u001b[0m \u001b[0mtyping\u001b[0m\u001b[1;33m.\u001b[0m\u001b[0mUnion\u001b[0m\u001b[1;33m[\u001b[0m\u001b[0mbytes\u001b[0m\u001b[1;33m,\u001b[0m \u001b[0mstr\u001b[0m\u001b[1;33m]\u001b[0m\u001b[1;33m,\u001b[0m \u001b[0mttl\u001b[0m\u001b[1;33m:\u001b[0m \u001b[0mtyping\u001b[0m\u001b[1;33m.\u001b[0m\u001b[0mOptional\u001b[0m\u001b[1;33m[\u001b[0m\u001b[0mint\u001b[0m\u001b[1;33m]\u001b[0m \u001b[1;33m=\u001b[0m \u001b[1;32mNone\u001b[0m\u001b[1;33m\u001b[0m\u001b[1;33m\u001b[0m\u001b[0m\n\u001b[0;32m     84\u001b[0m     ) -> bytes:\n\u001b[1;32m---> 85\u001b[1;33m         \u001b[0mtimestamp\u001b[0m\u001b[1;33m,\u001b[0m \u001b[0mdata\u001b[0m \u001b[1;33m=\u001b[0m \u001b[0mFernet\u001b[0m\u001b[1;33m.\u001b[0m\u001b[0m_get_unverified_token_data\u001b[0m\u001b[1;33m(\u001b[0m\u001b[0mtoken\u001b[0m\u001b[1;33m)\u001b[0m\u001b[1;33m\u001b[0m\u001b[1;33m\u001b[0m\u001b[0m\n\u001b[0m\u001b[0;32m     86\u001b[0m         \u001b[1;32mif\u001b[0m \u001b[0mttl\u001b[0m \u001b[1;32mis\u001b[0m \u001b[1;32mNone\u001b[0m\u001b[1;33m:\u001b[0m\u001b[1;33m\u001b[0m\u001b[1;33m\u001b[0m\u001b[0m\n\u001b[0;32m     87\u001b[0m             \u001b[0mtime_info\u001b[0m \u001b[1;33m=\u001b[0m \u001b[1;32mNone\u001b[0m\u001b[1;33m\u001b[0m\u001b[1;33m\u001b[0m\u001b[0m\n",
      "\u001b[1;32m~\\anaconda3\\lib\\site-packages\\cryptography\\fernet.py\u001b[0m in \u001b[0;36m_get_unverified_token_data\u001b[1;34m(token)\u001b[0m\n\u001b[0;32m    119\u001b[0m \u001b[1;33m\u001b[0m\u001b[0m\n\u001b[0;32m    120\u001b[0m         \u001b[1;32mif\u001b[0m \u001b[1;32mnot\u001b[0m \u001b[0mdata\u001b[0m \u001b[1;32mor\u001b[0m \u001b[0mdata\u001b[0m\u001b[1;33m[\u001b[0m\u001b[1;36m0\u001b[0m\u001b[1;33m]\u001b[0m \u001b[1;33m!=\u001b[0m \u001b[1;36m0x80\u001b[0m\u001b[1;33m:\u001b[0m\u001b[1;33m\u001b[0m\u001b[1;33m\u001b[0m\u001b[0m\n\u001b[1;32m--> 121\u001b[1;33m             \u001b[1;32mraise\u001b[0m \u001b[0mInvalidToken\u001b[0m\u001b[1;33m\u001b[0m\u001b[1;33m\u001b[0m\u001b[0m\n\u001b[0m\u001b[0;32m    122\u001b[0m \u001b[1;33m\u001b[0m\u001b[0m\n\u001b[0;32m    123\u001b[0m         \u001b[1;32mif\u001b[0m \u001b[0mlen\u001b[0m\u001b[1;33m(\u001b[0m\u001b[0mdata\u001b[0m\u001b[1;33m)\u001b[0m \u001b[1;33m<\u001b[0m \u001b[1;36m9\u001b[0m\u001b[1;33m:\u001b[0m\u001b[1;33m\u001b[0m\u001b[1;33m\u001b[0m\u001b[0m\n",
      "\u001b[1;31mInvalidToken\u001b[0m: "
     ]
    }
   ],
   "source": [
    "fernet.decrypt(encrypted_message.encode())"
   ]
  },
  {
   "cell_type": "code",
   "execution_count": null,
   "id": "286a31fe",
   "metadata": {},
   "outputs": [],
   "source": []
  },
  {
   "cell_type": "code",
   "execution_count": 103,
   "id": "a3534b3b",
   "metadata": {},
   "outputs": [
    {
     "ename": "InvalidToken",
     "evalue": "",
     "output_type": "error",
     "traceback": [
      "\u001b[1;31m---------------------------------------------------------------------------\u001b[0m",
      "\u001b[1;31mInvalidToken\u001b[0m                              Traceback (most recent call last)",
      "\u001b[1;32m~\\AppData\\Local\\Temp\\ipykernel_17780\\2780324763.py\u001b[0m in \u001b[0;36m<module>\u001b[1;34m\u001b[0m\n\u001b[1;32m----> 1\u001b[1;33m \u001b[0mfernet\u001b[0m\u001b[1;33m.\u001b[0m\u001b[0mdecrypt\u001b[0m\u001b[1;33m(\u001b[0m\u001b[0mencrypted_message\u001b[0m\u001b[1;33m.\u001b[0m\u001b[0mencode\u001b[0m\u001b[1;33m(\u001b[0m\u001b[1;33m)\u001b[0m\u001b[1;33m)\u001b[0m\u001b[1;33m.\u001b[0m\u001b[0mdecode\u001b[0m\u001b[1;33m(\u001b[0m\u001b[1;33m)\u001b[0m\u001b[1;33m\u001b[0m\u001b[1;33m\u001b[0m\u001b[0m\n\u001b[0m",
      "\u001b[1;32m~\\anaconda3\\lib\\site-packages\\cryptography\\fernet.py\u001b[0m in \u001b[0;36mdecrypt\u001b[1;34m(self, token, ttl)\u001b[0m\n\u001b[0;32m     83\u001b[0m         \u001b[0mself\u001b[0m\u001b[1;33m,\u001b[0m \u001b[0mtoken\u001b[0m\u001b[1;33m:\u001b[0m \u001b[0mtyping\u001b[0m\u001b[1;33m.\u001b[0m\u001b[0mUnion\u001b[0m\u001b[1;33m[\u001b[0m\u001b[0mbytes\u001b[0m\u001b[1;33m,\u001b[0m \u001b[0mstr\u001b[0m\u001b[1;33m]\u001b[0m\u001b[1;33m,\u001b[0m \u001b[0mttl\u001b[0m\u001b[1;33m:\u001b[0m \u001b[0mtyping\u001b[0m\u001b[1;33m.\u001b[0m\u001b[0mOptional\u001b[0m\u001b[1;33m[\u001b[0m\u001b[0mint\u001b[0m\u001b[1;33m]\u001b[0m \u001b[1;33m=\u001b[0m \u001b[1;32mNone\u001b[0m\u001b[1;33m\u001b[0m\u001b[1;33m\u001b[0m\u001b[0m\n\u001b[0;32m     84\u001b[0m     ) -> bytes:\n\u001b[1;32m---> 85\u001b[1;33m         \u001b[0mtimestamp\u001b[0m\u001b[1;33m,\u001b[0m \u001b[0mdata\u001b[0m \u001b[1;33m=\u001b[0m \u001b[0mFernet\u001b[0m\u001b[1;33m.\u001b[0m\u001b[0m_get_unverified_token_data\u001b[0m\u001b[1;33m(\u001b[0m\u001b[0mtoken\u001b[0m\u001b[1;33m)\u001b[0m\u001b[1;33m\u001b[0m\u001b[1;33m\u001b[0m\u001b[0m\n\u001b[0m\u001b[0;32m     86\u001b[0m         \u001b[1;32mif\u001b[0m \u001b[0mttl\u001b[0m \u001b[1;32mis\u001b[0m \u001b[1;32mNone\u001b[0m\u001b[1;33m:\u001b[0m\u001b[1;33m\u001b[0m\u001b[1;33m\u001b[0m\u001b[0m\n\u001b[0;32m     87\u001b[0m             \u001b[0mtime_info\u001b[0m \u001b[1;33m=\u001b[0m \u001b[1;32mNone\u001b[0m\u001b[1;33m\u001b[0m\u001b[1;33m\u001b[0m\u001b[0m\n",
      "\u001b[1;32m~\\anaconda3\\lib\\site-packages\\cryptography\\fernet.py\u001b[0m in \u001b[0;36m_get_unverified_token_data\u001b[1;34m(token)\u001b[0m\n\u001b[0;32m    119\u001b[0m \u001b[1;33m\u001b[0m\u001b[0m\n\u001b[0;32m    120\u001b[0m         \u001b[1;32mif\u001b[0m \u001b[1;32mnot\u001b[0m \u001b[0mdata\u001b[0m \u001b[1;32mor\u001b[0m \u001b[0mdata\u001b[0m\u001b[1;33m[\u001b[0m\u001b[1;36m0\u001b[0m\u001b[1;33m]\u001b[0m \u001b[1;33m!=\u001b[0m \u001b[1;36m0x80\u001b[0m\u001b[1;33m:\u001b[0m\u001b[1;33m\u001b[0m\u001b[1;33m\u001b[0m\u001b[0m\n\u001b[1;32m--> 121\u001b[1;33m             \u001b[1;32mraise\u001b[0m \u001b[0mInvalidToken\u001b[0m\u001b[1;33m\u001b[0m\u001b[1;33m\u001b[0m\u001b[0m\n\u001b[0m\u001b[0;32m    122\u001b[0m \u001b[1;33m\u001b[0m\u001b[0m\n\u001b[0;32m    123\u001b[0m         \u001b[1;32mif\u001b[0m \u001b[0mlen\u001b[0m\u001b[1;33m(\u001b[0m\u001b[0mdata\u001b[0m\u001b[1;33m)\u001b[0m \u001b[1;33m<\u001b[0m \u001b[1;36m9\u001b[0m\u001b[1;33m:\u001b[0m\u001b[1;33m\u001b[0m\u001b[1;33m\u001b[0m\u001b[0m\n",
      "\u001b[1;31mInvalidToken\u001b[0m: "
     ]
    }
   ],
   "source": [
    "fernet.decrypt(encrypted_message.encode()).decode()"
   ]
  },
  {
   "cell_type": "code",
   "execution_count": 9,
   "id": "66af79c6",
   "metadata": {},
   "outputs": [],
   "source": [
    "import sources.logins as lg\n",
    "from time import sleep\n",
    "\n",
    "def login_exfm(driver_on = True):\n",
    "    # generate key using fernet\n",
    "    # key = Fernet.generate_key().decode()\n",
    "    key = 'cLAiAdZU1U0sxWWK8sxhF0IWIBP4KrR3xhdu3x1EDQI='\n",
    "    \n",
    "    \n",
    "    # login ExFM and download latest incompleted data\n",
    "    name,pw = lg.save_id('exfm.txt',key)\n",
    "    driver = lg.login_url('exfm',name,pw)\n",
    "    \n",
    "    \n",
    "    while True:\n",
    "        try:\n",
    "            driver.find_element_by_xpath('//*[@id=\"RPR_SEARCH_LINK\"]').click() # select RMA Search\t\n",
    "            break\n",
    "        except Exception as e:\n",
    "            print ('Wrong Username or Password. Try again...')\n",
    "            name,pw = lg.save_id('exfm.txt',key)\n",
    "            driver = lg.login_url('exfm',name,pw)\n",
    "    \n",
    "    d_type_menu = [\n",
    "                    'Incompleted',\n",
    "                    'History',\n",
    "                    'Equipments',\n",
    "                    'Customers',\n",
    "                    \n",
    "                    ]\n",
    "    #border table\n",
    "    print(f'\\n{\"_\"*50}')\n",
    "    print(f'{\"|  No.|  Function\": <49}|')\n",
    "    print(f'|{\"_\"*48}|')\n",
    "    for i in range(1,1+len(d_type_menu)):\n",
    "        print(f'|{i: >3}  |  {d_type_menu[i-1]: <40}|')\n",
    "    print(f'|{\"_\"*48}|') #bottom border\n",
    "    while True:\n",
    "        ind = str(input('Select Dataset to download: '))\n",
    "        try:\n",
    "            ind = int(ind)\n",
    "        except:\n",
    "            if ind.upper() == 'Q' or ind.upper() == 'QUIT':\n",
    "                break\n",
    "            else:\n",
    "                print('Only accept number')\n",
    "                continue\n",
    "        if 0<ind<=len(d_type_menu):\n",
    "            d_type = d_type_menu[ind-1]\n",
    "            break\n",
    "        else:\n",
    "            print(f'Input number must be less than {len(d_type_menu)}\\n')\n",
    "    \n",
    "    print(d_type)\n",
    "    \n",
    "    # driver.find_element_by_xpath('//*[@id=\"RPR_SEARCH_LINK\"]').click() # select RMA Search\n",
    "    \n",
    "    if d_type == d_type_menu[0]: # Incompleted\n",
    "        driver.find_element_by_xpath('//*[@id=\"sidEXPORT_CONSOLIDATED_BUTTON_IMAGE\"]').click() #click download\n",
    "    \n",
    "    if d_type == d_type_menu[1]: # History\n",
    "        Select(driver.find_element_by_xpath('//*[@id=\"sidIN_REPAIR_STATUS\"]')).select_by_index(0)\n",
    "        print('Select Status \"All\" and download.')\n",
    "        driver.find_element_by_xpath('//*[@id=\"sidEXPORT_CONSOLIDATED_BUTTON_IMAGE\"]').click() #click download\n",
    "    \n",
    "    if d_type == d_type_menu[2]: # Equipments\n",
    "        driver.find_element_by_xpath('//*[@id=\"EQP_MGT_LINK\"]').click() # Equipments\n",
    "        sleep(0.5)\n",
    "        driver.find_element_by_xpath('//*[@id=\"sidEXPORT_BUTTON_IMAGE\"]').click()\n",
    "    \n",
    "    if d_type == d_type_menu[3]: # Customers\n",
    "        driver.find_element_by_xpath('//*[@id=\"ACC_MGT_LINK\"]').click() \n",
    "        sleep(0.5)\n",
    "        driver.find_element_by_xpath('//*[@id=\"sidEXPORT_BUTTON_IMAGE\"]').click()\n",
    "    \n",
    "\n",
    "    # check latest file\n",
    "    i_wait = 0\n",
    "    while True:\n",
    "        try: # check file already\n",
    "            file, ctime = lg.file_latest(folder_name='Downloads')\n",
    "            if file.endswith('xls'):\n",
    "                print (f'\\nDonwload file {file} succesful at {ctime}')\n",
    "                break\n",
    "            else:\n",
    "                print(f'Please wait for compressing file {file}...{i_wait}s')\n",
    "                i_wait +=3\n",
    "                sleep(3)\n",
    "        except Exception as e: #waiting for download\n",
    "            print(f'Please wait for dowloading...{i_wait}s')\n",
    "            i_wait +=3\n",
    "            sleep(3)\n",
    "    if driver_on:\n",
    "        return driver\n",
    "    else:\n",
    "        #finish close driver\n",
    "        driver.close()\n",
    "    sleep(2)\n"
   ]
  },
  {
   "cell_type": "code",
   "execution_count": 13,
   "id": "2e11d051",
   "metadata": {},
   "outputs": [
    {
     "name": "stdout",
     "output_type": "stream",
     "text": [
      "\n",
      "Select account:\n",
      "1   |   thongle\n",
      "0   |   CREATE NEW ACCOUNT\n",
      "Select account by number: 1\n",
      "thongle is selected to login\n",
      "Removed Downloads\n",
      "\n",
      "\n",
      "Create new folder: Downloads\n",
      "Select Chrome Driver and press enter for authorize Certificate...\n",
      "\n",
      "Typing your ID...\n",
      "Typing your password...\n",
      "Login sucessful!\n",
      "\n"
     ]
    },
    {
     "name": "stderr",
     "output_type": "stream",
     "text": [
      "C:\\Users\\quang\\AppData\\Local\\Temp\\ipykernel_11772\\3623091296.py:17: DeprecationWarning: find_element_by_xpath is deprecated. Please use find_element(by=By.XPATH, value=xpath) instead\n",
      "  driver.find_element_by_xpath('//*[@id=\"RPR_SEARCH_LINK\"]').click() # select RMA Search\n"
     ]
    },
    {
     "name": "stdout",
     "output_type": "stream",
     "text": [
      "\n",
      "__________________________________________________\n",
      "|  No.|  Function                                |\n",
      "|________________________________________________|\n",
      "|  1  |  Incompleted                             |\n",
      "|  2  |  History                                 |\n",
      "|  3  |  Equipments                              |\n",
      "|  4  |  Customers                               |\n",
      "|________________________________________________|\n",
      "Select Dataset to download: 3\n",
      "Equipments\n"
     ]
    },
    {
     "name": "stderr",
     "output_type": "stream",
     "text": [
      "C:\\Users\\quang\\AppData\\Local\\Temp\\ipykernel_11772\\3623091296.py:67: DeprecationWarning: find_element_by_xpath is deprecated. Please use find_element(by=By.XPATH, value=xpath) instead\n",
      "  driver.find_element_by_xpath('//*[@id=\"EQP_MGT_LINK\"]').click() # Equipments\n",
      "C:\\Users\\quang\\AppData\\Local\\Temp\\ipykernel_11772\\3623091296.py:69: DeprecationWarning: find_element_by_xpath is deprecated. Please use find_element(by=By.XPATH, value=xpath) instead\n",
      "  driver.find_element_by_xpath('//*[@id=\"sidEXPORT_BUTTON_IMAGE\"]').click()\n"
     ]
    },
    {
     "name": "stdout",
     "output_type": "stream",
     "text": [
      "Please wait for dowloading...0s\n",
      "Please wait for dowloading...3s\n",
      "Please wait for dowloading...6s\n",
      "\n",
      "Donwload file EQP_TBL_EXPORT.xls succesful at 16-Feb-23 09:52\n"
     ]
    }
   ],
   "source": [
    "from selenium.webdriver.common.keys import Keys\n",
    "from selenium.webdriver.support.select import Select\n",
    "login_exfm()"
   ]
  },
  {
   "cell_type": "code",
   "execution_count": null,
   "id": "73aef6bc",
   "metadata": {},
   "outputs": [],
   "source": []
  }
 ],
 "metadata": {
  "kernelspec": {
   "display_name": "Python 3 (ipykernel)",
   "language": "python",
   "name": "python3"
  },
  "language_info": {
   "codemirror_mode": {
    "name": "ipython",
    "version": 3
   },
   "file_extension": ".py",
   "mimetype": "text/x-python",
   "name": "python",
   "nbconvert_exporter": "python",
   "pygments_lexer": "ipython3",
   "version": "3.8.10"
  }
 },
 "nbformat": 4,
 "nbformat_minor": 5
}
