{
 "cells": [
  {
   "cell_type": "code",
   "execution_count": 1,
   "id": "ef9eaa6b",
   "metadata": {},
   "outputs": [
    {
     "name": "stdout",
     "output_type": "stream",
     "text": [
      "Done\n"
     ]
    }
   ],
   "source": [
    "import pandas as pd\n",
    "from sqlite3 import connect\n",
    "import xlwings as xw\n",
    "from IPython.display import Image, display\n",
    "import pathlib\n",
    "import os\n",
    "print('Done')"
   ]
  },
  {
   "cell_type": "code",
   "execution_count": null,
   "id": "e9369027",
   "metadata": {},
   "outputs": [],
   "source": [
    "folder_name = 'files'\n",
    "\n",
    "path = pathlib.Path().absolute()\n",
    "\n",
    "os.listdir(folder_name)"
   ]
  },
  {
   "cell_type": "markdown",
   "id": "9ccfa1ec",
   "metadata": {},
   "source": [
    "file_name = 'ACC_TBL_EXPORT.xls'"
   ]
  },
  {
   "cell_type": "code",
   "execution_count": null,
   "id": "eb5b0a6a",
   "metadata": {},
   "outputs": [],
   "source": [
    "file_name = 'files/ACC_TBL_EXPORT.xls'\n"
   ]
  },
  {
   "cell_type": "code",
   "execution_count": null,
   "id": "354e3777",
   "metadata": {},
   "outputs": [],
   "source": [
    "conn = connect('dealer.db')"
   ]
  },
  {
   "cell_type": "code",
   "execution_count": null,
   "id": "2bc87ff8",
   "metadata": {},
   "outputs": [],
   "source": [
    "q = 'select * from customers'\n",
    "pd.read_sql(q,conn)"
   ]
  },
  {
   "cell_type": "code",
   "execution_count": null,
   "id": "dcfb47b0",
   "metadata": {},
   "outputs": [],
   "source": [
    "customers = pd.read_excel(file_name,sheet_name = None)\n",
    "(customers['csvdata']).to_sql('customers',conn,index=False,if_exists='replace')"
   ]
  },
  {
   "cell_type": "code",
   "execution_count": null,
   "id": "1347b67a",
   "metadata": {},
   "outputs": [],
   "source": [
    "q = '''\n",
    "        SELECT [no.],name,territory,city\n",
    "        FROM customers\n",
    "        WHERE area = 'South'\n",
    "    '''\n",
    "try:\n",
    "    abc = pd.read_sql(q,conn)\n",
    "    display(abc)\n",
    "except Exception as e:\n",
    "    print(e)"
   ]
  },
  {
   "cell_type": "code",
   "execution_count": null,
   "id": "4de4c378",
   "metadata": {},
   "outputs": [],
   "source": [
    "# south_site = tuple(abc['No.'])"
   ]
  },
  {
   "cell_type": "code",
   "execution_count": null,
   "id": "aa81bc1e",
   "metadata": {},
   "outputs": [],
   "source": [
    "q = '''\n",
    "        SELECT [customer code],[customer name],addr1,territoy as Distributor,\n",
    "        model,[serial no.],type,\n",
    "        strftime('%Y-%m-%d',[date installed]) as [date installed],\n",
    "        strftime('%Y-%m-%d',[wty end date]) as [wty_end_date],\n",
    "        strftime('%Y-%m-%d',[last repair date(shipping)]) as [Last Repair Date]\n",
    "        FROM install i\n",
    "        LEFT JOIN customers c ON i.[customer code] = c.[no.]\n",
    "        WHERE c.area is NOT 'North'\n",
    "        \n",
    "    '''\n",
    "try:\n",
    "    deg = pd.read_sql(q,conn)\n",
    "    display(deg)\n",
    "except Exception as e:\n",
    "    print(e)"
   ]
  },
  {
   "cell_type": "code",
   "execution_count": null,
   "id": "23adc253",
   "metadata": {},
   "outputs": [],
   "source": [
    "deg.to_excel('inspection/addr.xlsx',index = False)"
   ]
  },
  {
   "cell_type": "code",
   "execution_count": null,
   "id": "3b287c94",
   "metadata": {},
   "outputs": [],
   "source": [
    "q = 'SELECT DISTINCT [no.],addr1 from customers'\n",
    "addr = pd.read_sql(q,conn)"
   ]
  },
  {
   "cell_type": "code",
   "execution_count": null,
   "id": "a2b73c5c",
   "metadata": {},
   "outputs": [],
   "source": [
    "addr.to_excel('inspection/address.xlsx',index=False)"
   ]
  },
  {
   "cell_type": "code",
   "execution_count": null,
   "id": "397266ae",
   "metadata": {},
   "outputs": [],
   "source": []
  },
  {
   "cell_type": "code",
   "execution_count": null,
   "id": "00706d8b",
   "metadata": {},
   "outputs": [],
   "source": []
  },
  {
   "cell_type": "code",
   "execution_count": null,
   "id": "015a9242",
   "metadata": {},
   "outputs": [],
   "source": []
  },
  {
   "cell_type": "code",
   "execution_count": null,
   "id": "e15d09eb",
   "metadata": {},
   "outputs": [],
   "source": []
  },
  {
   "cell_type": "code",
   "execution_count": 2,
   "id": "dbc324b8",
   "metadata": {},
   "outputs": [],
   "source": [
    "conn = connect('history.db')"
   ]
  },
  {
   "cell_type": "code",
   "execution_count": 6,
   "id": "532963c7",
   "metadata": {},
   "outputs": [
    {
     "data": {
      "text/plain": [
       "('4V605K098',\n",
       " '4V605K099',\n",
       " '9G402K247',\n",
       " '6C731K053',\n",
       " '6W599K670',\n",
       " '9G402K464',\n",
       " '6W599K671',\n",
       " '7C730K005',\n",
       " '5V605K772',\n",
       " '7C728K101',\n",
       " '2V696K421',\n",
       " '9G391K336',\n",
       " '6G387K018',\n",
       " '6V644K341',\n",
       " '6S191K983',\n",
       " '8G403K034',\n",
       " '4G412K653',\n",
       " 'JC643K005',\n",
       " '4C741K183',\n",
       " '7S101K160',\n",
       " '8G403K088',\n",
       " '7C731K054',\n",
       " '4G412K528',\n",
       " '4G412K654',\n",
       " '7G290K270',\n",
       " '7G290K271',\n",
       " '9G403K069',\n",
       " '9G403K070',\n",
       " '8C730K002',\n",
       " '2V696K627',\n",
       " '5G412K109',\n",
       " '5C741K185',\n",
       " '2V696K630',\n",
       " '5G412K110',\n",
       " '5C741K186',\n",
       " '8C688K210',\n",
       " '8C730K003',\n",
       " '6V609K008',\n",
       " '6V609K013',\n",
       " '7S094K78',\n",
       " '7S094K945',\n",
       " 'LG361K011',\n",
       " 'LG361K012',\n",
       " 'KC643K086',\n",
       " 'IKE1805BYT00001',\n",
       " ' KC643K087',\n",
       " 'LG361K001',\n",
       " 'LG361K009',\n",
       " '1C653K513',\n",
       " '1C653K514',\n",
       " '6V605K347',\n",
       " '6V605K351',\n",
       " 'KC643K009',\n",
       " '6B083K190',\n",
       " 'LG361K276',\n",
       " 'KC643K246',\n",
       " 'LG361K423',\n",
       " 'LG361K346',\n",
       " 'LG361K428',\n",
       " 'LG361K439',\n",
       " '8G403K186',\n",
       " '6V609K262',\n",
       " '7S094K954',\n",
       " 'LG361K351',\n",
       " 'LG361K354',\n",
       " '6V609K265',\n",
       " '6V609K266',\n",
       " '7S094K964',\n",
       " '7S094K967',\n",
       " 'LG361K355',\n",
       " 'LG361K433',\n",
       " 'KC643K400',\n",
       " '2V696K730',\n",
       " '2V696K927',\n",
       " '2V696K928',\n",
       " 'JG390K108',\n",
       " 'JG390K109',\n",
       " '9G403K065',\n",
       " '6V644K516',\n",
       " '6V644K496',\n",
       " '7S101K585',\n",
       " '7S101K431',\n",
       " '5C741K442',\n",
       " '9G403K306',\n",
       " '9G403K307',\n",
       " '9G403K308',\n",
       " '8C730K021',\n",
       " '8C730K022',\n",
       " '8C730K023',\n",
       " '5G412K904',\n",
       " '5C742K518',\n",
       " '6V605K706')"
      ]
     },
     "execution_count": 6,
     "metadata": {},
     "output_type": "execute_result"
    }
   ],
   "source": [
    "sn_list ='''\n",
    "4V605K098\n",
    "4V605K099\n",
    "9G402K247\n",
    "6C731K053\n",
    "6W599K670\n",
    "9G402K464\n",
    "6W599K671\n",
    "7C730K005\n",
    "5V605K772\n",
    "7C728K101\n",
    "2V696K421\n",
    "9G391K336\n",
    "6G387K018\n",
    "6V644K341\n",
    "6S191K983\n",
    "8G403K034\n",
    "4G412K653\n",
    "JC643K005\n",
    "4C741K183\n",
    "7S101K160\n",
    "8G403K088\n",
    "7C731K054\n",
    "4G412K528\n",
    "4G412K654\n",
    "7G290K270\n",
    "7G290K271\n",
    "9G403K069\n",
    "9G403K070\n",
    "8C730K002\n",
    "2V696K627\n",
    "5G412K109\n",
    "5C741K185\n",
    "2V696K630\n",
    "5G412K110\n",
    "5C741K186\n",
    "8C688K210\n",
    "8C730K003\n",
    "6V609K008\n",
    "6V609K013\n",
    "7S094K78\n",
    "7S094K945\n",
    "LG361K011\n",
    "LG361K012\n",
    "KC643K086\n",
    "IKE1805BYT00001\n",
    " KC643K087\n",
    "LG361K001\n",
    "LG361K009\n",
    "1C653K513\n",
    "1C653K514\n",
    "6V605K347\n",
    "6V605K351\n",
    "KC643K009\n",
    "6B083K190\n",
    "LG361K276\n",
    "KC643K246\n",
    "LG361K423\n",
    "LG361K346\n",
    "LG361K428\n",
    "LG361K439\n",
    "8G403K186\n",
    "6V609K262\n",
    "7S094K954\n",
    "LG361K351\n",
    "LG361K354\n",
    "6V609K265\n",
    "6V609K266\n",
    "7S094K964\n",
    "7S094K967\n",
    "LG361K355\n",
    "LG361K433\n",
    "KC643K400\n",
    "2V696K730\n",
    "2V696K927\n",
    "2V696K928\n",
    "JG390K108\n",
    "JG390K109\n",
    "9G403K065\n",
    "6V644K516\n",
    "6V644K496\n",
    "7S101K585\n",
    "7S101K431\n",
    "5C741K442\n",
    "9G403K306\n",
    "9G403K307\n",
    "9G403K308\n",
    "8C730K021\n",
    "8C730K022\n",
    "8C730K023\n",
    "5G412K904\n",
    "5C742K518\n",
    "6V605K706\n",
    "\n",
    "'''\n",
    "sn_list = tuple(sn_list.strip().split('\\n'))\n",
    "sn_list"
   ]
  },
  {
   "cell_type": "code",
   "execution_count": 8,
   "id": "e6e19a7b",
   "metadata": {},
   "outputs": [
    {
     "data": {
      "text/html": [
       "<div>\n",
       "<style scoped>\n",
       "    .dataframe tbody tr th:only-of-type {\n",
       "        vertical-align: middle;\n",
       "    }\n",
       "\n",
       "    .dataframe tbody tr th {\n",
       "        vertical-align: top;\n",
       "    }\n",
       "\n",
       "    .dataframe thead th {\n",
       "        text-align: right;\n",
       "    }\n",
       "</style>\n",
       "<table border=\"1\" class=\"dataframe\">\n",
       "  <thead>\n",
       "    <tr style=\"text-align: right;\">\n",
       "      <th></th>\n",
       "      <th>Serial No.</th>\n",
       "      <th>Model</th>\n",
       "      <th>UDI</th>\n",
       "      <th>Customer Code</th>\n",
       "      <th>Customer Name</th>\n",
       "      <th>Customer Rank</th>\n",
       "      <th>Territoy</th>\n",
       "      <th>Address1</th>\n",
       "      <th>City</th>\n",
       "      <th>Area</th>\n",
       "      <th>...</th>\n",
       "      <th>VET</th>\n",
       "      <th>ISO</th>\n",
       "      <th>MODIFIED</th>\n",
       "      <th>Rental Date</th>\n",
       "      <th>Rental Return Due Date</th>\n",
       "      <th>Rental Reason</th>\n",
       "      <th>Rental Country</th>\n",
       "      <th>Rental Customer</th>\n",
       "      <th>Demo Request</th>\n",
       "      <th>TIB Period</th>\n",
       "    </tr>\n",
       "  </thead>\n",
       "  <tbody>\n",
       "  </tbody>\n",
       "</table>\n",
       "<p>0 rows × 55 columns</p>\n",
       "</div>"
      ],
      "text/plain": [
       "Empty DataFrame\n",
       "Columns: [Serial No., Model, UDI, Customer Code, Customer Name, Customer Rank, Territoy, Address1, City, Area, Group, Type, Ownership, Rental Status, Date Sold, Date Installed, Date Disposal, Date of Sale, WTY Start Date, WTY End Date, Last Repair Date(Shipping), Last Repair RMA, Sales Person, Order No., Invoice No., Current Status Name, Fixed No., Note 1, Note 2, Note 3, Ship To Code, Ship To Name, Ship To Address, Ship To City, Ship To State, Ship To Zip, Ship To Country, Create Time, Create User Code, Update Time, Update User Code, Fice, Sales Partner Code, Sales Partner Name, RoHS, VET, ISO, MODIFIED, Rental Date, Rental Return Due Date, Rental Reason, Rental Country, Rental Customer, Demo Request, TIB Period]\n",
       "Index: []\n",
       "\n",
       "[0 rows x 55 columns]"
      ]
     },
     "execution_count": 8,
     "metadata": {},
     "output_type": "execute_result"
    }
   ],
   "source": [
    "q = f'''\n",
    "        SELECT * FROM install\n",
    "        WHERE [serial no.] IN {sn_list}\n",
    "'''\n",
    "pd.read_sql(q,conn)"
   ]
  },
  {
   "cell_type": "code",
   "execution_count": null,
   "id": "4cb07162",
   "metadata": {},
   "outputs": [],
   "source": []
  }
 ],
 "metadata": {
  "kernelspec": {
   "display_name": "Python 3 (ipykernel)",
   "language": "python",
   "name": "python3"
  },
  "language_info": {
   "codemirror_mode": {
    "name": "ipython",
    "version": 3
   },
   "file_extension": ".py",
   "mimetype": "text/x-python",
   "name": "python",
   "nbconvert_exporter": "python",
   "pygments_lexer": "ipython3",
   "version": "3.10.9"
  }
 },
 "nbformat": 4,
 "nbformat_minor": 5
}
