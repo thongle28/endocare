{
 "cells": [
  {
   "cell_type": "code",
   "execution_count": 1,
   "id": "d8dae52b",
   "metadata": {},
   "outputs": [],
   "source": [
    "import sources.logins as lg\n",
    "from sqlite3 import connect\n",
    "import sources.parts_list_0802 as pl\n",
    "import pandas as pd\n",
    "from datetime import datetime as dt\n",
    "import xlwings as xw"
   ]
  },
  {
   "cell_type": "code",
   "execution_count": null,
   "id": "1b2a8408",
   "metadata": {},
   "outputs": [],
   "source": [
    "# check all table\n",
    "pd.read_sql(\"SELECT name FROM sqlite_master WHERE type ='table'\",conn)"
   ]
  },
  {
   "cell_type": "code",
   "execution_count": null,
   "id": "7d5f4720",
   "metadata": {},
   "outputs": [],
   "source": [
    "#call header from m_list\n",
    "cursor = conn.execute('select * from m_list')\n",
    "names = list(map(lambda x: x[0], cursor.description))\n",
    "names\n",
    "for name in names: print(name)"
   ]
  },
  {
   "cell_type": "code",
   "execution_count": 2,
   "id": "51c5eec1",
   "metadata": {},
   "outputs": [],
   "source": [
    "conn = connect('quotation.db')\n",
    "cur = conn.cursor()"
   ]
  },
  {
   "cell_type": "code",
   "execution_count": 3,
   "id": "966866f3",
   "metadata": {
    "scrolled": true
   },
   "outputs": [],
   "source": [
    "# receive this week\n",
    "report_start_date = '2023-08-21'\n",
    "q = f'''\n",
    "        SELECT [rma no.],customer_name,model,serial_no,\n",
    "        strftime('%Y-%m-%d',recieve_date)AS [receive date],\n",
    "        recieve_user_name,repair_status,e.location\n",
    "        \n",
    "        FROM consolidated c\n",
    "        LEFT JOIN engineers e ON c.recieve_user_name = e.exfm_name\n",
    "        WHERE recieve_date >= '{report_start_date}'\n",
    "        ORDER BY location,customer_name\n",
    "        \n",
    "    '''\n",
    "receive = pd.read_sql(q,conn)\n"
   ]
  },
  {
   "cell_type": "code",
   "execution_count": 4,
   "id": "9c5ef603",
   "metadata": {},
   "outputs": [],
   "source": [
    "# inspection and repair by location\n",
    "\n",
    "q = f'''\n",
    "            SELECT \n",
    "                DISTINCT c.[rma no.],customer_name,model,serial_no,recieve_date,in_inspect_date,\n",
    "                r.[start time],r.[end time],'Inspection' AS [repair size],\n",
    "                in_inspect_user_name AS PIC,e.location\n",
    "\n",
    "                FROM (consolidated c\n",
    "                LEFT JOIN engineers e ON c.recieve_user_name = e.exfm_name)\n",
    "                LEFT JOIN repair_code r ON c.[rma no.] = r.[rma no.]\n",
    "                WHERE in_inspect_date >= '{report_start_date}'\n",
    "                \n",
    "                \n",
    "            UNION ALL\n",
    "                SELECT DISTINCT c.[rma no.],customer_name,model,serial_no,recieve_date,in_inspect_date,\n",
    "                    r.[start time],r.[end time],c.[repair size],\n",
    "                    CASE\n",
    "                        WHEN r.[start user] NOT NULL THEN r.[start user]\n",
    "                        ELSE c.[repair user name] END AS [Repair User],\n",
    "                    e.location\n",
    "\n",
    "\n",
    "                    FROM (consolidated c\n",
    "                    LEFT JOIN engineers e ON c.recieve_user_name = e.exfm_name)\n",
    "                    LEFT JOIN repair_code r ON c.[rma no.] = r.[rma no.]\n",
    "                    WHERE r.[start time] >= '{report_start_date}'\n",
    "                    \n",
    "    '''\n",
    "wr = pd.read_sql(q,conn)\n",
    "# wr"
   ]
  },
  {
   "cell_type": "code",
   "execution_count": 5,
   "id": "09006856",
   "metadata": {},
   "outputs": [
    {
     "data": {
      "text/plain": [
       "34"
      ]
     },
     "execution_count": 5,
     "metadata": {},
     "output_type": "execute_result"
    }
   ],
   "source": [
    "wr.to_sql('weekly_report',conn,if_exists = 'replace',index = False)"
   ]
  },
  {
   "cell_type": "code",
   "execution_count": null,
   "id": "a6a38a1d",
   "metadata": {},
   "outputs": [],
   "source": [
    "# pd.read_sql('select * from weekly_report ORDER BY location,[repair size]',conn)"
   ]
  },
  {
   "cell_type": "code",
   "execution_count": 6,
   "id": "2a66e24c",
   "metadata": {},
   "outputs": [],
   "source": [
    "# repair type\n",
    "q = f'''\n",
    "        SELECT [rma no.],customer_name,model,serial_no,recieve_date,[repair size],location,\n",
    "        CASE\n",
    "            WHEN [repair size] = 'Inspection' AND PIC ='Nguyen Thai' THEN 'Inspection'\n",
    "            WHEN [repair size] = 'Minor' AND PIC ='Nguyen Thai' THEN 'Minor'\n",
    "            WHEN [repair size] = 'Other' AND PIC ='Nguyen Thai' THEN 'Minor'\n",
    "            WHEN [repair size] = 'Major' AND PIC ='Nguyen Thai' THEN 'Major'\n",
    "            \n",
    "            ELSE '-' END AS 'Nguyen',\n",
    "        CASE\n",
    "            WHEN [repair size] = 'Inspection' AND PIC ='hoang' THEN 'Inspection'\n",
    "            WHEN [repair size] = 'Minor' AND PIC ='hoang' THEN 'Minor'\n",
    "            WHEN [repair size] = 'Other' AND PIC ='hoang' THEN 'Minor'\n",
    "            WHEN [repair size] = 'Major' AND PIC ='hoang' THEN 'Major'\n",
    "            ELSE '-' END AS 'Hoang',\n",
    "        CASE\n",
    "            WHEN [repair size] = 'Inspection' AND PIC ='Le Quang Thong' THEN 'Inspection'\n",
    "            WHEN [repair size] = 'Minor' AND PIC ='Le Quang Thong' THEN 'Minor'\n",
    "            WHEN [repair size] = 'Other' AND PIC ='Le Quang Thong' THEN 'Minor'\n",
    "            WHEN [repair size] = 'Major' AND PIC ='Le Quang Thong' THEN 'Major'\n",
    "            ELSE '-' END AS 'Thong',\n",
    "        CASE\n",
    "            WHEN [repair size] = 'Inspection' AND PIC ='Nguyen Khac Thang (Hanoi)' THEN 'Inspection'\n",
    "            WHEN [repair size] = 'Minor' AND PIC ='Nguyen Khac Thang (Hanoi)' THEN 'Minor'\n",
    "            WHEN [repair size] = 'Other' AND PIC ='Nguyen Khac Thang (Hanoi)' THEN 'Minor'\n",
    "            WHEN [repair size] = 'Major' AND PIC ='Nguyen Khac Thang (Hanoi)' THEN 'Major'\n",
    "            ELSE '-' END AS 'Thang',\n",
    "        CASE\n",
    "            WHEN [repair size] = 'Inspection' AND PIC ='Le Van Hoan' THEN 'Inspection'\n",
    "            WHEN [repair size] = 'Minor' AND PIC ='Le Van Hoan' THEN 'Minor'\n",
    "            WHEN [repair size] = 'Other' AND PIC ='Le Van Hoan' THEN 'Minor'\n",
    "            WHEN [repair size] = 'Major' AND PIC ='Le Van Hoan' THEN 'Major'\n",
    "            ELSE '-' END AS 'Hoanle',\n",
    "        CASE\n",
    "            WHEN [repair size] = 'Inspection' AND PIC ='Nguyen Tuan Minh' THEN 'Inspection'\n",
    "            WHEN [repair size] = 'Minor' AND PIC ='Nguyen Tuan Minh' THEN 'Minor'\n",
    "            WHEN [repair size] = 'Other' AND PIC ='Nguyen Tuan Minh' THEN 'Minor'\n",
    "            WHEN [repair size] = 'Major' AND PIC ='Nguyen Tuan Minh' THEN 'Major'\n",
    "            ELSE '-' END AS 'Minh'\n",
    "            \n",
    "            \n",
    "            \n",
    "        FROM weekly_report\n",
    "        ORDER BY location,[repair size]\n",
    "    '''\n",
    "completed = pd.read_sql(q,conn)"
   ]
  },
  {
   "cell_type": "code",
   "execution_count": 11,
   "id": "fc088f65",
   "metadata": {},
   "outputs": [],
   "source": []
  },
  {
   "cell_type": "code",
   "execution_count": 14,
   "id": "b93aa081",
   "metadata": {},
   "outputs": [
    {
     "name": "stdout",
     "output_type": "stream",
     "text": [
      "Done\n"
     ]
    }
   ],
   "source": [
    "# open template\n",
    "wb = xw.Book('templates/weekly_report.xlsx')\n",
    "sh_in = wb.sheets('In')\n",
    "sh_out = wb.sheets('Out')\n",
    "\n",
    "#initial IN\n",
    "sh_in.range('A2').value = 'Customer'\n",
    "sh_in.range('B2').value = 'Model'\n",
    "sh_in.range('C2').value = 'Serial'\n",
    "sh_in.range('D2').value = 'Recieve'\n",
    "sh_in.range('E2').value = 'Location'\n",
    "sh_in.range('F2').value = 'Status'\n",
    "\n",
    "for i in range(len(receive)):\n",
    "    sh_in.range('A3').offset(i,0).value = receive['CUSTOMER_NAME'][i]\n",
    "    sh_in.range('B3').offset(i,0).value = receive['MODEL'][i]\n",
    "    sh_in.range('C3').offset(i,0).value = receive['SERIAL_NO'][i]\n",
    "    sh_in.range('D3').offset(i,0).value = receive['receive date'][i]\n",
    "    sh_in.range('E3').offset(i,0).value = receive['location'][i]\n",
    "    sh_in.range('F3').offset(i,0).value = receive['REPAIR_STATUS'][i]\n",
    "    \n",
    "#initial OUT\n",
    "sh_out.range('A2').value = 'Customer'\n",
    "sh_out.range('B2').value = 'Model'\n",
    "sh_out.range('C2').value = 'Serial'\n",
    "sh_out.range('D2').value = 'Receive'\n",
    "sh_out.range('E2').value = 'Nguyên'\n",
    "sh_out.range('F2').value = 'Hoàng'\n",
    "sh_out.range('G2').value = 'Thông'\n",
    "\n",
    "hcm = completed[completed['location']=='HCM']\n",
    "hcm = hcm.reset_index(drop=True)\n",
    "\n",
    "for i in range(len(hcm)):\n",
    "    sh_out.range('A3').offset(i,0).value = hcm['CUSTOMER_NAME'][i]\n",
    "    sh_out.range('B3').offset(i,0).value = hcm['MODEL'][i]\n",
    "    sh_out.range('C3').offset(i,0).value = hcm['SERIAL_NO'][i]\n",
    "    sh_out.range('D3').offset(i,0).value = hcm['RECIEVE_DATE'][i]\n",
    "    sh_out.range('E3').offset(i,0).value = hcm['Nguyen'][i]\n",
    "    sh_out.range('F3').offset(i,0).value = hcm['Hoang'][i]\n",
    "    sh_out.range('G3').offset(i,0).value = hcm['Thong'][i]\n",
    " \n",
    "k = len(hcm)+3\n",
    "\n",
    "sh_out.range('A2').offset(k,0).value = 'Customer'\n",
    "sh_out.range('B2').offset(k,0).value = 'Model'\n",
    "sh_out.range('C2').offset(k,0).value = 'Serial'\n",
    "sh_out.range('D2').offset(k,0).value = 'Receive'\n",
    "sh_out.range('E2').offset(k,0).value = 'Thắng'\n",
    "sh_out.range('F2').offset(k,0).value = 'Hoàn'\n",
    "sh_out.range('G2').offset(k,0).value = 'Minh'\n",
    "\n",
    "hanoi = completed[completed['location']=='Hanoi']\n",
    "hanoi = hanoi.reset_index(drop=True)\n",
    "\n",
    "for i in range(len(hanoi)):\n",
    "    sh_out.range('A3').offset(i+k,0).value = hanoi['CUSTOMER_NAME'][i]\n",
    "    sh_out.range('B3').offset(i+k,0).value = hanoi['MODEL'][i]\n",
    "    sh_out.range('C3').offset(i+k,0).value = hanoi['SERIAL_NO'][i]\n",
    "    sh_out.range('D3').offset(i+k,0).value = hanoi['RECIEVE_DATE'][i]\n",
    "    sh_out.range('E3').offset(i+k,0).value = hanoi['Thang'][i]\n",
    "    sh_out.range('F3').offset(i+k,0).value = hanoi['Hoanle'][i]\n",
    "    sh_out.range('G3').offset(i+k,0).value = hanoi['Minh'][i]\n",
    "print('Done')"
   ]
  },
  {
   "cell_type": "code",
   "execution_count": 9,
   "id": "2cedcd58",
   "metadata": {},
   "outputs": [
    {
     "name": "stdout",
     "output_type": "stream",
     "text": [
      "Done\n"
     ]
    }
   ],
   "source": [
    "\n",
    "print('Done')"
   ]
  },
  {
   "cell_type": "code",
   "execution_count": 15,
   "id": "b8077e90",
   "metadata": {},
   "outputs": [
    {
     "name": "stdout",
     "output_type": "stream",
     "text": [
      "Folder weekly_report exists\n",
      "weekly_report_230824.xlsx saved and close.\n"
     ]
    }
   ],
   "source": [
    "from datetime import datetime as dt\n",
    "import os\n",
    "today = dt.now().strftime('%y%m%d')\n",
    "folder_name = 'weekly_report'\n",
    "try:\n",
    "    os.mkdir(folder_name)\n",
    "    print(f'folder {folder_name} was created.')\n",
    "    \n",
    "except:\n",
    "    print(f'Folder {folder_name} exists')\n",
    "try:\n",
    "    wb.save(f'{folder_name}/weekly_report_{today}.xlsx')\n",
    "    print(f'{wb.name} saved and close.')\n",
    "    wb.close()\n",
    "except:\n",
    "    pass"
   ]
  },
  {
   "cell_type": "code",
   "execution_count": null,
   "id": "05bc98d9",
   "metadata": {},
   "outputs": [],
   "source": []
  },
  {
   "cell_type": "code",
   "execution_count": null,
   "id": "fe2fe226",
   "metadata": {
    "scrolled": false
   },
   "outputs": [],
   "source": [
    "completed"
   ]
  },
  {
   "cell_type": "code",
   "execution_count": null,
   "id": "8a3f4dcd",
   "metadata": {},
   "outputs": [],
   "source": []
  },
  {
   "cell_type": "code",
   "execution_count": null,
   "id": "e449330b",
   "metadata": {},
   "outputs": [],
   "source": []
  },
  {
   "cell_type": "code",
   "execution_count": null,
   "id": "37096079",
   "metadata": {},
   "outputs": [],
   "source": []
  },
  {
   "cell_type": "code",
   "execution_count": null,
   "id": "8d1037d7",
   "metadata": {},
   "outputs": [],
   "source": [
    "wb.close()"
   ]
  },
  {
   "cell_type": "code",
   "execution_count": null,
   "id": "e1097d85",
   "metadata": {},
   "outputs": [],
   "source": []
  },
  {
   "cell_type": "code",
   "execution_count": null,
   "id": "f06484a1",
   "metadata": {},
   "outputs": [],
   "source": []
  }
 ],
 "metadata": {
  "kernelspec": {
   "display_name": "Python 3 (ipykernel)",
   "language": "python",
   "name": "python3"
  },
  "language_info": {
   "codemirror_mode": {
    "name": "ipython",
    "version": 3
   },
   "file_extension": ".py",
   "mimetype": "text/x-python",
   "name": "python",
   "nbconvert_exporter": "python",
   "pygments_lexer": "ipython3",
   "version": "3.10.9"
  }
 },
 "nbformat": 4,
 "nbformat_minor": 5
}
