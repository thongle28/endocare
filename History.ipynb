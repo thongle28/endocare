{
 "cells": [
  {
   "cell_type": "code",
   "execution_count": 1,
   "metadata": {},
   "outputs": [],
   "source": [
    "import xlwings as xw\n",
    "import sources.parts_list_0802 as pl\n",
    "import pandas as pd\n",
    "import os\n",
    "from datetime import datetime as dt\n",
    "import sources.logins as lg\n",
    "import pathlib\n",
    "import qrcode\n",
    "from time import sleep\n",
    "import xlwings as xw\n",
    "from IPython.display import Image, display"
   ]
  },
  {
   "cell_type": "code",
   "execution_count": null,
   "metadata": {},
   "outputs": [],
   "source": [
    "driver = lg.check_driver()\n",
    "try:\n",
    "    driver.close()\n",
    "except Exception as e:\n",
    "    pass"
   ]
  },
  {
   "cell_type": "code",
   "execution_count": null,
   "metadata": {},
   "outputs": [],
   "source": [
    "d_type=''\n",
    "d_type = 'all' #download for routine-> ignore #\n",
    "lg.download_consolidated(d_type)\n",
    "\n",
    "# Rename for Download All\n",
    "if d_type =='all':\n",
    "    folder_name = 'Downloads'\n",
    "    file,ctime = lg.file_latest(folder_name)\n",
    "    new_name = f'{file.split(\".\")[0]}_All.xls'\n",
    "    fname = os.path.join(folder_name,file)\n",
    "    n_name =  os.path.join(folder_name,new_name)\n",
    "    try:\n",
    "        os.rename(fname,n_name)\n",
    "    except Exception as e:\n",
    "        print (e)\n",
    "lg.backups('Downloads','files','.xls')\n",
    "print('Done')"
   ]
  },
  {
   "cell_type": "code",
   "execution_count": 2,
   "metadata": {},
   "outputs": [
    {
     "name": "stdout",
     "output_type": "stream",
     "text": [
      "\n",
      "\tver 802\n",
      "\tremove\tORDER BY [Dealer price] DESC\n",
      "\t \n",
      "\n",
      "\tTao part list tu RMA ver 3.1.0\n",
      "\tThem hang print tilte GDKT\n",
      "\tThem GDKT tu dong\n",
      "\tThem def list_rma\n",
      "Update data(y/N): n\n",
      "\n",
      "Select Database: \n",
      "\n",
      "______________________________________________________________________\n",
      "|  No.|  File Name                               |  Modified Time    |\n",
      "|____________________________________________________________________|\n",
      "|  1  |  history.db                              |  12-Oct-23 15:21  |\n",
      "|  2  |  quotation.db                            |  16-Oct-23 06:04  |\n",
      "|____________________________________________________________________|\n",
      "Select file (Default 1): 1\n",
      "\"history.db\" is selected\n",
      "\n",
      " Used exists data.\n"
     ]
    }
   ],
   "source": [
    "# initialize\n",
    "a =pl.parts_list()\n",
    "\n",
    "try:\n",
    "    conn.close()\n",
    "except:\n",
    "    pass\n",
    "intro = str(a.__doc__).split('\\n')\n",
    "for i in intro:\n",
    "    print(i)\n",
    "conn = a.question()\n",
    "# pd.read_sql(\"SELECT name FROM sqlite_master WHERE type='table'\",conn)"
   ]
  },
  {
   "cell_type": "code",
   "execution_count": 3,
   "metadata": {
    "scrolled": true
   },
   "outputs": [
    {
     "data": {
      "text/plain": [
       "<sqlite3.Connection at 0x1df0b309640>"
      ]
     },
     "execution_count": 3,
     "metadata": {},
     "output_type": "execute_result"
    }
   ],
   "source": [
    "conn\n"
   ]
  },
  {
   "cell_type": "code",
   "execution_count": null,
   "metadata": {},
   "outputs": [],
   "source": [
    "conn.close()"
   ]
  },
  {
   "cell_type": "code",
   "execution_count": null,
   "metadata": {},
   "outputs": [],
   "source": [
    "name =\"SPLING HOLDING BASE(1.44MM)\"\n",
    "q = f'''\n",
    "        SELECT p.[RMA NO.],PART_NO,PART_DESCRIPTION\n",
    "        \n",
    "        FROM parts p\n",
    "        WHERE PART_DESCRIPTION = \"{name}\"\n",
    "    '''\n",
    "pd.read_sql(q,conn)"
   ]
  },
  {
   "cell_type": "code",
   "execution_count": null,
   "metadata": {},
   "outputs": [],
   "source": [
    "# sear customer name  and return customer code\n",
    "q = '''\n",
    "        SELECT DISTINCT CUSTOMER_CODE, CUSTOMER_NAME\n",
    "        FROM consolidated\n",
    "        ORDER BY customer_code\n",
    "        \n",
    "    '''\n",
    "\n",
    "customer_list = pd.read_sql(q,conn)\n",
    "\n",
    "cus_search = str(input('Customer name:'))\n",
    "df = customer_list[customer_list['CUSTOMER_NAME'].str.contains(cus_search.title())]\n",
    "df = df.reset_index()\n",
    "df = df.drop(columns=['index'])\n",
    "df"
   ]
  },
  {
   "cell_type": "code",
   "execution_count": 4,
   "metadata": {},
   "outputs": [],
   "source": [
    "#Bach Mai\n",
    "ff_asset_code =\"'FMSV00038','FMSV00230','FMSV00317'\" #=> FTYO,FFAP, FFVN"
   ]
  },
  {
   "cell_type": "code",
   "execution_count": 5,
   "metadata": {},
   "outputs": [
    {
     "data": {
      "text/html": [
       "<div>\n",
       "<style scoped>\n",
       "    .dataframe tbody tr th:only-of-type {\n",
       "        vertical-align: middle;\n",
       "    }\n",
       "\n",
       "    .dataframe tbody tr th {\n",
       "        vertical-align: top;\n",
       "    }\n",
       "\n",
       "    .dataframe thead th {\n",
       "        text-align: right;\n",
       "    }\n",
       "</style>\n",
       "<table border=\"1\" class=\"dataframe\">\n",
       "  <thead>\n",
       "    <tr style=\"text-align: right;\">\n",
       "      <th></th>\n",
       "      <th>RMA No.</th>\n",
       "      <th>Other ID</th>\n",
       "      <th>OTHER_SYSTEM_CODE</th>\n",
       "      <th>Repair Size</th>\n",
       "      <th>REPAIR_PRIORITY</th>\n",
       "      <th>Approval</th>\n",
       "      <th>Service Charge</th>\n",
       "      <th>Date Installed</th>\n",
       "      <th>LAST_UPDATE_TIME</th>\n",
       "      <th>CREATE_BRANCH_CODE</th>\n",
       "      <th>...</th>\n",
       "      <th>Loaner Loan Note</th>\n",
       "      <th>Loaner Serial No.</th>\n",
       "      <th>Loaner Model</th>\n",
       "      <th>SHP Out Date</th>\n",
       "      <th>TR Code</th>\n",
       "      <th>From Last Shipping</th>\n",
       "      <th>Create Time</th>\n",
       "      <th>Create User</th>\n",
       "      <th>Update Time</th>\n",
       "      <th>Update User</th>\n",
       "    </tr>\n",
       "  </thead>\n",
       "  <tbody>\n",
       "    <tr>\n",
       "      <th>0</th>\n",
       "      <td>FMSV2023090287</td>\n",
       "      <td>None</td>\n",
       "      <td>None</td>\n",
       "      <td>Major</td>\n",
       "      <td>VIP Customer</td>\n",
       "      <td>None</td>\n",
       "      <td>05 Chargeable Repair</td>\n",
       "      <td>2015-10-05 00:00:00</td>\n",
       "      <td>2023-10-07 23:52:21.037000</td>\n",
       "      <td>FMSV</td>\n",
       "      <td>...</td>\n",
       "      <td>None</td>\n",
       "      <td>None</td>\n",
       "      <td>None</td>\n",
       "      <td>None</td>\n",
       "      <td>None</td>\n",
       "      <td>211.0</td>\n",
       "      <td>2023-09-28 18:33:51</td>\n",
       "      <td>thongle</td>\n",
       "      <td>2023-10-07 23:52:21.037000</td>\n",
       "      <td>thongle</td>\n",
       "    </tr>\n",
       "    <tr>\n",
       "      <th>1</th>\n",
       "      <td>FMSV2023090282</td>\n",
       "      <td>None</td>\n",
       "      <td>None</td>\n",
       "      <td>Major</td>\n",
       "      <td>VIP Customer</td>\n",
       "      <td>None</td>\n",
       "      <td>05 Chargeable Repair</td>\n",
       "      <td>2016-10-21 00:00:00</td>\n",
       "      <td>2023-10-07 23:51:22.429000</td>\n",
       "      <td>FMSV</td>\n",
       "      <td>...</td>\n",
       "      <td>None</td>\n",
       "      <td>None</td>\n",
       "      <td>None</td>\n",
       "      <td>None</td>\n",
       "      <td>None</td>\n",
       "      <td>259.0</td>\n",
       "      <td>2023-09-28 18:32:59</td>\n",
       "      <td>thongle</td>\n",
       "      <td>2023-10-07 23:51:22.429000</td>\n",
       "      <td>thongle</td>\n",
       "    </tr>\n",
       "    <tr>\n",
       "      <th>2</th>\n",
       "      <td>FMSV2023090279</td>\n",
       "      <td>None</td>\n",
       "      <td>None</td>\n",
       "      <td>Major</td>\n",
       "      <td>VIP Customer</td>\n",
       "      <td>None</td>\n",
       "      <td>05 Chargeable Repair</td>\n",
       "      <td>2021-02-23 00:00:00</td>\n",
       "      <td>2023-10-07 23:50:36.609000</td>\n",
       "      <td>FMSV</td>\n",
       "      <td>...</td>\n",
       "      <td>None</td>\n",
       "      <td>None</td>\n",
       "      <td>None</td>\n",
       "      <td>None</td>\n",
       "      <td>None</td>\n",
       "      <td>259.0</td>\n",
       "      <td>2023-09-28 18:32:28</td>\n",
       "      <td>thongle</td>\n",
       "      <td>2023-10-07 23:50:36.609000</td>\n",
       "      <td>thongle</td>\n",
       "    </tr>\n",
       "    <tr>\n",
       "      <th>3</th>\n",
       "      <td>FMSV2023090278</td>\n",
       "      <td>None</td>\n",
       "      <td>None</td>\n",
       "      <td>Major</td>\n",
       "      <td>VIP Customer</td>\n",
       "      <td>None</td>\n",
       "      <td>05 Chargeable Repair</td>\n",
       "      <td>2021-02-23 00:00:00</td>\n",
       "      <td>2023-10-07 23:50:22.674000</td>\n",
       "      <td>FMSV</td>\n",
       "      <td>...</td>\n",
       "      <td>None</td>\n",
       "      <td>None</td>\n",
       "      <td>None</td>\n",
       "      <td>None</td>\n",
       "      <td>None</td>\n",
       "      <td>259.0</td>\n",
       "      <td>2023-09-28 18:32:18</td>\n",
       "      <td>thongle</td>\n",
       "      <td>2023-10-07 23:50:22.674000</td>\n",
       "      <td>thongle</td>\n",
       "    </tr>\n",
       "    <tr>\n",
       "      <th>4</th>\n",
       "      <td>FMSV2023090277</td>\n",
       "      <td>None</td>\n",
       "      <td>None</td>\n",
       "      <td>Major</td>\n",
       "      <td>VIP Customer</td>\n",
       "      <td>None</td>\n",
       "      <td>05 Chargeable Repair</td>\n",
       "      <td>2021-08-06 00:00:00</td>\n",
       "      <td>2023-10-07 23:50:08.153000</td>\n",
       "      <td>FMSV</td>\n",
       "      <td>...</td>\n",
       "      <td>None</td>\n",
       "      <td>None</td>\n",
       "      <td>None</td>\n",
       "      <td>None</td>\n",
       "      <td>None</td>\n",
       "      <td>259.0</td>\n",
       "      <td>2023-09-28 18:32:06</td>\n",
       "      <td>thongle</td>\n",
       "      <td>2023-10-07 23:50:08.153000</td>\n",
       "      <td>thongle</td>\n",
       "    </tr>\n",
       "    <tr>\n",
       "      <th>...</th>\n",
       "      <td>...</td>\n",
       "      <td>...</td>\n",
       "      <td>...</td>\n",
       "      <td>...</td>\n",
       "      <td>...</td>\n",
       "      <td>...</td>\n",
       "      <td>...</td>\n",
       "      <td>...</td>\n",
       "      <td>...</td>\n",
       "      <td>...</td>\n",
       "      <td>...</td>\n",
       "      <td>...</td>\n",
       "      <td>...</td>\n",
       "      <td>...</td>\n",
       "      <td>...</td>\n",
       "      <td>...</td>\n",
       "      <td>...</td>\n",
       "      <td>...</td>\n",
       "      <td>...</td>\n",
       "      <td>...</td>\n",
       "      <td>...</td>\n",
       "    </tr>\n",
       "    <tr>\n",
       "      <th>697</th>\n",
       "      <td>FMSV2014020003</td>\n",
       "      <td>None</td>\n",
       "      <td>None</td>\n",
       "      <td>Major</td>\n",
       "      <td>VIP Customer</td>\n",
       "      <td>Approval</td>\n",
       "      <td>06 Manufacture Warranty Repair</td>\n",
       "      <td>2013-08-06 00:00:00</td>\n",
       "      <td>2014-04-16 17:44:52</td>\n",
       "      <td>FMSV</td>\n",
       "      <td>...</td>\n",
       "      <td>None</td>\n",
       "      <td>None</td>\n",
       "      <td>None</td>\n",
       "      <td>None</td>\n",
       "      <td>None</td>\n",
       "      <td>NaN</td>\n",
       "      <td>2014-02-19 15:13:34</td>\n",
       "      <td>hung</td>\n",
       "      <td>2014-04-16 17:44:52</td>\n",
       "      <td>dick</td>\n",
       "    </tr>\n",
       "    <tr>\n",
       "      <th>698</th>\n",
       "      <td>FMSV2013110002</td>\n",
       "      <td>None</td>\n",
       "      <td>None</td>\n",
       "      <td>Major</td>\n",
       "      <td>VIP Customer</td>\n",
       "      <td>Approval</td>\n",
       "      <td>06 Manufacture Warranty Repair</td>\n",
       "      <td>2013-08-06 00:00:00</td>\n",
       "      <td>2014-04-28 13:06:24</td>\n",
       "      <td>FMSV</td>\n",
       "      <td>...</td>\n",
       "      <td>None</td>\n",
       "      <td>None</td>\n",
       "      <td>None</td>\n",
       "      <td>None</td>\n",
       "      <td>None</td>\n",
       "      <td>NaN</td>\n",
       "      <td>2013-11-21 18:28:52</td>\n",
       "      <td>hung</td>\n",
       "      <td>2014-04-28 13:06:24</td>\n",
       "      <td>dick</td>\n",
       "    </tr>\n",
       "    <tr>\n",
       "      <th>699</th>\n",
       "      <td>FMSV2013090005</td>\n",
       "      <td>None</td>\n",
       "      <td>None</td>\n",
       "      <td>Minor</td>\n",
       "      <td>VIP Customer</td>\n",
       "      <td>Approval</td>\n",
       "      <td>06 Manufacture Warranty Repair</td>\n",
       "      <td>2013-08-06 00:00:00</td>\n",
       "      <td>2013-10-03 13:15:21</td>\n",
       "      <td>FMSV</td>\n",
       "      <td>...</td>\n",
       "      <td>None</td>\n",
       "      <td>None</td>\n",
       "      <td>None</td>\n",
       "      <td>None</td>\n",
       "      <td>None</td>\n",
       "      <td>NaN</td>\n",
       "      <td>2013-09-25 13:16:17</td>\n",
       "      <td>hung</td>\n",
       "      <td>2013-10-03 13:15:21</td>\n",
       "      <td>dick</td>\n",
       "    </tr>\n",
       "    <tr>\n",
       "      <th>700</th>\n",
       "      <td>FMSV2013090001</td>\n",
       "      <td>None</td>\n",
       "      <td>None</td>\n",
       "      <td>Major</td>\n",
       "      <td>VIP Customer</td>\n",
       "      <td>Approval</td>\n",
       "      <td>06 Manufacture Warranty Repair</td>\n",
       "      <td>2012-11-13 00:00:00</td>\n",
       "      <td>2013-12-24 12:25:21</td>\n",
       "      <td>FMSV</td>\n",
       "      <td>...</td>\n",
       "      <td>None</td>\n",
       "      <td>None</td>\n",
       "      <td>None</td>\n",
       "      <td>None</td>\n",
       "      <td>None</td>\n",
       "      <td>NaN</td>\n",
       "      <td>2013-09-05 13:47:35</td>\n",
       "      <td>hung</td>\n",
       "      <td>2013-12-24 12:25:21</td>\n",
       "      <td>dick</td>\n",
       "    </tr>\n",
       "    <tr>\n",
       "      <th>701</th>\n",
       "      <td>FMSV2013080008</td>\n",
       "      <td>None</td>\n",
       "      <td>None</td>\n",
       "      <td>Minor</td>\n",
       "      <td>VIP Customer</td>\n",
       "      <td>Approval</td>\n",
       "      <td>05 Chargeable Repair</td>\n",
       "      <td>2013-08-06 00:00:00</td>\n",
       "      <td>2013-09-26 18:14:16</td>\n",
       "      <td>FMSV</td>\n",
       "      <td>...</td>\n",
       "      <td>None</td>\n",
       "      <td>None</td>\n",
       "      <td>None</td>\n",
       "      <td>None</td>\n",
       "      <td>None</td>\n",
       "      <td>NaN</td>\n",
       "      <td>2013-08-28 16:43:38</td>\n",
       "      <td>Tuan</td>\n",
       "      <td>2013-09-26 18:14:16</td>\n",
       "      <td>dick</td>\n",
       "    </tr>\n",
       "  </tbody>\n",
       "</table>\n",
       "<p>702 rows × 220 columns</p>\n",
       "</div>"
      ],
      "text/plain": [
       "            RMA No. Other ID OTHER_SYSTEM_CODE Repair Size REPAIR_PRIORITY  \\\n",
       "0    FMSV2023090287     None              None       Major    VIP Customer   \n",
       "1    FMSV2023090282     None              None       Major    VIP Customer   \n",
       "2    FMSV2023090279     None              None       Major    VIP Customer   \n",
       "3    FMSV2023090278     None              None       Major    VIP Customer   \n",
       "4    FMSV2023090277     None              None       Major    VIP Customer   \n",
       "..              ...      ...               ...         ...             ...   \n",
       "697  FMSV2014020003     None              None       Major    VIP Customer   \n",
       "698  FMSV2013110002     None              None       Major    VIP Customer   \n",
       "699  FMSV2013090005     None              None       Minor    VIP Customer   \n",
       "700  FMSV2013090001     None              None       Major    VIP Customer   \n",
       "701  FMSV2013080008     None              None       Minor    VIP Customer   \n",
       "\n",
       "     Approval                  Service Charge       Date Installed  \\\n",
       "0        None            05 Chargeable Repair  2015-10-05 00:00:00   \n",
       "1        None            05 Chargeable Repair  2016-10-21 00:00:00   \n",
       "2        None            05 Chargeable Repair  2021-02-23 00:00:00   \n",
       "3        None            05 Chargeable Repair  2021-02-23 00:00:00   \n",
       "4        None            05 Chargeable Repair  2021-08-06 00:00:00   \n",
       "..        ...                             ...                  ...   \n",
       "697  Approval  06 Manufacture Warranty Repair  2013-08-06 00:00:00   \n",
       "698  Approval  06 Manufacture Warranty Repair  2013-08-06 00:00:00   \n",
       "699  Approval  06 Manufacture Warranty Repair  2013-08-06 00:00:00   \n",
       "700  Approval  06 Manufacture Warranty Repair  2012-11-13 00:00:00   \n",
       "701  Approval            05 Chargeable Repair  2013-08-06 00:00:00   \n",
       "\n",
       "               LAST_UPDATE_TIME CREATE_BRANCH_CODE  ... Loaner Loan Note  \\\n",
       "0    2023-10-07 23:52:21.037000               FMSV  ...             None   \n",
       "1    2023-10-07 23:51:22.429000               FMSV  ...             None   \n",
       "2    2023-10-07 23:50:36.609000               FMSV  ...             None   \n",
       "3    2023-10-07 23:50:22.674000               FMSV  ...             None   \n",
       "4    2023-10-07 23:50:08.153000               FMSV  ...             None   \n",
       "..                          ...                ...  ...              ...   \n",
       "697         2014-04-16 17:44:52               FMSV  ...             None   \n",
       "698         2014-04-28 13:06:24               FMSV  ...             None   \n",
       "699         2013-10-03 13:15:21               FMSV  ...             None   \n",
       "700         2013-12-24 12:25:21               FMSV  ...             None   \n",
       "701         2013-09-26 18:14:16               FMSV  ...             None   \n",
       "\n",
       "    Loaner Serial No. Loaner Model SHP Out Date TR Code  From Last Shipping  \\\n",
       "0                None         None         None    None               211.0   \n",
       "1                None         None         None    None               259.0   \n",
       "2                None         None         None    None               259.0   \n",
       "3                None         None         None    None               259.0   \n",
       "4                None         None         None    None               259.0   \n",
       "..                ...          ...          ...     ...                 ...   \n",
       "697              None         None         None    None                 NaN   \n",
       "698              None         None         None    None                 NaN   \n",
       "699              None         None         None    None                 NaN   \n",
       "700              None         None         None    None                 NaN   \n",
       "701              None         None         None    None                 NaN   \n",
       "\n",
       "             Create Time  Create User                 Update Time  Update User  \n",
       "0    2023-09-28 18:33:51      thongle  2023-10-07 23:52:21.037000      thongle  \n",
       "1    2023-09-28 18:32:59      thongle  2023-10-07 23:51:22.429000      thongle  \n",
       "2    2023-09-28 18:32:28      thongle  2023-10-07 23:50:36.609000      thongle  \n",
       "3    2023-09-28 18:32:18      thongle  2023-10-07 23:50:22.674000      thongle  \n",
       "4    2023-09-28 18:32:06      thongle  2023-10-07 23:50:08.153000      thongle  \n",
       "..                   ...          ...                         ...          ...  \n",
       "697  2014-02-19 15:13:34         hung         2014-04-16 17:44:52         dick  \n",
       "698  2013-11-21 18:28:52         hung         2014-04-28 13:06:24         dick  \n",
       "699  2013-09-25 13:16:17         hung         2013-10-03 13:15:21         dick  \n",
       "700  2013-09-05 13:47:35         hung         2013-12-24 12:25:21         dick  \n",
       "701  2013-08-28 16:43:38         Tuan         2013-09-26 18:14:16         dick  \n",
       "\n",
       "[702 rows x 220 columns]"
      ]
     },
     "execution_count": 5,
     "metadata": {},
     "output_type": "execute_result"
    }
   ],
   "source": [
    "q = f'''\n",
    "        SELECT * \n",
    "        FROM consolidated c\n",
    "        \n",
    "        WHERE c.customer_code in({ff_asset_code})\n",
    "        ORDER BY c.[rma no.] DESC\n",
    "     '''\n",
    "pd.read_sql(q,conn)"
   ]
  },
  {
   "cell_type": "code",
   "execution_count": null,
   "metadata": {},
   "outputs": [],
   "source": [
    "# add sheet to database\n",
    "file = lg.file_select(folder_name='Downloads')"
   ]
  },
  {
   "cell_type": "code",
   "execution_count": null,
   "metadata": {},
   "outputs": [],
   "source": [
    "# add intall sheet\n",
    "df1 = pd.read_excel(file,sheet_name=None)\n",
    "(df1['csvdata']).to_sql('install',conn,index=False,if_exists='replace')"
   ]
  },
  {
   "cell_type": "code",
   "execution_count": 7,
   "metadata": {},
   "outputs": [
    {
     "data": {
      "text/html": [
       "<div>\n",
       "<style scoped>\n",
       "    .dataframe tbody tr th:only-of-type {\n",
       "        vertical-align: middle;\n",
       "    }\n",
       "\n",
       "    .dataframe tbody tr th {\n",
       "        vertical-align: top;\n",
       "    }\n",
       "\n",
       "    .dataframe thead th {\n",
       "        text-align: right;\n",
       "    }\n",
       "</style>\n",
       "<table border=\"1\" class=\"dataframe\">\n",
       "  <thead>\n",
       "    <tr style=\"text-align: right;\">\n",
       "      <th></th>\n",
       "      <th>RMA No.</th>\n",
       "      <th>SERIAL_NO</th>\n",
       "      <th>MODEL</th>\n",
       "      <th>RECIEVE_DATE</th>\n",
       "      <th>Repair Date</th>\n",
       "      <th>Repair Size</th>\n",
       "      <th>Defect Note</th>\n",
       "      <th>Approval</th>\n",
       "    </tr>\n",
       "  </thead>\n",
       "  <tbody>\n",
       "    <tr>\n",
       "      <th>0</th>\n",
       "      <td>FMSV2014080007</td>\n",
       "      <td>1C391K218</td>\n",
       "      <td>EG-600WR</td>\n",
       "      <td>2014-08-26 16:55:31</td>\n",
       "      <td>2015-03-06 11:00:05</td>\n",
       "      <td>Major</td>\n",
       "      <td>The processor couldn't recognize the scope</td>\n",
       "      <td>Approval</td>\n",
       "    </tr>\n",
       "    <tr>\n",
       "      <th>1</th>\n",
       "      <td>FMSV2015100005</td>\n",
       "      <td>1C607K008</td>\n",
       "      <td>EC-590WI</td>\n",
       "      <td>2015-10-07 08:31:28</td>\n",
       "      <td>2015-10-08 15:19:46</td>\n",
       "      <td>None</td>\n",
       "      <td>Bubber bending section Glue was boken at DTA</td>\n",
       "      <td>Approval</td>\n",
       "    </tr>\n",
       "    <tr>\n",
       "      <th>2</th>\n",
       "      <td>FMSV2017060018</td>\n",
       "      <td>1C607K008</td>\n",
       "      <td>EC-590WI</td>\n",
       "      <td>2017-06-27 10:50:36</td>\n",
       "      <td>None</td>\n",
       "      <td>None</td>\n",
       "      <td>None</td>\n",
       "      <td>Transfer</td>\n",
       "    </tr>\n",
       "    <tr>\n",
       "      <th>3</th>\n",
       "      <td>FMSV2019040050</td>\n",
       "      <td>1C607K008</td>\n",
       "      <td>EC-590WI</td>\n",
       "      <td>2019-04-23 08:54:39</td>\n",
       "      <td>2019-05-02 13:19:47</td>\n",
       "      <td>Minor</td>\n",
       "      <td>None</td>\n",
       "      <td>Approval</td>\n",
       "    </tr>\n",
       "    <tr>\n",
       "      <th>4</th>\n",
       "      <td>FMSV2019080034</td>\n",
       "      <td>1C607K008</td>\n",
       "      <td>EC-590WI</td>\n",
       "      <td>2019-08-08 17:51:04</td>\n",
       "      <td>2020-02-29 16:44:38</td>\n",
       "      <td>Major</td>\n",
       "      <td>FCT is clogged\\r\\nLGB broken\\r\\nNo glue on the...</td>\n",
       "      <td>Approval</td>\n",
       "    </tr>\n",
       "    <tr>\n",
       "      <th>...</th>\n",
       "      <td>...</td>\n",
       "      <td>...</td>\n",
       "      <td>...</td>\n",
       "      <td>...</td>\n",
       "      <td>...</td>\n",
       "      <td>...</td>\n",
       "      <td>...</td>\n",
       "      <td>...</td>\n",
       "    </tr>\n",
       "    <tr>\n",
       "      <th>697</th>\n",
       "      <td>FMSV2017040021</td>\n",
       "      <td>RU039A099</td>\n",
       "      <td>EG-530UR2</td>\n",
       "      <td>2017-04-27 14:27:38</td>\n",
       "      <td>None</td>\n",
       "      <td>Minor</td>\n",
       "      <td>None</td>\n",
       "      <td>Cancel</td>\n",
       "    </tr>\n",
       "    <tr>\n",
       "      <th>698</th>\n",
       "      <td>FMSV2018110038</td>\n",
       "      <td>RU039A099</td>\n",
       "      <td>EG-530UR2</td>\n",
       "      <td>2018-11-23 09:59:28</td>\n",
       "      <td>None</td>\n",
       "      <td>Major</td>\n",
       "      <td>None</td>\n",
       "      <td>Decline</td>\n",
       "    </tr>\n",
       "    <tr>\n",
       "      <th>699</th>\n",
       "      <td>FMSV2022110034</td>\n",
       "      <td>RW599A470</td>\n",
       "      <td>JW-2</td>\n",
       "      <td>2022-11-14 14:07:17</td>\n",
       "      <td>2022-11-18 20:17:47</td>\n",
       "      <td>Minor</td>\n",
       "      <td>Water pipe broken</td>\n",
       "      <td>Approval</td>\n",
       "    </tr>\n",
       "    <tr>\n",
       "      <th>700</th>\n",
       "      <td>FMSV2022120046</td>\n",
       "      <td>RW599A470</td>\n",
       "      <td>JW-2</td>\n",
       "      <td>2022-12-14 15:13:08</td>\n",
       "      <td>2022-12-22 18:49:54</td>\n",
       "      <td>Minor</td>\n",
       "      <td>Pipe broken</td>\n",
       "      <td>Approval</td>\n",
       "    </tr>\n",
       "    <tr>\n",
       "      <th>701</th>\n",
       "      <td>FMSV2023080097</td>\n",
       "      <td>SD102A089</td>\n",
       "      <td>ED-530XT</td>\n",
       "      <td>2023-08-30 12:33:38</td>\n",
       "      <td>None</td>\n",
       "      <td>Major</td>\n",
       "      <td>None</td>\n",
       "      <td>None</td>\n",
       "    </tr>\n",
       "  </tbody>\n",
       "</table>\n",
       "<p>702 rows × 8 columns</p>\n",
       "</div>"
      ],
      "text/plain": [
       "            RMA No.  SERIAL_NO      MODEL         RECIEVE_DATE  \\\n",
       "0    FMSV2014080007  1C391K218   EG-600WR  2014-08-26 16:55:31   \n",
       "1    FMSV2015100005  1C607K008   EC-590WI  2015-10-07 08:31:28   \n",
       "2    FMSV2017060018  1C607K008   EC-590WI  2017-06-27 10:50:36   \n",
       "3    FMSV2019040050  1C607K008   EC-590WI  2019-04-23 08:54:39   \n",
       "4    FMSV2019080034  1C607K008   EC-590WI  2019-08-08 17:51:04   \n",
       "..              ...        ...        ...                  ...   \n",
       "697  FMSV2017040021  RU039A099  EG-530UR2  2017-04-27 14:27:38   \n",
       "698  FMSV2018110038  RU039A099  EG-530UR2  2018-11-23 09:59:28   \n",
       "699  FMSV2022110034  RW599A470       JW-2  2022-11-14 14:07:17   \n",
       "700  FMSV2022120046  RW599A470       JW-2  2022-12-14 15:13:08   \n",
       "701  FMSV2023080097  SD102A089   ED-530XT  2023-08-30 12:33:38   \n",
       "\n",
       "             Repair Date Repair Size  \\\n",
       "0    2015-03-06 11:00:05       Major   \n",
       "1    2015-10-08 15:19:46        None   \n",
       "2                   None        None   \n",
       "3    2019-05-02 13:19:47       Minor   \n",
       "4    2020-02-29 16:44:38       Major   \n",
       "..                   ...         ...   \n",
       "697                 None       Minor   \n",
       "698                 None       Major   \n",
       "699  2022-11-18 20:17:47       Minor   \n",
       "700  2022-12-22 18:49:54       Minor   \n",
       "701                 None       Major   \n",
       "\n",
       "                                           Defect Note  Approval  \n",
       "0           The processor couldn't recognize the scope  Approval  \n",
       "1         Bubber bending section Glue was boken at DTA  Approval  \n",
       "2                                                 None  Transfer  \n",
       "3                                                 None  Approval  \n",
       "4    FCT is clogged\\r\\nLGB broken\\r\\nNo glue on the...  Approval  \n",
       "..                                                 ...       ...  \n",
       "697                                               None    Cancel  \n",
       "698                                               None   Decline  \n",
       "699                                  Water pipe broken  Approval  \n",
       "700                                        Pipe broken  Approval  \n",
       "701                                               None      None  \n",
       "\n",
       "[702 rows x 8 columns]"
      ]
     },
     "execution_count": 7,
     "metadata": {},
     "output_type": "execute_result"
    }
   ],
   "source": [
    "#filter by customer code\n",
    "customer_code = tuple(['FMSV00038','FMSV00230','FMSV00317'])\n",
    "\n",
    "q = f'''\n",
    "        SELECT DISTINCT [rma no.],serial_no, model,recieve_date,[repair date], [repair size],\n",
    "        [defect note],approval\n",
    "        \n",
    "        FROM consolidated\n",
    "        WHERE customer_code in {customer_code}\n",
    "        \n",
    "        ORDER BY SERIAL_NO,recieve_date\n",
    "'''\n",
    "raw91 = pd.read_sql(q,conn)\n",
    "raw91"
   ]
  },
  {
   "cell_type": "code",
   "execution_count": 8,
   "metadata": {},
   "outputs": [],
   "source": [
    "file_name = 'Service Contract/Bach Mai_231018.xlsx'\n",
    "raw91.to_excel(file_name,index = False)"
   ]
  },
  {
   "cell_type": "code",
   "execution_count": 9,
   "metadata": {},
   "outputs": [],
   "source": [
    "wb = xw.Book(file_name)\n",
    "sh_new = wb.sheets.add()\n",
    "sh_new.name = 'Summary'\n",
    "\n",
    "sh =wb.sheets('Sheet1')\n",
    "sm = wb.sheets('Summary')"
   ]
  },
  {
   "cell_type": "code",
   "execution_count": 10,
   "metadata": {},
   "outputs": [],
   "source": [
    "#add count by sn\n",
    "lr = sh.range('A' + str(wb.sheets[0].cells.last_cell.row)).end('up').row\n",
    "lc = sh.range('A1').end('right').column\n",
    "d = pl.summary_report()\n",
    "rma=''\n",
    "sh.cells(1,lc+1).value='Repair'\n",
    "sh.cells(1,lc+2).value = 'No#'\n",
    "for i in range(2,lr+1):\n",
    "    rma = sh.range(f'A{i}').value\n",
    "#     sh.range(f'G{i}').value = d.issues(conn,rma)\n",
    "#     sh.range(f'H{i}').value = f'=COUNTIF($B$2:$B{i},B{i})'\n",
    "    sh.cells(i,lc+1).value = d.issues(conn,rma)\n",
    "    sh.cells(i,lc+2).value = f'=COUNTIF($B$2:$B{i},B{i})'\n",
    "\n",
    "wb.save()\n",
    "df = pd.read_excel(file_name,sheet_name='Sheet1')"
   ]
  },
  {
   "cell_type": "code",
   "execution_count": 11,
   "metadata": {},
   "outputs": [],
   "source": [
    "def part_string(rma):\n",
    "    part_str =''\n",
    "\n",
    "    q = f'''\n",
    "            SELECT * from parts\n",
    "            WHERE [RMA NO.]='{rma}'\n",
    "        '''\n",
    "    part_list = pd.read_sql(q,conn)\n",
    "    for i in range(len(part_list)):\n",
    "        part_str +=  part_list['PART_DESCRIPTION'][i]+ '\\n'\n",
    "    return part_str[:-1]\n",
    "# title\n",
    "sm.range('A1').value ='No.'\n",
    "sm.range('B1').value ='Model'\n",
    "sm.range('C1').value ='Serial'\n",
    "sm.range('D1').value ='Time'\n",
    "for i in range(0,max(df['No#'])):\n",
    "    sm.range('E1').offset(0,i).value = i+1\n",
    "# subtitle\n",
    "sn_list=[]\n",
    "details=['Receive','Repair','Size','Issue','RMA#','Defect','Parts','Approval']\n",
    "\n",
    "#lay out\n",
    "num = len(details)\n",
    "for i in range(2,lr+1):\n",
    "    model = sh.range(f'C{i}').value\n",
    "    sn = sh.range(f'B{i}').value\n",
    "    if sn not in sn_list:\n",
    "        i_row = len(sn_list)\n",
    "        sm.range('A2').offset(i_row * num).value = i_row+1\n",
    "        sm.range('B2').offset(i_row * num).value = model\n",
    "        sm.range('C2').offset(i_row * num).value = sn\n",
    "        \n",
    "        sm.range('D6').offset(i_row*5).value = 'RMA#'\n",
    "        for i_detail in range(len(details)):\n",
    "            sm.range('D2').offset(i_row * num + i_detail).value = details[i_detail]\n",
    "        sn_list.append(sn)\n",
    "print('Done')"
   ]
  },
  {
   "cell_type": "code",
   "execution_count": null,
   "metadata": {},
   "outputs": [],
   "source": [
    "sm.clear_contents()"
   ]
  },
  {
   "cell_type": "code",
   "execution_count": null,
   "metadata": {},
   "outputs": [],
   "source": [
    "sm_lrow"
   ]
  },
  {
   "cell_type": "code",
   "execution_count": 12,
   "metadata": {
    "scrolled": true
   },
   "outputs": [
    {
     "name": "stdout",
     "output_type": "stream",
     "text": [
      "Save as .xlsx: bach_mai_231018\n"
     ]
    },
    {
     "data": {
      "text/plain": [
       "'bach_mai_231018.xlsx'"
      ]
     },
     "execution_count": 12,
     "metadata": {},
     "output_type": "execute_result"
    }
   ],
   "source": [
    "# no need export 91\n",
    "new_file_name = str(input('Save as .xlsx: '))\n",
    "if not new_file_name.endswith('.xlsx'): new_file_name +='.xlsx'\n",
    "new_file_name"
   ]
  },
  {
   "cell_type": "code",
   "execution_count": null,
   "metadata": {},
   "outputs": [],
   "source": [
    "wb = xw.Book(new_file_name)\n",
    "sh_new = wb.sheets.add()\n",
    "sh_new.name = 'Summary'\n",
    "sm = wb.sheets('Summary')"
   ]
  },
  {
   "cell_type": "code",
   "execution_count": 13,
   "metadata": {},
   "outputs": [],
   "source": [
    "# fill in data details\n",
    "sm_lrow = len(sn_list) * num\n",
    "for i in range(0,sm_lrow):\n",
    "\n",
    "    sn = sm.range('C2').offset(i,0).value\n",
    "    count = df[df['SERIAL_NO'] == sn]['SERIAL_NO'].count()\n",
    "    if sn!=None:\n",
    "#         print (i,sn,count)\n",
    "#         i_row= i+2\n",
    "        for j in range(0,count):\n",
    "            filter_data = df.loc[(df['SERIAL_NO']==sn) & (df['No#']==j+1)]\n",
    "            filter_data = filter_data.reset_index()\n",
    "            sm.range('E2').offset(i,j).value = filter_data['RECIEVE_DATE'][0]\n",
    "            sm.range('E3').offset(i,j).value = filter_data['Repair Date'][0]\n",
    "            sm.range('E4').offset(i,j).value = filter_data['Repair Size'][0]\n",
    "            sm.range('E5').offset(i,j).value = filter_data['Repair'][0]\n",
    "            sm.range('E6').offset(i,j).value = filter_data['RMA No.'][0]\n",
    "            sm.range('E7').offset(i,j).value = filter_data['Defect Note'][0]\n",
    "            sm.range('E8').offset(i,j).value = part_string(filter_data['RMA No.'][0])\n",
    "            sm.range('E9').offset(i,j).value = filter_data['Approval'][0]\n",
    "print('Done')"
   ]
  },
  {
   "cell_type": "code",
   "execution_count": null,
   "metadata": {},
   "outputs": [],
   "source": []
  },
  {
   "cell_type": "code",
   "execution_count": null,
   "metadata": {},
   "outputs": [],
   "source": [
    "sm.autofit()"
   ]
  },
  {
   "cell_type": "code",
   "execution_count": null,
   "metadata": {},
   "outputs": [],
   "source": [
    "len(details)"
   ]
  },
  {
   "cell_type": "code",
   "execution_count": null,
   "metadata": {},
   "outputs": [],
   "source": [
    "# format\n",
    "for i in range(len(sn_list)):\n",
    "    rng = sm.range(sm.cells(2,1),sm.cells(1+len(details),4+max(df['No#']))).offset(i * len(details))\n",
    "    #                       A2   ->       hang so details cot so max No#      \n",
    "    for i in range(7,11):\n",
    "        rng.api.Borders(i).LineStyle = 1\n",
    "        rng.api.Borders(i).Weight = 3"
   ]
  },
  {
   "cell_type": "code",
   "execution_count": 15,
   "metadata": {},
   "outputs": [],
   "source": [
    "sm.autofit()\n"
   ]
  },
  {
   "cell_type": "code",
   "execution_count": null,
   "metadata": {},
   "outputs": [],
   "source": []
  },
  {
   "cell_type": "code",
   "execution_count": null,
   "metadata": {},
   "outputs": [],
   "source": []
  },
  {
   "cell_type": "code",
   "execution_count": null,
   "metadata": {},
   "outputs": [],
   "source": []
  },
  {
   "cell_type": "code",
   "execution_count": null,
   "metadata": {},
   "outputs": [],
   "source": []
  },
  {
   "cell_type": "markdown",
   "metadata": {},
   "source": [
    "# Research clearify  parts by history repair\n",
    "\n"
   ]
  },
  {
   "cell_type": "code",
   "execution_count": null,
   "metadata": {},
   "outputs": [],
   "source": [
    "#filter by customer code\n",
    "# customer_code = 'FMSV00360'\n",
    "q = f'''\n",
    "        SELECT DISTINCT [rma no.],serial_no, model,recieve_date,[repair date], [repair size],[defect note],repair_status\n",
    "        \n",
    "        FROM consolidated\n",
    "        \n",
    "        WHERE approval = 'Approval'\n",
    "        \n",
    "        and [Repair Date] > '2021-12-31'\n",
    "        ORDER BY [Repair Date],SERIAL_NO,recieve_date\n",
    "'''\n",
    "raw91 = pd.read_sql(q,conn)\n",
    "raw91"
   ]
  },
  {
   "cell_type": "code",
   "execution_count": null,
   "metadata": {},
   "outputs": [],
   "source": [
    "# filter model eg-600wr v2\n",
    "q = f'''\n",
    "     SELECT distinct [RMA NO.],MODEL,serial_no\n",
    "     FROM consolidated c\n",
    "     WHERE c.model ='EG-600WR'\n",
    "     '''\n",
    "pd.read_sql(q,conn)"
   ]
  },
  {
   "cell_type": "code",
   "execution_count": null,
   "metadata": {},
   "outputs": [],
   "source": [
    "# replace model eg-600wr v2\n",
    "q = '''\n",
    "        UPDATE consolidated \n",
    "        SET model = 'EG-600WR'\n",
    "        WHERE model = 'EG-600WR V2';\n",
    "        \n",
    "    '''\n",
    "conn.execute(q)"
   ]
  },
  {
   "cell_type": "code",
   "execution_count": null,
   "metadata": {},
   "outputs": [],
   "source": []
  },
  {
   "cell_type": "code",
   "execution_count": null,
   "metadata": {},
   "outputs": [],
   "source": [
    "#create rma list and import to \n",
    "rma_list = \"'\"\n",
    "for rma in raw91['RMA No.']:\n",
    "    rma_list = rma_list +rma+ \"','\"\n",
    "rma_list = rma_list[:-2]\n"
   ]
  },
  {
   "cell_type": "code",
   "execution_count": null,
   "metadata": {},
   "outputs": [],
   "source": [
    "# create part list column\n",
    "parts_list = ('ISA','BSA','CHA','FCT','FSA','FSB','LGB','VCA')\n"
   ]
  },
  {
   "cell_type": "code",
   "execution_count": null,
   "metadata": {},
   "outputs": [],
   "source": [
    "\n",
    "q = f'''\n",
    "        SELECT DISTINCT p.[RMA No.],c.model,p.part_description,pn.short_name\n",
    "        FROM (parts p\n",
    "        LEFT JOIN part_name pn ON p.part_description = pn.part_description)\n",
    "        LEFT JOIN consolidated c ON p.[rma no.] = c.[rma no.]\n",
    "        WHERE c.[RMA NO.] IN ({rma_list})\n",
    "        AND pn.short_name IN {str(parts_list)}\n",
    "        \n",
    "    '''\n",
    "parts = pd.read_sql(q,conn)\n",
    "# parts.to_excel('parts.xlsx',index = False)\n",
    "parts"
   ]
  },
  {
   "cell_type": "code",
   "execution_count": null,
   "metadata": {},
   "outputs": [],
   "source": [
    "# research parts\n",
    "q = '''\n",
    "        SELECT p.part_no,p.part_description,pn.short_name\n",
    "        FROM parts p\n",
    "        LEFT JOIN part_name pn ON p.part_description = pn.part_description\n",
    "        \n",
    "        WHERE pn.short_name is null\n",
    "\n",
    "    '''\n",
    "ppp = pd.read_sql(q,conn)\n",
    "ppp.to_excel('part_no_short_name.xlsx',index = False)"
   ]
  },
  {
   "cell_type": "code",
   "execution_count": null,
   "metadata": {},
   "outputs": [],
   "source": [
    "xw.Book('part_no_short_name.xlsx')"
   ]
  },
  {
   "cell_type": "code",
   "execution_count": null,
   "metadata": {},
   "outputs": [],
   "source": [
    "q = f'''\n",
    "        SELECT  *\n",
    "        FROM  part_name\n",
    "        WHERE short_name in {str(parts_list)}\n",
    "        ORDER BY short_name\n",
    "        \n",
    "    '''\n",
    "ppp = pd.read_sql(q,conn)\n",
    "ppp"
   ]
  },
  {
   "cell_type": "code",
   "execution_count": null,
   "metadata": {},
   "outputs": [],
   "source": []
  },
  {
   "cell_type": "code",
   "execution_count": null,
   "metadata": {},
   "outputs": [],
   "source": []
  },
  {
   "cell_type": "markdown",
   "metadata": {},
   "source": [
    "####  Write to new file"
   ]
  },
  {
   "cell_type": "code",
   "execution_count": null,
   "metadata": {},
   "outputs": [],
   "source": [
    "wb = xw.Book()\n",
    "wb.sheets.add('Summary')\n",
    "sh = wb.sheets('Summary')"
   ]
  },
  {
   "cell_type": "code",
   "execution_count": null,
   "metadata": {},
   "outputs": [],
   "source": []
  },
  {
   "cell_type": "code",
   "execution_count": null,
   "metadata": {},
   "outputs": [],
   "source": [
    "# add title\n",
    "sh.range('A1').value = 'Model'\n",
    "for i in range(len(parts_list)):\n",
    "    sh.range('B1').offset(0,i).value = parts_list[i]\n",
    "\n",
    "# count model and part\n",
    "i=0\n",
    "for model in parts['MODEL'].unique():\n",
    "    sh.range('A2').offset(i).value = model\n",
    "    q =f'''\n",
    "            SELECT  pn.short_name as PARTS,count(*) as COUNT\n",
    "            FROM (parts p\n",
    "            LEFT JOIN part_name pn ON p.part_description = pn.part_description)\n",
    "            LEFT JOIN consolidated c ON p.[rma no.] = c.[rma no.]\n",
    "            WHERE c.[RMA NO.] IN ({rma_list})\n",
    "            AND c.model ='{model}'\n",
    "            AND pn.short_name IN {str(parts_list)}\n",
    "            GROUP BY pn.short_name\n",
    "        '''\n",
    "    aaa = pd.read_sql(q,conn)\n",
    "    j = 0\n",
    "    for part in parts_list:\n",
    "        \n",
    "        try:\n",
    "            part_count = int(aaa[aaa['PARTS']==part]['COUNT'])\n",
    "        except:\n",
    "            part_count = 0\n",
    "        \n",
    "        sh.range('B2').offset(i,j).value = part_count\n",
    "        j+=1\n",
    "    \n",
    "    i+=1"
   ]
  },
  {
   "cell_type": "code",
   "execution_count": null,
   "metadata": {},
   "outputs": [],
   "source": [
    "sh.clear_contents()"
   ]
  },
  {
   "cell_type": "code",
   "execution_count": null,
   "metadata": {},
   "outputs": [],
   "source": [
    "sh.autofit()"
   ]
  },
  {
   "cell_type": "code",
   "execution_count": null,
   "metadata": {},
   "outputs": [],
   "source": [
    "sh.used_range.api.AutoFilter(Field:=1)"
   ]
  },
  {
   "cell_type": "code",
   "execution_count": null,
   "metadata": {},
   "outputs": [],
   "source": [
    "save_name =input('Save File Name: ')\n",
    "\n",
    "wb.save(f'{save_name}.xlsx')\n",
    "wb.close()"
   ]
  },
  {
   "cell_type": "code",
   "execution_count": null,
   "metadata": {},
   "outputs": [],
   "source": []
  },
  {
   "cell_type": "code",
   "execution_count": null,
   "metadata": {},
   "outputs": [],
   "source": [
    "# count model and part\n",
    "for model in parts['MODEL'].unique():\n",
    "    \n",
    "    q =f'''\n",
    "            SELECT  pn.short_name as PARTS,count(*) as COUNT\n",
    "            FROM (parts p\n",
    "            LEFT JOIN part_name pn ON p.part_description = pn.part_description)\n",
    "            LEFT JOIN consolidated c ON p.[rma no.] = c.[rma no.]\n",
    "            WHERE c.[RMA NO.] IN ({rma_list})\n",
    "            AND c.model ='{model}'\n",
    "            AND pn.short_name IN {str(parts_list)}\n",
    "            GROUP BY pn.short_name\n",
    "        '''\n",
    "    aaa = pd.read_sql(q,conn)\n",
    "    for part in parts_list:\n",
    "    \n",
    "        try:\n",
    "            part_count = int(aaa[aaa['PARTS']==part]['COUNT'])\n",
    "        except:\n",
    "            part_count = 0\n",
    "        "
   ]
  },
  {
   "cell_type": "code",
   "execution_count": null,
   "metadata": {},
   "outputs": [],
   "source": [
    "model = 'EG-530WR'\n",
    "\n",
    "q =f'''\n",
    "        SELECT  pn.short_name as PARTS,count(*) as COUNT\n",
    "        FROM (parts p\n",
    "        LEFT JOIN part_name pn ON p.part_description = pn.part_description)\n",
    "        LEFT JOIN consolidated c ON p.[rma no.] = c.[rma no.]\n",
    "        WHERE c.[RMA NO.] IN ({rma_list})\n",
    "        AND c.model ='{model}'\n",
    "        AND pn.short_name IN {str(parts_list)}\n",
    "        GROUP BY pn.short_name\n",
    "    '''\n",
    "aaa = pd.read_sql(q,conn)\n",
    "aaa"
   ]
  },
  {
   "cell_type": "code",
   "execution_count": null,
   "metadata": {},
   "outputs": [],
   "source": [
    "aaa[aaa['PARTS']=='BSA']['COUNT']"
   ]
  },
  {
   "cell_type": "code",
   "execution_count": null,
   "metadata": {},
   "outputs": [],
   "source": [
    "for model in \n",
    "for part in parts_list:\n",
    "    \n",
    "    try:\n",
    "        part_count = int(aaa[aaa['PARTS']==part]['COUNT'])\n",
    "    except:\n",
    "        part_count = 0\n",
    "    print(part,part_count)"
   ]
  },
  {
   "cell_type": "markdown",
   "metadata": {},
   "source": [
    "#### Installation\n"
   ]
  },
  {
   "cell_type": "code",
   "execution_count": null,
   "metadata": {},
   "outputs": [],
   "source": []
  },
  {
   "cell_type": "code",
   "execution_count": null,
   "metadata": {},
   "outputs": [],
   "source": [
    "ff_asset_code = ('FMSV00080','FMSV00293','FMSV')"
   ]
  },
  {
   "cell_type": "code",
   "execution_count": null,
   "metadata": {},
   "outputs": [],
   "source": [
    "# ALL FF ASSET\n",
    "q = f'''\n",
    "        SELECT DISTINCT *\n",
    "        FROM install\n",
    "        WHERE [customer code] IN {ff_asset_code}\n",
    "    '''\n",
    "ff_asset = pd.read_sql(q,conn)\n",
    "\n",
    "# create asset items\n",
    "ff_asset_items = tuple(ff_asset['Serial No.'])\n",
    "# ff_asset_items"
   ]
  },
  {
   "cell_type": "code",
   "execution_count": null,
   "metadata": {},
   "outputs": [],
   "source": [
    "# ALL FF ASSET\n",
    "q = f'''\n",
    "        SELECT DISTINCT *\n",
    "        FROM install\n",
    "        WHERE [customer code] IN {ff_asset_code}\n",
    "        \n",
    "    '''\n",
    "ff_asset = pd.read_sql(q,conn)\n",
    "ff_asset\n"
   ]
  },
  {
   "cell_type": "code",
   "execution_count": null,
   "metadata": {},
   "outputs": [],
   "source": [
    "# create max rma\n",
    "q = f'''\n",
    "        SELECT MAX([RMA NO.]) as RMA,serial_no\n",
    "        FROM consolidated c\n",
    "        WHERE serial_no IN {ff_asset_items}\n",
    "        GROUP BY serial_no\n",
    "    '''\n",
    "asset_rma = pd.read_sql(q,conn)\n",
    "rma_list = tuple(asset_rma['RMA'])\n",
    "rma_list"
   ]
  },
  {
   "cell_type": "markdown",
   "metadata": {},
   "source": [
    "#### "
   ]
  },
  {
   "cell_type": "code",
   "execution_count": null,
   "metadata": {},
   "outputs": [],
   "source": [
    "file_name = os.path.join(path,'hcap2023.xlsx')\n",
    "writer = pd.ExcelWriter(file_name, engine = 'xlsxwriter')"
   ]
  },
  {
   "cell_type": "code",
   "execution_count": null,
   "metadata": {},
   "outputs": [],
   "source": [
    "path"
   ]
  },
  {
   "cell_type": "code",
   "execution_count": null,
   "metadata": {},
   "outputs": [],
   "source": [
    "# all record for asset\n",
    "q = f'''\n",
    "        SELECT [rma no.],[customer_name],customer_code,serial_no, model, approval,repair_status,\n",
    "        CASE\n",
    "            WHEN repair_status = 'Completed' THEN\n",
    "                (CASE\n",
    "                    WHEN approval IN ('Approval','Inspection','NoFault') THEN 'OK'\n",
    "\n",
    "                    ELSE 'Broken' END )\n",
    "            ELSE 'Waiting for QC' END\n",
    "                AS status\n",
    "            \n",
    "        FROM consolidated c\n",
    "        WHERE [rma no.] IN {rma_list}\n",
    "        ORDER BY serial_no ASC, [RMA No.] DESC\n",
    "    '''\n",
    "way1 = pd.read_sql(q,conn)\n",
    "# way1.to_excel(writer,index = False, sheet_name='way1')\n",
    "way1.to_excel('hcap2023.xlsx',index = False)"
   ]
  },
  {
   "cell_type": "code",
   "execution_count": null,
   "metadata": {},
   "outputs": [],
   "source": [
    "install = pd.read_sql('select * from install', conn)\n",
    "install.to_excel('install2023.xlsx',index = False)"
   ]
  },
  {
   "cell_type": "markdown",
   "metadata": {},
   "source": [
    "### Search by Serial Number"
   ]
  },
  {
   "cell_type": "code",
   "execution_count": null,
   "metadata": {},
   "outputs": [],
   "source": [
    "#CHECK SERIAL\n",
    "sn = 'Jg361K643'\n",
    "q = f'''\n",
    "        SELECT [rma no.],customer_name,model,serial_no,[repair size],approval,[scope connect count],[recieve_date]\n",
    "        FROM consolidated\n",
    "        WHERE serial_no ='{sn.upper()}'\n",
    "        \n",
    "        ORDER BY [rma no.] DESC\n",
    "        \n",
    "    '''\n",
    "pd.read_sql(q,conn)"
   ]
  },
  {
   "cell_type": "markdown",
   "metadata": {},
   "source": [
    "# check History\n",
    "rma ='FMSV2022050061'\n",
    "pd.read_sql(f\"SELECT * FROM transfers WHERE rma = '{rma}'\",conn)"
   ]
  },
  {
   "cell_type": "code",
   "execution_count": null,
   "metadata": {},
   "outputs": [],
   "source": [
    "xw.Book('fesam.xlsx')"
   ]
  },
  {
   "cell_type": "code",
   "execution_count": null,
   "metadata": {},
   "outputs": [],
   "source": [
    "path = pathlib.Path().absolute()"
   ]
  },
  {
   "cell_type": "code",
   "execution_count": null,
   "metadata": {},
   "outputs": [],
   "source": [
    "file_name = os.path.join(path,'fesam.xlsx')\n",
    "writer = pd.ExcelWriter(file_name, engine = 'xlsxwriter')"
   ]
  },
  {
   "cell_type": "code",
   "execution_count": null,
   "metadata": {},
   "outputs": [],
   "source": [
    "writer.close()"
   ]
  },
  {
   "cell_type": "markdown",
   "metadata": {},
   "source": [
    "### FY2022\n"
   ]
  },
  {
   "cell_type": "code",
   "execution_count": null,
   "metadata": {},
   "outputs": [],
   "source": [
    "q = '''\n",
    "        SELECT \n",
    "    '''"
   ]
  },
  {
   "cell_type": "code",
   "execution_count": null,
   "metadata": {},
   "outputs": [],
   "source": [
    "rmas = '''\n",
    "\n",
    "FMSV2023030051\n",
    "FMSV2023040071\n",
    "FMSV2023040076\n",
    "FMSV2023050003\n",
    "FMSV2023050019\n",
    "\n",
    "'''\n",
    "rma_list = rmas.strip().split('\\n')\n",
    "# tuple(rma_list)"
   ]
  },
  {
   "cell_type": "markdown",
   "metadata": {},
   "source": [
    "### TAT time\n"
   ]
  },
  {
   "cell_type": "code",
   "execution_count": null,
   "metadata": {},
   "outputs": [],
   "source": [
    "from sqlite3 import connect\n",
    "conn = connect('history.db')"
   ]
  },
  {
   "cell_type": "code",
   "execution_count": null,
   "metadata": {},
   "outputs": [],
   "source": [
    "sn_list = '''2G361K131\n",
    "3D103L051\n",
    "5B089K098\n",
    "1C603K040\n",
    "RD102A106\n",
    "3D103L054\n",
    "1C642K365\n",
    "SC309A085\n",
    "4C491A001\n",
    "1C692K656\n",
    "5G309A586\n",
    "1C730K094\n",
    "2G348K408\n",
    "1V567A282\n",
    "5V564D395\n",
    "3V567D148\n",
    "\n",
    "\n",
    "\n",
    "    '''\n",
    "\n",
    "sn_list = sn_list.strip().split('\\n')\n",
    "len(sn_list)"
   ]
  },
  {
   "cell_type": "code",
   "execution_count": null,
   "metadata": {},
   "outputs": [],
   "source": [
    "sn = '3D103L051'\n",
    "q = f'''\n",
    "        SELECT [rma no.],customer_name,model,serial_no,[repair size],approval,[scope connect count],[recieve_date]\n",
    "        FROM consolidated\n",
    "        WHERE upper(serial_no) ='{sn.upper()}'\n",
    "\n",
    "        ORDER BY [rma no.] DESC\n",
    "\n",
    "    '''\n",
    "his_rma = pd.read_sql(q,conn)\n",
    "len(his_rma)>1"
   ]
  },
  {
   "cell_type": "code",
   "execution_count": null,
   "metadata": {
    "scrolled": false
   },
   "outputs": [],
   "source": [
    "#check by sn and record serial\n",
    "rma_record =[]\n",
    "sn_failed = []\n",
    "for sn in sn_list:\n",
    "#     sn = 'Jg361K643'\n",
    "    q = f'''\n",
    "            SELECT [rma no.],customer_name,model,serial_no,[repair size],approval,[scope connect count],[recieve_date]\n",
    "            FROM consolidated\n",
    "            WHERE upper(serial_no) ='{sn.upper()}'\n",
    "\n",
    "            ORDER BY [rma no.] DESC\n",
    "\n",
    "        '''\n",
    "    his_rma = pd.read_sql(q,conn)\n",
    "    if len(his_rma) > 1:\n",
    "        display(his_rma)\n",
    "\n",
    "        try:\n",
    "            ind = int(input('Select by index[0]: '))\n",
    "            rma_record.append(his_rma['RMA No.'][0])\n",
    "            rma_record.append(his_rma['RMA No.'][ind])\n",
    "        except:\n",
    "            ind = 0\n",
    "            rma_record.append(his_rma['RMA No.'][0])\n",
    "    else:\n",
    "        sn_failed.append(sn)\n",
    "    \n",
    "    print(rma_record)\n",
    "    "
   ]
  },
  {
   "cell_type": "code",
   "execution_count": null,
   "metadata": {},
   "outputs": [],
   "source": [
    "for sn in sn_failed:\n",
    "    print(sn)"
   ]
  },
  {
   "cell_type": "code",
   "execution_count": null,
   "metadata": {},
   "outputs": [],
   "source": [
    "#combine receive\n",
    "rma_list = tuple(rma_record)\n",
    "q = f'''\n",
    "        SELECT  DISTINCT c.[rma no.],c.customer_name,c.model,c.serial_no,\n",
    "        strftime('%Y-%m-%d',CASE \n",
    "            WHEN receive NOT NULL THEN receive\n",
    "            ELSE c.recieve_date END) AS [Receive Date (IN)],\n",
    "        \n",
    "        CASE\n",
    "            WHEN m.quotation IS NULL THEN c.in_inspect_date\n",
    "            WHEN m.quotation IN ('FOC','WARRANTY') THEN c.in_inspect_date\n",
    "            ELSE m.quotation  END as [Quoted Date],\n",
    "        \n",
    "        confirmation AS [PO rec. Date],\n",
    "        m.note as [Part Order Date],\n",
    "        c.[Part Select Date] AS [Part Receive Date],\n",
    "        ROUND(JULIANDAY(m.note) - JULIANDAY(c.[Part Select Date])) AS [TAT Parts],\n",
    "        \n",
    "        strftime('%Y-%m-%d',re.[Start Time]) AS[Repair Start Date],\n",
    "        ROUND(JULIANDAY(c.qc) - JULIANDAY(re.[Start Time])) AS [TAT Repair],\n",
    "        strftime('%Y-%m-%d',c.qc) AS [Ship Date (OUT)],\n",
    "        \n",
    "        ROUND(JULIANDAY(c.qc) - JULIANDAY(receive)) AS [TAT Days Completed]\n",
    "        \n",
    "        FROM (consolidated c\n",
    "        LEFT JOIN repair_code re ON c.[RMA NO.] = re.[RMA NO.])\n",
    "        LEFT JOIN m_list m ON c.[RMA NO.] = m.rma\n",
    "        WHERE c.[rma no.] IN {rma_list}\n",
    "        \n",
    "        ORDER BY c.[rma no.]\n",
    "        \n",
    "    '''\n",
    "\n",
    "tat_repair = pd.read_sql(q,conn)\n",
    "tat_repair#.to_excel('inspection\\\\tat_repair.xlsx',index=False)"
   ]
  },
  {
   "cell_type": "code",
   "execution_count": null,
   "metadata": {},
   "outputs": [],
   "source": [
    "tat_repair.to_excel('inspection\\\\ff_asset_checked.xlsx',index=False)"
   ]
  },
  {
   "cell_type": "code",
   "execution_count": null,
   "metadata": {},
   "outputs": [],
   "source": [
    "xw.Book('inspection\\\\ff_asset_checked.xlsx')"
   ]
  },
  {
   "cell_type": "code",
   "execution_count": null,
   "metadata": {},
   "outputs": [],
   "source": [
    "pd.read_sql('select WORKINGDAY(strptime(\"2023-05-15\",\"%Y-%m-%d\"),strptime(\"2023-05-28\",\"%Y-%m-%d\"))',conn)"
   ]
  },
  {
   "cell_type": "code",
   "execution_count": null,
   "metadata": {},
   "outputs": [],
   "source": []
  },
  {
   "cell_type": "code",
   "execution_count": null,
   "metadata": {},
   "outputs": [],
   "source": [
    "q = f'''\n",
    "        SELECT DISTINCT re.[rma no.],re.[Start Time],\n",
    "        (re.[End Time]-re.[Start Time]) as [TAT Repair],re.[End Time]\n",
    "        \n",
    "        FROM repair_code re\n",
    "        WHERE re.[rma no.] IN {tuple(rma_list)}\n",
    "    '''\n",
    "pd.read_sql(q,conn).to_excel('inspection\\\\tat_repair.xlsx')"
   ]
  },
  {
   "cell_type": "markdown",
   "metadata": {},
   "source": [
    "### HCAP KICK-OFF\n"
   ]
  },
  {
   "cell_type": "code",
   "execution_count": null,
   "metadata": {},
   "outputs": [],
   "source": [
    "\n",
    "q = '''SELECT * \n",
    "        \n",
    "        FROM transfers\n",
    "        WHERE return IS  NULL\n",
    "        AND customer NOT LIKE '%FUJIFILM%'\n",
    "\n",
    "    '''\n",
    "\n",
    "pd.read_sql(q,conn)\n",
    "# 181 items"
   ]
  },
  {
   "cell_type": "code",
   "execution_count": null,
   "metadata": {},
   "outputs": [],
   "source": []
  },
  {
   "cell_type": "code",
   "execution_count": null,
   "metadata": {},
   "outputs": [],
   "source": [
    "# amount of waiting confirm\n",
    "q = '''SELECT COUNT(*),SUM(price) AS [Amount of Waiting confirm($)]\n",
    "        FROM m_list\n",
    "        WHERE status LIKE '%waiting confirm'\n",
    "    '''\n",
    "pd.read_sql(q,conn)"
   ]
  },
  {
   "cell_type": "code",
   "execution_count": null,
   "metadata": {},
   "outputs": [],
   "source": [
    "# total price\n",
    "q = '''\n",
    "        SELECT COUNT(*),SUM(part_list_date) AS [Amount of Transfers($)]\n",
    "        FROM transfers\n",
    "        WHERE return is null\n",
    "        AND customer NOT LIKE '%FUJIFILM%'\n",
    "    '''\n",
    "pd.read_sql(q,conn)"
   ]
  },
  {
   "cell_type": "code",
   "execution_count": null,
   "metadata": {},
   "outputs": [],
   "source": [
    "# min receive\n",
    "q = '''SELECT MIN(RECEIVE)\n",
    "        from transfers\n",
    "        WHERE return is null\n",
    "        AND part_list_date not null\n",
    "        '''\n",
    "pd.read_sql(q,conn)"
   ]
  },
  {
   "cell_type": "code",
   "execution_count": null,
   "metadata": {},
   "outputs": [],
   "source": [
    "# GROUP BY CUSTOMER\n",
    "q = '''\n",
    "        SELECT customer,round(sum(part_list_date),0) AS [Price($)]\n",
    "        FROM TRANSFERS\n",
    "        WHERE return is null\n",
    "        AND part_list_date NOT NULL\n",
    "        AND customer NOT LIKE '%FUJIFILM%'\n",
    "        \n",
    "        group by customer\n",
    "        HAVING [price($)] >10000\n",
    "        ORDER BY [price($)] DESC\n",
    "    '''\n",
    "pd.read_sql(q,conn)"
   ]
  },
  {
   "cell_type": "code",
   "execution_count": null,
   "metadata": {},
   "outputs": [],
   "source": [
    "#count BY customer\n",
    "q = '''SELECT customer,round(sum(part_list_date),0) AS [Price($)], count(*) AS [count]\n",
    "        \n",
    "        FROM transfers\n",
    "        \n",
    "        WHERE return is null\n",
    "        AND part_list_date NOT NULL\n",
    "        AND customer NOT LIKE '%FUJIFILM%'\n",
    "        \n",
    "        GROUP BY customer\n",
    "        HAVING [count] >=3\n",
    "        ORDER BY [Price($)] DESC,[count] DESC\n",
    "        \n",
    "\n",
    "'''\n",
    "\n",
    "pd.read_sql(q,conn)"
   ]
  },
  {
   "cell_type": "markdown",
   "metadata": {},
   "source": [
    "### Bach Mai\n"
   ]
  },
  {
   "cell_type": "code",
   "execution_count": null,
   "metadata": {},
   "outputs": [],
   "source": [
    "customer_name = 'Bach Mai Hospital'\n",
    "q = f'''SELECT model,count(*) As [Quantity], round(sum(part_list_date)) AS [Amount($)]\n",
    "        FROM transfers\n",
    "        \n",
    "        WHERE return is null\n",
    "        \n",
    "        AND part_list_date NOT NULL\n",
    "        AND customer = '{customer_name}'\n",
    "        \n",
    "        GROUP BY model\n",
    "        ORDER BY [Amount($)] DESC\n",
    "        \n",
    "    \n",
    "    '''\n",
    "pd.read_sql(q,conn)"
   ]
  },
  {
   "cell_type": "code",
   "execution_count": null,
   "metadata": {
    "scrolled": false
   },
   "outputs": [],
   "source": [
    "model ='EG-600WR'\n",
    "\n",
    "q = f'''SELECT rma,tf.model,sn,strftime(\"%d-%m-%Y\",receive) as received,\n",
    "                strftime(\"%Y\",[date installed]) as[Year Installed],\n",
    "\n",
    "                issue,round(part_list_date) AS [Dealer Price (GP 41%)],\n",
    "                round(part_list_date*0.85) AS [GP 20%]\n",
    "        \n",
    "        FROM transfers tf\n",
    "        LEFT JOIN install ins ON tf.sn = ins.[serial no.]\n",
    "        \n",
    "        WHERE return is null\n",
    "        AND part_list_date NOT NULL\n",
    "        AND customer = '{customer_name}'\n",
    "        and tf.model = '{model}'\n",
    "        ORDER BY [Year Installed] DESC, [Dealer Price (GP 41%)] DESC\n",
    "    '''\n",
    "print(f'{customer_name.upper()} - Model: {model}')\n",
    "pd.read_sql(q,conn)"
   ]
  },
  {
   "cell_type": "code",
   "execution_count": null,
   "metadata": {},
   "outputs": [],
   "source": [
    "model ='EC-600WI'\n",
    "\n",
    "q = f'''SELECT rma,tf.model,sn,strftime(\"%d-%m-%Y\",receive) as received,\n",
    "                strftime(\"%Y\",[date installed]) as[Year Installed],\n",
    "\n",
    "                issue,round(part_list_date) - round(part_list_date*0.85) AS [GP 20%]\n",
    "        \n",
    "        FROM transfers tf\n",
    "        LEFT JOIN install ins ON tf.sn = ins.[serial no.]\n",
    "        \n",
    "        WHERE return is null\n",
    "        AND part_list_date NOT NULL\n",
    "        AND customer = '{customer_name}'\n",
    "        and tf.model = '{model}'\n",
    "        ORDER BY [Year Installed] DESC, [GP 20%] DESC\n",
    "    '''\n",
    "print(f'{customer_name.upper()} - Model: {model}')\n",
    "pd.read_sql(q,conn)"
   ]
  },
  {
   "cell_type": "code",
   "execution_count": null,
   "metadata": {},
   "outputs": [],
   "source": []
  }
 ],
 "metadata": {
  "kernelspec": {
   "display_name": "Python 3 (ipykernel)",
   "language": "python",
   "name": "python3"
  },
  "language_info": {
   "codemirror_mode": {
    "name": "ipython",
    "version": 3
   },
   "file_extension": ".py",
   "mimetype": "text/x-python",
   "name": "python",
   "nbconvert_exporter": "python",
   "pygments_lexer": "ipython3",
   "version": "3.10.9"
  }
 },
 "nbformat": 4,
 "nbformat_minor": 4
}
