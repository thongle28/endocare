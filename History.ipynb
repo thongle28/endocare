{
 "cells": [
  {
   "cell_type": "code",
   "execution_count": 1,
   "metadata": {},
   "outputs": [],
   "source": [
    "import xlwings as xw\n",
    "import sources.parts_list_0802 as pl\n",
    "import pandas as pd\n",
    "import os\n",
    "from datetime import datetime as dt\n",
    "import sources.logins as lg\n",
    "import pathlib\n",
    "import qrcode\n",
    "from time import sleep\n",
    "import xlwings as xw\n",
    "from IPython.display import Image, display\n",
    "\n",
    "#######################################\n",
    "from sqlite3 import connect\n",
    "conn = connect('history.db')"
   ]
  },
  {
   "cell_type": "code",
   "execution_count": 2,
   "metadata": {},
   "outputs": [],
   "source": [
    "# Setting xlwings\n",
    "app = xw.App(visible=False)\n",
    "app.display_alerts = False"
   ]
  },
  {
   "cell_type": "code",
   "execution_count": 7,
   "metadata": {},
   "outputs": [
    {
     "data": {
      "text/plain": [
       "('FMSV00331',)"
      ]
     },
     "execution_count": 7,
     "metadata": {},
     "output_type": "execute_result"
    }
   ],
   "source": [
    "customer_code"
   ]
  },
  {
   "cell_type": "code",
   "execution_count": 20,
   "metadata": {},
   "outputs": [],
   "source": [
    "q = f'''\n",
    "        SELECT [serial no.]\n",
    "        FROM install\n",
    "        WHERE [customer code] ='{customer_code}'\n",
    "    '''\n",
    "sn_list = pd.read_sql(q,conn)\n",
    "sn_list = tuple(sn_list['Serial No.'])\n",
    "# sn_list"
   ]
  },
  {
   "cell_type": "code",
   "execution_count": 21,
   "metadata": {},
   "outputs": [
    {
     "data": {
      "text/html": [
       "<div>\n",
       "<style scoped>\n",
       "    .dataframe tbody tr th:only-of-type {\n",
       "        vertical-align: middle;\n",
       "    }\n",
       "\n",
       "    .dataframe tbody tr th {\n",
       "        vertical-align: top;\n",
       "    }\n",
       "\n",
       "    .dataframe thead th {\n",
       "        text-align: right;\n",
       "    }\n",
       "</style>\n",
       "<table border=\"1\" class=\"dataframe\">\n",
       "  <thead>\n",
       "    <tr style=\"text-align: right;\">\n",
       "      <th></th>\n",
       "      <th>RMA No.</th>\n",
       "      <th>SERIAL_NO</th>\n",
       "      <th>MODEL</th>\n",
       "      <th>RECIEVE_DATE</th>\n",
       "      <th>Repair Date</th>\n",
       "      <th>Repair Size</th>\n",
       "      <th>Defect Note</th>\n",
       "      <th>Approval</th>\n",
       "    </tr>\n",
       "  </thead>\n",
       "  <tbody>\n",
       "    <tr>\n",
       "      <th>0</th>\n",
       "      <td>FMSV2023120017</td>\n",
       "      <td>1C610D007</td>\n",
       "      <td>EC-590ZW3/M</td>\n",
       "      <td>2023-12-12 18:58:48</td>\n",
       "      <td>None</td>\n",
       "      <td>Major</td>\n",
       "      <td>FSB damaged\\r\\nFCT leaked\\r\\nBSA loosen</td>\n",
       "      <td>Approval</td>\n",
       "    </tr>\n",
       "    <tr>\n",
       "      <th>1</th>\n",
       "      <td>FMSV2017030009</td>\n",
       "      <td>1C675K021</td>\n",
       "      <td>EN-580T</td>\n",
       "      <td>2017-03-03 10:27:40</td>\n",
       "      <td>2017-08-17 08:05:08</td>\n",
       "      <td>Major</td>\n",
       "      <td>None</td>\n",
       "      <td>Approval</td>\n",
       "    </tr>\n",
       "    <tr>\n",
       "      <th>2</th>\n",
       "      <td>FMSV2018070002</td>\n",
       "      <td>1C675K021</td>\n",
       "      <td>EN-580T</td>\n",
       "      <td>2018-07-04 16:37:19</td>\n",
       "      <td>2018-11-23 11:14:50</td>\n",
       "      <td>Major</td>\n",
       "      <td>Blur Image\\r\\nAir Leaking at FCT</td>\n",
       "      <td>Approval</td>\n",
       "    </tr>\n",
       "    <tr>\n",
       "      <th>3</th>\n",
       "      <td>FMSV2020110008</td>\n",
       "      <td>1C675K021</td>\n",
       "      <td>EN-580T</td>\n",
       "      <td>2020-11-03 16:16:35</td>\n",
       "      <td>2020-11-10 10:19:00</td>\n",
       "      <td>Minor</td>\n",
       "      <td>Abnormal image\\r\\nU/D/L/R were loosen</td>\n",
       "      <td>Approval</td>\n",
       "    </tr>\n",
       "    <tr>\n",
       "      <th>4</th>\n",
       "      <td>FMSV2022040072</td>\n",
       "      <td>1C675K021</td>\n",
       "      <td>EN-580T</td>\n",
       "      <td>2022-04-25 18:53:03</td>\n",
       "      <td>2022-08-04 18:03:12</td>\n",
       "      <td>Major</td>\n",
       "      <td>1.VCA connector loosen.\\r\\n2.Black spot's at 1...</td>\n",
       "      <td>Approval</td>\n",
       "    </tr>\n",
       "    <tr>\n",
       "      <th>...</th>\n",
       "      <td>...</td>\n",
       "      <td>...</td>\n",
       "      <td>...</td>\n",
       "      <td>...</td>\n",
       "      <td>...</td>\n",
       "      <td>...</td>\n",
       "      <td>...</td>\n",
       "      <td>...</td>\n",
       "    </tr>\n",
       "    <tr>\n",
       "      <th>331</th>\n",
       "      <td>FMSV2015010009</td>\n",
       "      <td>RU038A113</td>\n",
       "      <td>EG-530UT2</td>\n",
       "      <td>2015-01-27 10:53:05</td>\n",
       "      <td>2015-03-06 15:03:57</td>\n",
       "      <td>None</td>\n",
       "      <td>None</td>\n",
       "      <td>Approval</td>\n",
       "    </tr>\n",
       "    <tr>\n",
       "      <th>332</th>\n",
       "      <td>FMSV2017040021</td>\n",
       "      <td>RU039A099</td>\n",
       "      <td>EG-530UR2</td>\n",
       "      <td>2017-04-27 14:27:38</td>\n",
       "      <td>None</td>\n",
       "      <td>Minor</td>\n",
       "      <td>None</td>\n",
       "      <td>Cancel</td>\n",
       "    </tr>\n",
       "    <tr>\n",
       "      <th>333</th>\n",
       "      <td>FMSV2018110038</td>\n",
       "      <td>RU039A099</td>\n",
       "      <td>EG-530UR2</td>\n",
       "      <td>2018-11-23 09:59:28</td>\n",
       "      <td>None</td>\n",
       "      <td>Major</td>\n",
       "      <td>None</td>\n",
       "      <td>Decline</td>\n",
       "    </tr>\n",
       "    <tr>\n",
       "      <th>334</th>\n",
       "      <td>FMSV2019080047</td>\n",
       "      <td>RU039A099</td>\n",
       "      <td>EG-530UR2</td>\n",
       "      <td>2019-08-09 14:45:38</td>\n",
       "      <td>None</td>\n",
       "      <td>Major</td>\n",
       "      <td>None</td>\n",
       "      <td>Decline</td>\n",
       "    </tr>\n",
       "    <tr>\n",
       "      <th>335</th>\n",
       "      <td>FMSV2022030031</td>\n",
       "      <td>RW512A161</td>\n",
       "      <td>PB-20</td>\n",
       "      <td>2022-03-17 17:20:59</td>\n",
       "      <td>None</td>\n",
       "      <td>Other</td>\n",
       "      <td>This PB20 is working normally.</td>\n",
       "      <td>Inspection</td>\n",
       "    </tr>\n",
       "  </tbody>\n",
       "</table>\n",
       "<p>336 rows × 8 columns</p>\n",
       "</div>"
      ],
      "text/plain": [
       "            RMA No.  SERIAL_NO        MODEL         RECIEVE_DATE  \\\n",
       "0    FMSV2023120017  1C610D007  EC-590ZW3/M  2023-12-12 18:58:48   \n",
       "1    FMSV2017030009  1C675K021      EN-580T  2017-03-03 10:27:40   \n",
       "2    FMSV2018070002  1C675K021      EN-580T  2018-07-04 16:37:19   \n",
       "3    FMSV2020110008  1C675K021      EN-580T  2020-11-03 16:16:35   \n",
       "4    FMSV2022040072  1C675K021      EN-580T  2022-04-25 18:53:03   \n",
       "..              ...        ...          ...                  ...   \n",
       "331  FMSV2015010009  RU038A113    EG-530UT2  2015-01-27 10:53:05   \n",
       "332  FMSV2017040021  RU039A099    EG-530UR2  2017-04-27 14:27:38   \n",
       "333  FMSV2018110038  RU039A099    EG-530UR2  2018-11-23 09:59:28   \n",
       "334  FMSV2019080047  RU039A099    EG-530UR2  2019-08-09 14:45:38   \n",
       "335  FMSV2022030031  RW512A161        PB-20  2022-03-17 17:20:59   \n",
       "\n",
       "             Repair Date Repair Size  \\\n",
       "0                   None       Major   \n",
       "1    2017-08-17 08:05:08       Major   \n",
       "2    2018-11-23 11:14:50       Major   \n",
       "3    2020-11-10 10:19:00       Minor   \n",
       "4    2022-08-04 18:03:12       Major   \n",
       "..                   ...         ...   \n",
       "331  2015-03-06 15:03:57        None   \n",
       "332                 None       Minor   \n",
       "333                 None       Major   \n",
       "334                 None       Major   \n",
       "335                 None       Other   \n",
       "\n",
       "                                           Defect Note    Approval  \n",
       "0              FSB damaged\\r\\nFCT leaked\\r\\nBSA loosen    Approval  \n",
       "1                                                 None    Approval  \n",
       "2                     Blur Image\\r\\nAir Leaking at FCT    Approval  \n",
       "3                Abnormal image\\r\\nU/D/L/R were loosen    Approval  \n",
       "4    1.VCA connector loosen.\\r\\n2.Black spot's at 1...    Approval  \n",
       "..                                                 ...         ...  \n",
       "331                                               None    Approval  \n",
       "332                                               None      Cancel  \n",
       "333                                               None     Decline  \n",
       "334                                               None     Decline  \n",
       "335                     This PB20 is working normally.  Inspection  \n",
       "\n",
       "[336 rows x 8 columns]"
      ]
     },
     "execution_count": 21,
     "metadata": {},
     "output_type": "execute_result"
    }
   ],
   "source": [
    "#filter by customer code\n",
    "customer_code = tuple(['FMSV00331'],)\n",
    "customer_code = 'FMSV00080'\n",
    "q = f'''\n",
    "        SELECT DISTINCT [rma no.],serial_no, model,recieve_date,[repair date], [repair size],\n",
    "        [defect note],approval\n",
    "        \n",
    "        FROM consolidated\n",
    "        WHERE serial_no IN {sn_list}\n",
    "        \n",
    "        ORDER BY SERIAL_NO,recieve_date\n",
    "'''\n",
    "raw91 = pd.read_sql(q,conn)\n",
    "raw91"
   ]
  },
  {
   "cell_type": "code",
   "execution_count": 22,
   "metadata": {},
   "outputs": [],
   "source": [
    "file_name = 'Service Contract/FTYO_asset_240131.xlsx'\n",
    "raw91.to_excel(file_name,index = False)\n",
    "\n",
    "wb = xw.Book(file_name)\n",
    "sh_new = wb.sheets.add()\n",
    "sh_new.name = 'Summary'\n",
    "\n",
    "sh =wb.sheets('Sheet1')\n",
    "sm = wb.sheets('Summary')"
   ]
  },
  {
   "cell_type": "code",
   "execution_count": 23,
   "metadata": {},
   "outputs": [
    {
     "name": "stdout",
     "output_type": "stream",
     "text": [
      "Done\n"
     ]
    }
   ],
   "source": [
    "#add count by sn\n",
    "lr = sh.range('A' + str(wb.sheets[0].cells.last_cell.row)).end('up').row\n",
    "lc = sh.range('A1').end('right').column\n",
    "d = pl.summary_report()\n",
    "rma=''\n",
    "sh.cells(1,lc+1).value='Repair'\n",
    "sh.cells(1,lc+2).value = 'No#'\n",
    "for i in range(2,lr+1):\n",
    "    rma = sh.range(f'A{i}').value\n",
    "#     sh.range(f'G{i}').value = d.issues(conn,rma)\n",
    "#     sh.range(f'H{i}').value = f'=COUNTIF($B$2:$B{i},B{i})'\n",
    "    sh.cells(i,lc+1).value = d.issues(conn,rma)\n",
    "    sh.cells(i,lc+2).value = f'=COUNTIF($B$2:$B{i},B{i})'\n",
    "\n",
    "wb.save()\n",
    "df = pd.read_excel(file_name,sheet_name='Sheet1')\n",
    "\n",
    "def part_string(rma):\n",
    "    part_str =''\n",
    "\n",
    "    q = f'''\n",
    "            SELECT * from parts\n",
    "            WHERE [RMA NO.]='{rma}'\n",
    "        '''\n",
    "    part_list = pd.read_sql(q,conn)\n",
    "    for i in range(len(part_list)):\n",
    "        part_str +=  part_list['PART_DESCRIPTION'][i]+ '\\n'\n",
    "    return part_str[:-1]\n",
    "# title\n",
    "sm.range('A1').value ='No.'\n",
    "sm.range('B1').value ='Model'\n",
    "sm.range('C1').value ='Serial'\n",
    "sm.range('D1').value ='Time'\n",
    "for i in range(0,max(df['No#'])):\n",
    "    sm.range('E1').offset(0,i).value = i+1\n",
    "# subtitle\n",
    "sn_list=[]\n",
    "details=['Receive','Repair','Size','Issue','RMA#','Defect','Parts','Approval']\n",
    "\n",
    "#lay out\n",
    "num = len(details)\n",
    "for i in range(2,lr+1):\n",
    "    model = sh.range(f'C{i}').value\n",
    "    sn = sh.range(f'B{i}').value\n",
    "    if sn not in sn_list:\n",
    "        i_row = len(sn_list)\n",
    "        sm.range('A2').offset(i_row * num).value = i_row+1\n",
    "        sm.range('B2').offset(i_row * num).value = model\n",
    "        sm.range('C2').offset(i_row * num).value = sn\n",
    "        \n",
    "#         sm.range('D6').offset(i_row*5).value = 'RMA#'\n",
    "        for i_detail in range(len(details)):\n",
    "            sm.range('D2').offset(i_row * num + i_detail).value = details[i_detail]\n",
    "        sn_list.append(sn)\n",
    "print('Done')"
   ]
  },
  {
   "cell_type": "code",
   "execution_count": 24,
   "metadata": {},
   "outputs": [
    {
     "name": "stdout",
     "output_type": "stream",
     "text": [
      "Done\n"
     ]
    }
   ],
   "source": [
    "# fill in data details\n",
    "sm_lrow = len(sn_list) * num\n",
    "for i in range(0,sm_lrow):\n",
    "\n",
    "    sn = sm.range('C2').offset(i,0).value\n",
    "    count = df[df['SERIAL_NO'] == sn]['SERIAL_NO'].count()\n",
    "    if sn!=None:\n",
    "#         print (i,sn,count)\n",
    "#         i_row= i+2\n",
    "        for j in range(0,count):\n",
    "            filter_data = df.loc[(df['SERIAL_NO']==sn) & (df['No#']==j+1)]\n",
    "            filter_data = filter_data.reset_index()\n",
    "            sm.range('E2').offset(i,j).value = filter_data['RECIEVE_DATE'][0]\n",
    "            sm.range('E3').offset(i,j).value = filter_data['Repair Date'][0]\n",
    "            sm.range('E4').offset(i,j).value = filter_data['Repair Size'][0]\n",
    "            sm.range('E5').offset(i,j).value = filter_data['Repair'][0]\n",
    "            sm.range('E6').offset(i,j).value = filter_data['RMA No.'][0]\n",
    "            sm.range('E7').offset(i,j).value = filter_data['Defect Note'][0]\n",
    "            sm.range('E8').offset(i,j).value = part_string(filter_data['RMA No.'][0])\n",
    "            sm.range('E9').offset(i,j).value = filter_data['Approval'][0]\n",
    "\n",
    "\n",
    "#all border\n",
    "rng = sm.range(sm.range('D1'),sm.cells(len(sn_list)*8+1,4+max(df['No#'])))\n",
    "for border_id in range(7,13):\n",
    "    rng.api.Borders(border_id).LineStyle=1\n",
    "    rng.api.Borders(border_id).Weight=2\n",
    "# format bold border\n",
    "for i in range(len(sn_list)):\n",
    "    rng = sm.range(sm.cells(2,1),sm.cells(1+len(details),4+max(df['No#']))).offset(i * len(details))\n",
    "    #                       A2   ->       hang so details cot so max No#      \n",
    "    for i in range(7,11):\n",
    "        rng.api.Borders(i).LineStyle = 1\n",
    "        rng.api.Borders(i).Weight = 3\n",
    "        \n",
    "sm.autofit()\n",
    "        \n",
    "print('Done')"
   ]
  },
  {
   "cell_type": "code",
   "execution_count": 7,
   "metadata": {},
   "outputs": [],
   "source": [
    "app = xw.App(visible=True)"
   ]
  },
  {
   "cell_type": "code",
   "execution_count": 8,
   "metadata": {},
   "outputs": [],
   "source": [
    "wb.save()\n",
    "wb.close()"
   ]
  },
  {
   "cell_type": "code",
   "execution_count": 16,
   "metadata": {},
   "outputs": [],
   "source": [
    "sm.autofit()\n"
   ]
  },
  {
   "cell_type": "code",
   "execution_count": null,
   "metadata": {},
   "outputs": [],
   "source": [
    "sm.clear_contents()"
   ]
  },
  {
   "cell_type": "code",
   "execution_count": null,
   "metadata": {},
   "outputs": [],
   "source": []
  },
  {
   "cell_type": "code",
   "execution_count": null,
   "metadata": {},
   "outputs": [],
   "source": []
  },
  {
   "cell_type": "code",
   "execution_count": null,
   "metadata": {},
   "outputs": [],
   "source": []
  },
  {
   "cell_type": "markdown",
   "metadata": {},
   "source": [
    "# Research clearify  parts by history repair\n",
    "\n"
   ]
  },
  {
   "cell_type": "code",
   "execution_count": null,
   "metadata": {},
   "outputs": [],
   "source": [
    "#filter by customer code\n",
    "# customer_code = 'FMSV00360'\n",
    "q = f'''\n",
    "        SELECT DISTINCT [rma no.],serial_no, model,recieve_date,[repair date], [repair size],[defect note],repair_status\n",
    "        \n",
    "        FROM consolidated\n",
    "        \n",
    "        WHERE approval = 'Approval'\n",
    "        \n",
    "        and [Repair Date] > '2021-12-31'\n",
    "        ORDER BY [Repair Date],SERIAL_NO,recieve_date\n",
    "'''\n",
    "raw91 = pd.read_sql(q,conn)\n",
    "raw91"
   ]
  },
  {
   "cell_type": "code",
   "execution_count": null,
   "metadata": {},
   "outputs": [],
   "source": [
    "# filter model eg-600wr v2\n",
    "q = f'''\n",
    "     SELECT distinct [RMA NO.],MODEL,serial_no\n",
    "     FROM consolidated c\n",
    "     WHERE c.model ='EG-600WR'\n",
    "     '''\n",
    "pd.read_sql(q,conn)"
   ]
  },
  {
   "cell_type": "code",
   "execution_count": null,
   "metadata": {},
   "outputs": [],
   "source": [
    "# replace model eg-600wr v2\n",
    "q = '''\n",
    "        UPDATE consolidated \n",
    "        SET model = 'EG-600WR'\n",
    "        WHERE model = 'EG-600WR V2';\n",
    "        \n",
    "    '''\n",
    "conn.execute(q)"
   ]
  },
  {
   "cell_type": "code",
   "execution_count": null,
   "metadata": {},
   "outputs": [],
   "source": []
  },
  {
   "cell_type": "code",
   "execution_count": null,
   "metadata": {},
   "outputs": [],
   "source": [
    "#create rma list and import to \n",
    "rma_list = \"'\"\n",
    "for rma in raw91['RMA No.']:\n",
    "    rma_list = rma_list +rma+ \"','\"\n",
    "rma_list = rma_list[:-2]\n"
   ]
  },
  {
   "cell_type": "code",
   "execution_count": null,
   "metadata": {},
   "outputs": [],
   "source": [
    "# create part list column\n",
    "parts_list = ('ISA','BSA','CHA','FCT','FSA','FSB','LGB','VCA')\n"
   ]
  },
  {
   "cell_type": "code",
   "execution_count": null,
   "metadata": {},
   "outputs": [],
   "source": [
    "\n",
    "q = f'''\n",
    "        SELECT DISTINCT p.[RMA No.],c.model,p.part_description,pn.short_name\n",
    "        FROM (parts p\n",
    "        LEFT JOIN part_name pn ON p.part_description = pn.part_description)\n",
    "        LEFT JOIN consolidated c ON p.[rma no.] = c.[rma no.]\n",
    "        WHERE c.[RMA NO.] IN ({rma_list})\n",
    "        AND pn.short_name IN {str(parts_list)}\n",
    "        \n",
    "    '''\n",
    "parts = pd.read_sql(q,conn)\n",
    "# parts.to_excel('parts.xlsx',index = False)\n",
    "parts"
   ]
  },
  {
   "cell_type": "code",
   "execution_count": null,
   "metadata": {},
   "outputs": [],
   "source": [
    "# research parts\n",
    "q = '''\n",
    "        SELECT p.part_no,p.part_description,pn.short_name\n",
    "        FROM parts p\n",
    "        LEFT JOIN part_name pn ON p.part_description = pn.part_description\n",
    "        \n",
    "        WHERE pn.short_name is null\n",
    "\n",
    "    '''\n",
    "ppp = pd.read_sql(q,conn)\n",
    "ppp.to_excel('part_no_short_name.xlsx',index = False)"
   ]
  },
  {
   "cell_type": "code",
   "execution_count": null,
   "metadata": {},
   "outputs": [],
   "source": [
    "xw.Book('part_no_short_name.xlsx')"
   ]
  },
  {
   "cell_type": "code",
   "execution_count": null,
   "metadata": {},
   "outputs": [],
   "source": [
    "q = f'''\n",
    "        SELECT  *\n",
    "        FROM  part_name\n",
    "        WHERE short_name in {str(parts_list)}\n",
    "        ORDER BY short_name\n",
    "        \n",
    "    '''\n",
    "ppp = pd.read_sql(q,conn)\n",
    "ppp"
   ]
  },
  {
   "cell_type": "code",
   "execution_count": null,
   "metadata": {},
   "outputs": [],
   "source": []
  },
  {
   "cell_type": "code",
   "execution_count": null,
   "metadata": {},
   "outputs": [],
   "source": []
  },
  {
   "cell_type": "markdown",
   "metadata": {},
   "source": [
    "####  Write to new file"
   ]
  },
  {
   "cell_type": "code",
   "execution_count": null,
   "metadata": {},
   "outputs": [],
   "source": [
    "wb = xw.Book()\n",
    "wb.sheets.add('Summary')\n",
    "sh = wb.sheets('Summary')"
   ]
  },
  {
   "cell_type": "code",
   "execution_count": null,
   "metadata": {},
   "outputs": [],
   "source": []
  },
  {
   "cell_type": "code",
   "execution_count": null,
   "metadata": {},
   "outputs": [],
   "source": [
    "# add title\n",
    "sh.range('A1').value = 'Model'\n",
    "for i in range(len(parts_list)):\n",
    "    sh.range('B1').offset(0,i).value = parts_list[i]\n",
    "\n",
    "# count model and part\n",
    "i=0\n",
    "for model in parts['MODEL'].unique():\n",
    "    sh.range('A2').offset(i).value = model\n",
    "    q =f'''\n",
    "            SELECT  pn.short_name as PARTS,count(*) as COUNT\n",
    "            FROM (parts p\n",
    "            LEFT JOIN part_name pn ON p.part_description = pn.part_description)\n",
    "            LEFT JOIN consolidated c ON p.[rma no.] = c.[rma no.]\n",
    "            WHERE c.[RMA NO.] IN ({rma_list})\n",
    "            AND c.model ='{model}'\n",
    "            AND pn.short_name IN {str(parts_list)}\n",
    "            GROUP BY pn.short_name\n",
    "        '''\n",
    "    aaa = pd.read_sql(q,conn)\n",
    "    j = 0\n",
    "    for part in parts_list:\n",
    "        \n",
    "        try:\n",
    "            part_count = int(aaa[aaa['PARTS']==part]['COUNT'])\n",
    "        except:\n",
    "            part_count = 0\n",
    "        \n",
    "        sh.range('B2').offset(i,j).value = part_count\n",
    "        j+=1\n",
    "    \n",
    "    i+=1"
   ]
  },
  {
   "cell_type": "code",
   "execution_count": null,
   "metadata": {},
   "outputs": [],
   "source": [
    "sh.clear_contents()"
   ]
  },
  {
   "cell_type": "code",
   "execution_count": null,
   "metadata": {},
   "outputs": [],
   "source": [
    "sh.autofit()"
   ]
  },
  {
   "cell_type": "code",
   "execution_count": null,
   "metadata": {},
   "outputs": [],
   "source": [
    "sh.used_range.api.AutoFilter(Field:=1)"
   ]
  },
  {
   "cell_type": "code",
   "execution_count": null,
   "metadata": {},
   "outputs": [],
   "source": [
    "save_name =input('Save File Name: ')\n",
    "\n",
    "wb.save(f'{save_name}.xlsx')\n",
    "wb.close()"
   ]
  },
  {
   "cell_type": "code",
   "execution_count": null,
   "metadata": {},
   "outputs": [],
   "source": []
  },
  {
   "cell_type": "code",
   "execution_count": null,
   "metadata": {},
   "outputs": [],
   "source": [
    "# count model and part\n",
    "for model in parts['MODEL'].unique():\n",
    "    \n",
    "    q =f'''\n",
    "            SELECT  pn.short_name as PARTS,count(*) as COUNT\n",
    "            FROM (parts p\n",
    "            LEFT JOIN part_name pn ON p.part_description = pn.part_description)\n",
    "            LEFT JOIN consolidated c ON p.[rma no.] = c.[rma no.]\n",
    "            WHERE c.[RMA NO.] IN ({rma_list})\n",
    "            AND c.model ='{model}'\n",
    "            AND pn.short_name IN {str(parts_list)}\n",
    "            GROUP BY pn.short_name\n",
    "        '''\n",
    "    aaa = pd.read_sql(q,conn)\n",
    "    for part in parts_list:\n",
    "    \n",
    "        try:\n",
    "            part_count = int(aaa[aaa['PARTS']==part]['COUNT'])\n",
    "        except:\n",
    "            part_count = 0\n",
    "        "
   ]
  },
  {
   "cell_type": "code",
   "execution_count": null,
   "metadata": {},
   "outputs": [],
   "source": [
    "model = 'EG-530WR'\n",
    "\n",
    "q =f'''\n",
    "        SELECT  pn.short_name as PARTS,count(*) as COUNT\n",
    "        FROM (parts p\n",
    "        LEFT JOIN part_name pn ON p.part_description = pn.part_description)\n",
    "        LEFT JOIN consolidated c ON p.[rma no.] = c.[rma no.]\n",
    "        WHERE c.[RMA NO.] IN ({rma_list})\n",
    "        AND c.model ='{model}'\n",
    "        AND pn.short_name IN {str(parts_list)}\n",
    "        GROUP BY pn.short_name\n",
    "    '''\n",
    "aaa = pd.read_sql(q,conn)\n",
    "aaa"
   ]
  },
  {
   "cell_type": "code",
   "execution_count": null,
   "metadata": {},
   "outputs": [],
   "source": [
    "aaa[aaa['PARTS']=='BSA']['COUNT']"
   ]
  },
  {
   "cell_type": "code",
   "execution_count": null,
   "metadata": {},
   "outputs": [],
   "source": [
    "for model in \n",
    "for part in parts_list:\n",
    "    \n",
    "    try:\n",
    "        part_count = int(aaa[aaa['PARTS']==part]['COUNT'])\n",
    "    except:\n",
    "        part_count = 0\n",
    "    print(part,part_count)"
   ]
  },
  {
   "cell_type": "markdown",
   "metadata": {},
   "source": [
    "#### Installation\n"
   ]
  },
  {
   "cell_type": "code",
   "execution_count": null,
   "metadata": {},
   "outputs": [],
   "source": []
  },
  {
   "cell_type": "code",
   "execution_count": null,
   "metadata": {},
   "outputs": [],
   "source": [
    "ff_asset_code = ('FMSV00080','FMSV00293','FMSV')"
   ]
  },
  {
   "cell_type": "code",
   "execution_count": null,
   "metadata": {},
   "outputs": [],
   "source": [
    "# ALL FF ASSET\n",
    "q = f'''\n",
    "        SELECT DISTINCT *\n",
    "        FROM install\n",
    "        WHERE [customer code] IN {ff_asset_code}\n",
    "    '''\n",
    "ff_asset = pd.read_sql(q,conn)\n",
    "\n",
    "# create asset items\n",
    "ff_asset_items = tuple(ff_asset['Serial No.'])\n",
    "# ff_asset_items"
   ]
  },
  {
   "cell_type": "code",
   "execution_count": null,
   "metadata": {},
   "outputs": [],
   "source": [
    "# ALL FF ASSET\n",
    "q = f'''\n",
    "        SELECT DISTINCT *\n",
    "        FROM install\n",
    "        WHERE [customer code] IN {ff_asset_code}\n",
    "        \n",
    "    '''\n",
    "ff_asset = pd.read_sql(q,conn)\n",
    "ff_asset\n"
   ]
  },
  {
   "cell_type": "code",
   "execution_count": null,
   "metadata": {},
   "outputs": [],
   "source": [
    "# create max rma\n",
    "q = f'''\n",
    "        SELECT MAX([RMA NO.]) as RMA,serial_no\n",
    "        FROM consolidated c\n",
    "        WHERE serial_no IN {ff_asset_items}\n",
    "        GROUP BY serial_no\n",
    "    '''\n",
    "asset_rma = pd.read_sql(q,conn)\n",
    "rma_list = tuple(asset_rma['RMA'])\n",
    "rma_list"
   ]
  },
  {
   "cell_type": "markdown",
   "metadata": {},
   "source": [
    "#### "
   ]
  },
  {
   "cell_type": "code",
   "execution_count": null,
   "metadata": {},
   "outputs": [],
   "source": [
    "file_name = os.path.join(path,'hcap2023.xlsx')\n",
    "writer = pd.ExcelWriter(file_name, engine = 'xlsxwriter')"
   ]
  },
  {
   "cell_type": "code",
   "execution_count": null,
   "metadata": {},
   "outputs": [],
   "source": [
    "path"
   ]
  },
  {
   "cell_type": "code",
   "execution_count": null,
   "metadata": {},
   "outputs": [],
   "source": [
    "# all record for asset\n",
    "q = f'''\n",
    "        SELECT [rma no.],[customer_name],customer_code,serial_no, model, approval,repair_status,\n",
    "        CASE\n",
    "            WHEN repair_status = 'Completed' THEN\n",
    "                (CASE\n",
    "                    WHEN approval IN ('Approval','Inspection','NoFault') THEN 'OK'\n",
    "\n",
    "                    ELSE 'Broken' END )\n",
    "            ELSE 'Waiting for QC' END\n",
    "                AS status\n",
    "            \n",
    "        FROM consolidated c\n",
    "        WHERE [rma no.] IN {rma_list}\n",
    "        ORDER BY serial_no ASC, [RMA No.] DESC\n",
    "    '''\n",
    "way1 = pd.read_sql(q,conn)\n",
    "# way1.to_excel(writer,index = False, sheet_name='way1')\n",
    "way1.to_excel('hcap2023.xlsx',index = False)"
   ]
  },
  {
   "cell_type": "code",
   "execution_count": null,
   "metadata": {},
   "outputs": [],
   "source": [
    "install = pd.read_sql('select * from install', conn)\n",
    "install.to_excel('install2023.xlsx',index = False)"
   ]
  },
  {
   "cell_type": "markdown",
   "metadata": {},
   "source": [
    "### Search by Serial Number"
   ]
  },
  {
   "cell_type": "code",
   "execution_count": null,
   "metadata": {},
   "outputs": [],
   "source": [
    "#CHECK SERIAL\n",
    "sn = 'Jg361K643'\n",
    "q = f'''\n",
    "        SELECT [rma no.],customer_name,model,serial_no,[repair size],approval,[scope connect count],[recieve_date]\n",
    "        FROM consolidated\n",
    "        WHERE serial_no ='{sn.upper()}'\n",
    "        \n",
    "        ORDER BY [rma no.] DESC\n",
    "        \n",
    "    '''\n",
    "pd.read_sql(q,conn)"
   ]
  },
  {
   "cell_type": "markdown",
   "metadata": {},
   "source": [
    "# check History\n",
    "rma ='FMSV2022050061'\n",
    "pd.read_sql(f\"SELECT * FROM transfers WHERE rma = '{rma}'\",conn)"
   ]
  },
  {
   "cell_type": "code",
   "execution_count": null,
   "metadata": {},
   "outputs": [],
   "source": [
    "xw.Book('fesam.xlsx')"
   ]
  },
  {
   "cell_type": "code",
   "execution_count": null,
   "metadata": {},
   "outputs": [],
   "source": [
    "path = pathlib.Path().absolute()"
   ]
  },
  {
   "cell_type": "code",
   "execution_count": null,
   "metadata": {},
   "outputs": [],
   "source": [
    "file_name = os.path.join(path,'fesam.xlsx')\n",
    "writer = pd.ExcelWriter(file_name, engine = 'xlsxwriter')"
   ]
  },
  {
   "cell_type": "code",
   "execution_count": null,
   "metadata": {},
   "outputs": [],
   "source": [
    "writer.close()"
   ]
  },
  {
   "cell_type": "markdown",
   "metadata": {},
   "source": [
    "### FY2022\n"
   ]
  },
  {
   "cell_type": "code",
   "execution_count": null,
   "metadata": {},
   "outputs": [],
   "source": [
    "q = '''\n",
    "        SELECT \n",
    "    '''"
   ]
  },
  {
   "cell_type": "code",
   "execution_count": null,
   "metadata": {},
   "outputs": [],
   "source": [
    "rmas = '''\n",
    "\n",
    "FMSV2023030051\n",
    "FMSV2023040071\n",
    "FMSV2023040076\n",
    "FMSV2023050003\n",
    "FMSV2023050019\n",
    "\n",
    "'''\n",
    "rma_list = rmas.strip().split('\\n')\n",
    "# tuple(rma_list)"
   ]
  },
  {
   "cell_type": "markdown",
   "metadata": {},
   "source": [
    "### TAT time\n"
   ]
  },
  {
   "cell_type": "code",
   "execution_count": null,
   "metadata": {},
   "outputs": [],
   "source": [
    "from sqlite3 import connect\n",
    "conn = connect('history.db')"
   ]
  },
  {
   "cell_type": "code",
   "execution_count": null,
   "metadata": {},
   "outputs": [],
   "source": [
    "sn_list = '''2G361K131\n",
    "3D103L051\n",
    "5B089K098\n",
    "1C603K040\n",
    "RD102A106\n",
    "3D103L054\n",
    "1C642K365\n",
    "SC309A085\n",
    "4C491A001\n",
    "1C692K656\n",
    "5G309A586\n",
    "1C730K094\n",
    "2G348K408\n",
    "1V567A282\n",
    "5V564D395\n",
    "3V567D148\n",
    "\n",
    "\n",
    "\n",
    "    '''\n",
    "\n",
    "sn_list = sn_list.strip().split('\\n')\n",
    "len(sn_list)"
   ]
  },
  {
   "cell_type": "code",
   "execution_count": null,
   "metadata": {},
   "outputs": [],
   "source": [
    "sn = '3D103L051'\n",
    "q = f'''\n",
    "        SELECT [rma no.],customer_name,model,serial_no,[repair size],approval,[scope connect count],[recieve_date]\n",
    "        FROM consolidated\n",
    "        WHERE upper(serial_no) ='{sn.upper()}'\n",
    "\n",
    "        ORDER BY [rma no.] DESC\n",
    "\n",
    "    '''\n",
    "his_rma = pd.read_sql(q,conn)\n",
    "len(his_rma)>1"
   ]
  },
  {
   "cell_type": "code",
   "execution_count": null,
   "metadata": {
    "scrolled": false
   },
   "outputs": [],
   "source": [
    "#check by sn and record serial\n",
    "rma_record =[]\n",
    "sn_failed = []\n",
    "for sn in sn_list:\n",
    "#     sn = 'Jg361K643'\n",
    "    q = f'''\n",
    "            SELECT [rma no.],customer_name,model,serial_no,[repair size],approval,[scope connect count],[recieve_date]\n",
    "            FROM consolidated\n",
    "            WHERE upper(serial_no) ='{sn.upper()}'\n",
    "\n",
    "            ORDER BY [rma no.] DESC\n",
    "\n",
    "        '''\n",
    "    his_rma = pd.read_sql(q,conn)\n",
    "    if len(his_rma) > 1:\n",
    "        display(his_rma)\n",
    "\n",
    "        try:\n",
    "            ind = int(input('Select by index[0]: '))\n",
    "            rma_record.append(his_rma['RMA No.'][0])\n",
    "            rma_record.append(his_rma['RMA No.'][ind])\n",
    "        except:\n",
    "            ind = 0\n",
    "            rma_record.append(his_rma['RMA No.'][0])\n",
    "    else:\n",
    "        sn_failed.append(sn)\n",
    "    \n",
    "    print(rma_record)\n",
    "    "
   ]
  },
  {
   "cell_type": "code",
   "execution_count": null,
   "metadata": {},
   "outputs": [],
   "source": [
    "for sn in sn_failed:\n",
    "    print(sn)"
   ]
  },
  {
   "cell_type": "code",
   "execution_count": null,
   "metadata": {},
   "outputs": [],
   "source": [
    "#combine receive\n",
    "rma_list = tuple(rma_record)\n",
    "q = f'''\n",
    "        SELECT  DISTINCT c.[rma no.],c.customer_name,c.model,c.serial_no,\n",
    "        strftime('%Y-%m-%d',CASE \n",
    "            WHEN receive NOT NULL THEN receive\n",
    "            ELSE c.recieve_date END) AS [Receive Date (IN)],\n",
    "        \n",
    "        CASE\n",
    "            WHEN m.quotation IS NULL THEN c.in_inspect_date\n",
    "            WHEN m.quotation IN ('FOC','WARRANTY') THEN c.in_inspect_date\n",
    "            ELSE m.quotation  END as [Quoted Date],\n",
    "        \n",
    "        confirmation AS [PO rec. Date],\n",
    "        m.note as [Part Order Date],\n",
    "        c.[Part Select Date] AS [Part Receive Date],\n",
    "        ROUND(JULIANDAY(m.note) - JULIANDAY(c.[Part Select Date])) AS [TAT Parts],\n",
    "        \n",
    "        strftime('%Y-%m-%d',re.[Start Time]) AS[Repair Start Date],\n",
    "        ROUND(JULIANDAY(c.qc) - JULIANDAY(re.[Start Time])) AS [TAT Repair],\n",
    "        strftime('%Y-%m-%d',c.qc) AS [Ship Date (OUT)],\n",
    "        \n",
    "        ROUND(JULIANDAY(c.qc) - JULIANDAY(receive)) AS [TAT Days Completed]\n",
    "        \n",
    "        FROM (consolidated c\n",
    "        LEFT JOIN repair_code re ON c.[RMA NO.] = re.[RMA NO.])\n",
    "        LEFT JOIN m_list m ON c.[RMA NO.] = m.rma\n",
    "        WHERE c.[rma no.] IN {rma_list}\n",
    "        \n",
    "        ORDER BY c.[rma no.]\n",
    "        \n",
    "    '''\n",
    "\n",
    "tat_repair = pd.read_sql(q,conn)\n",
    "tat_repair#.to_excel('inspection\\\\tat_repair.xlsx',index=False)"
   ]
  },
  {
   "cell_type": "code",
   "execution_count": null,
   "metadata": {},
   "outputs": [],
   "source": [
    "tat_repair.to_excel('inspection\\\\ff_asset_checked.xlsx',index=False)"
   ]
  },
  {
   "cell_type": "code",
   "execution_count": null,
   "metadata": {},
   "outputs": [],
   "source": [
    "xw.Book('inspection\\\\ff_asset_checked.xlsx')"
   ]
  },
  {
   "cell_type": "code",
   "execution_count": null,
   "metadata": {},
   "outputs": [],
   "source": [
    "pd.read_sql('select WORKINGDAY(strptime(\"2023-05-15\",\"%Y-%m-%d\"),strptime(\"2023-05-28\",\"%Y-%m-%d\"))',conn)"
   ]
  },
  {
   "cell_type": "code",
   "execution_count": null,
   "metadata": {},
   "outputs": [],
   "source": []
  },
  {
   "cell_type": "code",
   "execution_count": null,
   "metadata": {},
   "outputs": [],
   "source": [
    "q = f'''\n",
    "        SELECT DISTINCT re.[rma no.],re.[Start Time],\n",
    "        (re.[End Time]-re.[Start Time]) as [TAT Repair],re.[End Time]\n",
    "        \n",
    "        FROM repair_code re\n",
    "        WHERE re.[rma no.] IN {tuple(rma_list)}\n",
    "    '''\n",
    "pd.read_sql(q,conn).to_excel('inspection\\\\tat_repair.xlsx')"
   ]
  },
  {
   "cell_type": "markdown",
   "metadata": {},
   "source": [
    "### HCAP KICK-OFF\n"
   ]
  },
  {
   "cell_type": "code",
   "execution_count": null,
   "metadata": {},
   "outputs": [],
   "source": [
    "\n",
    "q = '''SELECT * \n",
    "        \n",
    "        FROM transfers\n",
    "        WHERE return IS  NULL\n",
    "        AND customer NOT LIKE '%FUJIFILM%'\n",
    "\n",
    "    '''\n",
    "\n",
    "pd.read_sql(q,conn)\n",
    "# 181 items"
   ]
  },
  {
   "cell_type": "code",
   "execution_count": null,
   "metadata": {},
   "outputs": [],
   "source": []
  },
  {
   "cell_type": "code",
   "execution_count": null,
   "metadata": {},
   "outputs": [],
   "source": [
    "# amount of waiting confirm\n",
    "q = '''SELECT COUNT(*),SUM(price) AS [Amount of Waiting confirm($)]\n",
    "        FROM m_list\n",
    "        WHERE status LIKE '%waiting confirm'\n",
    "    '''\n",
    "pd.read_sql(q,conn)"
   ]
  },
  {
   "cell_type": "code",
   "execution_count": null,
   "metadata": {},
   "outputs": [],
   "source": [
    "# total price\n",
    "q = '''\n",
    "        SELECT COUNT(*),SUM(part_list_date) AS [Amount of Transfers($)]\n",
    "        FROM transfers\n",
    "        WHERE return is null\n",
    "        AND customer NOT LIKE '%FUJIFILM%'\n",
    "    '''\n",
    "pd.read_sql(q,conn)"
   ]
  },
  {
   "cell_type": "code",
   "execution_count": null,
   "metadata": {},
   "outputs": [],
   "source": [
    "# min receive\n",
    "q = '''SELECT MIN(RECEIVE)\n",
    "        from transfers\n",
    "        WHERE return is null\n",
    "        AND part_list_date not null\n",
    "        '''\n",
    "pd.read_sql(q,conn)"
   ]
  },
  {
   "cell_type": "code",
   "execution_count": null,
   "metadata": {},
   "outputs": [],
   "source": [
    "# GROUP BY CUSTOMER\n",
    "q = '''\n",
    "        SELECT customer,round(sum(part_list_date),0) AS [Price($)]\n",
    "        FROM TRANSFERS\n",
    "        WHERE return is null\n",
    "        AND part_list_date NOT NULL\n",
    "        AND customer NOT LIKE '%FUJIFILM%'\n",
    "        \n",
    "        group by customer\n",
    "        HAVING [price($)] >10000\n",
    "        ORDER BY [price($)] DESC\n",
    "    '''\n",
    "pd.read_sql(q,conn)"
   ]
  },
  {
   "cell_type": "code",
   "execution_count": null,
   "metadata": {},
   "outputs": [],
   "source": [
    "#count BY customer\n",
    "q = '''SELECT customer,round(sum(part_list_date),0) AS [Price($)], count(*) AS [count]\n",
    "        \n",
    "        FROM transfers\n",
    "        \n",
    "        WHERE return is null\n",
    "        AND part_list_date NOT NULL\n",
    "        AND customer NOT LIKE '%FUJIFILM%'\n",
    "        \n",
    "        GROUP BY customer\n",
    "        HAVING [count] >=3\n",
    "        ORDER BY [Price($)] DESC,[count] DESC\n",
    "        \n",
    "\n",
    "'''\n",
    "\n",
    "pd.read_sql(q,conn)"
   ]
  },
  {
   "cell_type": "markdown",
   "metadata": {},
   "source": [
    "### Bach Mai\n"
   ]
  },
  {
   "cell_type": "code",
   "execution_count": null,
   "metadata": {},
   "outputs": [],
   "source": [
    "customer_name = 'Bach Mai Hospital'\n",
    "q = f'''SELECT model,count(*) As [Quantity], round(sum(part_list_date)) AS [Amount($)]\n",
    "        FROM transfers\n",
    "        \n",
    "        WHERE return is null\n",
    "        \n",
    "        AND part_list_date NOT NULL\n",
    "        AND customer = '{customer_name}'\n",
    "        \n",
    "        GROUP BY model\n",
    "        ORDER BY [Amount($)] DESC\n",
    "        \n",
    "    \n",
    "    '''\n",
    "pd.read_sql(q,conn)"
   ]
  },
  {
   "cell_type": "code",
   "execution_count": null,
   "metadata": {
    "scrolled": false
   },
   "outputs": [],
   "source": [
    "model ='EG-600WR'\n",
    "\n",
    "q = f'''SELECT rma,tf.model,sn,strftime(\"%d-%m-%Y\",receive) as received,\n",
    "                strftime(\"%Y\",[date installed]) as[Year Installed],\n",
    "\n",
    "                issue,round(part_list_date) AS [Dealer Price (GP 41%)],\n",
    "                round(part_list_date*0.85) AS [GP 20%]\n",
    "        \n",
    "        FROM transfers tf\n",
    "        LEFT JOIN install ins ON tf.sn = ins.[serial no.]\n",
    "        \n",
    "        WHERE return is null\n",
    "        AND part_list_date NOT NULL\n",
    "        AND customer = '{customer_name}'\n",
    "        and tf.model = '{model}'\n",
    "        ORDER BY [Year Installed] DESC, [Dealer Price (GP 41%)] DESC\n",
    "    '''\n",
    "print(f'{customer_name.upper()} - Model: {model}')\n",
    "pd.read_sql(q,conn)"
   ]
  },
  {
   "cell_type": "code",
   "execution_count": null,
   "metadata": {},
   "outputs": [],
   "source": [
    "model ='EC-600WI'\n",
    "\n",
    "q = f'''SELECT rma,tf.model,sn,strftime(\"%d-%m-%Y\",receive) as received,\n",
    "                strftime(\"%Y\",[date installed]) as[Year Installed],\n",
    "\n",
    "                issue,round(part_list_date) - round(part_list_date*0.85) AS [GP 20%]\n",
    "        \n",
    "        FROM transfers tf\n",
    "        LEFT JOIN install ins ON tf.sn = ins.[serial no.]\n",
    "        \n",
    "        WHERE return is null\n",
    "        AND part_list_date NOT NULL\n",
    "        AND customer = '{customer_name}'\n",
    "        and tf.model = '{model}'\n",
    "        ORDER BY [Year Installed] DESC, [GP 20%] DESC\n",
    "    '''\n",
    "print(f'{customer_name.upper()} - Model: {model}')\n",
    "pd.read_sql(q,conn)"
   ]
  },
  {
   "cell_type": "code",
   "execution_count": null,
   "metadata": {},
   "outputs": [],
   "source": []
  }
 ],
 "metadata": {
  "kernelspec": {
   "display_name": "Python 3 (ipykernel)",
   "language": "python",
   "name": "python3"
  },
  "language_info": {
   "codemirror_mode": {
    "name": "ipython",
    "version": 3
   },
   "file_extension": ".py",
   "mimetype": "text/x-python",
   "name": "python",
   "nbconvert_exporter": "python",
   "pygments_lexer": "ipython3",
   "version": "3.10.9"
  }
 },
 "nbformat": 4,
 "nbformat_minor": 4
}
