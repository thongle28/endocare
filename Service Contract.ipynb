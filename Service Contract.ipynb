{
 "cells": [
  {
   "cell_type": "code",
   "execution_count": 1,
   "id": "b1771007",
   "metadata": {},
   "outputs": [],
   "source": [
    "import pandas as pd\n",
    "from sqlite3 import connect\n",
    "from datetime import datetime as dt\n",
    "from IPython.display import Image,display"
   ]
  },
  {
   "cell_type": "code",
   "execution_count": 2,
   "id": "cbde23ce",
   "metadata": {},
   "outputs": [],
   "source": [
    "conn = connect('history.db')"
   ]
  },
  {
   "cell_type": "code",
   "execution_count": null,
   "id": "09dc77f9",
   "metadata": {},
   "outputs": [],
   "source": [
    "q = '''\n",
    "        SELECT [customer code],[customer name],COUNT(*) AS [count_install]\n",
    "        \n",
    "        FROM install\n",
    "        GROUP BY [customer code],[customer name]\n",
    "        ORDER BY [count_install] DESC\n",
    "    '''\n",
    "install = pd.read_sql(q,conn)\n",
    "install.to_excel('Service Contract/install.xlsx',index=False)"
   ]
  },
  {
   "cell_type": "code",
   "execution_count": null,
   "id": "c0d61bdc",
   "metadata": {},
   "outputs": [],
   "source": [
    "q = '''\n",
    "        SELECT [customer_code],[customer_name],COUNT(*) AS [count_repair]\n",
    "        \n",
    "        FROM consolidated\n",
    "        GROUP BY [customer_code],[customer_name]\n",
    "        ORDER BY [count_repair] DESC\n",
    "    '''\n",
    "repair = pd.read_sql(q,conn)\n",
    "repair.to_excel('Service Contract/repair.xlsx',index=False)"
   ]
  },
  {
   "cell_type": "code",
   "execution_count": null,
   "id": "55a1e209",
   "metadata": {},
   "outputs": [],
   "source": []
  },
  {
   "cell_type": "code",
   "execution_count": null,
   "id": "c82a9575",
   "metadata": {},
   "outputs": [],
   "source": []
  },
  {
   "cell_type": "code",
   "execution_count": null,
   "id": "a4ca2164",
   "metadata": {},
   "outputs": [],
   "source": []
  },
  {
   "cell_type": "code",
   "execution_count": null,
   "id": "eaa28188",
   "metadata": {},
   "outputs": [],
   "source": []
  },
  {
   "cell_type": "code",
   "execution_count": null,
   "id": "690fb4e7",
   "metadata": {},
   "outputs": [],
   "source": []
  },
  {
   "cell_type": "code",
   "execution_count": null,
   "id": "625478b5",
   "metadata": {},
   "outputs": [],
   "source": []
  },
  {
   "cell_type": "code",
   "execution_count": null,
   "id": "8ec57190",
   "metadata": {},
   "outputs": [],
   "source": []
  },
  {
   "cell_type": "code",
   "execution_count": 3,
   "id": "ee86baed",
   "metadata": {},
   "outputs": [],
   "source": [
    "sn_list = '''3S094K544\n",
    "2S094K540\n",
    "3S094K015\n",
    "3S094K526\n",
    "3S094K980\n",
    "2S094K543\n",
    "\n",
    "'''\n",
    "\n",
    "sn_list = tuple(sn_list.upper().strip().split('\\n'))"
   ]
  },
  {
   "cell_type": "code",
   "execution_count": 4,
   "id": "8db5ead0",
   "metadata": {},
   "outputs": [
    {
     "name": "stdout",
     "output_type": "stream",
     "text": [
      "2S094K540\n",
      "3S094K015\n",
      "3S094K526\n",
      "3S094K980\n",
      "2S094K543\n"
     ]
    },
    {
     "data": {
      "text/html": [
       "<div>\n",
       "<style scoped>\n",
       "    .dataframe tbody tr th:only-of-type {\n",
       "        vertical-align: middle;\n",
       "    }\n",
       "\n",
       "    .dataframe tbody tr th {\n",
       "        vertical-align: top;\n",
       "    }\n",
       "\n",
       "    .dataframe thead th {\n",
       "        text-align: right;\n",
       "    }\n",
       "</style>\n",
       "<table border=\"1\" class=\"dataframe\">\n",
       "  <thead>\n",
       "    <tr style=\"text-align: right;\">\n",
       "      <th></th>\n",
       "      <th>RMA No.</th>\n",
       "      <th>CUSTOMER_NAME</th>\n",
       "      <th>MODEL</th>\n",
       "      <th>SERIAL_NO</th>\n",
       "      <th>Approval</th>\n",
       "      <th>REPAIR_STATUS</th>\n",
       "      <th>Repair Size</th>\n",
       "    </tr>\n",
       "  </thead>\n",
       "  <tbody>\n",
       "    <tr>\n",
       "      <th>0</th>\n",
       "      <td>FMSV2023030017</td>\n",
       "      <td>Hanoi Medical University Hospital</td>\n",
       "      <td>XL-4450</td>\n",
       "      <td>3S094K544</td>\n",
       "      <td>Cancel</td>\n",
       "      <td>Completed</td>\n",
       "      <td>Other</td>\n",
       "    </tr>\n",
       "    <tr>\n",
       "      <th>1</th>\n",
       "      <td>FMSV2022110065</td>\n",
       "      <td>Hanoi Medical University Hospital</td>\n",
       "      <td>XL-4450</td>\n",
       "      <td>2S094K540</td>\n",
       "      <td>Decline</td>\n",
       "      <td>Completed</td>\n",
       "      <td>Other</td>\n",
       "    </tr>\n",
       "    <tr>\n",
       "      <th>2</th>\n",
       "      <td>FMSV2022060039</td>\n",
       "      <td>Hanoi Medical University Hospital</td>\n",
       "      <td>XL-4450</td>\n",
       "      <td>3S094K015</td>\n",
       "      <td>Decline</td>\n",
       "      <td>Completed</td>\n",
       "      <td>Other</td>\n",
       "    </tr>\n",
       "    <tr>\n",
       "      <th>3</th>\n",
       "      <td>FMSV2022060038</td>\n",
       "      <td>Hanoi Medical University Hospital</td>\n",
       "      <td>XL-4450</td>\n",
       "      <td>3S094K526</td>\n",
       "      <td>Decline</td>\n",
       "      <td>Completed</td>\n",
       "      <td>Other</td>\n",
       "    </tr>\n",
       "    <tr>\n",
       "      <th>4</th>\n",
       "      <td>FMSV2022120057</td>\n",
       "      <td>Hanoi Medical University Hospital</td>\n",
       "      <td>XL-4450</td>\n",
       "      <td>3S094K980</td>\n",
       "      <td>Decline</td>\n",
       "      <td>Completed</td>\n",
       "      <td>Other</td>\n",
       "    </tr>\n",
       "    <tr>\n",
       "      <th>5</th>\n",
       "      <td>FMSV2023060016</td>\n",
       "      <td>Hanoi Medical University Hospital</td>\n",
       "      <td>XL-4450</td>\n",
       "      <td>2S094K543</td>\n",
       "      <td>None</td>\n",
       "      <td>Inspection</td>\n",
       "      <td>Other</td>\n",
       "    </tr>\n",
       "  </tbody>\n",
       "</table>\n",
       "</div>"
      ],
      "text/plain": [
       "          RMA No.                      CUSTOMER_NAME    MODEL  SERIAL_NO  \\\n",
       "0  FMSV2023030017  Hanoi Medical University Hospital  XL-4450  3S094K544   \n",
       "1  FMSV2022110065  Hanoi Medical University Hospital  XL-4450  2S094K540   \n",
       "2  FMSV2022060039  Hanoi Medical University Hospital  XL-4450  3S094K015   \n",
       "3  FMSV2022060038  Hanoi Medical University Hospital  XL-4450  3S094K526   \n",
       "4  FMSV2022120057  Hanoi Medical University Hospital  XL-4450  3S094K980   \n",
       "5  FMSV2023060016  Hanoi Medical University Hospital  XL-4450  2S094K543   \n",
       "\n",
       "  Approval REPAIR_STATUS Repair Size  \n",
       "0   Cancel     Completed       Other  \n",
       "1  Decline     Completed       Other  \n",
       "2  Decline     Completed       Other  \n",
       "3  Decline     Completed       Other  \n",
       "4  Decline     Completed       Other  \n",
       "5     None    Inspection       Other  "
      ]
     },
     "execution_count": 4,
     "metadata": {},
     "output_type": "execute_result"
    }
   ],
   "source": [
    "df = pd.DataFrame()\n",
    "for sn in sn_list:\n",
    "    q = f'''\n",
    "            SELECT [rma no.],customer_name, model,serial_no,approval,repair_status,[repair size]\n",
    "            FROM consolidated\n",
    "            WHERE UPPER(serial_no) = '{sn.upper()}'\n",
    "            ORDER BY  [rma no.] DESC\n",
    "            LIMIT 1\n",
    "\n",
    "        '''\n",
    "    # display(pd.read_sql(q,conn))\n",
    "    last_rma = pd.read_sql(q,conn)\n",
    "    if sn ==sn_list[0]:\n",
    "        df = last_rma\n",
    "#         print(sn)\n",
    "    else:\n",
    "        df = pd.concat([df,last_rma]).reset_index(drop=True)\n",
    "        print(sn)\n",
    "\n",
    "df"
   ]
  },
  {
   "cell_type": "code",
   "execution_count": 5,
   "id": "c3c7b02d",
   "metadata": {},
   "outputs": [],
   "source": [
    "for sn in sn_list:\n",
    "    if sn.upper() not in list(df['SERIAL_NO']):\n",
    "        print(sn)"
   ]
  },
  {
   "cell_type": "code",
   "execution_count": null,
   "id": "af2f54f4",
   "metadata": {
    "scrolled": true
   },
   "outputs": [],
   "source": [
    "df.to_excel('New ML/ff_asset_230907.xlsx',index=False)"
   ]
  },
  {
   "cell_type": "code",
   "execution_count": null,
   "id": "dd0b328c",
   "metadata": {},
   "outputs": [],
   "source": []
  }
 ],
 "metadata": {
  "kernelspec": {
   "display_name": "Python 3 (ipykernel)",
   "language": "python",
   "name": "python3"
  },
  "language_info": {
   "codemirror_mode": {
    "name": "ipython",
    "version": 3
   },
   "file_extension": ".py",
   "mimetype": "text/x-python",
   "name": "python",
   "nbconvert_exporter": "python",
   "pygments_lexer": "ipython3",
   "version": "3.10.9"
  }
 },
 "nbformat": 4,
 "nbformat_minor": 5
}
