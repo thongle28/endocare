{
 "cells": [
  {
   "cell_type": "code",
   "execution_count": 1,
   "id": "b1771007",
   "metadata": {},
   "outputs": [],
   "source": [
    "import pandas as pd\n",
    "from sqlite3 import connect\n",
    "from datetime import datetime as dt\n",
    "from IPython.display import Image,display\n",
    "from openpyxl import load_workbook\n"
   ]
  },
  {
   "cell_type": "code",
   "execution_count": 2,
   "id": "cbde23ce",
   "metadata": {},
   "outputs": [],
   "source": [
    "conn = connect('history.db')"
   ]
  },
  {
   "cell_type": "markdown",
   "id": "b17fa44e",
   "metadata": {},
   "source": [
    "###  Check by Model\n"
   ]
  },
  {
   "cell_type": "code",
   "execution_count": null,
   "id": "b2d5a39a",
   "metadata": {},
   "outputs": [],
   "source": [
    "# EP-6000\n",
    "models = ['VP-7000',\n",
    "         'BL-7000',\n",
    "         'EG-760R',\n",
    "         'EG-760Z',\n",
    "         'EG-740N',\n",
    "         'EC-760R-V/I',\n",
    "         'EC-760ZP-V/L'\n",
    "          \n",
    "        ]\n",
    "\n",
    "model = models[2]\n",
    "q = f'''\n",
    "        SELECT [rma no.],model,serial_no,repair_status,approval\n",
    "        \n",
    "        FROM consolidated \n",
    "        WHERE model = '{model}'\n",
    "    '''\n",
    "model_list = pd.read_sql(q,conn)\n",
    "model_list.head()"
   ]
  },
  {
   "cell_type": "code",
   "execution_count": null,
   "id": "6fb386ee",
   "metadata": {},
   "outputs": [],
   "source": []
  },
  {
   "cell_type": "code",
   "execution_count": null,
   "id": "7249a124",
   "metadata": {},
   "outputs": [],
   "source": [
    "#part PRICES\n",
    "rma_list = tuple(model_list['RMA No.'])\n",
    "q = f'''\n",
    "        SELECT DISTINCT p.PART_NO,p.PART_DESCRIPTION,pn.short_name,\n",
    "        ROUND(pr.[Dealer Standard Price (wiout VAT)],0) AS [Dealer Price]\n",
    "        FROM (parts p\n",
    "        LEFT JOIN part_name pn ON p.PART_DESCRIPTION = pn.PART_DESCRIPTION)\n",
    "        LEFT JOIN prices pr ON REPLACE(p.part_no,'_','') = pr.[Article Code]\n",
    "        WHERE [rma no.] IN {rma_list}\n",
    "        \n",
    "        ORDER BY P.PART_DESCRIPTION\n",
    "    '''\n",
    "print(f'Model: {model}')\n",
    "parts_price = pd.read_sql(q,conn)\n",
    "parts_price"
   ]
  },
  {
   "cell_type": "code",
   "execution_count": null,
   "id": "0815fcac",
   "metadata": {},
   "outputs": [],
   "source": [
    "parts_no_price"
   ]
  },
  {
   "cell_type": "code",
   "execution_count": null,
   "id": "359b175e",
   "metadata": {},
   "outputs": [],
   "source": [
    "# part no price\n",
    "parts_no_price = ''\n",
    "parts_no_price = parts_price[parts_price['Dealer Price'].isnull()]\n",
    "parts_no_price = parts_no_price.reset_index()\n",
    "if len(parts_no_price) > 0:\n",
    "    # parts_list\n",
    "    parts_list =''\n",
    "    if len(parts_no_price)==1:\n",
    "        parts_list = f\" = '{parts_no_price['PART_NO'][0][:-1]}'\"\n",
    "    else:\n",
    "        parts_list = f\"IN {tuple (parts_no_price['PART_NO'].str.slice(stop=-1))}\"\n",
    "    \n",
    "    # Replacement\n",
    "    q = f'''\n",
    "            SELECT [Article Code] AS PART_NO,[Parts Name(EN)] AS PART_DESCRIPTION,\n",
    "            ROUND([Dealer Standard Price (wiout VAT)],0) AS [Dealer Price]\n",
    "\n",
    "            FROM prices pr\n",
    "\n",
    "            WHERE pr.family {parts_list}\n",
    "        '''\n",
    "    replacements = pd.read_sql(q,conn)\n",
    "    display(replacements)\n",
    "else:\n",
    "    print('Done')\n",
    "    replacements=''\n",
    "    parts_list=''"
   ]
  },
  {
   "cell_type": "code",
   "execution_count": null,
   "id": "e4e21065",
   "metadata": {},
   "outputs": [],
   "source": [
    "file_name ='Service Contract/ND1'\n",
    "parts_price.to_excel(f'{file_name}-{model}-parts.xlsx',sheet_name = f'{model}-parts',index = False)\n",
    "try:\n",
    "    replacements.to_excel(f'{file_name}-{model}-replace.xlsx', sheet_name = f'{model}-replace',index=False)\n",
    "except Exception as e:\n",
    "    print(e)"
   ]
  },
  {
   "cell_type": "code",
   "execution_count": null,
   "id": "ed5fb7fc",
   "metadata": {},
   "outputs": [],
   "source": [
    "replacements"
   ]
  },
  {
   "cell_type": "code",
   "execution_count": null,
   "id": "166d0b8a",
   "metadata": {},
   "outputs": [],
   "source": []
  },
  {
   "cell_type": "code",
   "execution_count": null,
   "id": "dd875692",
   "metadata": {},
   "outputs": [],
   "source": []
  },
  {
   "cell_type": "code",
   "execution_count": null,
   "id": "07132100",
   "metadata": {},
   "outputs": [],
   "source": []
  },
  {
   "cell_type": "code",
   "execution_count": null,
   "id": "619871b0",
   "metadata": {},
   "outputs": [],
   "source": [
    "replacement"
   ]
  },
  {
   "cell_type": "code",
   "execution_count": null,
   "id": "a052a0d2",
   "metadata": {},
   "outputs": [],
   "source": [
    "import xlwings as xw\n",
    "file_name = f'Service Contract/ND1_240117.xlsx'\n",
    "wb = xw.Book()\n",
    "wb.save(file_name)\n",
    "wb.close()"
   ]
  },
  {
   "cell_type": "code",
   "execution_count": null,
   "id": "2764f12f",
   "metadata": {},
   "outputs": [],
   "source": [
    "replacements"
   ]
  },
  {
   "cell_type": "code",
   "execution_count": null,
   "id": "ebb00a76",
   "metadata": {},
   "outputs": [],
   "source": [
    "\n",
    "\n",
    "book = load_workbook(file_name)\n",
    "writer = pd.ExcelWriter(file_name, engine = 'openpyxl')\n",
    "writer.book = book\n",
    "\n",
    "parts_price.to_excel(writer, sheet_name = f'parts1-{model}',index=False)\n",
    "try:\n",
    "    replacements.to_excel(writer, sheet_name = f'parts-{model}',index=False)\n",
    "except Exception as e:\n",
    "    print(e)\n",
    "writer.close()\n"
   ]
  },
  {
   "cell_type": "code",
   "execution_count": null,
   "id": "ebf04b22",
   "metadata": {},
   "outputs": [],
   "source": [
    "parts_no_price['PART_NO']"
   ]
  },
  {
   "cell_type": "code",
   "execution_count": null,
   "id": "d7a9ebbc",
   "metadata": {},
   "outputs": [],
   "source": []
  },
  {
   "cell_type": "code",
   "execution_count": null,
   "id": "09e55224",
   "metadata": {},
   "outputs": [],
   "source": [
    "pd.read_sql('select * from prices',conn)"
   ]
  },
  {
   "cell_type": "code",
   "execution_count": null,
   "id": "648b9a9e",
   "metadata": {},
   "outputs": [],
   "source": []
  }
 ],
 "metadata": {
  "kernelspec": {
   "display_name": "Python 3 (ipykernel)",
   "language": "python",
   "name": "python3"
  },
  "language_info": {
   "codemirror_mode": {
    "name": "ipython",
    "version": 3
   },
   "file_extension": ".py",
   "mimetype": "text/x-python",
   "name": "python",
   "nbconvert_exporter": "python",
   "pygments_lexer": "ipython3",
   "version": "3.10.9"
  }
 },
 "nbformat": 4,
 "nbformat_minor": 5
}
