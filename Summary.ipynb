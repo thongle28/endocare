{
 "cells": [
  {
   "cell_type": "markdown",
   "metadata": {},
   "source": [
    "# 1. Import library"
   ]
  },
  {
   "cell_type": "code",
   "execution_count": 1,
   "metadata": {},
   "outputs": [],
   "source": [
    "import xlwings as xw\n",
    "import sources.parts_list_0802 as pl\n",
    "from sqlite3 import connect\n",
    "import pandas as pd\n",
    "import os\n",
    "from datetime import datetime as dt\n",
    "import sources.logins as lg\n",
    "import pathlib\n",
    "import qrcode\n",
    "from time import sleep\n",
    "import xlwings as xw\n",
    "from IPython.display import Image\n",
    "import warnings\n",
    "warnings.filterwarnings('ignore')"
   ]
  },
  {
   "cell_type": "markdown",
   "metadata": {},
   "source": [
    "## 2. Select database"
   ]
  },
  {
   "cell_type": "code",
   "execution_count": 2,
   "metadata": {},
   "outputs": [],
   "source": [
    "conn = connect('quotation.db')"
   ]
  },
  {
   "cell_type": "code",
   "execution_count": null,
   "metadata": {},
   "outputs": [],
   "source": [
    "# check all table\n",
    "pd.read_sql(\"SELECT name FROM sqlite_master WHERE type ='table'\",conn)"
   ]
  },
  {
   "cell_type": "code",
   "execution_count": null,
   "metadata": {},
   "outputs": [],
   "source": [
    "q='''\n",
    "        SELECT max([UPDATE TIME]) as [update time],min([rma no.]) as rma_min,\n",
    "        max([rma no.]) as rma_max FROM consolidated\n",
    "    '''\n",
    "pd.read_sql(q,conn)"
   ]
  },
  {
   "cell_type": "markdown",
   "metadata": {},
   "source": [
    "### Copy file Smmary\n",
    "\n"
   ]
  },
  {
   "cell_type": "code",
   "execution_count": null,
   "metadata": {},
   "outputs": [],
   "source": [
    "file_smm = lg.file_select(folder_name='inspection')\n"
   ]
  },
  {
   "cell_type": "code",
   "execution_count": null,
   "metadata": {},
   "outputs": [],
   "source": [
    "# copy full_file to destination folder\n",
    "import shutil\n",
    "import pathlib\n",
    "import os\n",
    "def copy_selected_file(des_folder,file_name):\n",
    "\n",
    "#     des_folder = 'files'\n",
    "    ans = str(input(f'Default folder \"{des_folder}\"(N) or change to folder:'))\n",
    "    path = pathlib.Path().absolute()\n",
    "    if ans !='n': des_folder = ans\n",
    "    des_path = os.path.join(path,des_folder)\n",
    "    shutil.copy(file_name,os.path.join(des_path,file_name.split('\\\\')[-1]))\n",
    "    print(f'Copy file name {file_name}  to  {des_path} completed')"
   ]
  },
  {
   "cell_type": "code",
   "execution_count": null,
   "metadata": {},
   "outputs": [],
   "source": [
    "copy_selected_file(des_folder = '',file_name = file_smm)"
   ]
  },
  {
   "cell_type": "markdown",
   "metadata": {},
   "source": [
    "# filter Serial No\n"
   ]
  },
  {
   "cell_type": "code",
   "execution_count": null,
   "metadata": {},
   "outputs": [],
   "source": [
    "def sqlite_power(x,n):\n",
    "    return int(x)**n\n",
    "conn.create_function(\"power\", 2, sqlite_power)"
   ]
  },
  {
   "cell_type": "code",
   "execution_count": null,
   "metadata": {},
   "outputs": [],
   "source": [
    "q = '''\n",
    "        SELECT POWER(4,2)\n",
    "    '''\n",
    "pd.read_sql(q,conn)"
   ]
  },
  {
   "cell_type": "code",
   "execution_count": null,
   "metadata": {},
   "outputs": [],
   "source": [
    "# SELECT ALL RMA EMPTY REPORT_ID\n",
    "q = '''\n",
    "        SELECT rma, customer,model,sn,report_id,status,[Exfm Status]\n",
    "        FROM m_list\n",
    "        WHERE report_id IS NULL\n",
    "        \n",
    "    '''\n",
    "pd.read_sql(q,conn)"
   ]
  },
  {
   "cell_type": "code",
   "execution_count": null,
   "metadata": {},
   "outputs": [],
   "source": []
  },
  {
   "cell_type": "code",
   "execution_count": null,
   "metadata": {},
   "outputs": [],
   "source": [
    "# copy from folder_name to inspection\n",
    "lg.backups(folder_name,'inspection')"
   ]
  },
  {
   "cell_type": "code",
   "execution_count": null,
   "metadata": {},
   "outputs": [],
   "source": [
    "# delete file\n",
    "path = pathlib.Path().absolute()\n",
    "# folder_name = 'inspection'\n",
    "folder_name = 'reports_' + dt.now().strftime('%y%m%d')\n",
    "for file in os.listdir(folder_name):\n",
    "    os.remove(os.path.join(path,folder_name,file))\n",
    "    print(f'Removed file {file} successful.')"
   ]
  },
  {
   "cell_type": "markdown",
   "metadata": {},
   "source": [
    "## Create TR/WTY"
   ]
  },
  {
   "cell_type": "code",
   "execution_count": null,
   "metadata": {},
   "outputs": [],
   "source": [
    "conn = connect('quotation.db')"
   ]
  },
  {
   "cell_type": "code",
   "execution_count": 3,
   "metadata": {},
   "outputs": [
    {
     "data": {
      "text/html": [
       "<div>\n",
       "<style scoped>\n",
       "    .dataframe tbody tr th:only-of-type {\n",
       "        vertical-align: middle;\n",
       "    }\n",
       "\n",
       "    .dataframe tbody tr th {\n",
       "        vertical-align: top;\n",
       "    }\n",
       "\n",
       "    .dataframe thead th {\n",
       "        text-align: right;\n",
       "    }\n",
       "</style>\n",
       "<table border=\"1\" class=\"dataframe\">\n",
       "  <thead>\n",
       "    <tr style=\"text-align: right;\">\n",
       "      <th></th>\n",
       "      <th>rma</th>\n",
       "      <th>CUSTOMER_NAME</th>\n",
       "      <th>SERIAL_NO</th>\n",
       "      <th>MODEL</th>\n",
       "      <th>Approval</th>\n",
       "      <th>REPAIR_STATUS</th>\n",
       "      <th>IN_INSPECT_USER_NAME</th>\n",
       "    </tr>\n",
       "  </thead>\n",
       "  <tbody>\n",
       "    <tr>\n",
       "      <th>1</th>\n",
       "      <td>FMSV2023090001</td>\n",
       "      <td>Nam Can Tho Medical Center</td>\n",
       "      <td>7C643K451</td>\n",
       "      <td>EC-530WL3</td>\n",
       "      <td>None</td>\n",
       "      <td>Inspection</td>\n",
       "      <td>Nguyen Thai</td>\n",
       "    </tr>\n",
       "    <tr>\n",
       "      <th>0</th>\n",
       "      <td>FMSV2023090002</td>\n",
       "      <td>Van Hanh Hospital</td>\n",
       "      <td>KC643K396</td>\n",
       "      <td>EC-530WL3</td>\n",
       "      <td>None</td>\n",
       "      <td>Inspection</td>\n",
       "      <td>Nguyen Thai</td>\n",
       "    </tr>\n",
       "  </tbody>\n",
       "</table>\n",
       "</div>"
      ],
      "text/plain": [
       "              rma               CUSTOMER_NAME  SERIAL_NO      MODEL Approval  \\\n",
       "1  FMSV2023090001  Nam Can Tho Medical Center  7C643K451  EC-530WL3     None   \n",
       "0  FMSV2023090002           Van Hanh Hospital  KC643K396  EC-530WL3     None   \n",
       "\n",
       "  REPAIR_STATUS IN_INSPECT_USER_NAME  \n",
       "1    Inspection          Nguyen Thai  \n",
       "0    Inspection          Nguyen Thai  "
      ]
     },
     "metadata": {},
     "output_type": "display_data"
    },
    {
     "name": "stdout",
     "output_type": "stream",
     "text": [
      "kc643k396\n",
      "7c643k451\n"
     ]
    }
   ],
   "source": [
    "# CREATE list_rma\n",
    "# tao list rma\n",
    "a = pl.parts_list()\n",
    "sn_list='''\n",
    "kc643k396\n",
    "7c643k451\n",
    "\n",
    "\n",
    "\n",
    "'''\n",
    "list_rma = a.list_rma(conn,sn_list.strip(),'\\n')\n",
    "list_rma = list_rma.sort_values(by=['rma'])\n",
    "display(list_rma)\n",
    "for sn in sn_list.strip().split('\\n'):\n",
    "    if sn not in list(list_rma['SERIAL_NO']):\n",
    "        print(sn)"
   ]
  },
  {
   "cell_type": "code",
   "execution_count": 4,
   "metadata": {},
   "outputs": [
    {
     "name": "stdout",
     "output_type": "stream",
     "text": [
      "Type of report tr/[wty]: \n",
      "Done!!!\n"
     ]
    },
    {
     "data": {
      "text/plain": [
       "41"
      ]
     },
     "execution_count": 4,
     "metadata": {},
     "output_type": "execute_result"
    }
   ],
   "source": [
    "# add report to summary file\n",
    "\n",
    "r_type = (input('Type of report tr/[wty]: ') or 'wty').lower() # 'wty' \n",
    "d = pl.summary_report()\n",
    "summary_file = d.read_summary_data('2023_FFVN Service Endo_Inspection, WTY & TR.xlsx')\n",
    "gdkt = d.read_summary_data(file_name = '2023_FFVN Service Endo_Inspection, WTY & TR.xlsx',mode=r_type)\n",
    "\n",
    "# tr_lr = gdkt.range('A' + str(gdkt.cells.last_cell.row)).end('up').row # tr\n",
    "\n",
    "i_report = 0\n",
    "q_gdkt = {}\n",
    "gdkt_lr = summary_file[r_type][0]\n",
    "report_num =summary_file[r_type][1]\n",
    "report_id = {}\n",
    "for rma in list_rma['rma']:\n",
    "    \n",
    "    i_report +=1\n",
    "    report_num += 1\n",
    "    info = []\n",
    "    part_list= []\n",
    "    c = pl.technical_report()\n",
    "    info,part_list = c.report_info(rma,conn)\n",
    "    model = info['MODEL'][0]\n",
    "    sn = info['SERIAL_NO'][0]\n",
    "   \n",
    "    # record to file summary\n",
    "    \n",
    "    gdkt.range('A' + str(gdkt_lr + i_report)).value = report_num\n",
    "    \n",
    "    wn = str(info['web_name'][0]).replace('Bệnh viện','BV')\n",
    "    wn = wn.replace('Phòng Khám','PK')\n",
    "    \n",
    "    \n",
    "    gdkt.range('B' + str(gdkt_lr + i_report)).value = info['CUSTOMER_NAME'][0]\n",
    "    \n",
    "    gdkt.range('C' + str(gdkt_lr + i_report)).value = model.replace(' V2','')\n",
    "    gdkt.range('D' + str(gdkt_lr + i_report)).value = sn\n",
    "    \n",
    "    \n",
    "    \n",
    "    #add zero to report number\n",
    "    if len(str(report_num))==1: report_num_str = f'00{report_num}'\n",
    "    if len(str(report_num))==2: report_num_str = f'0{report_num}'\n",
    "    if len(str(report_num))==3: report_num_str = f'{report_num}'\n",
    "    \n",
    "    # not number\n",
    "#     report_num_str = 'xxx'\n",
    "    \n",
    "#     gdkt.range('E' + str(gdkt_lr + i_report)).value = d.issues(conn,rma) #gdkt\n",
    "    if r_type == 'tr':\n",
    "        rpid = dt.now().strftime('%y%m') + report_num_str + 'TR' #tr \n",
    "        gdkt.range('J' + str(gdkt_lr + i_report)).value = rma\n",
    "    \n",
    "    elif r_type == 'wty':\n",
    "        rpid = 'FFVN-' + dt.now().strftime('%y%m') + report_num_str\n",
    "        gdkt.range('M' + str(gdkt_lr + i_report)).value = rma\n",
    "    \n",
    "    gdkt.range('E' + str(gdkt_lr + i_report)).value = rpid\n",
    "    \n",
    "    report_id.update({sn:rpid})\n",
    "    sum_info = d.summary_info(conn,rma) # gdkt\n",
    "#     gdkt.range('F' + str(gdkt_lr + i_report)).value = sum_info['first_name'][0] #gdkt \n",
    "    gdkt.range('F' + str(gdkt_lr + i_report)).value = d.issues(conn,rma) # tr\n",
    "#     gdkt.range('G' + str(gdkt_lr + i_report)).value =\"'\" +  sum_info['date_installed'][0]\n",
    "#     gdkt.range('H' + str(gdkt_lr + i_report)).value =\"'\" + sum_info['receive'][0]\n",
    "#     gdkt.range('I' + str(gdkt_lr + i_report)).value =\"'\" +  sum_info['inspect_date'][0]\n",
    "    q_gdkt.update({rma:(info,part_list)})\n",
    "    \n",
    "print('Done!!!')\n",
    "report_num = int(list(report_id.values())[0][-2:])\n",
    "report_num"
   ]
  },
  {
   "cell_type": "code",
   "execution_count": 5,
   "metadata": {},
   "outputs": [
    {
     "data": {
      "text/plain": [
       "({'7C643K451': 'FFVN-2309041', 'KC643K396': 'FFVN-2309042'}, 41)"
      ]
     },
     "execution_count": 5,
     "metadata": {},
     "output_type": "execute_result"
    }
   ],
   "source": [
    "report_id,report_num"
   ]
  },
  {
   "cell_type": "code",
   "execution_count": null,
   "metadata": {},
   "outputs": [],
   "source": [
    "report_num = int(list(report_id.values())[0][-2:])\n",
    "report_num"
   ]
  },
  {
   "cell_type": "code",
   "execution_count": 6,
   "metadata": {
    "scrolled": true
   },
   "outputs": [
    {
     "name": "stdout",
     "output_type": "stream",
     "text": [
      "Folder reports_230905 exists\n"
     ]
    },
    {
     "data": {
      "text/html": [
       "<div>\n",
       "<style scoped>\n",
       "    .dataframe tbody tr th:only-of-type {\n",
       "        vertical-align: middle;\n",
       "    }\n",
       "\n",
       "    .dataframe tbody tr th {\n",
       "        vertical-align: top;\n",
       "    }\n",
       "\n",
       "    .dataframe thead th {\n",
       "        text-align: right;\n",
       "    }\n",
       "</style>\n",
       "<table border=\"1\" class=\"dataframe\">\n",
       "  <thead>\n",
       "    <tr style=\"text-align: right;\">\n",
       "      <th></th>\n",
       "      <th>PART_DESCRIPTION</th>\n",
       "      <th>Vie</th>\n",
       "      <th>SAP</th>\n",
       "      <th>part_num</th>\n",
       "      <th>QUANTITY</th>\n",
       "      <th>FFVN Price</th>\n",
       "      <th>FFVN_AMOUNT</th>\n",
       "      <th>Dealer Price</th>\n",
       "      <th>Dealer_AMOUNT</th>\n",
       "      <th>rma</th>\n",
       "      <th>Priority</th>\n",
       "    </tr>\n",
       "  </thead>\n",
       "  <tbody>\n",
       "    <tr>\n",
       "      <th>0</th>\n",
       "      <td>CHA-C308A</td>\n",
       "      <td>Đầu thu hình</td>\n",
       "      <td>FW12G</td>\n",
       "      <td>10A1224196D</td>\n",
       "      <td>1</td>\n",
       "      <td>1612.26</td>\n",
       "      <td>1612.26</td>\n",
       "      <td>2732.644068</td>\n",
       "      <td>2732.644068</td>\n",
       "      <td>FMSV2023090001</td>\n",
       "      <td>1.0</td>\n",
       "    </tr>\n",
       "    <tr>\n",
       "      <th>1</th>\n",
       "      <td>CAP</td>\n",
       "      <td>Nắp nhựa</td>\n",
       "      <td>FW12G</td>\n",
       "      <td>57B12733300</td>\n",
       "      <td>1</td>\n",
       "      <td>7.42</td>\n",
       "      <td>7.42</td>\n",
       "      <td>12.576271</td>\n",
       "      <td>12.576271</td>\n",
       "      <td>FMSV2023090001</td>\n",
       "      <td>4.3</td>\n",
       "    </tr>\n",
       "    <tr>\n",
       "      <th>2</th>\n",
       "      <td>NOZZLE</td>\n",
       "      <td>Vòi phun</td>\n",
       "      <td>F</td>\n",
       "      <td>371Y200052</td>\n",
       "      <td>1</td>\n",
       "      <td>32.86</td>\n",
       "      <td>32.86</td>\n",
       "      <td>55.694915</td>\n",
       "      <td>55.694915</td>\n",
       "      <td>FMSV2023090001</td>\n",
       "      <td>4.4</td>\n",
       "    </tr>\n",
       "    <tr>\n",
       "      <th>3</th>\n",
       "      <td>RUBBER FOR BSA</td>\n",
       "      <td>Vỏ cao su</td>\n",
       "      <td>FW12G</td>\n",
       "      <td>68B1207810A</td>\n",
       "      <td>1</td>\n",
       "      <td>11.66</td>\n",
       "      <td>11.66</td>\n",
       "      <td>19.762712</td>\n",
       "      <td>19.762712</td>\n",
       "      <td>FMSV2023090001</td>\n",
       "      <td>9.8</td>\n",
       "    </tr>\n",
       "  </tbody>\n",
       "</table>\n",
       "</div>"
      ],
      "text/plain": [
       "  PART_DESCRIPTION           Vie    SAP     part_num  QUANTITY  FFVN Price  \\\n",
       "0        CHA-C308A  Đầu thu hình  FW12G  10A1224196D         1     1612.26   \n",
       "1              CAP      Nắp nhựa  FW12G  57B12733300         1        7.42   \n",
       "2           NOZZLE      Vòi phun      F   371Y200052         1       32.86   \n",
       "3   RUBBER FOR BSA     Vỏ cao su  FW12G  68B1207810A         1       11.66   \n",
       "\n",
       "   FFVN_AMOUNT  Dealer Price  Dealer_AMOUNT             rma  Priority  \n",
       "0      1612.26   2732.644068    2732.644068  FMSV2023090001       1.0  \n",
       "1         7.42     12.576271      12.576271  FMSV2023090001       4.3  \n",
       "2        32.86     55.694915      55.694915  FMSV2023090001       4.4  \n",
       "3        11.66     19.762712      19.762712  FMSV2023090001       9.8  "
      ]
     },
     "metadata": {},
     "output_type": "display_data"
    },
    {
     "name": "stdout",
     "output_type": "stream",
     "text": [
      "0 part(s) no price\n",
      "Export FFVN-2309041-EC530WL3,7C643K451-CHA.xlsx completed\n",
      "FFVN-2309041-EC530WL3,7C643K451-CHA.xlsx\n",
      "Folder reports_230905 exists\n"
     ]
    },
    {
     "data": {
      "text/html": [
       "<div>\n",
       "<style scoped>\n",
       "    .dataframe tbody tr th:only-of-type {\n",
       "        vertical-align: middle;\n",
       "    }\n",
       "\n",
       "    .dataframe tbody tr th {\n",
       "        vertical-align: top;\n",
       "    }\n",
       "\n",
       "    .dataframe thead th {\n",
       "        text-align: right;\n",
       "    }\n",
       "</style>\n",
       "<table border=\"1\" class=\"dataframe\">\n",
       "  <thead>\n",
       "    <tr style=\"text-align: right;\">\n",
       "      <th></th>\n",
       "      <th>PART_DESCRIPTION</th>\n",
       "      <th>Vie</th>\n",
       "      <th>SAP</th>\n",
       "      <th>part_num</th>\n",
       "      <th>QUANTITY</th>\n",
       "      <th>FFVN Price</th>\n",
       "      <th>FFVN_AMOUNT</th>\n",
       "      <th>Dealer Price</th>\n",
       "      <th>Dealer_AMOUNT</th>\n",
       "      <th>rma</th>\n",
       "      <th>Priority</th>\n",
       "    </tr>\n",
       "  </thead>\n",
       "  <tbody>\n",
       "    <tr>\n",
       "      <th>0</th>\n",
       "      <td>ISA-C643A</td>\n",
       "      <td>Bộ phận thân ống soi</td>\n",
       "      <td>FW12G</td>\n",
       "      <td>343A1251586D</td>\n",
       "      <td>1</td>\n",
       "      <td>3769.36</td>\n",
       "      <td>3769.36</td>\n",
       "      <td>6388.745763</td>\n",
       "      <td>6388.745763</td>\n",
       "      <td>FMSV2023090002</td>\n",
       "      <td>1.0</td>\n",
       "    </tr>\n",
       "    <tr>\n",
       "      <th>1</th>\n",
       "      <td>PIPE SLEEVE</td>\n",
       "      <td>Ống nối (đồng)</td>\n",
       "      <td>FW12G</td>\n",
       "      <td>42B593410A</td>\n",
       "      <td>4</td>\n",
       "      <td>2.12</td>\n",
       "      <td>8.48</td>\n",
       "      <td>3.593220</td>\n",
       "      <td>14.372881</td>\n",
       "      <td>FMSV2023090002</td>\n",
       "      <td>9.1</td>\n",
       "    </tr>\n",
       "    <tr>\n",
       "      <th>2</th>\n",
       "      <td>NUT ASS'Y</td>\n",
       "      <td>Đai ốc (đồng)</td>\n",
       "      <td>FW12G</td>\n",
       "      <td>54A379237A</td>\n",
       "      <td>4</td>\n",
       "      <td>4.24</td>\n",
       "      <td>16.96</td>\n",
       "      <td>7.186441</td>\n",
       "      <td>28.745763</td>\n",
       "      <td>FMSV2023090002</td>\n",
       "      <td>9.2</td>\n",
       "    </tr>\n",
       "  </tbody>\n",
       "</table>\n",
       "</div>"
      ],
      "text/plain": [
       "  PART_DESCRIPTION                   Vie    SAP      part_num  QUANTITY  \\\n",
       "0        ISA-C643A  Bộ phận thân ống soi  FW12G  343A1251586D         1   \n",
       "1      PIPE SLEEVE        Ống nối (đồng)  FW12G    42B593410A         4   \n",
       "2        NUT ASS'Y         Đai ốc (đồng)  FW12G    54A379237A         4   \n",
       "\n",
       "   FFVN Price  FFVN_AMOUNT  Dealer Price  Dealer_AMOUNT             rma  \\\n",
       "0     3769.36      3769.36   6388.745763    6388.745763  FMSV2023090002   \n",
       "1        2.12         8.48      3.593220      14.372881  FMSV2023090002   \n",
       "2        4.24        16.96      7.186441      28.745763  FMSV2023090002   \n",
       "\n",
       "   Priority  \n",
       "0       1.0  \n",
       "1       9.1  \n",
       "2       9.2  "
      ]
     },
     "metadata": {},
     "output_type": "display_data"
    },
    {
     "name": "stdout",
     "output_type": "stream",
     "text": [
      "0 part(s) no price\n",
      "Export FFVN-2309042-EC530WL3,KC643K396-ISA.xlsx completed\n",
      "FFVN-2309042-EC530WL3,KC643K396-ISA.xlsx\n",
      "Done\n"
     ]
    }
   ],
   "source": [
    "#run all  list rma\n",
    "\n",
    "for rma in list_rma['rma']:\n",
    "    issue = str(d.issues(conn,rma))\n",
    "    c = pl.technical_report()\n",
    "    info,part_list = c.report_info(rma,conn)\n",
    "    part_list\n",
    "    info\n",
    "    q = f'''\n",
    "            SELECT c.[rma no.] ,strftime('%d/%m/%Y',c.[date installed]) AS [date_installed],\n",
    "            c.[Scope Connect Count] as [scope_count],c.[update user],strftime('%d/%m/%Y',\n",
    "            c.[Last Repair(Shipping)]) as last_repair,e.location,e.leader,\n",
    "            strftime('%d/%m/%Y',c.recieve_date) as receive,[defect note],[Last RMA No.],strftime('%d/%m/%Y',[create]) as create_date\n",
    "            FROM consolidated c\n",
    "            LEFT JOIN engineers e ON C.[IN_INSPECT_USER_NAME] = e.exfm_name\n",
    "            WHERE C.[RMA NO.]='{rma}'\n",
    "        '''\n",
    "    add_info = pd.read_sql(q,conn)\n",
    "    \n",
    "    #add zero to report number\n",
    "    if len(str(report_num))==1: report_num_str = f'00{report_num}'\n",
    "    if len(str(report_num))==2: report_num_str = f'0{report_num}'\n",
    "    if len(str(report_num))==3: report_num_str = f'{report_num}'\n",
    "    \n",
    "    #not number\n",
    "#     report_num_str = 'xxx'\n",
    "    \n",
    "    wb = xw.Book('templates\\\\Report_Template.xlsx')\n",
    "    tp = wb.sheets('Report')\n",
    "    folder_name = 'reports_' + dt.now().strftime('%y%m%d')\n",
    "\n",
    "    path = pathlib.Path().absolute()\n",
    "    try:\n",
    "        os.mkdir(folder_name)\n",
    "        print(f'folder {folder_name} was created.')\n",
    "    except:\n",
    "        print(f'Folder {folder_name} exists')\n",
    "    if r_type == 'tr':\n",
    "        ref_no = f\"{dt.now().strftime('FFVN-%y%m')}{report_num_str}TR\"\n",
    "    elif r_type =='wty':\n",
    "        ref_no = f\"{dt.now().strftime('FFVN-%y%m')}{report_num_str}\"\n",
    "\n",
    "    tp.range('C5').value = ref_no\n",
    "    tp.range('C6').value = dt.now().strftime('%d-%b-%y')\n",
    "    tp.range('E6').value = info['RMA No.'][0]\n",
    "    tp.range('C7').value = info['CUSTOMER_NAME'][0]\n",
    "    tp.range('C8').value = 'VIETNAM'\n",
    "    if r_type == 'wty':\n",
    "        tp.range('C13').value = 'YES'\n",
    "    elif r_type == 'tr':\n",
    "        tp.range('C13').value = 'NO'\n",
    "    tp.range('C10').value = info['MODEL'][0]\n",
    "    tp.range('C11').value = str(info['SERIAL_NO'][0]).upper()\n",
    "    try:\n",
    "        tp.range('C12').value = dt.strptime(add_info['date_installed'][0],'%d/%m/%Y')\n",
    "    except Exception as e:\n",
    "        print('None Installation Date ')\n",
    "    tp.range('E13').value = add_info['Last RMA No.'][0]\n",
    "    tp.range('B15').value = add_info['Defect Note'][0]\n",
    "    tp.range('C25').value = dt.strptime(add_info['create_date'][0],'%d/%m/%Y')\n",
    "\n",
    "    try:\n",
    "        tp.range('B27').value = add_info['Defect Note'][0] + '\\n' +'Used case: ' + str(int(add_info['scope_count'][0]))\n",
    "    except:\n",
    "        tp.range('B27').value = add_info['Defect Note'][0]\n",
    "\n",
    "    tp.range('C28').value = info['IN_INSPECT_USER_NAME'][0]\n",
    "    try:\n",
    "        tp.range('C29').value = dt.strptime(info['inspect_date'][0],'%d/%m/%Y')\n",
    "    except:\n",
    "        print('Not inspection completed')\n",
    "    plf = a.part_list_final(rma,conn)\n",
    "\n",
    "    if tp.range('B37').value == 'Name / Date :': #check empty table\n",
    "        #insert new rows\n",
    "        for i in range(len(plf)-1):\n",
    "            tp.range('33:33').insert()\n",
    "            tp.range('32:32').copy()\n",
    "            tp.range('33:33').paste('formats')\n",
    "    #     total_price = sum(part_list_final['Dealer Price'])\n",
    "        # fill in parts infor_mtion\n",
    "        for i in range(len(plf)):\n",
    "\n",
    "            tp.range('B' + str(i+32)).value = plf['part_num'][i]\n",
    "            tp.range('C' + str(i+32)).value = plf['PART_DESCRIPTION'][i] \n",
    "\n",
    "            tp.range('D' + str(i+32)).value = plf['QUANTITY'][i]\n",
    "            tp.range('E' + str(i+32)).value = plf['FFVN Price'][i]\n",
    "\n",
    "        tp.range('E'+str(i+33)).value = f'=SUMPRODUCT(D32:D{str(i+32)},E32:E{str(i+32)})'\n",
    "        tp.name = ref_no\n",
    "        model_t = str(info['MODEL'][0]).replace('-','')\n",
    "        model_t= model_t.replace('/','')\n",
    "        sn_t = str(str(info['SERIAL_NO'][0]).upper()).replace('-','')\n",
    "        sn_t = sn_t.replace('/','')\n",
    "        issue = issue.replace(' ','')\n",
    "        wb.save(f'{folder_name}\\\\{ref_no}-{model_t},{sn_t}-{issue}.xlsx')\n",
    "        print(f'Export {wb.name} completed')\n",
    "        print(f'{wb.name}')\n",
    "        wb.close()\n",
    "    else:\n",
    "        print('table not empty')\n",
    "    report_num = int(report_num) +1\n",
    "print('Done')\n"
   ]
  },
  {
   "cell_type": "code",
   "execution_count": null,
   "metadata": {},
   "outputs": [],
   "source": [
    "#check report_id current in Master List\n",
    "q =f'''\n",
    "        SELECT rma,sn,report_id,status\n",
    "        \n",
    "        FROM m_list\n",
    "        WHERE rma IN ({str(list(list_rma['rma']))[1:-1]})\n",
    "    '''\n",
    "pd.read_sql(q,conn)"
   ]
  },
  {
   "cell_type": "code",
   "execution_count": null,
   "metadata": {},
   "outputs": [],
   "source": [
    "# UPDATE report id\n",
    "cur = conn.cursor()\n",
    "m_list = pd.read_sql('SELECT * FROM m_list',conn)\n",
    "for sn in list_rma['SERIAL_NO']:\n",
    "    rpid = report_id[sn]\n",
    "    cur.execute(f\"\"\"\n",
    "                    UPDATE m_list SET report_id = '{rpid}'\n",
    "                    \n",
    "                    WHERE sn = '{sn}'\n",
    "    \n",
    "                \"\"\")\n",
    "conn.commit()\n",
    "pd.read_sql(q,conn)"
   ]
  },
  {
   "cell_type": "code",
   "execution_count": null,
   "metadata": {
    "scrolled": false
   },
   "outputs": [],
   "source": [
    "lg.backups(folder_name,'inspection')"
   ]
  },
  {
   "cell_type": "code",
   "execution_count": null,
   "metadata": {},
   "outputs": [],
   "source": [
    "#copy summary file to inspection folder\n",
    "import shutil\n",
    "path = pathlib.Path().absolute()\n",
    "summary_file = '2023_FFVN Service Endo_Inspection, WTY & TR.xlsx'\n",
    "org_file = os.path.join(path,summary_file)\n",
    "des_file = os.path.join(path,'inspection',summary_file)\n",
    "shutil.copy(org_file,des_file)"
   ]
  },
  {
   "cell_type": "code",
   "execution_count": null,
   "metadata": {},
   "outputs": [],
   "source": [
    "# delete all file in report_yymmdd folder\n",
    "file = lg.file_filter(path = folder_name)\n",
    "print('-'*26)\n",
    "for i in range(1,1+len(file)):\n",
    "    os.remove(f'{folder_name}\\\\{file[i]}')\n",
    "    print(f'Deleted {file[i]}')"
   ]
  },
  {
   "cell_type": "markdown",
   "metadata": {},
   "source": [
    "#### Export Master List\n"
   ]
  },
  {
   "cell_type": "code",
   "execution_count": null,
   "metadata": {},
   "outputs": [],
   "source": [
    "file_name = lg.file_select(folder_name = 'files', end_with = '.xlsm')\n",
    "xw.Book(file_name)"
   ]
  },
  {
   "cell_type": "code",
   "execution_count": null,
   "metadata": {},
   "outputs": [],
   "source": [
    "# final\n",
    "q = '''SELECT * FROM m_list'''\n",
    "m_list_final = pd.read_sql(q,conn)\n",
    "m_list_final = m_list_final.drop(['TAT received','TAT PO','waiting for part'],axis=1)\n",
    "dtmp = dt.now().strftime('%y%m%d')\n",
    "file_name = f'ML_{dtmp}.xlsx'\n",
    "m_list_final.to_excel(file_name,index = False)\n",
    "xw.Book(file_name)"
   ]
  },
  {
   "cell_type": "code",
   "execution_count": null,
   "metadata": {},
   "outputs": [],
   "source": []
  }
 ],
 "metadata": {
  "kernelspec": {
   "display_name": "Python 3 (ipykernel)",
   "language": "python",
   "name": "python3"
  },
  "language_info": {
   "codemirror_mode": {
    "name": "ipython",
    "version": 3
   },
   "file_extension": ".py",
   "mimetype": "text/x-python",
   "name": "python",
   "nbconvert_exporter": "python",
   "pygments_lexer": "ipython3",
   "version": "3.10.9"
  }
 },
 "nbformat": 4,
 "nbformat_minor": 4
}
