{
 "cells": [
  {
   "cell_type": "code",
   "execution_count": null,
   "id": "d69bff05",
   "metadata": {},
   "outputs": [],
   "source": [
    "import os\n",
    "import pathlib\n",
    "import xlwings as xw\n",
    "path = 'F:\\Technical Report'"
   ]
  },
  {
   "cell_type": "code",
   "execution_count": null,
   "id": "fefe39ee",
   "metadata": {
    "scrolled": true
   },
   "outputs": [],
   "source": [
    "# collect all folder to parents_list\n",
    "parents = os.listdir(path)\n",
    "parents_list = []\n",
    "for parent in parents:\n",
    "    try:\n",
    "        os.listdir(os.path.join(path,parent))\n",
    "        parents_list.append(parent)\n",
    "    except:\n",
    "        continue    \n",
    "# parents_list"
   ]
  },
  {
   "cell_type": "code",
   "execution_count": null,
   "id": "64817081",
   "metadata": {},
   "outputs": [],
   "source": [
    "parents_list[23]"
   ]
  },
  {
   "cell_type": "code",
   "execution_count": null,
   "id": "5a668350",
   "metadata": {},
   "outputs": [],
   "source": [
    "app = xw.App(visible=False)\n",
    "app.display_alerts = False\n",
    "# wb = app.books.api.Open(fullpath, UpdateLinks=False)"
   ]
  },
  {
   "cell_type": "code",
   "execution_count": null,
   "id": "fcab7833",
   "metadata": {
    "scrolled": true
   },
   "outputs": [],
   "source": [
    "# find and open bao gia\n",
    "threshold = 'FMSV2021'\n",
    "rma_error = []\n",
    "price_list = {}\n",
    "for customer in parents_list:\n",
    "# customer = parents_list[14]\n",
    "    childs = os.listdir(os.path.join(path,customer))\n",
    "\n",
    "    print(customer)\n",
    "    for rma in childs:\n",
    "#         price_list.update({rma:''})\n",
    "        if 'FMSV' in rma:# and rma > threshold:\n",
    "            try:\n",
    "                files = os.listdir(os.path.join(path,customer,rma))\n",
    "                for file in files:\n",
    "                    # Select Bao gia\n",
    "                    if 'baogia_' in file.lower() and '.xls' in file and '~' not in file:\n",
    "    #                     print(rma,file)\n",
    "                        wb = app.books.open(os.path.join(path,customer,rma,file),update_links = False)\n",
    "                        try:\n",
    "#                             wb = xw.Book(os.path.join(path,customer,rma,file),update_links = False)\n",
    "#                               wb = app.books.api.Open(os.path.join(path,customer,rma,file), UpdateLinks=False)\n",
    "                            lr_row = 1\n",
    "                            for sheet in wb.sheets:\n",
    "                                if sheet.name in ('Quotation',):\n",
    "                                    sh = sheet\n",
    "\n",
    "\n",
    "#                             lr_row = sh.range('F1000').end('up').row\n",
    "                            try:\n",
    "                                price = int(sh.range(f'F20').value)\n",
    "                            except:\n",
    "                                price = int(sh.range(f'F19').value)\n",
    "#                             print(rma,f'VND {price}')\n",
    "                            price_list.update({rma:price})\n",
    "                        except Exception as e:\n",
    "#                             print(rma,e)\n",
    "                            rma_error.append(rma)\n",
    "                        wb.close()\n",
    "            except Exception as e:\n",
    "                print(e)\n",
    "                print(f'{customer} dont have {rma}')\n",
    "                rma_error.append(rma)\n",
    "                    \n",
    "print('Done')"
   ]
  },
  {
   "cell_type": "code",
   "execution_count": null,
   "id": "d86bafe1",
   "metadata": {
    "scrolled": true
   },
   "outputs": [],
   "source": [
    "len(price_list)"
   ]
  },
  {
   "cell_type": "code",
   "execution_count": null,
   "id": "1c141193",
   "metadata": {},
   "outputs": [],
   "source": [
    "# customer = parents_list[14]\n",
    "customer = 'Lao Khoa Hospital'\n",
    "childs = os.listdir(os.path.join(path,customer))\n",
    "price_list ={}\n",
    "print(customer)\n",
    "for rma in childs:\n",
    "#         price_list.update({rma:''})\n",
    "    if 'FMSV' in rma:# and rma > threshold:\n",
    "        try:\n",
    "            files = os.listdir(os.path.join(path,customer,rma))\n",
    "            for file in files:\n",
    "                # Select Bao gia\n",
    "                if 'baogia_' in file.lower() and '.xls' in file and '~' not in file:\n",
    "#                     print(rma,file)\n",
    "                    wb = app.books.open(os.path.join(path,customer,rma,file),update_links = False)\n",
    "                    try:\n",
    "#                             wb = xw.Book(os.path.join(path,customer,rma,file),update_links = False)\n",
    "#                               wb = app.books.api.Open(os.path.join(path,customer,rma,file), UpdateLinks=False)\n",
    "                        lr_row = 1\n",
    "                        for sheet in wb.sheets:\n",
    "                            if sheet.name in ('Quotation',):\n",
    "                                sh = sheet\n",
    "\n",
    "\n",
    "#                     lr_row = sh.range('F1000').end('up').row\n",
    "                        try:\n",
    "                            price = int(sh.range(f'F20').value)\n",
    "                        except:\n",
    "                            price = int(sh.range(f'F19').value)\n",
    "#                             print(rma,f'VND {price}')\n",
    "                        price_list.update({rma:price})\n",
    "                    except Exception as e:\n",
    "                        print(rma,e)\n",
    "                        rma_error.append(rma)\n",
    "                    wb.close()\n",
    "        except Exception as e:\n",
    "            print(e)\n",
    "            print(f'{customer} dont have {rma}')\n",
    "            rma_error.append(rma)\n"
   ]
  },
  {
   "cell_type": "code",
   "execution_count": null,
   "id": "ed7743e9",
   "metadata": {},
   "outputs": [],
   "source": [
    "price_list"
   ]
  },
  {
   "cell_type": "code",
   "execution_count": null,
   "id": "bad1808d",
   "metadata": {},
   "outputs": [],
   "source": [
    "max(rma_error)"
   ]
  },
  {
   "cell_type": "code",
   "execution_count": null,
   "id": "a12768bd",
   "metadata": {},
   "outputs": [],
   "source": [
    "app = xw.App(visible=True)"
   ]
  },
  {
   "cell_type": "code",
   "execution_count": null,
   "id": "34a0cadc",
   "metadata": {},
   "outputs": [],
   "source": [
    "wb = xw.Book()"
   ]
  },
  {
   "cell_type": "code",
   "execution_count": null,
   "id": "b6eeec40",
   "metadata": {},
   "outputs": [],
   "source": [
    "sh = wb.sheets('Sheet1')"
   ]
  },
  {
   "cell_type": "code",
   "execution_count": null,
   "id": "ddec94fa",
   "metadata": {},
   "outputs": [],
   "source": [
    "i=0\n",
    "for rma in price_list.keys():\n",
    "    sh.range('A1').offset(i,0).value = rma\n",
    "    sh.range('A1').offset(i,1).value = price_list[rma]\n",
    "    i+=1\n",
    "wb.save('price_list.xlsx')\n",
    "wb.close()"
   ]
  },
  {
   "cell_type": "code",
   "execution_count": null,
   "id": "32f0f8c1",
   "metadata": {},
   "outputs": [],
   "source": [
    "lr_row = sh.cells(1000,column).end('up').row\n",
    "int(round(sh.cells(lr_row,column).value))"
   ]
  },
  {
   "cell_type": "code",
   "execution_count": null,
   "id": "92594adf",
   "metadata": {},
   "outputs": [],
   "source": [
    "'FMSV2020010001' > 'FMSV2020'"
   ]
  },
  {
   "cell_type": "code",
   "execution_count": null,
   "id": "53174283",
   "metadata": {},
   "outputs": [],
   "source": [
    "wb.close()"
   ]
  },
  {
   "cell_type": "code",
   "execution_count": null,
   "id": "2870d5dc",
   "metadata": {},
   "outputs": [],
   "source": []
  }
 ],
 "metadata": {
  "kernelspec": {
   "display_name": "Python 3 (ipykernel)",
   "language": "python",
   "name": "python3"
  },
  "language_info": {
   "codemirror_mode": {
    "name": "ipython",
    "version": 3
   },
   "file_extension": ".py",
   "mimetype": "text/x-python",
   "name": "python",
   "nbconvert_exporter": "python",
   "pygments_lexer": "ipython3",
   "version": "3.10.9"
  }
 },
 "nbformat": 4,
 "nbformat_minor": 5
}
