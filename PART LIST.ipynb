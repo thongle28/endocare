{
 "cells": [
  {
   "cell_type": "code",
   "execution_count": 2,
   "id": "c18ed5ee",
   "metadata": {},
   "outputs": [],
   "source": [
    "import sources.logins as lg\n",
    "from sqlite3 import connect\n",
    "import sources.parts_list_0802 as pl\n",
    "import pandas as pd\n",
    "from datetime import datetime as dt\n",
    "import xlwings as xw"
   ]
  },
  {
   "cell_type": "code",
   "execution_count": 3,
   "id": "8e30598a",
   "metadata": {},
   "outputs": [],
   "source": [
    "conn = connect('quotation.db')\n"
   ]
  },
  {
   "cell_type": "code",
   "execution_count": null,
   "id": "59d20dd2",
   "metadata": {},
   "outputs": [],
   "source": [
    "pr110 = xw.Book('New ML/PR110_Stock_in_Aug_08082023.xlsx')\n"
   ]
  },
  {
   "cell_type": "code",
   "execution_count": 9,
   "id": "e4db083f",
   "metadata": {},
   "outputs": [],
   "source": [
    "q = 'select * from prices'\n",
    "prices = pd.read_sql(q,conn)\n",
    "prices.to_excel('inspection/prices_231113.xlsx',index = False)"
   ]
  },
  {
   "cell_type": "code",
   "execution_count": null,
   "id": "04b3d3b4",
   "metadata": {},
   "outputs": [],
   "source": [
    "sh = pr110.sheets[0]\n",
    "part_list = []\n",
    "for i in range(16,1000):\n",
    "#     print(i)\n",
    "    try:\n",
    "        if sh.range(f'C{i}').value.startswith('FFVN'):\n",
    "            info = sh.range(f'C{i}').value[6:-1]\n",
    "        if sh.range(f'C{i}').value.startswith('Stock'):\n",
    "            info = 'Stock'\n",
    "#         print(info)\n",
    "    except Exception as e:\n",
    "        print (i,e)\n",
    "    if sh.range(f'D{i}').value != None: \n",
    "        print(i,sh.range(f'D{i}').value.strip(),info.strip(),sh.range(f'F{i}').value)\n",
    "        part_list.append(sh.range(f'D{i}').value.strip())\n",
    "    if sh.range(f'D{i}').value == 'Reviewed by':\n",
    "        print(f'Stop {i}')\n",
    "        break\n",
    "        \n",
    "parts = tuple(part_list)"
   ]
  },
  {
   "cell_type": "code",
   "execution_count": 6,
   "id": "90242f44",
   "metadata": {},
   "outputs": [
    {
     "data": {
      "text/plain": [
       "('113Y200780E', '28A1259770C')"
      ]
     },
     "execution_count": 6,
     "metadata": {},
     "output_type": "execute_result"
    }
   ],
   "source": [
    "part_list = '''\n",
    "113Y200780E\n",
    "28A1259770C\n",
    "\n",
    "\n",
    "'''\n",
    "parts = tuple(part_list.strip().split('\\n'))\n",
    "parts \n"
   ]
  },
  {
   "cell_type": "code",
   "execution_count": null,
   "id": "177b0747",
   "metadata": {},
   "outputs": [],
   "source": [
    "pr110.sheets.add('Sheet1',after=sh.name)\n",
    "sh1 = pr110.sheets('Sheet1')"
   ]
  },
  {
   "cell_type": "code",
   "execution_count": 7,
   "id": "f590660e",
   "metadata": {
    "scrolled": false
   },
   "outputs": [
    {
     "name": "stdout",
     "output_type": "stream",
     "text": [
      "113Y200780E\n"
     ]
    },
    {
     "data": {
      "text/html": [
       "<div>\n",
       "<style scoped>\n",
       "    .dataframe tbody tr th:only-of-type {\n",
       "        vertical-align: middle;\n",
       "    }\n",
       "\n",
       "    .dataframe tbody tr th {\n",
       "        vertical-align: top;\n",
       "    }\n",
       "\n",
       "    .dataframe thead th {\n",
       "        text-align: right;\n",
       "    }\n",
       "</style>\n",
       "<table border=\"1\" class=\"dataframe\">\n",
       "  <thead>\n",
       "    <tr style=\"text-align: right;\">\n",
       "      <th></th>\n",
       "      <th>PART_DESCRIPTION</th>\n",
       "      <th>Vie</th>\n",
       "      <th>SAP</th>\n",
       "      <th>part_num</th>\n",
       "      <th>Sub Price</th>\n",
       "      <th>FFVN Price</th>\n",
       "      <th>Dealer Price</th>\n",
       "    </tr>\n",
       "  </thead>\n",
       "  <tbody>\n",
       "    <tr>\n",
       "      <th>0</th>\n",
       "      <td>IRIS ASSY  2             ROHS2</td>\n",
       "      <td>None</td>\n",
       "      <td>FW12G</td>\n",
       "      <td>28A1259770C</td>\n",
       "      <td>558</td>\n",
       "      <td>591.48</td>\n",
       "      <td>1002.508475</td>\n",
       "    </tr>\n",
       "  </tbody>\n",
       "</table>\n",
       "</div>"
      ],
      "text/plain": [
       "                 PART_DESCRIPTION   Vie    SAP     part_num  Sub Price  \\\n",
       "0  IRIS ASSY  2             ROHS2  None  FW12G  28A1259770C        558   \n",
       "\n",
       "   FFVN Price  Dealer Price  \n",
       "0      591.48   1002.508475  "
      ]
     },
     "execution_count": 7,
     "metadata": {},
     "output_type": "execute_result"
    }
   ],
   "source": [
    "# parts = ('858Y200030D','858Y200030D')\n",
    "q = f'''\n",
    "        SELECT [Parts Name(EN)] AS [PART_DESCRIPTION],PN.VIE,\n",
    "            CASE \n",
    "                WHEN substr(P.[Article Code],4,1) IN ('Y','N','S') THEN 'F'\n",
    "                WHEN substr(P.[Article Code],1,1) = 'J' THEN 'F'\n",
    "                ELSE 'FW12G' END AS SAP,\n",
    "            P.[Article Code] as part_num,p.[Subsidiaries (U$)] AS[Sub Price],p.[Cost of Goods sold] as [FFVN Price],\n",
    "            p.[Dealer Standard Price (wiout VAT)] as [Dealer Price]\n",
    "\n",
    "\n",
    "\n",
    "            FROM prices P\n",
    "            LEFT JOIN part_name pn ON TRIM(REPLACE(p.[Parts Name(EN)],'ROHS2','')) = pn.part_description\n",
    "            WHERE part_num IN {parts}\n",
    "        \n",
    "     '''\n",
    "\n",
    "parts_list = pd.read_sql(q,conn)\n",
    "for part in parts:\n",
    "    if part not in list(parts_list['part_num']):print(part)\n",
    "parts_list"
   ]
  },
  {
   "cell_type": "code",
   "execution_count": null,
   "id": "ec172042",
   "metadata": {},
   "outputs": [],
   "source": [
    "part = '342A979721E'\n",
    "part_list.append(part)\n",
    "parts = tuple(part_list)"
   ]
  },
  {
   "cell_type": "code",
   "execution_count": null,
   "id": "4feba40d",
   "metadata": {},
   "outputs": [],
   "source": [
    "part_src = parts_list[parts_list['part_num']=='342A979721D']\n",
    "part_src = part_src.reset_index()\n",
    "part_src"
   ]
  },
  {
   "cell_type": "code",
   "execution_count": null,
   "id": "ea52aa38",
   "metadata": {},
   "outputs": [],
   "source": [
    "# add info to sheet[1]\n",
    "i_count = 0\n",
    "po_name = 'FFVN-PO-110'\n",
    "for i in range(16,1000):\n",
    "    try:\n",
    "        if sh.range(f'C{i}').value.startswith('FFVN'):\n",
    "            info = sh.range(f'C{i}').value[6:-1]\n",
    "        if sh.range(f'C{i}').value.startswith('Stock'):\n",
    "            info = 'Stock'\n",
    "#         print(info)\n",
    "    except Exception as e:\n",
    "        print (i,e)\n",
    "#     print(i)\n",
    "    if sh.range(f'D{i}').value != None: \n",
    "#         print(i,sh.range(f'D{i}').value.strip(),info.strip())\n",
    "        part_number = sh.range(f'D{i}').value.strip()\n",
    "        sh1.range('A5').offset(i_count).value = i_count + 1\n",
    "        sh1.range('D5').offset(i_count).value = i_count + 1\n",
    "        sh1.range('H5').offset(i_count).value = info\n",
    "        sh1.range('I5').offset(i_count).value = sh.range(f'F{i}').value\n",
    "        sh1.range('C5').offset(i_count).value = po_name\n",
    "        try:\n",
    "            part_src = parts_list[parts_list['part_num']==part_number]\n",
    "            part_src = part_src.reset_index()\n",
    "\n",
    "\n",
    "\n",
    "\n",
    "            sh1.range('E5').offset(i_count).value = part_src['SAP'][0]\n",
    "            sh1.range('F5').offset(i_count).value = part_src['part_num'][0]\n",
    "            sh1.range('G5').offset(i_count).value = part_src['PART_DESCRIPTION'][0]\n",
    "\n",
    "            sh1.range('J5').offset(i_count).value = part_src['Sub Price'][0]\n",
    "        except:\n",
    "            sh1.range('F5').offset(i_count).value = part_number\n",
    "            \n",
    "        i_count +=1\n",
    "    if sh.range(f'D{i}').value == 'Reviewed by':\n",
    "        print('Done')\n",
    "        break"
   ]
  },
  {
   "cell_type": "code",
   "execution_count": null,
   "id": "9debb277",
   "metadata": {},
   "outputs": [],
   "source": [
    "part_number"
   ]
  },
  {
   "cell_type": "code",
   "execution_count": null,
   "id": "ab7a1b34",
   "metadata": {},
   "outputs": [],
   "source": []
  },
  {
   "cell_type": "markdown",
   "id": "ee9b5406",
   "metadata": {},
   "source": [
    "### Price for folder\n"
   ]
  },
  {
   "cell_type": "code",
   "execution_count": 13,
   "id": "7c761390",
   "metadata": {},
   "outputs": [],
   "source": [
    "import os\n",
    "import xlwings as xw"
   ]
  },
  {
   "cell_type": "code",
   "execution_count": 19,
   "id": "c00b440c",
   "metadata": {},
   "outputs": [],
   "source": [
    "mf = xw.Book()\n",
    "sh = mf.sheets('Sheet1')"
   ]
  },
  {
   "cell_type": "code",
   "execution_count": 20,
   "id": "1cbdebfc",
   "metadata": {},
   "outputs": [],
   "source": [
    "sh.range('A1').value = 'Model'\n",
    "sh.range('B1').value = 'PartName'\n",
    "sh.range('C1').value = 'PartNum'\n",
    "sh.range('D1').value = 'Dealer Price'\n"
   ]
  },
  {
   "cell_type": "code",
   "execution_count": 21,
   "id": "eb40b5c4",
   "metadata": {},
   "outputs": [
    {
     "name": "stdout",
     "output_type": "stream",
     "text": [
      "EB 530S.xls\n",
      "EB 530T.xls\n",
      "EC 530WL3 .xls\n",
      "EG 530WR.xls\n",
      "VP 3500.xls\n",
      "XL 4450.xls\n"
     ]
    }
   ],
   "source": [
    "i = 0\n",
    "for file in os.listdir('inspection/HNNA'):\n",
    "    print(file)\n",
    "    org = xw.Book(f'inspection/HNNA/{file}')\n",
    "    po = org.sheets('PartsOrder')\n",
    "    model =''\n",
    "    partname = ''\n",
    "    partnum = ''\n",
    "    for k in range(20):\n",
    "        if po.range('F5').offset(k,0).value !='':\n",
    "            model = po.range('H5').offset(k,0).value\n",
    "            partname = po.range('G5').offset(k,0).value\n",
    "            partnum = po.range('F5').offset(k,0).value\n",
    "            \n",
    "            #record to master\n",
    "            sh.range('A2').offset(i,0).value = model\n",
    "            sh.range('B2').offset(i,0).value = partname\n",
    "            sh.range('C2').offset(i,0).value = partnum\n",
    "            \n",
    "            i +=1\n",
    "        else:\n",
    "            print(i)\n",
    "            break\n",
    "    \n",
    "    \n",
    "    org.close()"
   ]
  },
  {
   "cell_type": "code",
   "execution_count": 23,
   "id": "3b15877d",
   "metadata": {},
   "outputs": [],
   "source": [
    "sh.autofit()"
   ]
  },
  {
   "cell_type": "code",
   "execution_count": null,
   "id": "cbae3b13",
   "metadata": {},
   "outputs": [],
   "source": []
  }
 ],
 "metadata": {
  "kernelspec": {
   "display_name": "Python 3 (ipykernel)",
   "language": "python",
   "name": "python3"
  },
  "language_info": {
   "codemirror_mode": {
    "name": "ipython",
    "version": 3
   },
   "file_extension": ".py",
   "mimetype": "text/x-python",
   "name": "python",
   "nbconvert_exporter": "python",
   "pygments_lexer": "ipython3",
   "version": "3.10.9"
  }
 },
 "nbformat": 4,
 "nbformat_minor": 5
}
