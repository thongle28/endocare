{
 "cells": [
  {
   "cell_type": "code",
   "execution_count": 1,
   "id": "d9a1dce4",
   "metadata": {},
   "outputs": [],
   "source": [
    "import qrcode\n",
    "import xlwings as xw\n",
    "from sqlite3 import connect\n",
    "import pandas as pd\n",
    "import os\n",
    "import pathlib\n",
    "\n",
    "def qr_printer(folder_name,in_name,out_name=''):\n",
    "    # Generate QR code\n",
    "    qr = qrcode.QRCode(\n",
    "        version=1,\n",
    "        error_correction=qrcode.constants.ERROR_CORRECT_H,\n",
    "        box_size=10,\n",
    "        border=0.2,\n",
    "    )\n",
    "    qr.add_data(in_name)\n",
    "    qr.make(fit=True)\n",
    "\n",
    "    # Create an image from the QR code\n",
    "    qr_img = qr.make_image(fill_color=\"black\", back_color=\"white\")\n",
    "\n",
    "    # Save the QR code as an image file\n",
    "    if out_name =='': out_name = in_name\n",
    "    qr_img.save(f\"{folder_name}/{out_name}.png\")"
   ]
  },
  {
   "cell_type": "code",
   "execution_count": null,
   "id": "c803d698",
   "metadata": {},
   "outputs": [],
   "source": []
  },
  {
   "cell_type": "code",
   "execution_count": null,
   "id": "c8ac9277",
   "metadata": {},
   "outputs": [],
   "source": [
    "ffvn = '''Fujifilm Vietnam Customer Service Center - Endoscope\n",
    "1800 646830\n",
    "ffvn-endo-cs@fujifilm.com\n",
    "https://noisoifujifilm.vn'''"
   ]
  },
  {
   "cell_type": "code",
   "execution_count": null,
   "id": "67dd7df8",
   "metadata": {},
   "outputs": [],
   "source": [
    "qr_printer('images',ffvn,'ffvn.png')"
   ]
  },
  {
   "cell_type": "code",
   "execution_count": null,
   "id": "6e611d62",
   "metadata": {},
   "outputs": [],
   "source": []
  },
  {
   "cell_type": "raw",
   "id": "f42a2545",
   "metadata": {},
   "source": [
    "conn = connect('quotation.db')"
   ]
  },
  {
   "cell_type": "code",
   "execution_count": null,
   "id": "491cf28f",
   "metadata": {},
   "outputs": [],
   "source": [
    "q = 'SELECT [rma no.],serial_no FROM consolidated order by 1 DESC'\n",
    "m_list = pd.read_sql(q,conn)\n",
    "m_list"
   ]
  },
  {
   "cell_type": "code",
   "execution_count": null,
   "id": "b1ae873e",
   "metadata": {},
   "outputs": [],
   "source": [
    "#open template\n",
    "wb = xw.Book('templates/QR Template.xlsx')\n",
    "zb = wb.sheets('Zebra')\n",
    "li = wb.sheets('List')\n",
    "wb_sheets = wb.sheets\n",
    "\n",
    "zb.copy()\n",
    "for sh in wb.sheets:\n",
    "    if sh.name not in ('List','Zebra') and not sh.api.Visible:\n",
    "        sh.api.Visible = True\n",
    "        print(sh.name)\n",
    "        break\n",
    "\n"
   ]
  },
  {
   "cell_type": "code",
   "execution_count": null,
   "id": "cb0936e5",
   "metadata": {},
   "outputs": [],
   "source": [
    "wb_sheets = wb.sheets\n",
    "wb_sheets"
   ]
  },
  {
   "cell_type": "code",
   "execution_count": null,
   "id": "b53c5091",
   "metadata": {},
   "outputs": [],
   "source": [
    "#create rma\n",
    "folder_name = 'images'\n",
    "i = 1\n",
    "\n",
    "rma = m_list['RMA No.'][i]\n",
    "sn = m_list['SERIAL_NO'][i]\n",
    "\n",
    "# RMA QR Code\n",
    "qr_printer(folder_name,rma)\n",
    "\n",
    "#SN QR Code\n",
    "qr_printer(folder_name,sn)\n",
    "\n",
    "#Link web\n",
    "link = f'https://noisoifujifilm.vn/quick_search/{rma}/{sn}'\n",
    "qr_printer(folder_name,link,f'{rma}_{sn}')"
   ]
  },
  {
   "cell_type": "code",
   "execution_count": null,
   "id": "851e6971",
   "metadata": {},
   "outputs": [],
   "source": [
    "#from list\n",
    "lrow = li.range('B' + str(wb.sheets[0].cells.last_cell.row)).end('up').row\n",
    "lrow"
   ]
  },
  {
   "cell_type": "code",
   "execution_count": null,
   "id": "df436ee8",
   "metadata": {},
   "outputs": [],
   "source": [
    "margin = sh.range('1:1').api.RowHeight"
   ]
  },
  {
   "cell_type": "code",
   "execution_count": null,
   "id": "491546f2",
   "metadata": {
    "scrolled": true
   },
   "outputs": [],
   "source": [
    "        #create rma\n",
    "        folder_name = 'images'\n",
    "        # i = 0\n",
    "        margin = zb.range('1:1').api.RowHeight\n",
    "        try:\n",
    "            margin = int(input(f'Modify margin? {margin}: ' or int(margin)))\n",
    "            zb.range('1:1').api.RowHeight = margin\n",
    "        except Exception as e:\n",
    "            print(e)\n",
    "\n",
    "        for k in range(3,lrow+1):\n",
    "            i = k - 3\n",
    "\n",
    "            # format margin\n",
    "            sh['1:1'].offset(i*7,0).api.RowHeight = margin\n",
    "            rma = li.range('B3').offset(i,0).value\n",
    "            sn = li.range('C3').offset(i,0).value\n",
    "            # RMA QR Code\n",
    "            qr_printer(folder_name,rma)\n",
    "\n",
    "            #SN QR Code\n",
    "            qr_printer(folder_name,sn)\n",
    "\n",
    "            #Link web\n",
    "            link = f'https://noisoifujifilm.vn/quick_search/{rma}/{sn}'\n",
    "            qr_printer(folder_name,link,f'{rma}_{sn}')\n",
    "            #add qr image\n",
    "            #B2 E2 H2 offset 7\n",
    "            rma_img = 'B2'\n",
    "            sn_img = 'E2'\n",
    "            link_img = 'H2'\n",
    "            path = pathlib.Path().absolute()\n",
    "            size = 72\n",
    "            #add image rma\n",
    "            sh.pictures.add(os.path.join(path,folder_name,f'{rma}.png'),name = rma,\n",
    "                            top = sh.range(rma_img).offset(7*i,0).top,left = sh.range(rma_img).offset(7*i,0).left)\n",
    "            sh.pictures(rma).width = size\n",
    "            sh.pictures(rma).height = size\n",
    "\n",
    "            #add image sn\n",
    "            sh.pictures.add(os.path.join(path,folder_name,f'{sn}.png'),name = sn,\n",
    "                            top = sh.range(sn_img).offset(7*i,0).top,left = sh.range(sn_img).offset(7*i,0).left)\n",
    "            sh.pictures(sn).width = size\n",
    "            sh.pictures(sn).height = size\n",
    "\n",
    "            #add image link\n",
    "            sh.pictures.add(os.path.join(path,folder_name,f'{rma}_{sn}.png'),name = f'{rma}_{sn}',\n",
    "                            top = sh.range(link_img).offset(7*i,0).top,left = sh.range(link_img).offset(7*i,0).left)\n",
    "            size = 87\n",
    "            sh.pictures(f'{rma}_{sn}').width = size\n",
    "            sh.pictures(f'{rma}_{sn}').height = size\n",
    "\n",
    "            #word\n",
    "            sh.range('B7').offset(7*i,0).value = rma\n",
    "            sh.range('E7').offset(7*i,0).value = sn\n",
    "            sh.range('G2').offset(7*i,0).value = sn\n",
    "            sh.range('I3').offset(7*i,0).value = 'Scan'\n",
    "            sh.range('I4').offset(7*i,0).value = 'Me'\n",
    "\n",
    "            scan_img ='I4'\n",
    "            sh.pictures.add(os.path.join(path,'templates','scan_me.png'),name = f'scan{i}',\n",
    "                           top = sh.range(scan_img).offset(7*i,0).top + 8,\n",
    "                            left =sh.range(scan_img).offset(7*i,0).left + 5)\n",
    "\n",
    "        print('Done')\n",
    "        lrowB = sh.range('B' + str(wb.sheets[0].cells.last_cell.row)).end('up').row\n",
    "\n",
    "        sh.range(f'{lrowB+1}:1000').api.Delete()"
   ]
  },
  {
   "cell_type": "code",
   "execution_count": null,
   "id": "4910f140",
   "metadata": {},
   "outputs": [],
   "source": [
    "lrowB = sh.range('B' + str(wb.sheets[0].cells.last_cell.row)).end('up').row\n",
    "\n",
    "sh.range(f'{lrowB+1}:1000').api.Delete()"
   ]
  },
  {
   "cell_type": "code",
   "execution_count": null,
   "id": "b059f230",
   "metadata": {},
   "outputs": [],
   "source": [
    "sh.clear_contents()\n",
    "for pic in sh.pictures:\n",
    "    pic.delete()"
   ]
  },
  {
   "cell_type": "code",
   "execution_count": null,
   "id": "5f20cc25",
   "metadata": {},
   "outputs": [],
   "source": []
  },
  {
   "cell_type": "code",
   "execution_count": null,
   "id": "488617a8",
   "metadata": {},
   "outputs": [],
   "source": []
  },
  {
   "cell_type": "code",
   "execution_count": null,
   "id": "4a090035",
   "metadata": {},
   "outputs": [],
   "source": [
    "#open template\n",
    "wb = xw.Book('templates/QR Template.xlsx')\n",
    "sh = wb.sheets('Zebra')\n",
    "li = wb.sheets('List')"
   ]
  },
  {
   "cell_type": "code",
   "execution_count": null,
   "id": "14d8eba3",
   "metadata": {},
   "outputs": [],
   "source": [
    "# modify offset\n",
    "\n",
    "for i in range(0,50):\n",
    "    sh['1:1'].offset(i*7,0).api.RowHeight = 6"
   ]
  },
  {
   "cell_type": "code",
   "execution_count": null,
   "id": "d5f2b121",
   "metadata": {},
   "outputs": [],
   "source": [
    "sh['1:1'].api.RowHeight = 6"
   ]
  },
  {
   "cell_type": "code",
   "execution_count": null,
   "id": "e6dcf5f3",
   "metadata": {},
   "outputs": [],
   "source": [
    "sh['1:1'].api.RowHeight"
   ]
  },
  {
   "cell_type": "code",
   "execution_count": null,
   "id": "c8b0b1d3",
   "metadata": {},
   "outputs": [],
   "source": [
    "# wb.sheets['Sheet1'].range('A1:A6').copy(wb.sheets['Sheet2'].range('A1:A6'))"
   ]
  },
  {
   "cell_type": "code",
   "execution_count": null,
   "id": "f48850ac",
   "metadata": {},
   "outputs": [],
   "source": [
    "sh['1:1'].api.RowHeight = 6"
   ]
  },
  {
   "cell_type": "code",
   "execution_count": null,
   "id": "0652e9e1",
   "metadata": {},
   "outputs": [],
   "source": [
    "sh.range('1:7').copy\n",
    "sh.range('1:7').offset(7,0).paste('formats')"
   ]
  },
  {
   "cell_type": "code",
   "execution_count": null,
   "id": "e2693d58",
   "metadata": {},
   "outputs": [],
   "source": []
  }
 ],
 "metadata": {
  "kernelspec": {
   "display_name": "Python 3 (ipykernel)",
   "language": "python",
   "name": "python3"
  },
  "language_info": {
   "codemirror_mode": {
    "name": "ipython",
    "version": 3
   },
   "file_extension": ".py",
   "mimetype": "text/x-python",
   "name": "python",
   "nbconvert_exporter": "python",
   "pygments_lexer": "ipython3",
   "version": "3.10.9"
  }
 },
 "nbformat": 4,
 "nbformat_minor": 5
}
